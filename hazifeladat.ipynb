{
    "metadata": {
        "kernelspec": {
            "name": "SQL",
            "display_name": "SQL",
            "language": "sql"
        },
        "language_info": {
            "name": "sql",
            "version": ""
        }
    },
    "nbformat_minor": 2,
    "nbformat": 4,
    "cells": [
        {
            "cell_type": "code",
            "source": [
                "--A LEIRAS oszlop értékei:\r\n",
                "select  \r\n",
                "        count(CASE WHEN LEIRAS IS NOT NULL THEN 1 END) AS 'Üres cellák a leírás oszlopban',\r\n",
                "        count(CASE WHEN LEIRAS IS NULL THEN 1 END) AS 'Kitöltött cellák a leírás oszlopban',\r\n",
                "        count(CASE WHEN LEIRAS IS NULL THEN 1 END) * 100 / count(*) as 'Üres cellák aránya a kitöltöttekhez (%)'\r\n",
                "\r\n",
                "FROM Termek"
            ],
            "metadata": {
                "azdata_cell_guid": "e5e1b3ea-ccb7-4c10-b446-47089a12d263",
                "language": "sql"
            },
            "outputs": [
                {
                    "output_type": "display_data",
                    "data": {
                        "text/html": "Warning: Null value is eliminated by an aggregate or other SET operation."
                    },
                    "metadata": {}
                },
                {
                    "output_type": "display_data",
                    "data": {
                        "text/html": "(1 row affected)"
                    },
                    "metadata": {}
                },
                {
                    "output_type": "display_data",
                    "data": {
                        "text/html": "Total execution time: 00:00:00.067"
                    },
                    "metadata": {}
                },
                {
                    "output_type": "execute_result",
                    "execution_count": 1,
                    "data": {
                        "application/vnd.dataresource+json": {
                            "schema": {
                                "fields": [
                                    {
                                        "name": "Üres cellák a leírás oszlopban"
                                    },
                                    {
                                        "name": "Kitöltött cellák a leírás oszlopban"
                                    },
                                    {
                                        "name": "Üres cellák aránya a kitöltöttekhez (%)"
                                    }
                                ]
                            },
                            "data": [
                                {
                                    "Üres cellák a leírás oszlopban": "24",
                                    "Kitöltött cellák a leírás oszlopban": "527",
                                    "Üres cellák aránya a kitöltöttekhez (%)": "95"
                                }
                            ]
                        },
                        "text/html": "<table><tr><th>Üres cellák a leírás oszlopban</th><th>Kitöltött cellák a leírás oszlopban</th><th>Üres cellák aránya a kitöltöttekhez (%)</th></tr><tr><td>24</td><td>527</td><td>95</td></tr></table>"
                    },
                    "metadata": {}
                }
            ],
            "execution_count": 1
        },
        {
            "cell_type": "code",
            "source": [
                "--Emberenként a leírás null/nem null adatok felvitelének vizsgálata\r\n",
                "SELECT \r\n",
                "    FELVITTE as 'Adatrögzítő neve',\r\n",
                "    count(CASE WHEN LEIRAS is null THEN 1 END) AS 'Üres cellák a leírás oszlopban',\r\n",
                "    count(CASE WHEN LEIRAS is not null THEN 1 END) AS 'Kitöltött cellák a leírás oszlopban',\r\n",
                "    count(CASE WHEN LEIRAS is  null THEN 1 END) * 100 / COUNT(*) AS 'Üres cellák aránya a kitöltöttekhez (%)'\r\n",
                "FROM Termek\r\n",
                "GROUP BY FELVITTE\r\n",
                "ORDER BY FELVITTE"
            ],
            "metadata": {
                "azdata_cell_guid": "7c472e2d-a137-47d6-a20d-837d7624b2ba",
                "language": "sql"
            },
            "outputs": [
                {
                    "output_type": "display_data",
                    "data": {
                        "text/html": "Warning: Null value is eliminated by an aggregate or other SET operation."
                    },
                    "metadata": {}
                },
                {
                    "output_type": "display_data",
                    "data": {
                        "text/html": "(3 rows affected)"
                    },
                    "metadata": {}
                },
                {
                    "output_type": "display_data",
                    "data": {
                        "text/html": "Total execution time: 00:00:00.014"
                    },
                    "metadata": {}
                },
                {
                    "output_type": "execute_result",
                    "execution_count": 2,
                    "data": {
                        "application/vnd.dataresource+json": {
                            "schema": {
                                "fields": [
                                    {
                                        "name": "Adatrögzítő neve"
                                    },
                                    {
                                        "name": "Üres cellák a leírás oszlopban"
                                    },
                                    {
                                        "name": "Kitöltött cellák a leírás oszlopban"
                                    },
                                    {
                                        "name": "Üres cellák aránya a kitöltöttekhez (%)"
                                    }
                                ]
                            },
                            "data": [
                                {
                                    "Adatrögzítő neve": "Béla",
                                    "Üres cellák a leírás oszlopban": "185",
                                    "Kitöltött cellák a leírás oszlopban": "4",
                                    "Üres cellák aránya a kitöltöttekhez (%)": "97"
                                },
                                {
                                    "Adatrögzítő neve": "Mari",
                                    "Üres cellák a leírás oszlopban": "166",
                                    "Kitöltött cellák a leírás oszlopban": "8",
                                    "Üres cellák aránya a kitöltöttekhez (%)": "95"
                                },
                                {
                                    "Adatrögzítő neve": "Sára",
                                    "Üres cellák a leírás oszlopban": "176",
                                    "Kitöltött cellák a leírás oszlopban": "12",
                                    "Üres cellák aránya a kitöltöttekhez (%)": "93"
                                }
                            ]
                        },
                        "text/html": "<table><tr><th>Adatrögzítő neve</th><th>Üres cellák a leírás oszlopban</th><th>Kitöltött cellák a leírás oszlopban</th><th>Üres cellák aránya a kitöltöttekhez (%)</th></tr><tr><td>Béla</td><td>185</td><td>4</td><td>97</td></tr><tr><td>Mari</td><td>166</td><td>8</td><td>95</td></tr><tr><td>Sára</td><td>176</td><td>12</td><td>93</td></tr></table>"
                    },
                    "metadata": {}
                }
            ],
            "execution_count": 2
        },
        {
            "cell_type": "code",
            "source": [
                "--LISTAÁR MIN/MAX/ÁTLAG\r\n",
                "SELECT  MIN(listaar) as 'Listaárak minimuma',\r\n",
                "        MAX(listaar) as 'Listaárak maximuma',\r\n",
                "        round(AVG(LISTAAR),2) as 'Listaárak átlaga'\r\n",
                "FROM Termek"
            ],
            "metadata": {
                "azdata_cell_guid": "aa49880c-4668-45a7-bd7a-8873600fd379",
                "language": "sql"
            },
            "outputs": [
                {
                    "output_type": "display_data",
                    "data": {
                        "text/html": "(1 row affected)"
                    },
                    "metadata": {}
                },
                {
                    "output_type": "display_data",
                    "data": {
                        "text/html": "Total execution time: 00:00:00.009"
                    },
                    "metadata": {}
                },
                {
                    "output_type": "execute_result",
                    "metadata": {},
                    "execution_count": 1,
                    "data": {
                        "application/vnd.dataresource+json": {
                            "schema": {
                                "fields": [
                                    {
                                        "name": "Listaárak minimuma"
                                    },
                                    {
                                        "name": "Listaárak maximuma"
                                    },
                                    {
                                        "name": "Listaárak átlaga"
                                    }
                                ]
                            },
                            "data": [
                                {
                                    "Listaárak minimuma": "0",
                                    "Listaárak maximuma": "46000",
                                    "Listaárak átlaga": "786,28"
                                }
                            ]
                        },
                        "text/html": [
                            "<table>",
                            "<tr><th>Listaárak minimuma</th><th>Listaárak maximuma</th><th>Listaárak átlaga</th></tr>",
                            "<tr><td>0</td><td>46000</td><td>786,28</td></tr>",
                            "</table>"
                        ]
                    }
                }
            ],
            "execution_count": 1
        },
        {
            "cell_type": "code",
            "source": [
                "--10 legdrágább kategória\r\n",
                "SELECT TOP 10\r\n",
                "    KAT_ID AS Kategória, \r\n",
                "    Max(LISTAAR) 'A kategória maximum listaára'\r\n",
                "from Termek\r\n",
                "WHERE KAT_ID IS NOT null\r\n",
                "GROUP BY KAT_ID\r\n",
                "ORDER BY Max(LISTAAR) desc"
            ],
            "metadata": {
                "azdata_cell_guid": "91ea2a60-4907-48a2-aa05-ce6dc681364a",
                "language": "sql"
            },
            "outputs": [
                {
                    "output_type": "display_data",
                    "data": {
                        "text/html": "(10 rows affected)"
                    },
                    "metadata": {}
                },
                {
                    "output_type": "display_data",
                    "data": {
                        "text/html": "Total execution time: 00:00:00.011"
                    },
                    "metadata": {}
                },
                {
                    "output_type": "execute_result",
                    "execution_count": 4,
                    "data": {
                        "application/vnd.dataresource+json": {
                            "schema": {
                                "fields": [
                                    {
                                        "name": "Kategória"
                                    },
                                    {
                                        "name": "A kategória maximum listaára"
                                    }
                                ]
                            },
                            "data": [
                                {
                                    "Kategória": "88",
                                    "A kategória maximum listaára": "46000"
                                },
                                {
                                    "Kategória": "8",
                                    "A kategória maximum listaára": "32000"
                                },
                                {
                                    "Kategória": "107",
                                    "A kategória maximum listaára": "24000"
                                },
                                {
                                    "Kategória": "38",
                                    "A kategória maximum listaára": "22000"
                                },
                                {
                                    "Kategória": "147",
                                    "A kategória maximum listaára": "14250"
                                },
                                {
                                    "Kategória": "39",
                                    "A kategória maximum listaára": "11900"
                                },
                                {
                                    "Kategória": "55",
                                    "A kategória maximum listaára": "8900"
                                },
                                {
                                    "Kategória": "108",
                                    "A kategória maximum listaára": "8290"
                                },
                                {
                                    "Kategória": "54",
                                    "A kategória maximum listaára": "8000"
                                },
                                {
                                    "Kategória": "37",
                                    "A kategória maximum listaára": "6490"
                                }
                            ]
                        },
                        "text/html": "<table><tr><th>Kategória</th><th>A kategória maximum listaára</th></tr><tr><td>88</td><td>46000</td></tr><tr><td>8</td><td>32000</td></tr><tr><td>107</td><td>24000</td></tr><tr><td>38</td><td>22000</td></tr><tr><td>147</td><td>14250</td></tr><tr><td>39</td><td>11900</td></tr><tr><td>55</td><td>8900</td></tr><tr><td>108</td><td>8290</td></tr><tr><td>54</td><td>8000</td></tr><tr><td>37</td><td>6490</td></tr></table>"
                    },
                    "metadata": {}
                }
            ],
            "execution_count": 4
        },
        {
            "cell_type": "code",
            "source": [
                "--10 leggyakorib kategória\r\n",
                "SELECT top 10\r\n",
                "    KAT_ID AS Kategória, \r\n",
                "    COUNT(*) 'Előfordulásának száma'\r\n",
                "from Termek\r\n",
                "WHERE KAT_ID IS NOT null\r\n",
                "GROUP BY KAT_ID\r\n",
                "ORDER BY COUNT(*) desc"
            ],
            "metadata": {
                "azdata_cell_guid": "b1c87545-e14f-45a1-ac5c-ff77b1333205",
                "language": "sql"
            },
            "outputs": [
                {
                    "output_type": "display_data",
                    "data": {
                        "text/html": "(10 rows affected)"
                    },
                    "metadata": {}
                },
                {
                    "output_type": "display_data",
                    "data": {
                        "text/html": "Total execution time: 00:00:00.010"
                    },
                    "metadata": {}
                },
                {
                    "output_type": "execute_result",
                    "execution_count": 5,
                    "data": {
                        "application/vnd.dataresource+json": {
                            "schema": {
                                "fields": [
                                    {
                                        "name": "Kategória"
                                    },
                                    {
                                        "name": "Előfordulásának száma"
                                    }
                                ]
                            },
                            "data": [
                                {
                                    "Kategória": "52",
                                    "Előfordulásának száma": "26"
                                },
                                {
                                    "Kategória": "78",
                                    "Előfordulásának száma": "24"
                                },
                                {
                                    "Kategória": "6",
                                    "Előfordulásának száma": "20"
                                },
                                {
                                    "Kategória": "19",
                                    "Előfordulásának száma": "19"
                                },
                                {
                                    "Kategória": "145",
                                    "Előfordulásának száma": "18"
                                },
                                {
                                    "Kategória": "85",
                                    "Előfordulásának száma": "16"
                                },
                                {
                                    "Kategória": "4",
                                    "Előfordulásának száma": "15"
                                },
                                {
                                    "Kategória": "41",
                                    "Előfordulásának száma": "13"
                                },
                                {
                                    "Kategória": "45",
                                    "Előfordulásának száma": "11"
                                },
                                {
                                    "Kategória": "97",
                                    "Előfordulásának száma": "10"
                                }
                            ]
                        },
                        "text/html": "<table><tr><th>Kategória</th><th>Előfordulásának száma</th></tr><tr><td>52</td><td>26</td></tr><tr><td>78</td><td>24</td></tr><tr><td>6</td><td>20</td></tr><tr><td>19</td><td>19</td></tr><tr><td>145</td><td>18</td></tr><tr><td>85</td><td>16</td></tr><tr><td>4</td><td>15</td></tr><tr><td>41</td><td>13</td></tr><tr><td>45</td><td>11</td></tr><tr><td>97</td><td>10</td></tr></table>"
                    },
                    "metadata": {}
                }
            ],
            "execution_count": 5
        },
        {
            "cell_type": "code",
            "source": [
                "--Évszakonként ki mennyi adatot vitt fel\r\n",
                "SELECT \r\n",
                "    FELVITTE as 'Adatrögzítő személy',\r\n",
                "    count(CASE WHEN MONTH(FELVITEL) IN (3,4,5) THEN 1 END) AS 'Tavaszi rögzítések száma',\r\n",
                "    count(CASE WHEN MONTH(FELVITEL) IN (6,7,8) THEN 1 END) AS 'Nyári rögzítések száma',\r\n",
                "    count(CASE WHEN MONTH(FELVITEL) IN (9,10,11) THEN 1 END) AS 'Őszi rögzítések száma',\r\n",
                "    count(CASE WHEN MONTH(FELVITEL) IN (12,1,2) THEN 1 END) AS 'Téli rögzítések száma'\r\n",
                "FROM Termek\r\n",
                "GROUP BY FELVITTE\r\n",
                "ORDER BY FELVITTE\r\n",
                ""
            ],
            "metadata": {
                "azdata_cell_guid": "4356028c-1728-4fe3-bf50-60569132bfcc",
                "language": "sql"
            },
            "outputs": [
                {
                    "output_type": "display_data",
                    "data": {
                        "text/html": "Warning: Null value is eliminated by an aggregate or other SET operation."
                    },
                    "metadata": {}
                },
                {
                    "output_type": "display_data",
                    "data": {
                        "text/html": "(3 rows affected)"
                    },
                    "metadata": {}
                },
                {
                    "output_type": "display_data",
                    "data": {
                        "text/html": "Total execution time: 00:00:00.014"
                    },
                    "metadata": {}
                },
                {
                    "output_type": "execute_result",
                    "execution_count": 6,
                    "data": {
                        "application/vnd.dataresource+json": {
                            "schema": {
                                "fields": [
                                    {
                                        "name": "Adatrögzítő személy"
                                    },
                                    {
                                        "name": "Tavaszi rögzítések száma"
                                    },
                                    {
                                        "name": "Nyári rögzítések száma"
                                    },
                                    {
                                        "name": "Őszi rögzítések száma"
                                    },
                                    {
                                        "name": "Téli rögzítések száma"
                                    }
                                ]
                            },
                            "data": [
                                {
                                    "Adatrögzítő személy": "Béla",
                                    "Tavaszi rögzítések száma": "0",
                                    "Nyári rögzítések száma": "189",
                                    "Őszi rögzítések száma": "0",
                                    "Téli rögzítések száma": "0"
                                },
                                {
                                    "Adatrögzítő személy": "Mari",
                                    "Tavaszi rögzítések száma": "0",
                                    "Nyári rögzítések száma": "174",
                                    "Őszi rögzítések száma": "0",
                                    "Téli rögzítések száma": "0"
                                },
                                {
                                    "Adatrögzítő személy": "Sára",
                                    "Tavaszi rögzítések száma": "0",
                                    "Nyári rögzítések száma": "186",
                                    "Őszi rögzítések száma": "1",
                                    "Téli rögzítések száma": "1"
                                }
                            ]
                        },
                        "text/html": "<table><tr><th>Adatrögzítő személy</th><th>Tavaszi rögzítések száma</th><th>Nyári rögzítések száma</th><th>Őszi rögzítések száma</th><th>Téli rögzítések száma</th></tr><tr><td>Béla</td><td>0</td><td>189</td><td>0</td><td>0</td></tr><tr><td>Mari</td><td>0</td><td>174</td><td>0</td><td>0</td></tr><tr><td>Sára</td><td>0</td><td>186</td><td>1</td><td>1</td></tr></table>"
                    },
                    "metadata": {}
                }
            ],
            "execution_count": 6
        },
        {
            "cell_type": "code",
            "source": [
                "select MONTH(FELVITEL) as Hónap,\r\n",
                "        count(*) as 'Felvitt adatok száma',\r\n",
                "        count(case when leiras is null then 1 end) as 'Üresen felvitt leírások száma'\r\n",
                "from Termek\r\n",
                "GROUP BY MONTH(FELVITEL)"
            ],
            "metadata": {
                "azdata_cell_guid": "91b98c04-2530-49ad-909e-4b7602e28d2a",
                "language": "sql"
            },
            "outputs": [
                {
                    "output_type": "display_data",
                    "data": {
                        "text/html": "Warning: Null value is eliminated by an aggregate or other SET operation."
                    },
                    "metadata": {}
                },
                {
                    "output_type": "display_data",
                    "data": {
                        "text/html": "(4 rows affected)"
                    },
                    "metadata": {}
                },
                {
                    "output_type": "display_data",
                    "data": {
                        "text/html": "Total execution time: 00:00:00.009"
                    },
                    "metadata": {}
                },
                {
                    "output_type": "execute_result",
                    "execution_count": 8,
                    "data": {
                        "application/vnd.dataresource+json": {
                            "schema": {
                                "fields": [
                                    {
                                        "name": "Hónap"
                                    },
                                    {
                                        "name": "Felvitt adatok száma"
                                    },
                                    {
                                        "name": "Üresen felvitt leírások száma"
                                    }
                                ]
                            },
                            "data": [
                                {
                                    "Hónap": "7",
                                    "Felvitt adatok száma": "355",
                                    "Üresen felvitt leírások száma": "343"
                                },
                                {
                                    "Hónap": "8",
                                    "Felvitt adatok száma": "194",
                                    "Üresen felvitt leírások száma": "182"
                                },
                                {
                                    "Hónap": "9",
                                    "Felvitt adatok száma": "1",
                                    "Üresen felvitt leírások száma": "1"
                                },
                                {
                                    "Hónap": "12",
                                    "Felvitt adatok száma": "1",
                                    "Üresen felvitt leírások száma": "1"
                                }
                            ]
                        },
                        "text/html": "<table><tr><th>Hónap</th><th>Felvitt adatok száma</th><th>Üresen felvitt leírások száma</th></tr><tr><td>7</td><td>355</td><td>343</td></tr><tr><td>8</td><td>194</td><td>182</td></tr><tr><td>9</td><td>1</td><td>1</td></tr><tr><td>12</td><td>1</td><td>1</td></tr></table>"
                    },
                    "metadata": {}
                }
            ],
            "execution_count": 8
        }
    ]
}