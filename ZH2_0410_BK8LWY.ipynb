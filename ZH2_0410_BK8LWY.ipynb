{
    "metadata": {
        "kernelspec": {
            "name": "SQL",
            "display_name": "SQL",
            "language": "sql"
        },
        "language_info": {
            "name": "sql",
            "version": ""
        }
    },
    "nbformat_minor": 2,
    "nbformat": 4,
    "cells": [
        {
            "cell_type": "code",
            "source": [
                "SELECT  iif(SZOBA_FK is null, 'Végösszeg', cast(szoba_fk as NVARCHAR(15))) as Szoba,\r\n",
                "        COUNT(*) as 'db'\r\n",
                "FROM Foglalas\r\n",
                "WHERE FELNOTT_SZAM > GYERMEK_SZAM\r\n",
                "group by grouping sets(SZOBA_FK, ())"
            ],
            "metadata": {
                "azdata_cell_guid": "6b862e45-d99c-4c8d-b003-581b549b2564",
                "language": "sql"
            },
            "outputs": [
                {
                    "output_type": "display_data",
                    "data": {
                        "text/html": "(190 rows affected)"
                    },
                    "metadata": {}
                },
                {
                    "output_type": "display_data",
                    "data": {
                        "text/html": "Total execution time: 00:00:00.013"
                    },
                    "metadata": {}
                },
                {
                    "output_type": "execute_result",
                    "metadata": {},
                    "execution_count": 55,
                    "data": {
                        "application/vnd.dataresource+json": {
                            "schema": {
                                "fields": [
                                    {
                                        "name": "Szoba"
                                    },
                                    {
                                        "name": "db"
                                    }
                                ]
                            },
                            "data": [
                                {
                                    "Szoba": "1",
                                    "db": "7"
                                },
                                {
                                    "Szoba": "2",
                                    "db": "2"
                                },
                                {
                                    "Szoba": "3",
                                    "db": "3"
                                },
                                {
                                    "Szoba": "4",
                                    "db": "5"
                                },
                                {
                                    "Szoba": "5",
                                    "db": "2"
                                },
                                {
                                    "Szoba": "6",
                                    "db": "5"
                                },
                                {
                                    "Szoba": "7",
                                    "db": "6"
                                },
                                {
                                    "Szoba": "8",
                                    "db": "5"
                                },
                                {
                                    "Szoba": "9",
                                    "db": "4"
                                },
                                {
                                    "Szoba": "10",
                                    "db": "4"
                                },
                                {
                                    "Szoba": "11",
                                    "db": "4"
                                },
                                {
                                    "Szoba": "12",
                                    "db": "7"
                                },
                                {
                                    "Szoba": "13",
                                    "db": "4"
                                },
                                {
                                    "Szoba": "14",
                                    "db": "3"
                                },
                                {
                                    "Szoba": "15",
                                    "db": "4"
                                },
                                {
                                    "Szoba": "16",
                                    "db": "1"
                                },
                                {
                                    "Szoba": "17",
                                    "db": "2"
                                },
                                {
                                    "Szoba": "18",
                                    "db": "3"
                                },
                                {
                                    "Szoba": "19",
                                    "db": "4"
                                },
                                {
                                    "Szoba": "20",
                                    "db": "5"
                                },
                                {
                                    "Szoba": "21",
                                    "db": "1"
                                },
                                {
                                    "Szoba": "22",
                                    "db": "2"
                                },
                                {
                                    "Szoba": "23",
                                    "db": "3"
                                },
                                {
                                    "Szoba": "24",
                                    "db": "3"
                                },
                                {
                                    "Szoba": "25",
                                    "db": "1"
                                },
                                {
                                    "Szoba": "27",
                                    "db": "5"
                                },
                                {
                                    "Szoba": "28",
                                    "db": "5"
                                },
                                {
                                    "Szoba": "29",
                                    "db": "3"
                                },
                                {
                                    "Szoba": "30",
                                    "db": "2"
                                },
                                {
                                    "Szoba": "31",
                                    "db": "1"
                                },
                                {
                                    "Szoba": "32",
                                    "db": "1"
                                },
                                {
                                    "Szoba": "33",
                                    "db": "3"
                                },
                                {
                                    "Szoba": "34",
                                    "db": "3"
                                },
                                {
                                    "Szoba": "35",
                                    "db": "6"
                                },
                                {
                                    "Szoba": "36",
                                    "db": "4"
                                },
                                {
                                    "Szoba": "37",
                                    "db": "2"
                                },
                                {
                                    "Szoba": "38",
                                    "db": "5"
                                },
                                {
                                    "Szoba": "39",
                                    "db": "4"
                                },
                                {
                                    "Szoba": "40",
                                    "db": "3"
                                },
                                {
                                    "Szoba": "41",
                                    "db": "1"
                                },
                                {
                                    "Szoba": "42",
                                    "db": "5"
                                },
                                {
                                    "Szoba": "43",
                                    "db": "4"
                                },
                                {
                                    "Szoba": "44",
                                    "db": "6"
                                },
                                {
                                    "Szoba": "45",
                                    "db": "4"
                                },
                                {
                                    "Szoba": "46",
                                    "db": "3"
                                },
                                {
                                    "Szoba": "47",
                                    "db": "2"
                                },
                                {
                                    "Szoba": "48",
                                    "db": "6"
                                },
                                {
                                    "Szoba": "49",
                                    "db": "5"
                                },
                                {
                                    "Szoba": "50",
                                    "db": "3"
                                },
                                {
                                    "Szoba": "51",
                                    "db": "3"
                                },
                                {
                                    "Szoba": "52",
                                    "db": "5"
                                },
                                {
                                    "Szoba": "54",
                                    "db": "4"
                                },
                                {
                                    "Szoba": "55",
                                    "db": "3"
                                },
                                {
                                    "Szoba": "56",
                                    "db": "1"
                                },
                                {
                                    "Szoba": "57",
                                    "db": "3"
                                },
                                {
                                    "Szoba": "58",
                                    "db": "8"
                                },
                                {
                                    "Szoba": "59",
                                    "db": "4"
                                },
                                {
                                    "Szoba": "60",
                                    "db": "1"
                                },
                                {
                                    "Szoba": "61",
                                    "db": "4"
                                },
                                {
                                    "Szoba": "62",
                                    "db": "3"
                                },
                                {
                                    "Szoba": "63",
                                    "db": "3"
                                },
                                {
                                    "Szoba": "64",
                                    "db": "5"
                                },
                                {
                                    "Szoba": "66",
                                    "db": "3"
                                },
                                {
                                    "Szoba": "67",
                                    "db": "2"
                                },
                                {
                                    "Szoba": "69",
                                    "db": "2"
                                },
                                {
                                    "Szoba": "70",
                                    "db": "8"
                                },
                                {
                                    "Szoba": "71",
                                    "db": "2"
                                },
                                {
                                    "Szoba": "72",
                                    "db": "2"
                                },
                                {
                                    "Szoba": "73",
                                    "db": "4"
                                },
                                {
                                    "Szoba": "74",
                                    "db": "8"
                                },
                                {
                                    "Szoba": "75",
                                    "db": "2"
                                },
                                {
                                    "Szoba": "76",
                                    "db": "2"
                                },
                                {
                                    "Szoba": "77",
                                    "db": "3"
                                },
                                {
                                    "Szoba": "78",
                                    "db": "3"
                                },
                                {
                                    "Szoba": "79",
                                    "db": "4"
                                },
                                {
                                    "Szoba": "80",
                                    "db": "5"
                                },
                                {
                                    "Szoba": "81",
                                    "db": "3"
                                },
                                {
                                    "Szoba": "82",
                                    "db": "5"
                                },
                                {
                                    "Szoba": "83",
                                    "db": "5"
                                },
                                {
                                    "Szoba": "84",
                                    "db": "3"
                                },
                                {
                                    "Szoba": "85",
                                    "db": "2"
                                },
                                {
                                    "Szoba": "86",
                                    "db": "4"
                                },
                                {
                                    "Szoba": "87",
                                    "db": "5"
                                },
                                {
                                    "Szoba": "88",
                                    "db": "5"
                                },
                                {
                                    "Szoba": "89",
                                    "db": "8"
                                },
                                {
                                    "Szoba": "90",
                                    "db": "3"
                                },
                                {
                                    "Szoba": "91",
                                    "db": "2"
                                },
                                {
                                    "Szoba": "92",
                                    "db": "5"
                                },
                                {
                                    "Szoba": "93",
                                    "db": "3"
                                },
                                {
                                    "Szoba": "94",
                                    "db": "6"
                                },
                                {
                                    "Szoba": "95",
                                    "db": "3"
                                },
                                {
                                    "Szoba": "96",
                                    "db": "6"
                                },
                                {
                                    "Szoba": "97",
                                    "db": "5"
                                },
                                {
                                    "Szoba": "98",
                                    "db": "4"
                                },
                                {
                                    "Szoba": "99",
                                    "db": "4"
                                },
                                {
                                    "Szoba": "100",
                                    "db": "2"
                                },
                                {
                                    "Szoba": "101",
                                    "db": "1"
                                },
                                {
                                    "Szoba": "102",
                                    "db": "1"
                                },
                                {
                                    "Szoba": "103",
                                    "db": "1"
                                },
                                {
                                    "Szoba": "104",
                                    "db": "3"
                                },
                                {
                                    "Szoba": "106",
                                    "db": "4"
                                },
                                {
                                    "Szoba": "107",
                                    "db": "4"
                                },
                                {
                                    "Szoba": "108",
                                    "db": "1"
                                },
                                {
                                    "Szoba": "109",
                                    "db": "2"
                                },
                                {
                                    "Szoba": "110",
                                    "db": "5"
                                },
                                {
                                    "Szoba": "111",
                                    "db": "1"
                                },
                                {
                                    "Szoba": "112",
                                    "db": "4"
                                },
                                {
                                    "Szoba": "113",
                                    "db": "2"
                                },
                                {
                                    "Szoba": "114",
                                    "db": "1"
                                },
                                {
                                    "Szoba": "115",
                                    "db": "5"
                                },
                                {
                                    "Szoba": "117",
                                    "db": "4"
                                },
                                {
                                    "Szoba": "118",
                                    "db": "2"
                                },
                                {
                                    "Szoba": "119",
                                    "db": "4"
                                },
                                {
                                    "Szoba": "120",
                                    "db": "2"
                                },
                                {
                                    "Szoba": "121",
                                    "db": "5"
                                },
                                {
                                    "Szoba": "122",
                                    "db": "3"
                                },
                                {
                                    "Szoba": "123",
                                    "db": "5"
                                },
                                {
                                    "Szoba": "124",
                                    "db": "4"
                                },
                                {
                                    "Szoba": "126",
                                    "db": "4"
                                },
                                {
                                    "Szoba": "127",
                                    "db": "5"
                                },
                                {
                                    "Szoba": "129",
                                    "db": "3"
                                },
                                {
                                    "Szoba": "130",
                                    "db": "5"
                                },
                                {
                                    "Szoba": "131",
                                    "db": "4"
                                },
                                {
                                    "Szoba": "132",
                                    "db": "4"
                                },
                                {
                                    "Szoba": "133",
                                    "db": "4"
                                },
                                {
                                    "Szoba": "134",
                                    "db": "4"
                                },
                                {
                                    "Szoba": "135",
                                    "db": "3"
                                },
                                {
                                    "Szoba": "136",
                                    "db": "2"
                                },
                                {
                                    "Szoba": "137",
                                    "db": "2"
                                },
                                {
                                    "Szoba": "138",
                                    "db": "5"
                                },
                                {
                                    "Szoba": "139",
                                    "db": "6"
                                },
                                {
                                    "Szoba": "140",
                                    "db": "5"
                                },
                                {
                                    "Szoba": "141",
                                    "db": "4"
                                },
                                {
                                    "Szoba": "142",
                                    "db": "1"
                                },
                                {
                                    "Szoba": "143",
                                    "db": "5"
                                },
                                {
                                    "Szoba": "144",
                                    "db": "2"
                                },
                                {
                                    "Szoba": "145",
                                    "db": "2"
                                },
                                {
                                    "Szoba": "146",
                                    "db": "3"
                                },
                                {
                                    "Szoba": "147",
                                    "db": "1"
                                },
                                {
                                    "Szoba": "148",
                                    "db": "5"
                                },
                                {
                                    "Szoba": "149",
                                    "db": "5"
                                },
                                {
                                    "Szoba": "150",
                                    "db": "6"
                                },
                                {
                                    "Szoba": "151",
                                    "db": "2"
                                },
                                {
                                    "Szoba": "152",
                                    "db": "3"
                                },
                                {
                                    "Szoba": "153",
                                    "db": "4"
                                },
                                {
                                    "Szoba": "154",
                                    "db": "3"
                                },
                                {
                                    "Szoba": "155",
                                    "db": "3"
                                },
                                {
                                    "Szoba": "156",
                                    "db": "2"
                                },
                                {
                                    "Szoba": "157",
                                    "db": "2"
                                },
                                {
                                    "Szoba": "158",
                                    "db": "3"
                                },
                                {
                                    "Szoba": "160",
                                    "db": "2"
                                },
                                {
                                    "Szoba": "161",
                                    "db": "3"
                                },
                                {
                                    "Szoba": "162",
                                    "db": "2"
                                },
                                {
                                    "Szoba": "163",
                                    "db": "5"
                                },
                                {
                                    "Szoba": "164",
                                    "db": "4"
                                },
                                {
                                    "Szoba": "165",
                                    "db": "5"
                                },
                                {
                                    "Szoba": "166",
                                    "db": "3"
                                },
                                {
                                    "Szoba": "167",
                                    "db": "2"
                                },
                                {
                                    "Szoba": "168",
                                    "db": "1"
                                },
                                {
                                    "Szoba": "169",
                                    "db": "3"
                                },
                                {
                                    "Szoba": "170",
                                    "db": "3"
                                },
                                {
                                    "Szoba": "171",
                                    "db": "5"
                                },
                                {
                                    "Szoba": "172",
                                    "db": "6"
                                },
                                {
                                    "Szoba": "173",
                                    "db": "3"
                                },
                                {
                                    "Szoba": "174",
                                    "db": "4"
                                },
                                {
                                    "Szoba": "175",
                                    "db": "3"
                                },
                                {
                                    "Szoba": "176",
                                    "db": "2"
                                },
                                {
                                    "Szoba": "177",
                                    "db": "1"
                                },
                                {
                                    "Szoba": "178",
                                    "db": "1"
                                },
                                {
                                    "Szoba": "179",
                                    "db": "2"
                                },
                                {
                                    "Szoba": "180",
                                    "db": "1"
                                },
                                {
                                    "Szoba": "181",
                                    "db": "5"
                                },
                                {
                                    "Szoba": "182",
                                    "db": "11"
                                },
                                {
                                    "Szoba": "183",
                                    "db": "3"
                                },
                                {
                                    "Szoba": "184",
                                    "db": "4"
                                },
                                {
                                    "Szoba": "185",
                                    "db": "10"
                                },
                                {
                                    "Szoba": "186",
                                    "db": "1"
                                },
                                {
                                    "Szoba": "187",
                                    "db": "6"
                                },
                                {
                                    "Szoba": "188",
                                    "db": "2"
                                },
                                {
                                    "Szoba": "189",
                                    "db": "1"
                                },
                                {
                                    "Szoba": "190",
                                    "db": "5"
                                },
                                {
                                    "Szoba": "191",
                                    "db": "3"
                                },
                                {
                                    "Szoba": "192",
                                    "db": "1"
                                },
                                {
                                    "Szoba": "193",
                                    "db": "2"
                                },
                                {
                                    "Szoba": "194",
                                    "db": "1"
                                },
                                {
                                    "Szoba": "195",
                                    "db": "5"
                                },
                                {
                                    "Szoba": "196",
                                    "db": "2"
                                },
                                {
                                    "Szoba": "197",
                                    "db": "6"
                                },
                                {
                                    "Szoba": "198",
                                    "db": "7"
                                },
                                {
                                    "Szoba": "Végösszeg",
                                    "db": "668"
                                }
                            ]
                        },
                        "text/html": [
                            "<table>",
                            "<tr><th>Szoba</th><th>db</th></tr>",
                            "<tr><td>1</td><td>7</td></tr>",
                            "<tr><td>2</td><td>2</td></tr>",
                            "<tr><td>3</td><td>3</td></tr>",
                            "<tr><td>4</td><td>5</td></tr>",
                            "<tr><td>5</td><td>2</td></tr>",
                            "<tr><td>6</td><td>5</td></tr>",
                            "<tr><td>7</td><td>6</td></tr>",
                            "<tr><td>8</td><td>5</td></tr>",
                            "<tr><td>9</td><td>4</td></tr>",
                            "<tr><td>10</td><td>4</td></tr>",
                            "<tr><td>11</td><td>4</td></tr>",
                            "<tr><td>12</td><td>7</td></tr>",
                            "<tr><td>13</td><td>4</td></tr>",
                            "<tr><td>14</td><td>3</td></tr>",
                            "<tr><td>15</td><td>4</td></tr>",
                            "<tr><td>16</td><td>1</td></tr>",
                            "<tr><td>17</td><td>2</td></tr>",
                            "<tr><td>18</td><td>3</td></tr>",
                            "<tr><td>19</td><td>4</td></tr>",
                            "<tr><td>20</td><td>5</td></tr>",
                            "<tr><td>21</td><td>1</td></tr>",
                            "<tr><td>22</td><td>2</td></tr>",
                            "<tr><td>23</td><td>3</td></tr>",
                            "<tr><td>24</td><td>3</td></tr>",
                            "<tr><td>25</td><td>1</td></tr>",
                            "<tr><td>27</td><td>5</td></tr>",
                            "<tr><td>28</td><td>5</td></tr>",
                            "<tr><td>29</td><td>3</td></tr>",
                            "<tr><td>30</td><td>2</td></tr>",
                            "<tr><td>31</td><td>1</td></tr>",
                            "<tr><td>32</td><td>1</td></tr>",
                            "<tr><td>33</td><td>3</td></tr>",
                            "<tr><td>34</td><td>3</td></tr>",
                            "<tr><td>35</td><td>6</td></tr>",
                            "<tr><td>36</td><td>4</td></tr>",
                            "<tr><td>37</td><td>2</td></tr>",
                            "<tr><td>38</td><td>5</td></tr>",
                            "<tr><td>39</td><td>4</td></tr>",
                            "<tr><td>40</td><td>3</td></tr>",
                            "<tr><td>41</td><td>1</td></tr>",
                            "<tr><td>42</td><td>5</td></tr>",
                            "<tr><td>43</td><td>4</td></tr>",
                            "<tr><td>44</td><td>6</td></tr>",
                            "<tr><td>45</td><td>4</td></tr>",
                            "<tr><td>46</td><td>3</td></tr>",
                            "<tr><td>47</td><td>2</td></tr>",
                            "<tr><td>48</td><td>6</td></tr>",
                            "<tr><td>49</td><td>5</td></tr>",
                            "<tr><td>50</td><td>3</td></tr>",
                            "<tr><td>51</td><td>3</td></tr>",
                            "<tr><td>52</td><td>5</td></tr>",
                            "<tr><td>54</td><td>4</td></tr>",
                            "<tr><td>55</td><td>3</td></tr>",
                            "<tr><td>56</td><td>1</td></tr>",
                            "<tr><td>57</td><td>3</td></tr>",
                            "<tr><td>58</td><td>8</td></tr>",
                            "<tr><td>59</td><td>4</td></tr>",
                            "<tr><td>60</td><td>1</td></tr>",
                            "<tr><td>61</td><td>4</td></tr>",
                            "<tr><td>62</td><td>3</td></tr>",
                            "<tr><td>63</td><td>3</td></tr>",
                            "<tr><td>64</td><td>5</td></tr>",
                            "<tr><td>66</td><td>3</td></tr>",
                            "<tr><td>67</td><td>2</td></tr>",
                            "<tr><td>69</td><td>2</td></tr>",
                            "<tr><td>70</td><td>8</td></tr>",
                            "<tr><td>71</td><td>2</td></tr>",
                            "<tr><td>72</td><td>2</td></tr>",
                            "<tr><td>73</td><td>4</td></tr>",
                            "<tr><td>74</td><td>8</td></tr>",
                            "<tr><td>75</td><td>2</td></tr>",
                            "<tr><td>76</td><td>2</td></tr>",
                            "<tr><td>77</td><td>3</td></tr>",
                            "<tr><td>78</td><td>3</td></tr>",
                            "<tr><td>79</td><td>4</td></tr>",
                            "<tr><td>80</td><td>5</td></tr>",
                            "<tr><td>81</td><td>3</td></tr>",
                            "<tr><td>82</td><td>5</td></tr>",
                            "<tr><td>83</td><td>5</td></tr>",
                            "<tr><td>84</td><td>3</td></tr>",
                            "<tr><td>85</td><td>2</td></tr>",
                            "<tr><td>86</td><td>4</td></tr>",
                            "<tr><td>87</td><td>5</td></tr>",
                            "<tr><td>88</td><td>5</td></tr>",
                            "<tr><td>89</td><td>8</td></tr>",
                            "<tr><td>90</td><td>3</td></tr>",
                            "<tr><td>91</td><td>2</td></tr>",
                            "<tr><td>92</td><td>5</td></tr>",
                            "<tr><td>93</td><td>3</td></tr>",
                            "<tr><td>94</td><td>6</td></tr>",
                            "<tr><td>95</td><td>3</td></tr>",
                            "<tr><td>96</td><td>6</td></tr>",
                            "<tr><td>97</td><td>5</td></tr>",
                            "<tr><td>98</td><td>4</td></tr>",
                            "<tr><td>99</td><td>4</td></tr>",
                            "<tr><td>100</td><td>2</td></tr>",
                            "<tr><td>101</td><td>1</td></tr>",
                            "<tr><td>102</td><td>1</td></tr>",
                            "<tr><td>103</td><td>1</td></tr>",
                            "<tr><td>104</td><td>3</td></tr>",
                            "<tr><td>106</td><td>4</td></tr>",
                            "<tr><td>107</td><td>4</td></tr>",
                            "<tr><td>108</td><td>1</td></tr>",
                            "<tr><td>109</td><td>2</td></tr>",
                            "<tr><td>110</td><td>5</td></tr>",
                            "<tr><td>111</td><td>1</td></tr>",
                            "<tr><td>112</td><td>4</td></tr>",
                            "<tr><td>113</td><td>2</td></tr>",
                            "<tr><td>114</td><td>1</td></tr>",
                            "<tr><td>115</td><td>5</td></tr>",
                            "<tr><td>117</td><td>4</td></tr>",
                            "<tr><td>118</td><td>2</td></tr>",
                            "<tr><td>119</td><td>4</td></tr>",
                            "<tr><td>120</td><td>2</td></tr>",
                            "<tr><td>121</td><td>5</td></tr>",
                            "<tr><td>122</td><td>3</td></tr>",
                            "<tr><td>123</td><td>5</td></tr>",
                            "<tr><td>124</td><td>4</td></tr>",
                            "<tr><td>126</td><td>4</td></tr>",
                            "<tr><td>127</td><td>5</td></tr>",
                            "<tr><td>129</td><td>3</td></tr>",
                            "<tr><td>130</td><td>5</td></tr>",
                            "<tr><td>131</td><td>4</td></tr>",
                            "<tr><td>132</td><td>4</td></tr>",
                            "<tr><td>133</td><td>4</td></tr>",
                            "<tr><td>134</td><td>4</td></tr>",
                            "<tr><td>135</td><td>3</td></tr>",
                            "<tr><td>136</td><td>2</td></tr>",
                            "<tr><td>137</td><td>2</td></tr>",
                            "<tr><td>138</td><td>5</td></tr>",
                            "<tr><td>139</td><td>6</td></tr>",
                            "<tr><td>140</td><td>5</td></tr>",
                            "<tr><td>141</td><td>4</td></tr>",
                            "<tr><td>142</td><td>1</td></tr>",
                            "<tr><td>143</td><td>5</td></tr>",
                            "<tr><td>144</td><td>2</td></tr>",
                            "<tr><td>145</td><td>2</td></tr>",
                            "<tr><td>146</td><td>3</td></tr>",
                            "<tr><td>147</td><td>1</td></tr>",
                            "<tr><td>148</td><td>5</td></tr>",
                            "<tr><td>149</td><td>5</td></tr>",
                            "<tr><td>150</td><td>6</td></tr>",
                            "<tr><td>151</td><td>2</td></tr>",
                            "<tr><td>152</td><td>3</td></tr>",
                            "<tr><td>153</td><td>4</td></tr>",
                            "<tr><td>154</td><td>3</td></tr>",
                            "<tr><td>155</td><td>3</td></tr>",
                            "<tr><td>156</td><td>2</td></tr>",
                            "<tr><td>157</td><td>2</td></tr>",
                            "<tr><td>158</td><td>3</td></tr>",
                            "<tr><td>160</td><td>2</td></tr>",
                            "<tr><td>161</td><td>3</td></tr>",
                            "<tr><td>162</td><td>2</td></tr>",
                            "<tr><td>163</td><td>5</td></tr>",
                            "<tr><td>164</td><td>4</td></tr>",
                            "<tr><td>165</td><td>5</td></tr>",
                            "<tr><td>166</td><td>3</td></tr>",
                            "<tr><td>167</td><td>2</td></tr>",
                            "<tr><td>168</td><td>1</td></tr>",
                            "<tr><td>169</td><td>3</td></tr>",
                            "<tr><td>170</td><td>3</td></tr>",
                            "<tr><td>171</td><td>5</td></tr>",
                            "<tr><td>172</td><td>6</td></tr>",
                            "<tr><td>173</td><td>3</td></tr>",
                            "<tr><td>174</td><td>4</td></tr>",
                            "<tr><td>175</td><td>3</td></tr>",
                            "<tr><td>176</td><td>2</td></tr>",
                            "<tr><td>177</td><td>1</td></tr>",
                            "<tr><td>178</td><td>1</td></tr>",
                            "<tr><td>179</td><td>2</td></tr>",
                            "<tr><td>180</td><td>1</td></tr>",
                            "<tr><td>181</td><td>5</td></tr>",
                            "<tr><td>182</td><td>11</td></tr>",
                            "<tr><td>183</td><td>3</td></tr>",
                            "<tr><td>184</td><td>4</td></tr>",
                            "<tr><td>185</td><td>10</td></tr>",
                            "<tr><td>186</td><td>1</td></tr>",
                            "<tr><td>187</td><td>6</td></tr>",
                            "<tr><td>188</td><td>2</td></tr>",
                            "<tr><td>189</td><td>1</td></tr>",
                            "<tr><td>190</td><td>5</td></tr>",
                            "<tr><td>191</td><td>3</td></tr>",
                            "<tr><td>192</td><td>1</td></tr>",
                            "<tr><td>193</td><td>2</td></tr>",
                            "<tr><td>194</td><td>1</td></tr>",
                            "<tr><td>195</td><td>5</td></tr>",
                            "<tr><td>196</td><td>2</td></tr>",
                            "<tr><td>197</td><td>6</td></tr>",
                            "<tr><td>198</td><td>7</td></tr>",
                            "<tr><td>Végösszeg</td><td>668</td></tr>",
                            "</table>"
                        ]
                    }
                }
            ],
            "execution_count": 55
        },
        {
            "cell_type": "code",
            "source": [
                "SELECT  sz.SZOBA_ID, \r\n",
                "        sz.ferohely,\r\n",
                "        DENSE_RANK()OVER(partition by count(SZOBA_FK) order by sz.ferohely asc) as 'Helyezés'\r\n",
                "From Foglalas f join szoba sz on f.SZOBA_FK = sz.SZOBA_ID"
            ],
            "metadata": {
                "azdata_cell_guid": "fe1d659e-b9db-4402-97b0-f9c945bc22dd",
                "language": "sql"
            },
            "outputs": [
                {
                    "output_type": "error",
                    "evalue": "Msg 8120, Level 16, State 1, Line 1\r\nColumn 'Foglalas.FOGLALAS_PK' is invalid in the select list because it is not contained in either an aggregate function or the GROUP BY clause.",
                    "ename": "",
                    "traceback": []
                },
                {
                    "output_type": "display_data",
                    "data": {
                        "text/html": "Total execution time: 00:00:00.001"
                    },
                    "metadata": {}
                }
            ],
            "execution_count": 36
        },
        {
            "cell_type": "code",
            "source": [
                "SELECT distinct v.nev \r\n",
                "from foglalas f RIGHT JOIN Vendeg v on f.UGYFEL_FK = v.USERNEV\r\n",
                "where f.FOGLALAS_PK is NULL\r\n",
                "\r\n",
                "UNION\r\n",
                "\r\n",
                "(\r\n",
                "    select v.nev\r\n",
                "    from foglalas f join vendeg v on f.UGYFEL_FK = v.USERNEV\r\n",
                "    group by v.NEV\r\n",
                "EXCEPT\r\n",
                "    select v.nev from Foglalas f JOIN Vendeg v on f.UGYFEL_FK = v.USERNEV\r\n",
                "    where DATEDIFF(day,mettol,MEDDIG) > 2\r\n",
                "    group by v.NEV\r\n",
                ")"
            ],
            "metadata": {
                "azdata_cell_guid": "66ee1c92-9368-42d0-a9f2-b7a97f6cd725",
                "language": "sql"
            },
            "outputs": [
                {
                    "output_type": "display_data",
                    "data": {
                        "text/html": "(9 rows affected)"
                    },
                    "metadata": {}
                },
                {
                    "output_type": "display_data",
                    "data": {
                        "text/html": "Total execution time: 00:00:00.030"
                    },
                    "metadata": {}
                },
                {
                    "output_type": "execute_result",
                    "metadata": {},
                    "execution_count": 47,
                    "data": {
                        "application/vnd.dataresource+json": {
                            "schema": {
                                "fields": [
                                    {
                                        "name": "nev"
                                    }
                                ]
                            },
                            "data": [
                                {
                                    "nev": "Bodor Szabolcs"
                                },
                                {
                                    "nev": "Búza Imre"
                                },
                                {
                                    "nev": "Gondos Miklós"
                                },
                                {
                                    "nev": "Keresztúri Viktor"
                                },
                                {
                                    "nev": "Molnár Zsófi"
                                },
                                {
                                    "nev": "Papós Tímea"
                                },
                                {
                                    "nev": "Szomor Andrea"
                                },
                                {
                                    "nev": "Szöllősi Gábor"
                                },
                                {
                                    "nev": "Szűcs Annamária"
                                }
                            ]
                        },
                        "text/html": [
                            "<table>",
                            "<tr><th>nev</th></tr>",
                            "<tr><td>Bodor Szabolcs</td></tr>",
                            "<tr><td>Búza Imre</td></tr>",
                            "<tr><td>Gondos Miklós</td></tr>",
                            "<tr><td>Keresztúri Viktor</td></tr>",
                            "<tr><td>Molnár Zsófi</td></tr>",
                            "<tr><td>Papós Tímea</td></tr>",
                            "<tr><td>Szomor Andrea</td></tr>",
                            "<tr><td>Szöllősi Gábor</td></tr>",
                            "<tr><td>Szűcs Annamária</td></tr>",
                            "</table>"
                        ]
                    }
                }
            ],
            "execution_count": 47
        }
    ]
}