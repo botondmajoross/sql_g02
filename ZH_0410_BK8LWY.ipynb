{
    "metadata": {
        "kernelspec": {
            "name": "SQL",
            "display_name": "SQL",
            "language": "sql"
        },
        "language_info": {
            "name": "sql",
            "version": ""
        }
    },
    "nbformat_minor": 2,
    "nbformat": 4,
    "cells": [
        {
            "cell_type": "code",
            "source": [
                ""
            ],
            "metadata": {
                "azdata_cell_guid": "ba0824f4-2a67-4928-ad0c-7f6ecb2b1224",
                "language": "sql"
            },
            "outputs": [],
            "execution_count": null
        }
    ]
}