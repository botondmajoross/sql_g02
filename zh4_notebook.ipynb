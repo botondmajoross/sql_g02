{
    "metadata": {
        "kernelspec": {
            "name": "SQL",
            "display_name": "SQL",
            "language": "sql"
        },
        "language_info": {
            "name": "sql",
            "version": ""
        }
    },
    "nbformat_minor": 2,
    "nbformat": 4,
    "cells": [
        {
            "cell_type": "markdown",
            "source": [
                "Jelenítsük meg minden egyes szoba esetén, hogy hányszor foglalták le!\n",
                "\n",
                "- Csak a szoba azonosítója és a foglalások darabszáma jelenjen meg\n",
                "- Azok a szobák is jelenjenek meg, ahol nem történt foglalás"
            ],
            "metadata": {
                "azdata_cell_guid": "cdf82e98-5fa0-4f47-9462-8c3423158308"
            },
            "attachments": {}
        },
        {
            "cell_type": "code",
            "source": [
                "select sz.SZOBA_ID, count(f.FOGLALAS_PK) as db\r\n",
                "from szoba sz left join foglalas f on sz.SZOBA_ID = f.SZOBA_FK\r\n",
                "group BY sz.SZOBA_ID\r\n",
                "order by count(*)\r\n",
                ""
            ],
            "metadata": {
                "azdata_cell_guid": "18000730-fd24-4434-93db-c05974b802e5",
                "language": "sql",
                "tags": []
            },
            "outputs": [
                {
                    "output_type": "display_data",
                    "data": {
                        "text/html": "(294 rows affected)"
                    },
                    "metadata": {}
                },
                {
                    "output_type": "display_data",
                    "data": {
                        "text/html": "Total execution time: 00:00:00.017"
                    },
                    "metadata": {}
                },
                {
                    "output_type": "execute_result",
                    "execution_count": 9,
                    "data": {
                        "application/vnd.dataresource+json": {
                            "schema": {
                                "fields": [
                                    {
                                        "name": "SZOBA_ID"
                                    },
                                    {
                                        "name": "db"
                                    }
                                ]
                            },
                            "data": [
                                {
                                    "SZOBA_ID": "32",
                                    "db": "1"
                                },
                                {
                                    "SZOBA_ID": "60",
                                    "db": "1"
                                },
                                {
                                    "SZOBA_ID": "65",
                                    "db": "1"
                                },
                                {
                                    "SZOBA_ID": "125",
                                    "db": "1"
                                },
                                {
                                    "SZOBA_ID": "199",
                                    "db": "0"
                                },
                                {
                                    "SZOBA_ID": "200",
                                    "db": "0"
                                },
                                {
                                    "SZOBA_ID": "201",
                                    "db": "0"
                                },
                                {
                                    "SZOBA_ID": "202",
                                    "db": "0"
                                },
                                {
                                    "SZOBA_ID": "203",
                                    "db": "0"
                                },
                                {
                                    "SZOBA_ID": "204",
                                    "db": "0"
                                },
                                {
                                    "SZOBA_ID": "205",
                                    "db": "0"
                                },
                                {
                                    "SZOBA_ID": "206",
                                    "db": "0"
                                },
                                {
                                    "SZOBA_ID": "207",
                                    "db": "0"
                                },
                                {
                                    "SZOBA_ID": "208",
                                    "db": "0"
                                },
                                {
                                    "SZOBA_ID": "209",
                                    "db": "0"
                                },
                                {
                                    "SZOBA_ID": "210",
                                    "db": "0"
                                },
                                {
                                    "SZOBA_ID": "211",
                                    "db": "0"
                                },
                                {
                                    "SZOBA_ID": "212",
                                    "db": "0"
                                },
                                {
                                    "SZOBA_ID": "213",
                                    "db": "0"
                                },
                                {
                                    "SZOBA_ID": "214",
                                    "db": "0"
                                },
                                {
                                    "SZOBA_ID": "215",
                                    "db": "0"
                                },
                                {
                                    "SZOBA_ID": "216",
                                    "db": "0"
                                },
                                {
                                    "SZOBA_ID": "217",
                                    "db": "0"
                                },
                                {
                                    "SZOBA_ID": "218",
                                    "db": "0"
                                },
                                {
                                    "SZOBA_ID": "219",
                                    "db": "0"
                                },
                                {
                                    "SZOBA_ID": "220",
                                    "db": "0"
                                },
                                {
                                    "SZOBA_ID": "221",
                                    "db": "0"
                                },
                                {
                                    "SZOBA_ID": "222",
                                    "db": "0"
                                },
                                {
                                    "SZOBA_ID": "223",
                                    "db": "0"
                                },
                                {
                                    "SZOBA_ID": "224",
                                    "db": "0"
                                },
                                {
                                    "SZOBA_ID": "225",
                                    "db": "0"
                                },
                                {
                                    "SZOBA_ID": "226",
                                    "db": "0"
                                },
                                {
                                    "SZOBA_ID": "227",
                                    "db": "0"
                                },
                                {
                                    "SZOBA_ID": "228",
                                    "db": "0"
                                },
                                {
                                    "SZOBA_ID": "229",
                                    "db": "0"
                                },
                                {
                                    "SZOBA_ID": "230",
                                    "db": "0"
                                },
                                {
                                    "SZOBA_ID": "231",
                                    "db": "0"
                                },
                                {
                                    "SZOBA_ID": "232",
                                    "db": "0"
                                },
                                {
                                    "SZOBA_ID": "233",
                                    "db": "0"
                                },
                                {
                                    "SZOBA_ID": "234",
                                    "db": "0"
                                },
                                {
                                    "SZOBA_ID": "235",
                                    "db": "0"
                                },
                                {
                                    "SZOBA_ID": "236",
                                    "db": "0"
                                },
                                {
                                    "SZOBA_ID": "237",
                                    "db": "0"
                                },
                                {
                                    "SZOBA_ID": "238",
                                    "db": "0"
                                },
                                {
                                    "SZOBA_ID": "239",
                                    "db": "0"
                                },
                                {
                                    "SZOBA_ID": "240",
                                    "db": "0"
                                },
                                {
                                    "SZOBA_ID": "241",
                                    "db": "0"
                                },
                                {
                                    "SZOBA_ID": "242",
                                    "db": "0"
                                },
                                {
                                    "SZOBA_ID": "243",
                                    "db": "0"
                                },
                                {
                                    "SZOBA_ID": "244",
                                    "db": "0"
                                },
                                {
                                    "SZOBA_ID": "245",
                                    "db": "0"
                                },
                                {
                                    "SZOBA_ID": "246",
                                    "db": "0"
                                },
                                {
                                    "SZOBA_ID": "247",
                                    "db": "0"
                                },
                                {
                                    "SZOBA_ID": "248",
                                    "db": "0"
                                },
                                {
                                    "SZOBA_ID": "249",
                                    "db": "0"
                                },
                                {
                                    "SZOBA_ID": "250",
                                    "db": "0"
                                },
                                {
                                    "SZOBA_ID": "251",
                                    "db": "0"
                                },
                                {
                                    "SZOBA_ID": "252",
                                    "db": "0"
                                },
                                {
                                    "SZOBA_ID": "253",
                                    "db": "0"
                                },
                                {
                                    "SZOBA_ID": "254",
                                    "db": "0"
                                },
                                {
                                    "SZOBA_ID": "255",
                                    "db": "0"
                                },
                                {
                                    "SZOBA_ID": "256",
                                    "db": "0"
                                },
                                {
                                    "SZOBA_ID": "257",
                                    "db": "0"
                                },
                                {
                                    "SZOBA_ID": "258",
                                    "db": "0"
                                },
                                {
                                    "SZOBA_ID": "259",
                                    "db": "0"
                                },
                                {
                                    "SZOBA_ID": "260",
                                    "db": "0"
                                },
                                {
                                    "SZOBA_ID": "261",
                                    "db": "0"
                                },
                                {
                                    "SZOBA_ID": "262",
                                    "db": "0"
                                },
                                {
                                    "SZOBA_ID": "263",
                                    "db": "0"
                                },
                                {
                                    "SZOBA_ID": "264",
                                    "db": "0"
                                },
                                {
                                    "SZOBA_ID": "265",
                                    "db": "0"
                                },
                                {
                                    "SZOBA_ID": "266",
                                    "db": "0"
                                },
                                {
                                    "SZOBA_ID": "267",
                                    "db": "0"
                                },
                                {
                                    "SZOBA_ID": "268",
                                    "db": "0"
                                },
                                {
                                    "SZOBA_ID": "269",
                                    "db": "0"
                                },
                                {
                                    "SZOBA_ID": "270",
                                    "db": "0"
                                },
                                {
                                    "SZOBA_ID": "271",
                                    "db": "0"
                                },
                                {
                                    "SZOBA_ID": "272",
                                    "db": "0"
                                },
                                {
                                    "SZOBA_ID": "273",
                                    "db": "0"
                                },
                                {
                                    "SZOBA_ID": "274",
                                    "db": "0"
                                },
                                {
                                    "SZOBA_ID": "275",
                                    "db": "0"
                                },
                                {
                                    "SZOBA_ID": "276",
                                    "db": "0"
                                },
                                {
                                    "SZOBA_ID": "277",
                                    "db": "0"
                                },
                                {
                                    "SZOBA_ID": "278",
                                    "db": "0"
                                },
                                {
                                    "SZOBA_ID": "279",
                                    "db": "0"
                                },
                                {
                                    "SZOBA_ID": "280",
                                    "db": "0"
                                },
                                {
                                    "SZOBA_ID": "281",
                                    "db": "0"
                                },
                                {
                                    "SZOBA_ID": "282",
                                    "db": "0"
                                },
                                {
                                    "SZOBA_ID": "283",
                                    "db": "0"
                                },
                                {
                                    "SZOBA_ID": "284",
                                    "db": "0"
                                },
                                {
                                    "SZOBA_ID": "285",
                                    "db": "0"
                                },
                                {
                                    "SZOBA_ID": "286",
                                    "db": "0"
                                },
                                {
                                    "SZOBA_ID": "287",
                                    "db": "0"
                                },
                                {
                                    "SZOBA_ID": "288",
                                    "db": "0"
                                },
                                {
                                    "SZOBA_ID": "289",
                                    "db": "0"
                                },
                                {
                                    "SZOBA_ID": "290",
                                    "db": "0"
                                },
                                {
                                    "SZOBA_ID": "291",
                                    "db": "0"
                                },
                                {
                                    "SZOBA_ID": "292",
                                    "db": "0"
                                },
                                {
                                    "SZOBA_ID": "293",
                                    "db": "0"
                                },
                                {
                                    "SZOBA_ID": "294",
                                    "db": "0"
                                },
                                {
                                    "SZOBA_ID": "147",
                                    "db": "1"
                                },
                                {
                                    "SZOBA_ID": "159",
                                    "db": "0"
                                },
                                {
                                    "SZOBA_ID": "194",
                                    "db": "1"
                                },
                                {
                                    "SZOBA_ID": "192",
                                    "db": "2"
                                },
                                {
                                    "SZOBA_ID": "167",
                                    "db": "2"
                                },
                                {
                                    "SZOBA_ID": "116",
                                    "db": "2"
                                },
                                {
                                    "SZOBA_ID": "142",
                                    "db": "2"
                                },
                                {
                                    "SZOBA_ID": "102",
                                    "db": "2"
                                },
                                {
                                    "SZOBA_ID": "105",
                                    "db": "2"
                                },
                                {
                                    "SZOBA_ID": "108",
                                    "db": "2"
                                },
                                {
                                    "SZOBA_ID": "56",
                                    "db": "2"
                                },
                                {
                                    "SZOBA_ID": "41",
                                    "db": "2"
                                },
                                {
                                    "SZOBA_ID": "47",
                                    "db": "2"
                                },
                                {
                                    "SZOBA_ID": "53",
                                    "db": "2"
                                },
                                {
                                    "SZOBA_ID": "25",
                                    "db": "2"
                                },
                                {
                                    "SZOBA_ID": "26",
                                    "db": "2"
                                },
                                {
                                    "SZOBA_ID": "23",
                                    "db": "3"
                                },
                                {
                                    "SZOBA_ID": "24",
                                    "db": "3"
                                },
                                {
                                    "SZOBA_ID": "30",
                                    "db": "3"
                                },
                                {
                                    "SZOBA_ID": "31",
                                    "db": "3"
                                },
                                {
                                    "SZOBA_ID": "14",
                                    "db": "3"
                                },
                                {
                                    "SZOBA_ID": "37",
                                    "db": "3"
                                },
                                {
                                    "SZOBA_ID": "68",
                                    "db": "3"
                                },
                                {
                                    "SZOBA_ID": "71",
                                    "db": "3"
                                },
                                {
                                    "SZOBA_ID": "101",
                                    "db": "3"
                                },
                                {
                                    "SZOBA_ID": "75",
                                    "db": "3"
                                },
                                {
                                    "SZOBA_ID": "76",
                                    "db": "3"
                                },
                                {
                                    "SZOBA_ID": "151",
                                    "db": "3"
                                },
                                {
                                    "SZOBA_ID": "135",
                                    "db": "3"
                                },
                                {
                                    "SZOBA_ID": "136",
                                    "db": "3"
                                },
                                {
                                    "SZOBA_ID": "158",
                                    "db": "3"
                                },
                                {
                                    "SZOBA_ID": "166",
                                    "db": "3"
                                },
                                {
                                    "SZOBA_ID": "162",
                                    "db": "3"
                                },
                                {
                                    "SZOBA_ID": "179",
                                    "db": "3"
                                },
                                {
                                    "SZOBA_ID": "180",
                                    "db": "3"
                                },
                                {
                                    "SZOBA_ID": "173",
                                    "db": "4"
                                },
                                {
                                    "SZOBA_ID": "174",
                                    "db": "4"
                                },
                                {
                                    "SZOBA_ID": "177",
                                    "db": "4"
                                },
                                {
                                    "SZOBA_ID": "178",
                                    "db": "4"
                                },
                                {
                                    "SZOBA_ID": "183",
                                    "db": "4"
                                },
                                {
                                    "SZOBA_ID": "184",
                                    "db": "4"
                                },
                                {
                                    "SZOBA_ID": "186",
                                    "db": "4"
                                },
                                {
                                    "SZOBA_ID": "196",
                                    "db": "4"
                                },
                                {
                                    "SZOBA_ID": "129",
                                    "db": "4"
                                },
                                {
                                    "SZOBA_ID": "152",
                                    "db": "4"
                                },
                                {
                                    "SZOBA_ID": "84",
                                    "db": "4"
                                },
                                {
                                    "SZOBA_ID": "85",
                                    "db": "4"
                                },
                                {
                                    "SZOBA_ID": "90",
                                    "db": "4"
                                },
                                {
                                    "SZOBA_ID": "91",
                                    "db": "4"
                                },
                                {
                                    "SZOBA_ID": "100",
                                    "db": "4"
                                },
                                {
                                    "SZOBA_ID": "103",
                                    "db": "4"
                                },
                                {
                                    "SZOBA_ID": "104",
                                    "db": "4"
                                },
                                {
                                    "SZOBA_ID": "95",
                                    "db": "4"
                                },
                                {
                                    "SZOBA_ID": "98",
                                    "db": "4"
                                },
                                {
                                    "SZOBA_ID": "114",
                                    "db": "4"
                                },
                                {
                                    "SZOBA_ID": "72",
                                    "db": "4"
                                },
                                {
                                    "SZOBA_ID": "73",
                                    "db": "4"
                                },
                                {
                                    "SZOBA_ID": "69",
                                    "db": "4"
                                },
                                {
                                    "SZOBA_ID": "66",
                                    "db": "4"
                                },
                                {
                                    "SZOBA_ID": "57",
                                    "db": "4"
                                },
                                {
                                    "SZOBA_ID": "63",
                                    "db": "4"
                                },
                                {
                                    "SZOBA_ID": "40",
                                    "db": "4"
                                },
                                {
                                    "SZOBA_ID": "50",
                                    "db": "4"
                                },
                                {
                                    "SZOBA_ID": "46",
                                    "db": "4"
                                },
                                {
                                    "SZOBA_ID": "10",
                                    "db": "4"
                                },
                                {
                                    "SZOBA_ID": "11",
                                    "db": "4"
                                },
                                {
                                    "SZOBA_ID": "2",
                                    "db": "4"
                                },
                                {
                                    "SZOBA_ID": "5",
                                    "db": "4"
                                },
                                {
                                    "SZOBA_ID": "34",
                                    "db": "4"
                                },
                                {
                                    "SZOBA_ID": "13",
                                    "db": "4"
                                },
                                {
                                    "SZOBA_ID": "21",
                                    "db": "4"
                                },
                                {
                                    "SZOBA_ID": "20",
                                    "db": "5"
                                },
                                {
                                    "SZOBA_ID": "8",
                                    "db": "5"
                                },
                                {
                                    "SZOBA_ID": "16",
                                    "db": "5"
                                },
                                {
                                    "SZOBA_ID": "45",
                                    "db": "5"
                                },
                                {
                                    "SZOBA_ID": "51",
                                    "db": "5"
                                },
                                {
                                    "SZOBA_ID": "52",
                                    "db": "5"
                                },
                                {
                                    "SZOBA_ID": "61",
                                    "db": "5"
                                },
                                {
                                    "SZOBA_ID": "62",
                                    "db": "5"
                                },
                                {
                                    "SZOBA_ID": "111",
                                    "db": "5"
                                },
                                {
                                    "SZOBA_ID": "112",
                                    "db": "5"
                                },
                                {
                                    "SZOBA_ID": "113",
                                    "db": "5"
                                },
                                {
                                    "SZOBA_ID": "99",
                                    "db": "5"
                                },
                                {
                                    "SZOBA_ID": "93",
                                    "db": "5"
                                },
                                {
                                    "SZOBA_ID": "86",
                                    "db": "5"
                                },
                                {
                                    "SZOBA_ID": "87",
                                    "db": "5"
                                },
                                {
                                    "SZOBA_ID": "79",
                                    "db": "5"
                                },
                                {
                                    "SZOBA_ID": "81",
                                    "db": "5"
                                },
                                {
                                    "SZOBA_ID": "153",
                                    "db": "5"
                                },
                                {
                                    "SZOBA_ID": "154",
                                    "db": "5"
                                },
                                {
                                    "SZOBA_ID": "155",
                                    "db": "5"
                                },
                                {
                                    "SZOBA_ID": "144",
                                    "db": "5"
                                },
                                {
                                    "SZOBA_ID": "128",
                                    "db": "5"
                                },
                                {
                                    "SZOBA_ID": "107",
                                    "db": "5"
                                },
                                {
                                    "SZOBA_ID": "119",
                                    "db": "5"
                                },
                                {
                                    "SZOBA_ID": "123",
                                    "db": "5"
                                },
                                {
                                    "SZOBA_ID": "131",
                                    "db": "5"
                                },
                                {
                                    "SZOBA_ID": "189",
                                    "db": "5"
                                },
                                {
                                    "SZOBA_ID": "190",
                                    "db": "5"
                                },
                                {
                                    "SZOBA_ID": "191",
                                    "db": "5"
                                },
                                {
                                    "SZOBA_ID": "175",
                                    "db": "5"
                                },
                                {
                                    "SZOBA_ID": "160",
                                    "db": "5"
                                },
                                {
                                    "SZOBA_ID": "157",
                                    "db": "5"
                                },
                                {
                                    "SZOBA_ID": "164",
                                    "db": "5"
                                },
                                {
                                    "SZOBA_ID": "168",
                                    "db": "5"
                                },
                                {
                                    "SZOBA_ID": "170",
                                    "db": "5"
                                },
                                {
                                    "SZOBA_ID": "171",
                                    "db": "5"
                                },
                                {
                                    "SZOBA_ID": "169",
                                    "db": "6"
                                },
                                {
                                    "SZOBA_ID": "150",
                                    "db": "6"
                                },
                                {
                                    "SZOBA_ID": "148",
                                    "db": "6"
                                },
                                {
                                    "SZOBA_ID": "161",
                                    "db": "6"
                                },
                                {
                                    "SZOBA_ID": "176",
                                    "db": "6"
                                },
                                {
                                    "SZOBA_ID": "181",
                                    "db": "6"
                                },
                                {
                                    "SZOBA_ID": "197",
                                    "db": "6"
                                },
                                {
                                    "SZOBA_ID": "188",
                                    "db": "6"
                                },
                                {
                                    "SZOBA_ID": "195",
                                    "db": "6"
                                },
                                {
                                    "SZOBA_ID": "132",
                                    "db": "6"
                                },
                                {
                                    "SZOBA_ID": "133",
                                    "db": "6"
                                },
                                {
                                    "SZOBA_ID": "134",
                                    "db": "6"
                                },
                                {
                                    "SZOBA_ID": "124",
                                    "db": "6"
                                },
                                {
                                    "SZOBA_ID": "126",
                                    "db": "6"
                                },
                                {
                                    "SZOBA_ID": "120",
                                    "db": "6"
                                },
                                {
                                    "SZOBA_ID": "141",
                                    "db": "6"
                                },
                                {
                                    "SZOBA_ID": "130",
                                    "db": "6"
                                },
                                {
                                    "SZOBA_ID": "137",
                                    "db": "6"
                                },
                                {
                                    "SZOBA_ID": "145",
                                    "db": "6"
                                },
                                {
                                    "SZOBA_ID": "146",
                                    "db": "6"
                                },
                                {
                                    "SZOBA_ID": "82",
                                    "db": "6"
                                },
                                {
                                    "SZOBA_ID": "77",
                                    "db": "6"
                                },
                                {
                                    "SZOBA_ID": "78",
                                    "db": "6"
                                },
                                {
                                    "SZOBA_ID": "92",
                                    "db": "6"
                                },
                                {
                                    "SZOBA_ID": "106",
                                    "db": "6"
                                },
                                {
                                    "SZOBA_ID": "64",
                                    "db": "6"
                                },
                                {
                                    "SZOBA_ID": "67",
                                    "db": "6"
                                },
                                {
                                    "SZOBA_ID": "54",
                                    "db": "6"
                                },
                                {
                                    "SZOBA_ID": "44",
                                    "db": "6"
                                },
                                {
                                    "SZOBA_ID": "42",
                                    "db": "6"
                                },
                                {
                                    "SZOBA_ID": "36",
                                    "db": "6"
                                },
                                {
                                    "SZOBA_ID": "17",
                                    "db": "6"
                                },
                                {
                                    "SZOBA_ID": "18",
                                    "db": "6"
                                },
                                {
                                    "SZOBA_ID": "19",
                                    "db": "6"
                                },
                                {
                                    "SZOBA_ID": "15",
                                    "db": "6"
                                },
                                {
                                    "SZOBA_ID": "9",
                                    "db": "6"
                                },
                                {
                                    "SZOBA_ID": "6",
                                    "db": "6"
                                },
                                {
                                    "SZOBA_ID": "7",
                                    "db": "6"
                                },
                                {
                                    "SZOBA_ID": "4",
                                    "db": "6"
                                },
                                {
                                    "SZOBA_ID": "22",
                                    "db": "6"
                                },
                                {
                                    "SZOBA_ID": "33",
                                    "db": "6"
                                },
                                {
                                    "SZOBA_ID": "28",
                                    "db": "6"
                                },
                                {
                                    "SZOBA_ID": "29",
                                    "db": "6"
                                },
                                {
                                    "SZOBA_ID": "27",
                                    "db": "7"
                                },
                                {
                                    "SZOBA_ID": "39",
                                    "db": "7"
                                },
                                {
                                    "SZOBA_ID": "49",
                                    "db": "7"
                                },
                                {
                                    "SZOBA_ID": "59",
                                    "db": "7"
                                },
                                {
                                    "SZOBA_ID": "109",
                                    "db": "7"
                                },
                                {
                                    "SZOBA_ID": "115",
                                    "db": "7"
                                },
                                {
                                    "SZOBA_ID": "96",
                                    "db": "7"
                                },
                                {
                                    "SZOBA_ID": "97",
                                    "db": "7"
                                },
                                {
                                    "SZOBA_ID": "80",
                                    "db": "7"
                                },
                                {
                                    "SZOBA_ID": "143",
                                    "db": "7"
                                },
                                {
                                    "SZOBA_ID": "156",
                                    "db": "7"
                                },
                                {
                                    "SZOBA_ID": "138",
                                    "db": "7"
                                },
                                {
                                    "SZOBA_ID": "139",
                                    "db": "7"
                                },
                                {
                                    "SZOBA_ID": "118",
                                    "db": "7"
                                },
                                {
                                    "SZOBA_ID": "127",
                                    "db": "7"
                                },
                                {
                                    "SZOBA_ID": "193",
                                    "db": "7"
                                },
                                {
                                    "SZOBA_ID": "187",
                                    "db": "7"
                                },
                                {
                                    "SZOBA_ID": "163",
                                    "db": "7"
                                },
                                {
                                    "SZOBA_ID": "149",
                                    "db": "7"
                                },
                                {
                                    "SZOBA_ID": "165",
                                    "db": "7"
                                },
                                {
                                    "SZOBA_ID": "198",
                                    "db": "8"
                                },
                                {
                                    "SZOBA_ID": "117",
                                    "db": "8"
                                },
                                {
                                    "SZOBA_ID": "121",
                                    "db": "8"
                                },
                                {
                                    "SZOBA_ID": "140",
                                    "db": "8"
                                },
                                {
                                    "SZOBA_ID": "83",
                                    "db": "8"
                                },
                                {
                                    "SZOBA_ID": "88",
                                    "db": "8"
                                },
                                {
                                    "SZOBA_ID": "89",
                                    "db": "8"
                                },
                                {
                                    "SZOBA_ID": "110",
                                    "db": "8"
                                },
                                {
                                    "SZOBA_ID": "38",
                                    "db": "8"
                                },
                                {
                                    "SZOBA_ID": "43",
                                    "db": "8"
                                },
                                {
                                    "SZOBA_ID": "55",
                                    "db": "8"
                                },
                                {
                                    "SZOBA_ID": "1",
                                    "db": "8"
                                },
                                {
                                    "SZOBA_ID": "3",
                                    "db": "8"
                                },
                                {
                                    "SZOBA_ID": "12",
                                    "db": "9"
                                },
                                {
                                    "SZOBA_ID": "35",
                                    "db": "9"
                                },
                                {
                                    "SZOBA_ID": "48",
                                    "db": "9"
                                },
                                {
                                    "SZOBA_ID": "74",
                                    "db": "9"
                                },
                                {
                                    "SZOBA_ID": "122",
                                    "db": "9"
                                },
                                {
                                    "SZOBA_ID": "172",
                                    "db": "9"
                                },
                                {
                                    "SZOBA_ID": "94",
                                    "db": "10"
                                },
                                {
                                    "SZOBA_ID": "70",
                                    "db": "11"
                                },
                                {
                                    "SZOBA_ID": "185",
                                    "db": "12"
                                },
                                {
                                    "SZOBA_ID": "182",
                                    "db": "12"
                                },
                                {
                                    "SZOBA_ID": "58",
                                    "db": "13"
                                }
                            ]
                        },
                        "text/html": "<table><tr><th>SZOBA_ID</th><th>db</th></tr><tr><td>32</td><td>1</td></tr><tr><td>60</td><td>1</td></tr><tr><td>65</td><td>1</td></tr><tr><td>125</td><td>1</td></tr><tr><td>199</td><td>0</td></tr><tr><td>200</td><td>0</td></tr><tr><td>201</td><td>0</td></tr><tr><td>202</td><td>0</td></tr><tr><td>203</td><td>0</td></tr><tr><td>204</td><td>0</td></tr><tr><td>205</td><td>0</td></tr><tr><td>206</td><td>0</td></tr><tr><td>207</td><td>0</td></tr><tr><td>208</td><td>0</td></tr><tr><td>209</td><td>0</td></tr><tr><td>210</td><td>0</td></tr><tr><td>211</td><td>0</td></tr><tr><td>212</td><td>0</td></tr><tr><td>213</td><td>0</td></tr><tr><td>214</td><td>0</td></tr><tr><td>215</td><td>0</td></tr><tr><td>216</td><td>0</td></tr><tr><td>217</td><td>0</td></tr><tr><td>218</td><td>0</td></tr><tr><td>219</td><td>0</td></tr><tr><td>220</td><td>0</td></tr><tr><td>221</td><td>0</td></tr><tr><td>222</td><td>0</td></tr><tr><td>223</td><td>0</td></tr><tr><td>224</td><td>0</td></tr><tr><td>225</td><td>0</td></tr><tr><td>226</td><td>0</td></tr><tr><td>227</td><td>0</td></tr><tr><td>228</td><td>0</td></tr><tr><td>229</td><td>0</td></tr><tr><td>230</td><td>0</td></tr><tr><td>231</td><td>0</td></tr><tr><td>232</td><td>0</td></tr><tr><td>233</td><td>0</td></tr><tr><td>234</td><td>0</td></tr><tr><td>235</td><td>0</td></tr><tr><td>236</td><td>0</td></tr><tr><td>237</td><td>0</td></tr><tr><td>238</td><td>0</td></tr><tr><td>239</td><td>0</td></tr><tr><td>240</td><td>0</td></tr><tr><td>241</td><td>0</td></tr><tr><td>242</td><td>0</td></tr><tr><td>243</td><td>0</td></tr><tr><td>244</td><td>0</td></tr><tr><td>245</td><td>0</td></tr><tr><td>246</td><td>0</td></tr><tr><td>247</td><td>0</td></tr><tr><td>248</td><td>0</td></tr><tr><td>249</td><td>0</td></tr><tr><td>250</td><td>0</td></tr><tr><td>251</td><td>0</td></tr><tr><td>252</td><td>0</td></tr><tr><td>253</td><td>0</td></tr><tr><td>254</td><td>0</td></tr><tr><td>255</td><td>0</td></tr><tr><td>256</td><td>0</td></tr><tr><td>257</td><td>0</td></tr><tr><td>258</td><td>0</td></tr><tr><td>259</td><td>0</td></tr><tr><td>260</td><td>0</td></tr><tr><td>261</td><td>0</td></tr><tr><td>262</td><td>0</td></tr><tr><td>263</td><td>0</td></tr><tr><td>264</td><td>0</td></tr><tr><td>265</td><td>0</td></tr><tr><td>266</td><td>0</td></tr><tr><td>267</td><td>0</td></tr><tr><td>268</td><td>0</td></tr><tr><td>269</td><td>0</td></tr><tr><td>270</td><td>0</td></tr><tr><td>271</td><td>0</td></tr><tr><td>272</td><td>0</td></tr><tr><td>273</td><td>0</td></tr><tr><td>274</td><td>0</td></tr><tr><td>275</td><td>0</td></tr><tr><td>276</td><td>0</td></tr><tr><td>277</td><td>0</td></tr><tr><td>278</td><td>0</td></tr><tr><td>279</td><td>0</td></tr><tr><td>280</td><td>0</td></tr><tr><td>281</td><td>0</td></tr><tr><td>282</td><td>0</td></tr><tr><td>283</td><td>0</td></tr><tr><td>284</td><td>0</td></tr><tr><td>285</td><td>0</td></tr><tr><td>286</td><td>0</td></tr><tr><td>287</td><td>0</td></tr><tr><td>288</td><td>0</td></tr><tr><td>289</td><td>0</td></tr><tr><td>290</td><td>0</td></tr><tr><td>291</td><td>0</td></tr><tr><td>292</td><td>0</td></tr><tr><td>293</td><td>0</td></tr><tr><td>294</td><td>0</td></tr><tr><td>147</td><td>1</td></tr><tr><td>159</td><td>0</td></tr><tr><td>194</td><td>1</td></tr><tr><td>192</td><td>2</td></tr><tr><td>167</td><td>2</td></tr><tr><td>116</td><td>2</td></tr><tr><td>142</td><td>2</td></tr><tr><td>102</td><td>2</td></tr><tr><td>105</td><td>2</td></tr><tr><td>108</td><td>2</td></tr><tr><td>56</td><td>2</td></tr><tr><td>41</td><td>2</td></tr><tr><td>47</td><td>2</td></tr><tr><td>53</td><td>2</td></tr><tr><td>25</td><td>2</td></tr><tr><td>26</td><td>2</td></tr><tr><td>23</td><td>3</td></tr><tr><td>24</td><td>3</td></tr><tr><td>30</td><td>3</td></tr><tr><td>31</td><td>3</td></tr><tr><td>14</td><td>3</td></tr><tr><td>37</td><td>3</td></tr><tr><td>68</td><td>3</td></tr><tr><td>71</td><td>3</td></tr><tr><td>101</td><td>3</td></tr><tr><td>75</td><td>3</td></tr><tr><td>76</td><td>3</td></tr><tr><td>151</td><td>3</td></tr><tr><td>135</td><td>3</td></tr><tr><td>136</td><td>3</td></tr><tr><td>158</td><td>3</td></tr><tr><td>166</td><td>3</td></tr><tr><td>162</td><td>3</td></tr><tr><td>179</td><td>3</td></tr><tr><td>180</td><td>3</td></tr><tr><td>173</td><td>4</td></tr><tr><td>174</td><td>4</td></tr><tr><td>177</td><td>4</td></tr><tr><td>178</td><td>4</td></tr><tr><td>183</td><td>4</td></tr><tr><td>184</td><td>4</td></tr><tr><td>186</td><td>4</td></tr><tr><td>196</td><td>4</td></tr><tr><td>129</td><td>4</td></tr><tr><td>152</td><td>4</td></tr><tr><td>84</td><td>4</td></tr><tr><td>85</td><td>4</td></tr><tr><td>90</td><td>4</td></tr><tr><td>91</td><td>4</td></tr><tr><td>100</td><td>4</td></tr><tr><td>103</td><td>4</td></tr><tr><td>104</td><td>4</td></tr><tr><td>95</td><td>4</td></tr><tr><td>98</td><td>4</td></tr><tr><td>114</td><td>4</td></tr><tr><td>72</td><td>4</td></tr><tr><td>73</td><td>4</td></tr><tr><td>69</td><td>4</td></tr><tr><td>66</td><td>4</td></tr><tr><td>57</td><td>4</td></tr><tr><td>63</td><td>4</td></tr><tr><td>40</td><td>4</td></tr><tr><td>50</td><td>4</td></tr><tr><td>46</td><td>4</td></tr><tr><td>10</td><td>4</td></tr><tr><td>11</td><td>4</td></tr><tr><td>2</td><td>4</td></tr><tr><td>5</td><td>4</td></tr><tr><td>34</td><td>4</td></tr><tr><td>13</td><td>4</td></tr><tr><td>21</td><td>4</td></tr><tr><td>20</td><td>5</td></tr><tr><td>8</td><td>5</td></tr><tr><td>16</td><td>5</td></tr><tr><td>45</td><td>5</td></tr><tr><td>51</td><td>5</td></tr><tr><td>52</td><td>5</td></tr><tr><td>61</td><td>5</td></tr><tr><td>62</td><td>5</td></tr><tr><td>111</td><td>5</td></tr><tr><td>112</td><td>5</td></tr><tr><td>113</td><td>5</td></tr><tr><td>99</td><td>5</td></tr><tr><td>93</td><td>5</td></tr><tr><td>86</td><td>5</td></tr><tr><td>87</td><td>5</td></tr><tr><td>79</td><td>5</td></tr><tr><td>81</td><td>5</td></tr><tr><td>153</td><td>5</td></tr><tr><td>154</td><td>5</td></tr><tr><td>155</td><td>5</td></tr><tr><td>144</td><td>5</td></tr><tr><td>128</td><td>5</td></tr><tr><td>107</td><td>5</td></tr><tr><td>119</td><td>5</td></tr><tr><td>123</td><td>5</td></tr><tr><td>131</td><td>5</td></tr><tr><td>189</td><td>5</td></tr><tr><td>190</td><td>5</td></tr><tr><td>191</td><td>5</td></tr><tr><td>175</td><td>5</td></tr><tr><td>160</td><td>5</td></tr><tr><td>157</td><td>5</td></tr><tr><td>164</td><td>5</td></tr><tr><td>168</td><td>5</td></tr><tr><td>170</td><td>5</td></tr><tr><td>171</td><td>5</td></tr><tr><td>169</td><td>6</td></tr><tr><td>150</td><td>6</td></tr><tr><td>148</td><td>6</td></tr><tr><td>161</td><td>6</td></tr><tr><td>176</td><td>6</td></tr><tr><td>181</td><td>6</td></tr><tr><td>197</td><td>6</td></tr><tr><td>188</td><td>6</td></tr><tr><td>195</td><td>6</td></tr><tr><td>132</td><td>6</td></tr><tr><td>133</td><td>6</td></tr><tr><td>134</td><td>6</td></tr><tr><td>124</td><td>6</td></tr><tr><td>126</td><td>6</td></tr><tr><td>120</td><td>6</td></tr><tr><td>141</td><td>6</td></tr><tr><td>130</td><td>6</td></tr><tr><td>137</td><td>6</td></tr><tr><td>145</td><td>6</td></tr><tr><td>146</td><td>6</td></tr><tr><td>82</td><td>6</td></tr><tr><td>77</td><td>6</td></tr><tr><td>78</td><td>6</td></tr><tr><td>92</td><td>6</td></tr><tr><td>106</td><td>6</td></tr><tr><td>64</td><td>6</td></tr><tr><td>67</td><td>6</td></tr><tr><td>54</td><td>6</td></tr><tr><td>44</td><td>6</td></tr><tr><td>42</td><td>6</td></tr><tr><td>36</td><td>6</td></tr><tr><td>17</td><td>6</td></tr><tr><td>18</td><td>6</td></tr><tr><td>19</td><td>6</td></tr><tr><td>15</td><td>6</td></tr><tr><td>9</td><td>6</td></tr><tr><td>6</td><td>6</td></tr><tr><td>7</td><td>6</td></tr><tr><td>4</td><td>6</td></tr><tr><td>22</td><td>6</td></tr><tr><td>33</td><td>6</td></tr><tr><td>28</td><td>6</td></tr><tr><td>29</td><td>6</td></tr><tr><td>27</td><td>7</td></tr><tr><td>39</td><td>7</td></tr><tr><td>49</td><td>7</td></tr><tr><td>59</td><td>7</td></tr><tr><td>109</td><td>7</td></tr><tr><td>115</td><td>7</td></tr><tr><td>96</td><td>7</td></tr><tr><td>97</td><td>7</td></tr><tr><td>80</td><td>7</td></tr><tr><td>143</td><td>7</td></tr><tr><td>156</td><td>7</td></tr><tr><td>138</td><td>7</td></tr><tr><td>139</td><td>7</td></tr><tr><td>118</td><td>7</td></tr><tr><td>127</td><td>7</td></tr><tr><td>193</td><td>7</td></tr><tr><td>187</td><td>7</td></tr><tr><td>163</td><td>7</td></tr><tr><td>149</td><td>7</td></tr><tr><td>165</td><td>7</td></tr><tr><td>198</td><td>8</td></tr><tr><td>117</td><td>8</td></tr><tr><td>121</td><td>8</td></tr><tr><td>140</td><td>8</td></tr><tr><td>83</td><td>8</td></tr><tr><td>88</td><td>8</td></tr><tr><td>89</td><td>8</td></tr><tr><td>110</td><td>8</td></tr><tr><td>38</td><td>8</td></tr><tr><td>43</td><td>8</td></tr><tr><td>55</td><td>8</td></tr><tr><td>1</td><td>8</td></tr><tr><td>3</td><td>8</td></tr><tr><td>12</td><td>9</td></tr><tr><td>35</td><td>9</td></tr><tr><td>48</td><td>9</td></tr><tr><td>74</td><td>9</td></tr><tr><td>122</td><td>9</td></tr><tr><td>172</td><td>9</td></tr><tr><td>94</td><td>10</td></tr><tr><td>70</td><td>11</td></tr><tr><td>185</td><td>12</td></tr><tr><td>182</td><td>12</td></tr><tr><td>58</td><td>13</td></tr></table>"
                    },
                    "metadata": {}
                }
            ],
            "execution_count": 9
        },
        {
            "cell_type": "markdown",
            "source": [
                "Listázzuk azon vendégek adatait, akik a legtöbb férőhelyes szobát (vagy szobákat) már lefoglalták!\n",
                "\n",
                "- Csak klímás szoba jöhet számításba"
            ],
            "metadata": {
                "azdata_cell_guid": "0cf452ad-6187-46b8-83d8-b9ed5339237e"
            },
            "attachments": {}
        },
        {
            "cell_type": "code",
            "source": [
                "select v.*\r\n",
                "from Vendeg v JOIN foglalas f  on v.usernev = f.UGYFEL_FK\r\n",
                "                join szoba sz on f.SZOBA_FK = sz.SZOBA_ID\r\n",
                "where sz.klimas = 'I' and sz.ferohely IN\r\n",
                "    (SELECT max(ferohely)\r\n",
                "    from szoba)\r\n",
                "\r\n",
                "\r\n",
                ""
            ],
            "metadata": {
                "azdata_cell_guid": "054784f9-63e7-4511-9862-43fe57b8b048",
                "language": "sql"
            },
            "outputs": [
                {
                    "output_type": "display_data",
                    "data": {
                        "text/html": "(3 rows affected)"
                    },
                    "metadata": {}
                },
                {
                    "output_type": "display_data",
                    "data": {
                        "text/html": "Total execution time: 00:00:00.026"
                    },
                    "metadata": {}
                },
                {
                    "output_type": "execute_result",
                    "metadata": {},
                    "execution_count": 8,
                    "data": {
                        "application/vnd.dataresource+json": {
                            "schema": {
                                "fields": [
                                    {
                                        "name": "USERNEV"
                                    },
                                    {
                                        "name": "NEV"
                                    },
                                    {
                                        "name": "EMAIL"
                                    },
                                    {
                                        "name": "SZAML_CIM"
                                    },
                                    {
                                        "name": "SZUL_DAT"
                                    }
                                ]
                            },
                            "data": [
                                {
                                    "USERNEV": "JOZSEFG",
                                    "NEV": "Gyuris József",
                                    "EMAIL": "józsef.gyuris@mail.hu",
                                    "SZAML_CIM": "2660 Balassagyarmat Petőfi utca 1/2.",
                                    "SZUL_DAT": "1975-05-26"
                                },
                                {
                                    "USERNEV": "PETERB",
                                    "NEV": "Berendi Péter",
                                    "EMAIL": "péter.berendi@mail.hu",
                                    "SZAML_CIM": "3980 Sátoraljaújhely Vasút utca 4/10.",
                                    "SZUL_DAT": "1969-01-01"
                                },
                                {
                                    "USERNEV": "tunde",
                                    "NEV": "Turcsik Tünde",
                                    "EMAIL": "tunde@gmail.com",
                                    "SZAML_CIM": "7130 Tolna Fő út 122.",
                                    "SZUL_DAT": "1974-02-12"
                                }
                            ]
                        },
                        "text/html": [
                            "<table>",
                            "<tr><th>USERNEV</th><th>NEV</th><th>EMAIL</th><th>SZAML_CIM</th><th>SZUL_DAT</th></tr>",
                            "<tr><td>JOZSEFG</td><td>Gyuris József</td><td>józsef.gyuris@mail.hu</td><td>2660 Balassagyarmat Petőfi utca 1/2.</td><td>1975-05-26</td></tr>",
                            "<tr><td>PETERB</td><td>Berendi Péter</td><td>péter.berendi@mail.hu</td><td>3980 Sátoraljaújhely Vasút utca 4/10.</td><td>1969-01-01</td></tr>",
                            "<tr><td>tunde</td><td>Turcsik Tünde</td><td>tunde@gmail.com</td><td>7130 Tolna Fő út 122.</td><td>1974-02-12</td></tr>",
                            "</table>"
                        ]
                    }
                }
            ],
            "execution_count": 8
        },
        {
            "cell_type": "markdown",
            "source": [
                "Listázzuk a vendégek azonosítóját, nevét és születési dátumát!\n",
                "\n",
                "- Vegyünk fel két új oszlopot, amelyben a vendég legelső, illetve legutolsó foglalásának dátuma szerepel\n",
                "- A foglalás dátumánál a METTOL oszlopot használjuk"
            ],
            "metadata": {
                "azdata_cell_guid": "f73b8359-6ae3-41c9-b9b1-b502b4ba218d"
            },
            "attachments": {}
        },
        {
            "cell_type": "code",
            "source": [
                "select v.usernev, v.nev, v.SZUL_DAT,\r\n",
                "        FIRST_VALUE(f.mettol)over(partition by v.usernev order by f.mettol asc) as 'Első foglalas',\r\n",
                "        FIRST_VALUE(f.mettol)over(partition by v.usernev order by f.mettol desc) as 'Utolsó foglalas'\r\n",
                "from Vendeg v join Foglalas f on v.USERNEV = f.UGYFEL_FK"
            ],
            "metadata": {
                "azdata_cell_guid": "a934c9db-9878-4fc9-9829-08f410d44868",
                "language": "sql"
            },
            "outputs": [
                {
                    "output_type": "display_data",
                    "data": {
                        "text/html": "(1027 rows affected)"
                    },
                    "metadata": {}
                },
                {
                    "output_type": "display_data",
                    "data": {
                        "text/html": "Total execution time: 00:00:00.046"
                    },
                    "metadata": {}
                },
                {
                    "output_type": "execute_result",
                    "execution_count": 13,
                    "data": {
                        "application/vnd.dataresource+json": {
                            "schema": {
                                "fields": [
                                    {
                                        "name": "usernev"
                                    },
                                    {
                                        "name": "nev"
                                    },
                                    {
                                        "name": "SZUL_DAT"
                                    },
                                    {
                                        "name": "Első foglalas"
                                    },
                                    {
                                        "name": "Utolsó foglalas"
                                    }
                                ]
                            },
                            "data": [
                                {
                                    "usernev": "adam1",
                                    "nev": "Kiss Ádám",
                                    "SZUL_DAT": "1991-12-28",
                                    "Első foglalas": "2016-05-28",
                                    "Utolsó foglalas": "2016-10-19"
                                },
                                {
                                    "usernev": "adam1",
                                    "nev": "Kiss Ádám",
                                    "SZUL_DAT": "1991-12-28",
                                    "Első foglalas": "2016-05-28",
                                    "Utolsó foglalas": "2016-10-19"
                                },
                                {
                                    "usernev": "adam1",
                                    "nev": "Kiss Ádám",
                                    "SZUL_DAT": "1991-12-28",
                                    "Első foglalas": "2016-05-28",
                                    "Utolsó foglalas": "2016-10-19"
                                },
                                {
                                    "usernev": "adam3",
                                    "nev": "Barkóci Ádám",
                                    "SZUL_DAT": "1970-06-07",
                                    "Első foglalas": "2016-09-12",
                                    "Utolsó foglalas": "2017-02-06"
                                },
                                {
                                    "usernev": "adam3",
                                    "nev": "Barkóci Ádám",
                                    "SZUL_DAT": "1970-06-07",
                                    "Első foglalas": "2016-09-12",
                                    "Utolsó foglalas": "2017-02-06"
                                },
                                {
                                    "usernev": "adam4",
                                    "nev": "Bieniek Ádám",
                                    "SZUL_DAT": "1976-08-01",
                                    "Első foglalas": "2016-08-28",
                                    "Utolsó foglalas": "2017-02-23"
                                },
                                {
                                    "usernev": "adam4",
                                    "nev": "Bieniek Ádám",
                                    "SZUL_DAT": "1976-08-01",
                                    "Első foglalas": "2016-08-28",
                                    "Utolsó foglalas": "2017-02-23"
                                },
                                {
                                    "usernev": "adam4",
                                    "nev": "Bieniek Ádám",
                                    "SZUL_DAT": "1976-08-01",
                                    "Első foglalas": "2016-08-28",
                                    "Utolsó foglalas": "2017-02-23"
                                },
                                {
                                    "usernev": "adam4",
                                    "nev": "Bieniek Ádám",
                                    "SZUL_DAT": "1976-08-01",
                                    "Első foglalas": "2016-08-28",
                                    "Utolsó foglalas": "2017-02-23"
                                },
                                {
                                    "usernev": "adam4",
                                    "nev": "Bieniek Ádám",
                                    "SZUL_DAT": "1976-08-01",
                                    "Első foglalas": "2016-08-28",
                                    "Utolsó foglalas": "2017-02-23"
                                },
                                {
                                    "usernev": "adam4",
                                    "nev": "Bieniek Ádám",
                                    "SZUL_DAT": "1976-08-01",
                                    "Első foglalas": "2016-08-28",
                                    "Utolsó foglalas": "2017-02-23"
                                },
                                {
                                    "usernev": "agnes",
                                    "nev": "Lengyel Ágnes",
                                    "SZUL_DAT": "1979-12-10",
                                    "Első foglalas": "2016-05-09",
                                    "Utolsó foglalas": "2016-11-07"
                                },
                                {
                                    "usernev": "agnes",
                                    "nev": "Lengyel Ágnes",
                                    "SZUL_DAT": "1979-12-10",
                                    "Első foglalas": "2016-05-09",
                                    "Utolsó foglalas": "2016-11-07"
                                },
                                {
                                    "usernev": "agnes",
                                    "nev": "Lengyel Ágnes",
                                    "SZUL_DAT": "1979-12-10",
                                    "Első foglalas": "2016-05-09",
                                    "Utolsó foglalas": "2016-11-07"
                                },
                                {
                                    "usernev": "agnes",
                                    "nev": "Lengyel Ágnes",
                                    "SZUL_DAT": "1979-12-10",
                                    "Első foglalas": "2016-05-09",
                                    "Utolsó foglalas": "2016-11-07"
                                },
                                {
                                    "usernev": "agnes",
                                    "nev": "Lengyel Ágnes",
                                    "SZUL_DAT": "1979-12-10",
                                    "Első foglalas": "2016-05-09",
                                    "Utolsó foglalas": "2016-11-07"
                                },
                                {
                                    "usernev": "agnes3",
                                    "nev": "Hartyánszky Ágnes",
                                    "SZUL_DAT": "1967-04-11",
                                    "Első foglalas": "2016-08-04",
                                    "Utolsó foglalas": "2017-02-16"
                                },
                                {
                                    "usernev": "agnes3",
                                    "nev": "Hartyánszky Ágnes",
                                    "SZUL_DAT": "1967-04-11",
                                    "Első foglalas": "2016-08-04",
                                    "Utolsó foglalas": "2017-02-16"
                                },
                                {
                                    "usernev": "agnes3",
                                    "nev": "Hartyánszky Ágnes",
                                    "SZUL_DAT": "1967-04-11",
                                    "Első foglalas": "2016-08-04",
                                    "Utolsó foglalas": "2017-02-16"
                                },
                                {
                                    "usernev": "AGNESH",
                                    "nev": "Horváth Ágnes",
                                    "SZUL_DAT": "1981-12-24",
                                    "Első foglalas": "2016-04-10",
                                    "Utolsó foglalas": "2017-01-16"
                                },
                                {
                                    "usernev": "AGNESH",
                                    "nev": "Horváth Ágnes",
                                    "SZUL_DAT": "1981-12-24",
                                    "Első foglalas": "2016-04-10",
                                    "Utolsó foglalas": "2017-01-16"
                                },
                                {
                                    "usernev": "AGNESH",
                                    "nev": "Horváth Ágnes",
                                    "SZUL_DAT": "1981-12-24",
                                    "Első foglalas": "2016-04-10",
                                    "Utolsó foglalas": "2017-01-16"
                                },
                                {
                                    "usernev": "AGNESH",
                                    "nev": "Horváth Ágnes",
                                    "SZUL_DAT": "1981-12-24",
                                    "Első foglalas": "2016-04-10",
                                    "Utolsó foglalas": "2017-01-16"
                                },
                                {
                                    "usernev": "AGNESH",
                                    "nev": "Horváth Ágnes",
                                    "SZUL_DAT": "1981-12-24",
                                    "Első foglalas": "2016-04-10",
                                    "Utolsó foglalas": "2017-01-16"
                                },
                                {
                                    "usernev": "AGNESH",
                                    "nev": "Horváth Ágnes",
                                    "SZUL_DAT": "1981-12-24",
                                    "Első foglalas": "2016-04-10",
                                    "Utolsó foglalas": "2017-01-16"
                                },
                                {
                                    "usernev": "AGNESK",
                                    "nev": "Kovács Ágnes",
                                    "SZUL_DAT": "1988-10-02",
                                    "Első foglalas": "2016-07-29",
                                    "Utolsó foglalas": "2016-12-17"
                                },
                                {
                                    "usernev": "AGNESK",
                                    "nev": "Kovács Ágnes",
                                    "SZUL_DAT": "1988-10-02",
                                    "Első foglalas": "2016-07-29",
                                    "Utolsó foglalas": "2016-12-17"
                                },
                                {
                                    "usernev": "AGNESK",
                                    "nev": "Kovács Ágnes",
                                    "SZUL_DAT": "1988-10-02",
                                    "Első foglalas": "2016-07-29",
                                    "Utolsó foglalas": "2016-12-17"
                                },
                                {
                                    "usernev": "akos",
                                    "nev": "Bíró Ákos",
                                    "SZUL_DAT": "1982-04-24",
                                    "Első foglalas": "2016-05-18",
                                    "Utolsó foglalas": "2016-12-29"
                                },
                                {
                                    "usernev": "akos",
                                    "nev": "Bíró Ákos",
                                    "SZUL_DAT": "1982-04-24",
                                    "Első foglalas": "2016-05-18",
                                    "Utolsó foglalas": "2016-12-29"
                                },
                                {
                                    "usernev": "akos",
                                    "nev": "Bíró Ákos",
                                    "SZUL_DAT": "1982-04-24",
                                    "Első foglalas": "2016-05-18",
                                    "Utolsó foglalas": "2016-12-29"
                                },
                                {
                                    "usernev": "akos",
                                    "nev": "Bíró Ákos",
                                    "SZUL_DAT": "1982-04-24",
                                    "Első foglalas": "2016-05-18",
                                    "Utolsó foglalas": "2016-12-29"
                                },
                                {
                                    "usernev": "akos",
                                    "nev": "Bíró Ákos",
                                    "SZUL_DAT": "1982-04-24",
                                    "Első foglalas": "2016-05-18",
                                    "Utolsó foglalas": "2016-12-29"
                                },
                                {
                                    "usernev": "akos",
                                    "nev": "Bíró Ákos",
                                    "SZUL_DAT": "1982-04-24",
                                    "Első foglalas": "2016-05-18",
                                    "Utolsó foglalas": "2016-12-29"
                                },
                                {
                                    "usernev": "akos",
                                    "nev": "Bíró Ákos",
                                    "SZUL_DAT": "1982-04-24",
                                    "Első foglalas": "2016-05-18",
                                    "Utolsó foglalas": "2016-12-29"
                                },
                                {
                                    "usernev": "akos",
                                    "nev": "Bíró Ákos",
                                    "SZUL_DAT": "1982-04-24",
                                    "Első foglalas": "2016-05-18",
                                    "Utolsó foglalas": "2016-12-29"
                                },
                                {
                                    "usernev": "akos",
                                    "nev": "Bíró Ákos",
                                    "SZUL_DAT": "1982-04-24",
                                    "Első foglalas": "2016-05-18",
                                    "Utolsó foglalas": "2016-12-29"
                                },
                                {
                                    "usernev": "akos",
                                    "nev": "Bíró Ákos",
                                    "SZUL_DAT": "1982-04-24",
                                    "Első foglalas": "2016-05-18",
                                    "Utolsó foglalas": "2016-12-29"
                                },
                                {
                                    "usernev": "aladar",
                                    "nev": "Dunai Aladár",
                                    "SZUL_DAT": "1980-11-01",
                                    "Első foglalas": "2016-05-17",
                                    "Utolsó foglalas": "2016-11-22"
                                },
                                {
                                    "usernev": "aladar",
                                    "nev": "Dunai Aladár",
                                    "SZUL_DAT": "1980-11-01",
                                    "Első foglalas": "2016-05-17",
                                    "Utolsó foglalas": "2016-11-22"
                                },
                                {
                                    "usernev": "aladar",
                                    "nev": "Dunai Aladár",
                                    "SZUL_DAT": "1980-11-01",
                                    "Első foglalas": "2016-05-17",
                                    "Utolsó foglalas": "2016-11-22"
                                },
                                {
                                    "usernev": "alexandra",
                                    "nev": "Bagóczki Alexandra",
                                    "SZUL_DAT": "1992-03-25",
                                    "Első foglalas": "2016-05-21",
                                    "Utolsó foglalas": "2017-01-19"
                                },
                                {
                                    "usernev": "alexandra",
                                    "nev": "Bagóczki Alexandra",
                                    "SZUL_DAT": "1992-03-25",
                                    "Első foglalas": "2016-05-21",
                                    "Utolsó foglalas": "2017-01-19"
                                },
                                {
                                    "usernev": "alexandra",
                                    "nev": "Bagóczki Alexandra",
                                    "SZUL_DAT": "1992-03-25",
                                    "Első foglalas": "2016-05-21",
                                    "Utolsó foglalas": "2017-01-19"
                                },
                                {
                                    "usernev": "alexandra",
                                    "nev": "Bagóczki Alexandra",
                                    "SZUL_DAT": "1992-03-25",
                                    "Első foglalas": "2016-05-21",
                                    "Utolsó foglalas": "2017-01-19"
                                },
                                {
                                    "usernev": "alexandra",
                                    "nev": "Bagóczki Alexandra",
                                    "SZUL_DAT": "1992-03-25",
                                    "Első foglalas": "2016-05-21",
                                    "Utolsó foglalas": "2017-01-19"
                                },
                                {
                                    "usernev": "alexandra",
                                    "nev": "Bagóczki Alexandra",
                                    "SZUL_DAT": "1992-03-25",
                                    "Első foglalas": "2016-05-21",
                                    "Utolsó foglalas": "2017-01-19"
                                },
                                {
                                    "usernev": "alexandra",
                                    "nev": "Bagóczki Alexandra",
                                    "SZUL_DAT": "1992-03-25",
                                    "Első foglalas": "2016-05-21",
                                    "Utolsó foglalas": "2017-01-19"
                                },
                                {
                                    "usernev": "andi",
                                    "nev": "Maródi Andrea",
                                    "SZUL_DAT": "1968-05-07",
                                    "Első foglalas": "2016-05-08",
                                    "Utolsó foglalas": "2017-01-13"
                                },
                                {
                                    "usernev": "andi",
                                    "nev": "Maródi Andrea",
                                    "SZUL_DAT": "1968-05-07",
                                    "Első foglalas": "2016-05-08",
                                    "Utolsó foglalas": "2017-01-13"
                                },
                                {
                                    "usernev": "andi",
                                    "nev": "Maródi Andrea",
                                    "SZUL_DAT": "1968-05-07",
                                    "Első foglalas": "2016-05-08",
                                    "Utolsó foglalas": "2017-01-13"
                                },
                                {
                                    "usernev": "andi",
                                    "nev": "Maródi Andrea",
                                    "SZUL_DAT": "1968-05-07",
                                    "Első foglalas": "2016-05-08",
                                    "Utolsó foglalas": "2017-01-13"
                                },
                                {
                                    "usernev": "andi",
                                    "nev": "Maródi Andrea",
                                    "SZUL_DAT": "1968-05-07",
                                    "Első foglalas": "2016-05-08",
                                    "Utolsó foglalas": "2017-01-13"
                                },
                                {
                                    "usernev": "andras2",
                                    "nev": "Tóth András",
                                    "SZUL_DAT": "1997-10-31",
                                    "Első foglalas": "2016-05-30",
                                    "Utolsó foglalas": "2017-02-08"
                                },
                                {
                                    "usernev": "andras2",
                                    "nev": "Tóth András",
                                    "SZUL_DAT": "1997-10-31",
                                    "Első foglalas": "2016-05-30",
                                    "Utolsó foglalas": "2017-02-08"
                                },
                                {
                                    "usernev": "andras2",
                                    "nev": "Tóth András",
                                    "SZUL_DAT": "1997-10-31",
                                    "Első foglalas": "2016-05-30",
                                    "Utolsó foglalas": "2017-02-08"
                                },
                                {
                                    "usernev": "andras2",
                                    "nev": "Tóth András",
                                    "SZUL_DAT": "1997-10-31",
                                    "Első foglalas": "2016-05-30",
                                    "Utolsó foglalas": "2017-02-08"
                                },
                                {
                                    "usernev": "andras2",
                                    "nev": "Tóth András",
                                    "SZUL_DAT": "1997-10-31",
                                    "Első foglalas": "2016-05-30",
                                    "Utolsó foglalas": "2017-02-08"
                                },
                                {
                                    "usernev": "andras21",
                                    "nev": "Molnár András",
                                    "SZUL_DAT": "1977-11-16",
                                    "Első foglalas": "2016-06-21",
                                    "Utolsó foglalas": "2017-01-28"
                                },
                                {
                                    "usernev": "andras21",
                                    "nev": "Molnár András",
                                    "SZUL_DAT": "1977-11-16",
                                    "Első foglalas": "2016-06-21",
                                    "Utolsó foglalas": "2017-01-28"
                                },
                                {
                                    "usernev": "andras21",
                                    "nev": "Molnár András",
                                    "SZUL_DAT": "1977-11-16",
                                    "Első foglalas": "2016-06-21",
                                    "Utolsó foglalas": "2017-01-28"
                                },
                                {
                                    "usernev": "andras21",
                                    "nev": "Molnár András",
                                    "SZUL_DAT": "1977-11-16",
                                    "Első foglalas": "2016-06-21",
                                    "Utolsó foglalas": "2017-01-28"
                                },
                                {
                                    "usernev": "andras21",
                                    "nev": "Molnár András",
                                    "SZUL_DAT": "1977-11-16",
                                    "Első foglalas": "2016-06-21",
                                    "Utolsó foglalas": "2017-01-28"
                                },
                                {
                                    "usernev": "andras21",
                                    "nev": "Molnár András",
                                    "SZUL_DAT": "1977-11-16",
                                    "Első foglalas": "2016-06-21",
                                    "Utolsó foglalas": "2017-01-28"
                                },
                                {
                                    "usernev": "andras21",
                                    "nev": "Molnár András",
                                    "SZUL_DAT": "1977-11-16",
                                    "Első foglalas": "2016-06-21",
                                    "Utolsó foglalas": "2017-01-28"
                                },
                                {
                                    "usernev": "andras3",
                                    "nev": "Vígh András",
                                    "SZUL_DAT": "1971-04-02",
                                    "Első foglalas": "2016-05-01",
                                    "Utolsó foglalas": "2017-02-02"
                                },
                                {
                                    "usernev": "andras3",
                                    "nev": "Vígh András",
                                    "SZUL_DAT": "1971-04-02",
                                    "Első foglalas": "2016-05-01",
                                    "Utolsó foglalas": "2017-02-02"
                                },
                                {
                                    "usernev": "andras3",
                                    "nev": "Vígh András",
                                    "SZUL_DAT": "1971-04-02",
                                    "Első foglalas": "2016-05-01",
                                    "Utolsó foglalas": "2017-02-02"
                                },
                                {
                                    "usernev": "andras3",
                                    "nev": "Vígh András",
                                    "SZUL_DAT": "1971-04-02",
                                    "Első foglalas": "2016-05-01",
                                    "Utolsó foglalas": "2017-02-02"
                                },
                                {
                                    "usernev": "andras3",
                                    "nev": "Vígh András",
                                    "SZUL_DAT": "1971-04-02",
                                    "Első foglalas": "2016-05-01",
                                    "Utolsó foglalas": "2017-02-02"
                                },
                                {
                                    "usernev": "andras3",
                                    "nev": "Vígh András",
                                    "SZUL_DAT": "1971-04-02",
                                    "Első foglalas": "2016-05-01",
                                    "Utolsó foglalas": "2017-02-02"
                                },
                                {
                                    "usernev": "andras3",
                                    "nev": "Vígh András",
                                    "SZUL_DAT": "1971-04-02",
                                    "Első foglalas": "2016-05-01",
                                    "Utolsó foglalas": "2017-02-02"
                                },
                                {
                                    "usernev": "andras3",
                                    "nev": "Vígh András",
                                    "SZUL_DAT": "1971-04-02",
                                    "Első foglalas": "2016-05-01",
                                    "Utolsó foglalas": "2017-02-02"
                                },
                                {
                                    "usernev": "andras4",
                                    "nev": "Back András",
                                    "SZUL_DAT": "1984-04-07",
                                    "Első foglalas": "2016-09-17",
                                    "Utolsó foglalas": "2017-01-09"
                                },
                                {
                                    "usernev": "andras4",
                                    "nev": "Back András",
                                    "SZUL_DAT": "1984-04-07",
                                    "Első foglalas": "2016-09-17",
                                    "Utolsó foglalas": "2017-01-09"
                                },
                                {
                                    "usernev": "andras4",
                                    "nev": "Back András",
                                    "SZUL_DAT": "1984-04-07",
                                    "Első foglalas": "2016-09-17",
                                    "Utolsó foglalas": "2017-01-09"
                                },
                                {
                                    "usernev": "andras41",
                                    "nev": "Komjáti András",
                                    "SZUL_DAT": "1997-10-25",
                                    "Első foglalas": "2016-05-14",
                                    "Utolsó foglalas": "2016-11-23"
                                },
                                {
                                    "usernev": "andras41",
                                    "nev": "Komjáti András",
                                    "SZUL_DAT": "1997-10-25",
                                    "Első foglalas": "2016-05-14",
                                    "Utolsó foglalas": "2016-11-23"
                                },
                                {
                                    "usernev": "andras41",
                                    "nev": "Komjáti András",
                                    "SZUL_DAT": "1997-10-25",
                                    "Első foglalas": "2016-05-14",
                                    "Utolsó foglalas": "2016-11-23"
                                },
                                {
                                    "usernev": "andras41",
                                    "nev": "Komjáti András",
                                    "SZUL_DAT": "1997-10-25",
                                    "Első foglalas": "2016-05-14",
                                    "Utolsó foglalas": "2016-11-23"
                                },
                                {
                                    "usernev": "andras41",
                                    "nev": "Komjáti András",
                                    "SZUL_DAT": "1997-10-25",
                                    "Első foglalas": "2016-05-14",
                                    "Utolsó foglalas": "2016-11-23"
                                },
                                {
                                    "usernev": "andras41",
                                    "nev": "Komjáti András",
                                    "SZUL_DAT": "1997-10-25",
                                    "Első foglalas": "2016-05-14",
                                    "Utolsó foglalas": "2016-11-23"
                                },
                                {
                                    "usernev": "andras41",
                                    "nev": "Komjáti András",
                                    "SZUL_DAT": "1997-10-25",
                                    "Első foglalas": "2016-05-14",
                                    "Utolsó foglalas": "2016-11-23"
                                },
                                {
                                    "usernev": "andras41",
                                    "nev": "Komjáti András",
                                    "SZUL_DAT": "1997-10-25",
                                    "Első foglalas": "2016-05-14",
                                    "Utolsó foglalas": "2016-11-23"
                                },
                                {
                                    "usernev": "andras41",
                                    "nev": "Komjáti András",
                                    "SZUL_DAT": "1997-10-25",
                                    "Első foglalas": "2016-05-14",
                                    "Utolsó foglalas": "2016-11-23"
                                },
                                {
                                    "usernev": "andras41",
                                    "nev": "Komjáti András",
                                    "SZUL_DAT": "1997-10-25",
                                    "Első foglalas": "2016-05-14",
                                    "Utolsó foglalas": "2016-11-23"
                                },
                                {
                                    "usernev": "andras41",
                                    "nev": "Komjáti András",
                                    "SZUL_DAT": "1997-10-25",
                                    "Első foglalas": "2016-05-14",
                                    "Utolsó foglalas": "2016-11-23"
                                },
                                {
                                    "usernev": "andras41",
                                    "nev": "Komjáti András",
                                    "SZUL_DAT": "1997-10-25",
                                    "Első foglalas": "2016-05-14",
                                    "Utolsó foglalas": "2016-11-23"
                                },
                                {
                                    "usernev": "andras41",
                                    "nev": "Komjáti András",
                                    "SZUL_DAT": "1997-10-25",
                                    "Első foglalas": "2016-05-14",
                                    "Utolsó foglalas": "2016-11-23"
                                },
                                {
                                    "usernev": "ANDRASE",
                                    "nev": "Erdei András",
                                    "SZUL_DAT": "1997-05-29",
                                    "Első foglalas": "2016-04-24",
                                    "Utolsó foglalas": "2016-11-29"
                                },
                                {
                                    "usernev": "ANDRASE",
                                    "nev": "Erdei András",
                                    "SZUL_DAT": "1997-05-29",
                                    "Első foglalas": "2016-04-24",
                                    "Utolsó foglalas": "2016-11-29"
                                },
                                {
                                    "usernev": "ANDRASE",
                                    "nev": "Erdei András",
                                    "SZUL_DAT": "1997-05-29",
                                    "Első foglalas": "2016-04-24",
                                    "Utolsó foglalas": "2016-11-29"
                                },
                                {
                                    "usernev": "ANDRASE",
                                    "nev": "Erdei András",
                                    "SZUL_DAT": "1997-05-29",
                                    "Első foglalas": "2016-04-24",
                                    "Utolsó foglalas": "2016-11-29"
                                },
                                {
                                    "usernev": "ANDRASE",
                                    "nev": "Erdei András",
                                    "SZUL_DAT": "1997-05-29",
                                    "Első foglalas": "2016-04-24",
                                    "Utolsó foglalas": "2016-11-29"
                                },
                                {
                                    "usernev": "ANDRASN",
                                    "nev": "Nagy András",
                                    "SZUL_DAT": "1980-09-05",
                                    "Első foglalas": "2016-11-25",
                                    "Utolsó foglalas": "2016-11-25"
                                },
                                {
                                    "usernev": "andrea",
                                    "nev": "Kiss Andrea",
                                    "SZUL_DAT": "1993-03-25",
                                    "Első foglalas": "2016-07-27",
                                    "Utolsó foglalas": "2017-02-09"
                                },
                                {
                                    "usernev": "andrea",
                                    "nev": "Kiss Andrea",
                                    "SZUL_DAT": "1993-03-25",
                                    "Első foglalas": "2016-07-27",
                                    "Utolsó foglalas": "2017-02-09"
                                },
                                {
                                    "usernev": "andrea",
                                    "nev": "Kiss Andrea",
                                    "SZUL_DAT": "1993-03-25",
                                    "Első foglalas": "2016-07-27",
                                    "Utolsó foglalas": "2017-02-09"
                                },
                                {
                                    "usernev": "andrea",
                                    "nev": "Kiss Andrea",
                                    "SZUL_DAT": "1993-03-25",
                                    "Első foglalas": "2016-07-27",
                                    "Utolsó foglalas": "2017-02-09"
                                },
                                {
                                    "usernev": "andrea",
                                    "nev": "Kiss Andrea",
                                    "SZUL_DAT": "1993-03-25",
                                    "Első foglalas": "2016-07-27",
                                    "Utolsó foglalas": "2017-02-09"
                                },
                                {
                                    "usernev": "andrea",
                                    "nev": "Kiss Andrea",
                                    "SZUL_DAT": "1993-03-25",
                                    "Első foglalas": "2016-07-27",
                                    "Utolsó foglalas": "2017-02-09"
                                },
                                {
                                    "usernev": "andrea3",
                                    "nev": "Szomor Andrea",
                                    "SZUL_DAT": "1996-05-10",
                                    "Első foglalas": "2016-11-19",
                                    "Utolsó foglalas": "2016-11-19"
                                },
                                {
                                    "usernev": "andrea4",
                                    "nev": "Neizer Andrea",
                                    "SZUL_DAT": "1981-05-17",
                                    "Első foglalas": "2016-05-27",
                                    "Utolsó foglalas": "2017-01-22"
                                },
                                {
                                    "usernev": "andrea4",
                                    "nev": "Neizer Andrea",
                                    "SZUL_DAT": "1981-05-17",
                                    "Első foglalas": "2016-05-27",
                                    "Utolsó foglalas": "2017-01-22"
                                },
                                {
                                    "usernev": "andrea4",
                                    "nev": "Neizer Andrea",
                                    "SZUL_DAT": "1981-05-17",
                                    "Első foglalas": "2016-05-27",
                                    "Utolsó foglalas": "2017-01-22"
                                },
                                {
                                    "usernev": "andrea4",
                                    "nev": "Neizer Andrea",
                                    "SZUL_DAT": "1981-05-17",
                                    "Első foglalas": "2016-05-27",
                                    "Utolsó foglalas": "2017-01-22"
                                },
                                {
                                    "usernev": "ANDREAT",
                                    "nev": "Tornyos Andrea",
                                    "SZUL_DAT": "1986-11-14",
                                    "Első foglalas": "2016-07-27",
                                    "Utolsó foglalas": "2016-10-08"
                                },
                                {
                                    "usernev": "ANDREAT",
                                    "nev": "Tornyos Andrea",
                                    "SZUL_DAT": "1986-11-14",
                                    "Első foglalas": "2016-07-27",
                                    "Utolsó foglalas": "2016-10-08"
                                },
                                {
                                    "usernev": "ANDREAT",
                                    "nev": "Tornyos Andrea",
                                    "SZUL_DAT": "1986-11-14",
                                    "Első foglalas": "2016-07-27",
                                    "Utolsó foglalas": "2016-10-08"
                                },
                                {
                                    "usernev": "anett3",
                                    "nev": "Pivarcsi Anett",
                                    "SZUL_DAT": "1967-01-03",
                                    "Első foglalas": "2016-04-10",
                                    "Utolsó foglalas": "2016-10-16"
                                },
                                {
                                    "usernev": "anett3",
                                    "nev": "Pivarcsi Anett",
                                    "SZUL_DAT": "1967-01-03",
                                    "Első foglalas": "2016-04-10",
                                    "Utolsó foglalas": "2016-10-16"
                                },
                                {
                                    "usernev": "anett3",
                                    "nev": "Pivarcsi Anett",
                                    "SZUL_DAT": "1967-01-03",
                                    "Első foglalas": "2016-04-10",
                                    "Utolsó foglalas": "2016-10-16"
                                },
                                {
                                    "usernev": "anett3",
                                    "nev": "Pivarcsi Anett",
                                    "SZUL_DAT": "1967-01-03",
                                    "Első foglalas": "2016-04-10",
                                    "Utolsó foglalas": "2016-10-16"
                                },
                                {
                                    "usernev": "anett3",
                                    "nev": "Pivarcsi Anett",
                                    "SZUL_DAT": "1967-01-03",
                                    "Első foglalas": "2016-04-10",
                                    "Utolsó foglalas": "2016-10-16"
                                },
                                {
                                    "usernev": "anett3",
                                    "nev": "Pivarcsi Anett",
                                    "SZUL_DAT": "1967-01-03",
                                    "Első foglalas": "2016-04-10",
                                    "Utolsó foglalas": "2016-10-16"
                                },
                                {
                                    "usernev": "anett3",
                                    "nev": "Pivarcsi Anett",
                                    "SZUL_DAT": "1967-01-03",
                                    "Első foglalas": "2016-04-10",
                                    "Utolsó foglalas": "2016-10-16"
                                },
                                {
                                    "usernev": "anett3",
                                    "nev": "Pivarcsi Anett",
                                    "SZUL_DAT": "1967-01-03",
                                    "Első foglalas": "2016-04-10",
                                    "Utolsó foglalas": "2016-10-16"
                                },
                                {
                                    "usernev": "aniko",
                                    "nev": "Tóth Anikó",
                                    "SZUL_DAT": "1973-06-03",
                                    "Első foglalas": "2016-06-25",
                                    "Utolsó foglalas": "2017-02-23"
                                },
                                {
                                    "usernev": "aniko",
                                    "nev": "Tóth Anikó",
                                    "SZUL_DAT": "1973-06-03",
                                    "Első foglalas": "2016-06-25",
                                    "Utolsó foglalas": "2017-02-23"
                                },
                                {
                                    "usernev": "aniko",
                                    "nev": "Tóth Anikó",
                                    "SZUL_DAT": "1973-06-03",
                                    "Első foglalas": "2016-06-25",
                                    "Utolsó foglalas": "2017-02-23"
                                },
                                {
                                    "usernev": "aniko4",
                                    "nev": "Böröcz Anikó",
                                    "SZUL_DAT": "1978-03-26",
                                    "Első foglalas": "2016-07-02",
                                    "Utolsó foglalas": "2016-10-16"
                                },
                                {
                                    "usernev": "aniko4",
                                    "nev": "Böröcz Anikó",
                                    "SZUL_DAT": "1978-03-26",
                                    "Első foglalas": "2016-07-02",
                                    "Utolsó foglalas": "2016-10-16"
                                },
                                {
                                    "usernev": "aniko4",
                                    "nev": "Böröcz Anikó",
                                    "SZUL_DAT": "1978-03-26",
                                    "Első foglalas": "2016-07-02",
                                    "Utolsó foglalas": "2016-10-16"
                                },
                                {
                                    "usernev": "aniko4",
                                    "nev": "Böröcz Anikó",
                                    "SZUL_DAT": "1978-03-26",
                                    "Első foglalas": "2016-07-02",
                                    "Utolsó foglalas": "2016-10-16"
                                },
                                {
                                    "usernev": "ANIKOS",
                                    "nev": "Simon Anikó",
                                    "SZUL_DAT": "1988-12-14",
                                    "Első foglalas": "2016-04-19",
                                    "Utolsó foglalas": "2016-11-10"
                                },
                                {
                                    "usernev": "ANIKOS",
                                    "nev": "Simon Anikó",
                                    "SZUL_DAT": "1988-12-14",
                                    "Első foglalas": "2016-04-19",
                                    "Utolsó foglalas": "2016-11-10"
                                },
                                {
                                    "usernev": "ANIKOS",
                                    "nev": "Simon Anikó",
                                    "SZUL_DAT": "1988-12-14",
                                    "Első foglalas": "2016-04-19",
                                    "Utolsó foglalas": "2016-11-10"
                                },
                                {
                                    "usernev": "ANIKOS",
                                    "nev": "Simon Anikó",
                                    "SZUL_DAT": "1988-12-14",
                                    "Első foglalas": "2016-04-19",
                                    "Utolsó foglalas": "2016-11-10"
                                },
                                {
                                    "usernev": "ANIKOS",
                                    "nev": "Simon Anikó",
                                    "SZUL_DAT": "1988-12-14",
                                    "Első foglalas": "2016-04-19",
                                    "Utolsó foglalas": "2016-11-10"
                                },
                                {
                                    "usernev": "ANIKOS",
                                    "nev": "Simon Anikó",
                                    "SZUL_DAT": "1988-12-14",
                                    "Első foglalas": "2016-04-19",
                                    "Utolsó foglalas": "2016-11-10"
                                },
                                {
                                    "usernev": "ANIKOS",
                                    "nev": "Simon Anikó",
                                    "SZUL_DAT": "1988-12-14",
                                    "Első foglalas": "2016-04-19",
                                    "Utolsó foglalas": "2016-11-10"
                                },
                                {
                                    "usernev": "ANIKOS",
                                    "nev": "Simon Anikó",
                                    "SZUL_DAT": "1988-12-14",
                                    "Első foglalas": "2016-04-19",
                                    "Utolsó foglalas": "2016-11-10"
                                },
                                {
                                    "usernev": "ANIKOS",
                                    "nev": "Simon Anikó",
                                    "SZUL_DAT": "1988-12-14",
                                    "Első foglalas": "2016-04-19",
                                    "Utolsó foglalas": "2016-11-10"
                                },
                                {
                                    "usernev": "anita",
                                    "nev": "Hamvay-Kovács Anita",
                                    "SZUL_DAT": "1971-03-20",
                                    "Első foglalas": "2016-09-28",
                                    "Utolsó foglalas": "2017-02-20"
                                },
                                {
                                    "usernev": "anita",
                                    "nev": "Hamvay-Kovács Anita",
                                    "SZUL_DAT": "1971-03-20",
                                    "Első foglalas": "2016-09-28",
                                    "Utolsó foglalas": "2017-02-20"
                                },
                                {
                                    "usernev": "anita",
                                    "nev": "Hamvay-Kovács Anita",
                                    "SZUL_DAT": "1971-03-20",
                                    "Első foglalas": "2016-09-28",
                                    "Utolsó foglalas": "2017-02-20"
                                },
                                {
                                    "usernev": "anita",
                                    "nev": "Hamvay-Kovács Anita",
                                    "SZUL_DAT": "1971-03-20",
                                    "Első foglalas": "2016-09-28",
                                    "Utolsó foglalas": "2017-02-20"
                                },
                                {
                                    "usernev": "annamaria1",
                                    "nev": "Szűcs Annamária",
                                    "SZUL_DAT": "1990-04-27",
                                    "Első foglalas": "2016-06-06",
                                    "Utolsó foglalas": "2017-01-30"
                                },
                                {
                                    "usernev": "annamaria1",
                                    "nev": "Szűcs Annamária",
                                    "SZUL_DAT": "1990-04-27",
                                    "Első foglalas": "2016-06-06",
                                    "Utolsó foglalas": "2017-01-30"
                                },
                                {
                                    "usernev": "ANNAMARIAR",
                                    "nev": "Regős Annamária",
                                    "SZUL_DAT": "1977-09-26",
                                    "Első foglalas": "2016-06-08",
                                    "Utolsó foglalas": "2017-02-16"
                                },
                                {
                                    "usernev": "ANNAMARIAR",
                                    "nev": "Regős Annamária",
                                    "SZUL_DAT": "1977-09-26",
                                    "Első foglalas": "2016-06-08",
                                    "Utolsó foglalas": "2017-02-16"
                                },
                                {
                                    "usernev": "ANNAMARIAR",
                                    "nev": "Regős Annamária",
                                    "SZUL_DAT": "1977-09-26",
                                    "Első foglalas": "2016-06-08",
                                    "Utolsó foglalas": "2017-02-16"
                                },
                                {
                                    "usernev": "ANNAMARIAR",
                                    "nev": "Regős Annamária",
                                    "SZUL_DAT": "1977-09-26",
                                    "Első foglalas": "2016-06-08",
                                    "Utolsó foglalas": "2017-02-16"
                                },
                                {
                                    "usernev": "ANNAMARIAR",
                                    "nev": "Regős Annamária",
                                    "SZUL_DAT": "1977-09-26",
                                    "Első foglalas": "2016-06-08",
                                    "Utolsó foglalas": "2017-02-16"
                                },
                                {
                                    "usernev": "ANNAMARIAR",
                                    "nev": "Regős Annamária",
                                    "SZUL_DAT": "1977-09-26",
                                    "Első foglalas": "2016-06-08",
                                    "Utolsó foglalas": "2017-02-16"
                                },
                                {
                                    "usernev": "aron2",
                                    "nev": "Jakab Áron",
                                    "SZUL_DAT": "1971-04-26",
                                    "Első foglalas": "2016-04-11",
                                    "Utolsó foglalas": "2017-02-26"
                                },
                                {
                                    "usernev": "aron2",
                                    "nev": "Jakab Áron",
                                    "SZUL_DAT": "1971-04-26",
                                    "Első foglalas": "2016-04-11",
                                    "Utolsó foglalas": "2017-02-26"
                                },
                                {
                                    "usernev": "aron2",
                                    "nev": "Jakab Áron",
                                    "SZUL_DAT": "1971-04-26",
                                    "Első foglalas": "2016-04-11",
                                    "Utolsó foglalas": "2017-02-26"
                                },
                                {
                                    "usernev": "aron2",
                                    "nev": "Jakab Áron",
                                    "SZUL_DAT": "1971-04-26",
                                    "Első foglalas": "2016-04-11",
                                    "Utolsó foglalas": "2017-02-26"
                                },
                                {
                                    "usernev": "aron2",
                                    "nev": "Jakab Áron",
                                    "SZUL_DAT": "1971-04-26",
                                    "Első foglalas": "2016-04-11",
                                    "Utolsó foglalas": "2017-02-26"
                                },
                                {
                                    "usernev": "aron2",
                                    "nev": "Jakab Áron",
                                    "SZUL_DAT": "1971-04-26",
                                    "Első foglalas": "2016-04-11",
                                    "Utolsó foglalas": "2017-02-26"
                                },
                                {
                                    "usernev": "ARONK",
                                    "nev": "Kelemen Áron",
                                    "SZUL_DAT": "1989-08-10",
                                    "Első foglalas": "2016-04-06",
                                    "Utolsó foglalas": "2017-02-21"
                                },
                                {
                                    "usernev": "ARONK",
                                    "nev": "Kelemen Áron",
                                    "SZUL_DAT": "1989-08-10",
                                    "Első foglalas": "2016-04-06",
                                    "Utolsó foglalas": "2017-02-21"
                                },
                                {
                                    "usernev": "ARONK",
                                    "nev": "Kelemen Áron",
                                    "SZUL_DAT": "1989-08-10",
                                    "Első foglalas": "2016-04-06",
                                    "Utolsó foglalas": "2017-02-21"
                                },
                                {
                                    "usernev": "ARONK",
                                    "nev": "Kelemen Áron",
                                    "SZUL_DAT": "1989-08-10",
                                    "Első foglalas": "2016-04-06",
                                    "Utolsó foglalas": "2017-02-21"
                                },
                                {
                                    "usernev": "ARONK",
                                    "nev": "Kelemen Áron",
                                    "SZUL_DAT": "1989-08-10",
                                    "Első foglalas": "2016-04-06",
                                    "Utolsó foglalas": "2017-02-21"
                                },
                                {
                                    "usernev": "ARONK",
                                    "nev": "Kelemen Áron",
                                    "SZUL_DAT": "1989-08-10",
                                    "Első foglalas": "2016-04-06",
                                    "Utolsó foglalas": "2017-02-21"
                                },
                                {
                                    "usernev": "ARONK",
                                    "nev": "Kelemen Áron",
                                    "SZUL_DAT": "1989-08-10",
                                    "Első foglalas": "2016-04-06",
                                    "Utolsó foglalas": "2017-02-21"
                                },
                                {
                                    "usernev": "ARONK",
                                    "nev": "Kelemen Áron",
                                    "SZUL_DAT": "1989-08-10",
                                    "Első foglalas": "2016-04-06",
                                    "Utolsó foglalas": "2017-02-21"
                                },
                                {
                                    "usernev": "ARONK",
                                    "nev": "Kelemen Áron",
                                    "SZUL_DAT": "1989-08-10",
                                    "Első foglalas": "2016-04-06",
                                    "Utolsó foglalas": "2017-02-21"
                                },
                                {
                                    "usernev": "ARONK",
                                    "nev": "Kelemen Áron",
                                    "SZUL_DAT": "1989-08-10",
                                    "Első foglalas": "2016-04-06",
                                    "Utolsó foglalas": "2017-02-21"
                                },
                                {
                                    "usernev": "ARONK",
                                    "nev": "Kelemen Áron",
                                    "SZUL_DAT": "1989-08-10",
                                    "Első foglalas": "2016-04-06",
                                    "Utolsó foglalas": "2017-02-21"
                                },
                                {
                                    "usernev": "ARONK",
                                    "nev": "Kelemen Áron",
                                    "SZUL_DAT": "1989-08-10",
                                    "Első foglalas": "2016-04-06",
                                    "Utolsó foglalas": "2017-02-21"
                                },
                                {
                                    "usernev": "ARONK",
                                    "nev": "Kelemen Áron",
                                    "SZUL_DAT": "1989-08-10",
                                    "Első foglalas": "2016-04-06",
                                    "Utolsó foglalas": "2017-02-21"
                                },
                                {
                                    "usernev": "arpad2",
                                    "nev": "Ötvös Árpád",
                                    "SZUL_DAT": "1990-06-08",
                                    "Első foglalas": "2016-06-05",
                                    "Utolsó foglalas": "2017-02-18"
                                },
                                {
                                    "usernev": "arpad2",
                                    "nev": "Ötvös Árpád",
                                    "SZUL_DAT": "1990-06-08",
                                    "Első foglalas": "2016-06-05",
                                    "Utolsó foglalas": "2017-02-18"
                                },
                                {
                                    "usernev": "arpad2",
                                    "nev": "Ötvös Árpád",
                                    "SZUL_DAT": "1990-06-08",
                                    "Első foglalas": "2016-06-05",
                                    "Utolsó foglalas": "2017-02-18"
                                },
                                {
                                    "usernev": "arpad2",
                                    "nev": "Ötvös Árpád",
                                    "SZUL_DAT": "1990-06-08",
                                    "Első foglalas": "2016-06-05",
                                    "Utolsó foglalas": "2017-02-18"
                                },
                                {
                                    "usernev": "arpad2",
                                    "nev": "Ötvös Árpád",
                                    "SZUL_DAT": "1990-06-08",
                                    "Első foglalas": "2016-06-05",
                                    "Utolsó foglalas": "2017-02-18"
                                },
                                {
                                    "usernev": "arpad2",
                                    "nev": "Ötvös Árpád",
                                    "SZUL_DAT": "1990-06-08",
                                    "Első foglalas": "2016-06-05",
                                    "Utolsó foglalas": "2017-02-18"
                                },
                                {
                                    "usernev": "arpad2",
                                    "nev": "Ötvös Árpád",
                                    "SZUL_DAT": "1990-06-08",
                                    "Első foglalas": "2016-06-05",
                                    "Utolsó foglalas": "2017-02-18"
                                },
                                {
                                    "usernev": "ARPADH",
                                    "nev": "Horváth Árpád",
                                    "SZUL_DAT": "1990-05-18",
                                    "Első foglalas": "2016-06-06",
                                    "Utolsó foglalas": "2017-02-16"
                                },
                                {
                                    "usernev": "ARPADH",
                                    "nev": "Horváth Árpád",
                                    "SZUL_DAT": "1990-05-18",
                                    "Első foglalas": "2016-06-06",
                                    "Utolsó foglalas": "2017-02-16"
                                },
                                {
                                    "usernev": "ARPADH",
                                    "nev": "Horváth Árpád",
                                    "SZUL_DAT": "1990-05-18",
                                    "Első foglalas": "2016-06-06",
                                    "Utolsó foglalas": "2017-02-16"
                                },
                                {
                                    "usernev": "ARPADH",
                                    "nev": "Horváth Árpád",
                                    "SZUL_DAT": "1990-05-18",
                                    "Első foglalas": "2016-06-06",
                                    "Utolsó foglalas": "2017-02-16"
                                },
                                {
                                    "usernev": "ARPADH",
                                    "nev": "Horváth Árpád",
                                    "SZUL_DAT": "1990-05-18",
                                    "Első foglalas": "2016-06-06",
                                    "Utolsó foglalas": "2017-02-16"
                                },
                                {
                                    "usernev": "ARPADH",
                                    "nev": "Horváth Árpád",
                                    "SZUL_DAT": "1990-05-18",
                                    "Első foglalas": "2016-06-06",
                                    "Utolsó foglalas": "2017-02-16"
                                },
                                {
                                    "usernev": "ARPADH",
                                    "nev": "Horváth Árpád",
                                    "SZUL_DAT": "1990-05-18",
                                    "Első foglalas": "2016-06-06",
                                    "Utolsó foglalas": "2017-02-16"
                                },
                                {
                                    "usernev": "ARPADM",
                                    "nev": "Móricz Árpád",
                                    "SZUL_DAT": "1986-04-20",
                                    "Első foglalas": "2016-05-29",
                                    "Utolsó foglalas": "2017-02-12"
                                },
                                {
                                    "usernev": "ARPADM",
                                    "nev": "Móricz Árpád",
                                    "SZUL_DAT": "1986-04-20",
                                    "Első foglalas": "2016-05-29",
                                    "Utolsó foglalas": "2017-02-12"
                                },
                                {
                                    "usernev": "ARPADM",
                                    "nev": "Móricz Árpád",
                                    "SZUL_DAT": "1986-04-20",
                                    "Első foglalas": "2016-05-29",
                                    "Utolsó foglalas": "2017-02-12"
                                },
                                {
                                    "usernev": "ARPADM",
                                    "nev": "Móricz Árpád",
                                    "SZUL_DAT": "1986-04-20",
                                    "Első foglalas": "2016-05-29",
                                    "Utolsó foglalas": "2017-02-12"
                                },
                                {
                                    "usernev": "ARPADM",
                                    "nev": "Móricz Árpád",
                                    "SZUL_DAT": "1986-04-20",
                                    "Első foglalas": "2016-05-29",
                                    "Utolsó foglalas": "2017-02-12"
                                },
                                {
                                    "usernev": "ARPADM",
                                    "nev": "Móricz Árpád",
                                    "SZUL_DAT": "1986-04-20",
                                    "Első foglalas": "2016-05-29",
                                    "Utolsó foglalas": "2017-02-12"
                                },
                                {
                                    "usernev": "attila",
                                    "nev": "Csóti Attila",
                                    "SZUL_DAT": "1979-12-25",
                                    "Első foglalas": "2016-09-30",
                                    "Utolsó foglalas": "2016-12-22"
                                },
                                {
                                    "usernev": "attila",
                                    "nev": "Csóti Attila",
                                    "SZUL_DAT": "1979-12-25",
                                    "Első foglalas": "2016-09-30",
                                    "Utolsó foglalas": "2016-12-22"
                                },
                                {
                                    "usernev": "attila",
                                    "nev": "Csóti Attila",
                                    "SZUL_DAT": "1979-12-25",
                                    "Első foglalas": "2016-09-30",
                                    "Utolsó foglalas": "2016-12-22"
                                },
                                {
                                    "usernev": "attila1",
                                    "nev": "Gulyás Attila",
                                    "SZUL_DAT": "1982-08-16",
                                    "Első foglalas": "2016-05-20",
                                    "Utolsó foglalas": "2017-01-23"
                                },
                                {
                                    "usernev": "attila1",
                                    "nev": "Gulyás Attila",
                                    "SZUL_DAT": "1982-08-16",
                                    "Első foglalas": "2016-05-20",
                                    "Utolsó foglalas": "2017-01-23"
                                },
                                {
                                    "usernev": "attila1",
                                    "nev": "Gulyás Attila",
                                    "SZUL_DAT": "1982-08-16",
                                    "Első foglalas": "2016-05-20",
                                    "Utolsó foglalas": "2017-01-23"
                                },
                                {
                                    "usernev": "attila1",
                                    "nev": "Gulyás Attila",
                                    "SZUL_DAT": "1982-08-16",
                                    "Első foglalas": "2016-05-20",
                                    "Utolsó foglalas": "2017-01-23"
                                },
                                {
                                    "usernev": "attila1",
                                    "nev": "Gulyás Attila",
                                    "SZUL_DAT": "1982-08-16",
                                    "Első foglalas": "2016-05-20",
                                    "Utolsó foglalas": "2017-01-23"
                                },
                                {
                                    "usernev": "attila1",
                                    "nev": "Gulyás Attila",
                                    "SZUL_DAT": "1982-08-16",
                                    "Első foglalas": "2016-05-20",
                                    "Utolsó foglalas": "2017-01-23"
                                },
                                {
                                    "usernev": "attila4",
                                    "nev": "Baróti Attila",
                                    "SZUL_DAT": "1975-11-06",
                                    "Első foglalas": "2016-08-18",
                                    "Utolsó foglalas": "2017-02-15"
                                },
                                {
                                    "usernev": "attila4",
                                    "nev": "Baróti Attila",
                                    "SZUL_DAT": "1975-11-06",
                                    "Első foglalas": "2016-08-18",
                                    "Utolsó foglalas": "2017-02-15"
                                },
                                {
                                    "usernev": "attila4",
                                    "nev": "Baróti Attila",
                                    "SZUL_DAT": "1975-11-06",
                                    "Első foglalas": "2016-08-18",
                                    "Utolsó foglalas": "2017-02-15"
                                },
                                {
                                    "usernev": "ATTILAO",
                                    "nev": "Opra Attila",
                                    "SZUL_DAT": "1995-05-08",
                                    "Első foglalas": "2016-05-21",
                                    "Utolsó foglalas": "2017-02-22"
                                },
                                {
                                    "usernev": "ATTILAO",
                                    "nev": "Opra Attila",
                                    "SZUL_DAT": "1995-05-08",
                                    "Első foglalas": "2016-05-21",
                                    "Utolsó foglalas": "2017-02-22"
                                },
                                {
                                    "usernev": "ATTILAO",
                                    "nev": "Opra Attila",
                                    "SZUL_DAT": "1995-05-08",
                                    "Első foglalas": "2016-05-21",
                                    "Utolsó foglalas": "2017-02-22"
                                },
                                {
                                    "usernev": "ATTILAO",
                                    "nev": "Opra Attila",
                                    "SZUL_DAT": "1995-05-08",
                                    "Első foglalas": "2016-05-21",
                                    "Utolsó foglalas": "2017-02-22"
                                },
                                {
                                    "usernev": "balazs1",
                                    "nev": "Bozsik Balázs",
                                    "SZUL_DAT": "1992-11-03",
                                    "Első foglalas": "2016-05-07",
                                    "Utolsó foglalas": "2017-02-12"
                                },
                                {
                                    "usernev": "balazs1",
                                    "nev": "Bozsik Balázs",
                                    "SZUL_DAT": "1992-11-03",
                                    "Első foglalas": "2016-05-07",
                                    "Utolsó foglalas": "2017-02-12"
                                },
                                {
                                    "usernev": "balazs1",
                                    "nev": "Bozsik Balázs",
                                    "SZUL_DAT": "1992-11-03",
                                    "Első foglalas": "2016-05-07",
                                    "Utolsó foglalas": "2017-02-12"
                                },
                                {
                                    "usernev": "balazs1",
                                    "nev": "Bozsik Balázs",
                                    "SZUL_DAT": "1992-11-03",
                                    "Első foglalas": "2016-05-07",
                                    "Utolsó foglalas": "2017-02-12"
                                },
                                {
                                    "usernev": "balazs1",
                                    "nev": "Bozsik Balázs",
                                    "SZUL_DAT": "1992-11-03",
                                    "Első foglalas": "2016-05-07",
                                    "Utolsó foglalas": "2017-02-12"
                                },
                                {
                                    "usernev": "balazs1",
                                    "nev": "Bozsik Balázs",
                                    "SZUL_DAT": "1992-11-03",
                                    "Első foglalas": "2016-05-07",
                                    "Utolsó foglalas": "2017-02-12"
                                },
                                {
                                    "usernev": "balazs2",
                                    "nev": "Szűcs Balázs",
                                    "SZUL_DAT": "1984-10-31",
                                    "Első foglalas": "2016-04-16",
                                    "Utolsó foglalas": "2017-02-27"
                                },
                                {
                                    "usernev": "balazs2",
                                    "nev": "Szűcs Balázs",
                                    "SZUL_DAT": "1984-10-31",
                                    "Első foglalas": "2016-04-16",
                                    "Utolsó foglalas": "2017-02-27"
                                },
                                {
                                    "usernev": "balazs2",
                                    "nev": "Szűcs Balázs",
                                    "SZUL_DAT": "1984-10-31",
                                    "Első foglalas": "2016-04-16",
                                    "Utolsó foglalas": "2017-02-27"
                                },
                                {
                                    "usernev": "balazs2",
                                    "nev": "Szűcs Balázs",
                                    "SZUL_DAT": "1984-10-31",
                                    "Első foglalas": "2016-04-16",
                                    "Utolsó foglalas": "2017-02-27"
                                },
                                {
                                    "usernev": "balazs2",
                                    "nev": "Szűcs Balázs",
                                    "SZUL_DAT": "1984-10-31",
                                    "Első foglalas": "2016-04-16",
                                    "Utolsó foglalas": "2017-02-27"
                                },
                                {
                                    "usernev": "balazs2",
                                    "nev": "Szűcs Balázs",
                                    "SZUL_DAT": "1984-10-31",
                                    "Első foglalas": "2016-04-16",
                                    "Utolsó foglalas": "2017-02-27"
                                },
                                {
                                    "usernev": "balazs2",
                                    "nev": "Szűcs Balázs",
                                    "SZUL_DAT": "1984-10-31",
                                    "Első foglalas": "2016-04-16",
                                    "Utolsó foglalas": "2017-02-27"
                                },
                                {
                                    "usernev": "balazs2",
                                    "nev": "Szűcs Balázs",
                                    "SZUL_DAT": "1984-10-31",
                                    "Első foglalas": "2016-04-16",
                                    "Utolsó foglalas": "2017-02-27"
                                },
                                {
                                    "usernev": "balazs2",
                                    "nev": "Szűcs Balázs",
                                    "SZUL_DAT": "1984-10-31",
                                    "Első foglalas": "2016-04-16",
                                    "Utolsó foglalas": "2017-02-27"
                                },
                                {
                                    "usernev": "balazs2",
                                    "nev": "Szűcs Balázs",
                                    "SZUL_DAT": "1984-10-31",
                                    "Első foglalas": "2016-04-16",
                                    "Utolsó foglalas": "2017-02-27"
                                },
                                {
                                    "usernev": "balazs3",
                                    "nev": "Bakódy Balázs",
                                    "SZUL_DAT": "1986-09-09",
                                    "Első foglalas": "2016-07-17",
                                    "Utolsó foglalas": "2017-01-20"
                                },
                                {
                                    "usernev": "balazs3",
                                    "nev": "Bakódy Balázs",
                                    "SZUL_DAT": "1986-09-09",
                                    "Első foglalas": "2016-07-17",
                                    "Utolsó foglalas": "2017-01-20"
                                },
                                {
                                    "usernev": "balazs3",
                                    "nev": "Bakódy Balázs",
                                    "SZUL_DAT": "1986-09-09",
                                    "Első foglalas": "2016-07-17",
                                    "Utolsó foglalas": "2017-01-20"
                                },
                                {
                                    "usernev": "balazs3",
                                    "nev": "Bakódy Balázs",
                                    "SZUL_DAT": "1986-09-09",
                                    "Első foglalas": "2016-07-17",
                                    "Utolsó foglalas": "2017-01-20"
                                },
                                {
                                    "usernev": "balazs3",
                                    "nev": "Bakódy Balázs",
                                    "SZUL_DAT": "1986-09-09",
                                    "Első foglalas": "2016-07-17",
                                    "Utolsó foglalas": "2017-01-20"
                                },
                                {
                                    "usernev": "balazs3",
                                    "nev": "Bakódy Balázs",
                                    "SZUL_DAT": "1986-09-09",
                                    "Első foglalas": "2016-07-17",
                                    "Utolsó foglalas": "2017-01-20"
                                },
                                {
                                    "usernev": "balint",
                                    "nev": "Horváth Bálint",
                                    "SZUL_DAT": "1996-03-17",
                                    "Első foglalas": "2016-04-22",
                                    "Utolsó foglalas": "2016-11-24"
                                },
                                {
                                    "usernev": "balint",
                                    "nev": "Horváth Bálint",
                                    "SZUL_DAT": "1996-03-17",
                                    "Első foglalas": "2016-04-22",
                                    "Utolsó foglalas": "2016-11-24"
                                },
                                {
                                    "usernev": "balint",
                                    "nev": "Horváth Bálint",
                                    "SZUL_DAT": "1996-03-17",
                                    "Első foglalas": "2016-04-22",
                                    "Utolsó foglalas": "2016-11-24"
                                },
                                {
                                    "usernev": "balint1",
                                    "nev": "Molnár Bálint",
                                    "SZUL_DAT": "1989-08-24",
                                    "Első foglalas": "2016-06-07",
                                    "Utolsó foglalas": "2017-01-03"
                                },
                                {
                                    "usernev": "balint1",
                                    "nev": "Molnár Bálint",
                                    "SZUL_DAT": "1989-08-24",
                                    "Első foglalas": "2016-06-07",
                                    "Utolsó foglalas": "2017-01-03"
                                },
                                {
                                    "usernev": "balint1",
                                    "nev": "Molnár Bálint",
                                    "SZUL_DAT": "1989-08-24",
                                    "Első foglalas": "2016-06-07",
                                    "Utolsó foglalas": "2017-01-03"
                                },
                                {
                                    "usernev": "balint1",
                                    "nev": "Molnár Bálint",
                                    "SZUL_DAT": "1989-08-24",
                                    "Első foglalas": "2016-06-07",
                                    "Utolsó foglalas": "2017-01-03"
                                },
                                {
                                    "usernev": "balint1",
                                    "nev": "Molnár Bálint",
                                    "SZUL_DAT": "1989-08-24",
                                    "Első foglalas": "2016-06-07",
                                    "Utolsó foglalas": "2017-01-03"
                                },
                                {
                                    "usernev": "balint1",
                                    "nev": "Molnár Bálint",
                                    "SZUL_DAT": "1989-08-24",
                                    "Első foglalas": "2016-06-07",
                                    "Utolsó foglalas": "2017-01-03"
                                },
                                {
                                    "usernev": "balint1",
                                    "nev": "Molnár Bálint",
                                    "SZUL_DAT": "1989-08-24",
                                    "Első foglalas": "2016-06-07",
                                    "Utolsó foglalas": "2017-01-03"
                                },
                                {
                                    "usernev": "balint1",
                                    "nev": "Molnár Bálint",
                                    "SZUL_DAT": "1989-08-24",
                                    "Első foglalas": "2016-06-07",
                                    "Utolsó foglalas": "2017-01-03"
                                },
                                {
                                    "usernev": "balint1",
                                    "nev": "Molnár Bálint",
                                    "SZUL_DAT": "1989-08-24",
                                    "Első foglalas": "2016-06-07",
                                    "Utolsó foglalas": "2017-01-03"
                                },
                                {
                                    "usernev": "balint1",
                                    "nev": "Molnár Bálint",
                                    "SZUL_DAT": "1989-08-24",
                                    "Első foglalas": "2016-06-07",
                                    "Utolsó foglalas": "2017-01-03"
                                },
                                {
                                    "usernev": "balint2",
                                    "nev": "Vukasinovity Bálint",
                                    "SZUL_DAT": "1997-09-03",
                                    "Első foglalas": "2016-07-21",
                                    "Utolsó foglalas": "2016-12-04"
                                },
                                {
                                    "usernev": "balint2",
                                    "nev": "Vukasinovity Bálint",
                                    "SZUL_DAT": "1997-09-03",
                                    "Első foglalas": "2016-07-21",
                                    "Utolsó foglalas": "2016-12-04"
                                },
                                {
                                    "usernev": "balu",
                                    "nev": "Endresz Bálint",
                                    "SZUL_DAT": "1976-08-01",
                                    "Első foglalas": "2016-08-06",
                                    "Utolsó foglalas": "2016-12-22"
                                },
                                {
                                    "usernev": "balu",
                                    "nev": "Endresz Bálint",
                                    "SZUL_DAT": "1976-08-01",
                                    "Első foglalas": "2016-08-06",
                                    "Utolsó foglalas": "2016-12-22"
                                },
                                {
                                    "usernev": "beata4",
                                    "nev": "Bagi Beáta",
                                    "SZUL_DAT": "1994-03-19",
                                    "Első foglalas": "2016-04-20",
                                    "Utolsó foglalas": "2016-10-03"
                                },
                                {
                                    "usernev": "beata4",
                                    "nev": "Bagi Beáta",
                                    "SZUL_DAT": "1994-03-19",
                                    "Első foglalas": "2016-04-20",
                                    "Utolsó foglalas": "2016-10-03"
                                },
                                {
                                    "usernev": "beata4",
                                    "nev": "Bagi Beáta",
                                    "SZUL_DAT": "1994-03-19",
                                    "Első foglalas": "2016-04-20",
                                    "Utolsó foglalas": "2016-10-03"
                                },
                                {
                                    "usernev": "beata4",
                                    "nev": "Bagi Beáta",
                                    "SZUL_DAT": "1994-03-19",
                                    "Első foglalas": "2016-04-20",
                                    "Utolsó foglalas": "2016-10-03"
                                },
                                {
                                    "usernev": "beata4",
                                    "nev": "Bagi Beáta",
                                    "SZUL_DAT": "1994-03-19",
                                    "Első foglalas": "2016-04-20",
                                    "Utolsó foglalas": "2016-10-03"
                                },
                                {
                                    "usernev": "beata4",
                                    "nev": "Bagi Beáta",
                                    "SZUL_DAT": "1994-03-19",
                                    "Első foglalas": "2016-04-20",
                                    "Utolsó foglalas": "2016-10-03"
                                },
                                {
                                    "usernev": "BEATRIXK",
                                    "nev": "Kerényi Beatrix",
                                    "SZUL_DAT": "1972-04-06",
                                    "Első foglalas": "2016-06-10",
                                    "Utolsó foglalas": "2017-02-08"
                                },
                                {
                                    "usernev": "BEATRIXK",
                                    "nev": "Kerényi Beatrix",
                                    "SZUL_DAT": "1972-04-06",
                                    "Első foglalas": "2016-06-10",
                                    "Utolsó foglalas": "2017-02-08"
                                },
                                {
                                    "usernev": "BEATRIXK",
                                    "nev": "Kerényi Beatrix",
                                    "SZUL_DAT": "1972-04-06",
                                    "Első foglalas": "2016-06-10",
                                    "Utolsó foglalas": "2017-02-08"
                                },
                                {
                                    "usernev": "BEATRIXK",
                                    "nev": "Kerényi Beatrix",
                                    "SZUL_DAT": "1972-04-06",
                                    "Első foglalas": "2016-06-10",
                                    "Utolsó foglalas": "2017-02-08"
                                },
                                {
                                    "usernev": "BEATRIXK",
                                    "nev": "Kerényi Beatrix",
                                    "SZUL_DAT": "1972-04-06",
                                    "Első foglalas": "2016-06-10",
                                    "Utolsó foglalas": "2017-02-08"
                                },
                                {
                                    "usernev": "BEATRIXK",
                                    "nev": "Kerényi Beatrix",
                                    "SZUL_DAT": "1972-04-06",
                                    "Első foglalas": "2016-06-10",
                                    "Utolsó foglalas": "2017-02-08"
                                },
                                {
                                    "usernev": "BEATRIXK",
                                    "nev": "Kerényi Beatrix",
                                    "SZUL_DAT": "1972-04-06",
                                    "Első foglalas": "2016-06-10",
                                    "Utolsó foglalas": "2017-02-08"
                                },
                                {
                                    "usernev": "BEATRIXK",
                                    "nev": "Kerényi Beatrix",
                                    "SZUL_DAT": "1972-04-06",
                                    "Első foglalas": "2016-06-10",
                                    "Utolsó foglalas": "2017-02-08"
                                },
                                {
                                    "usernev": "BEATRIXK",
                                    "nev": "Kerényi Beatrix",
                                    "SZUL_DAT": "1972-04-06",
                                    "Első foglalas": "2016-06-10",
                                    "Utolsó foglalas": "2017-02-08"
                                },
                                {
                                    "usernev": "BEATRIXS",
                                    "nev": "Szekendi Beatrix",
                                    "SZUL_DAT": "1981-04-06",
                                    "Első foglalas": "2016-04-18",
                                    "Utolsó foglalas": "2017-02-03"
                                },
                                {
                                    "usernev": "BEATRIXS",
                                    "nev": "Szekendi Beatrix",
                                    "SZUL_DAT": "1981-04-06",
                                    "Első foglalas": "2016-04-18",
                                    "Utolsó foglalas": "2017-02-03"
                                },
                                {
                                    "usernev": "BEATRIXS",
                                    "nev": "Szekendi Beatrix",
                                    "SZUL_DAT": "1981-04-06",
                                    "Első foglalas": "2016-04-18",
                                    "Utolsó foglalas": "2017-02-03"
                                },
                                {
                                    "usernev": "BEATRIXS",
                                    "nev": "Szekendi Beatrix",
                                    "SZUL_DAT": "1981-04-06",
                                    "Első foglalas": "2016-04-18",
                                    "Utolsó foglalas": "2017-02-03"
                                },
                                {
                                    "usernev": "BEATRIXS",
                                    "nev": "Szekendi Beatrix",
                                    "SZUL_DAT": "1981-04-06",
                                    "Első foglalas": "2016-04-18",
                                    "Utolsó foglalas": "2017-02-03"
                                },
                                {
                                    "usernev": "BEATRIXS",
                                    "nev": "Szekendi Beatrix",
                                    "SZUL_DAT": "1981-04-06",
                                    "Első foglalas": "2016-04-18",
                                    "Utolsó foglalas": "2017-02-03"
                                },
                                {
                                    "usernev": "BELAF",
                                    "nev": "Farkas Béla",
                                    "SZUL_DAT": "1995-02-24",
                                    "Első foglalas": "2016-07-27",
                                    "Utolsó foglalas": "2016-12-06"
                                },
                                {
                                    "usernev": "BELAF",
                                    "nev": "Farkas Béla",
                                    "SZUL_DAT": "1995-02-24",
                                    "Első foglalas": "2016-07-27",
                                    "Utolsó foglalas": "2016-12-06"
                                },
                                {
                                    "usernev": "BELAF",
                                    "nev": "Farkas Béla",
                                    "SZUL_DAT": "1995-02-24",
                                    "Első foglalas": "2016-07-27",
                                    "Utolsó foglalas": "2016-12-06"
                                },
                                {
                                    "usernev": "BELAF",
                                    "nev": "Farkas Béla",
                                    "SZUL_DAT": "1995-02-24",
                                    "Első foglalas": "2016-07-27",
                                    "Utolsó foglalas": "2016-12-06"
                                },
                                {
                                    "usernev": "BELAF",
                                    "nev": "Farkas Béla",
                                    "SZUL_DAT": "1995-02-24",
                                    "Első foglalas": "2016-07-27",
                                    "Utolsó foglalas": "2016-12-06"
                                },
                                {
                                    "usernev": "BELAF",
                                    "nev": "Farkas Béla",
                                    "SZUL_DAT": "1995-02-24",
                                    "Első foglalas": "2016-07-27",
                                    "Utolsó foglalas": "2016-12-06"
                                },
                                {
                                    "usernev": "bence",
                                    "nev": "Győrffy Bence",
                                    "SZUL_DAT": "1987-07-09",
                                    "Első foglalas": "2016-05-08",
                                    "Utolsó foglalas": "2017-02-05"
                                },
                                {
                                    "usernev": "bence",
                                    "nev": "Győrffy Bence",
                                    "SZUL_DAT": "1987-07-09",
                                    "Első foglalas": "2016-05-08",
                                    "Utolsó foglalas": "2017-02-05"
                                },
                                {
                                    "usernev": "bence",
                                    "nev": "Győrffy Bence",
                                    "SZUL_DAT": "1987-07-09",
                                    "Első foglalas": "2016-05-08",
                                    "Utolsó foglalas": "2017-02-05"
                                },
                                {
                                    "usernev": "bence",
                                    "nev": "Győrffy Bence",
                                    "SZUL_DAT": "1987-07-09",
                                    "Első foglalas": "2016-05-08",
                                    "Utolsó foglalas": "2017-02-05"
                                },
                                {
                                    "usernev": "bence",
                                    "nev": "Győrffy Bence",
                                    "SZUL_DAT": "1987-07-09",
                                    "Első foglalas": "2016-05-08",
                                    "Utolsó foglalas": "2017-02-05"
                                },
                                {
                                    "usernev": "bence",
                                    "nev": "Győrffy Bence",
                                    "SZUL_DAT": "1987-07-09",
                                    "Első foglalas": "2016-05-08",
                                    "Utolsó foglalas": "2017-02-05"
                                },
                                {
                                    "usernev": "bence",
                                    "nev": "Győrffy Bence",
                                    "SZUL_DAT": "1987-07-09",
                                    "Első foglalas": "2016-05-08",
                                    "Utolsó foglalas": "2017-02-05"
                                },
                                {
                                    "usernev": "bence",
                                    "nev": "Győrffy Bence",
                                    "SZUL_DAT": "1987-07-09",
                                    "Első foglalas": "2016-05-08",
                                    "Utolsó foglalas": "2017-02-05"
                                },
                                {
                                    "usernev": "bence",
                                    "nev": "Győrffy Bence",
                                    "SZUL_DAT": "1987-07-09",
                                    "Első foglalas": "2016-05-08",
                                    "Utolsó foglalas": "2017-02-05"
                                },
                                {
                                    "usernev": "BENCEB",
                                    "nev": "Bajusz Bence",
                                    "SZUL_DAT": "1973-06-21",
                                    "Első foglalas": "2016-05-14",
                                    "Utolsó foglalas": "2017-02-12"
                                },
                                {
                                    "usernev": "BENCEB",
                                    "nev": "Bajusz Bence",
                                    "SZUL_DAT": "1973-06-21",
                                    "Első foglalas": "2016-05-14",
                                    "Utolsó foglalas": "2017-02-12"
                                },
                                {
                                    "usernev": "BENCEB",
                                    "nev": "Bajusz Bence",
                                    "SZUL_DAT": "1973-06-21",
                                    "Első foglalas": "2016-05-14",
                                    "Utolsó foglalas": "2017-02-12"
                                },
                                {
                                    "usernev": "BENCEB",
                                    "nev": "Bajusz Bence",
                                    "SZUL_DAT": "1973-06-21",
                                    "Első foglalas": "2016-05-14",
                                    "Utolsó foglalas": "2017-02-12"
                                },
                                {
                                    "usernev": "BENCEB",
                                    "nev": "Bajusz Bence",
                                    "SZUL_DAT": "1973-06-21",
                                    "Első foglalas": "2016-05-14",
                                    "Utolsó foglalas": "2017-02-12"
                                },
                                {
                                    "usernev": "BENCEB",
                                    "nev": "Bajusz Bence",
                                    "SZUL_DAT": "1973-06-21",
                                    "Első foglalas": "2016-05-14",
                                    "Utolsó foglalas": "2017-02-12"
                                },
                                {
                                    "usernev": "bernadett1",
                                    "nev": "Simon Bernadett",
                                    "SZUL_DAT": "1984-10-13",
                                    "Első foglalas": "2016-06-12",
                                    "Utolsó foglalas": "2017-02-24"
                                },
                                {
                                    "usernev": "bernadett1",
                                    "nev": "Simon Bernadett",
                                    "SZUL_DAT": "1984-10-13",
                                    "Első foglalas": "2016-06-12",
                                    "Utolsó foglalas": "2017-02-24"
                                },
                                {
                                    "usernev": "bernadett1",
                                    "nev": "Simon Bernadett",
                                    "SZUL_DAT": "1984-10-13",
                                    "Első foglalas": "2016-06-12",
                                    "Utolsó foglalas": "2017-02-24"
                                },
                                {
                                    "usernev": "bernadett1",
                                    "nev": "Simon Bernadett",
                                    "SZUL_DAT": "1984-10-13",
                                    "Első foglalas": "2016-06-12",
                                    "Utolsó foglalas": "2017-02-24"
                                },
                                {
                                    "usernev": "bernadett1",
                                    "nev": "Simon Bernadett",
                                    "SZUL_DAT": "1984-10-13",
                                    "Első foglalas": "2016-06-12",
                                    "Utolsó foglalas": "2017-02-24"
                                },
                                {
                                    "usernev": "bernadett1",
                                    "nev": "Simon Bernadett",
                                    "SZUL_DAT": "1984-10-13",
                                    "Első foglalas": "2016-06-12",
                                    "Utolsó foglalas": "2017-02-24"
                                },
                                {
                                    "usernev": "bernadett1",
                                    "nev": "Simon Bernadett",
                                    "SZUL_DAT": "1984-10-13",
                                    "Első foglalas": "2016-06-12",
                                    "Utolsó foglalas": "2017-02-24"
                                },
                                {
                                    "usernev": "bernadett2",
                                    "nev": "Kovács Bernadett",
                                    "SZUL_DAT": "1996-08-20",
                                    "Első foglalas": "2016-05-01",
                                    "Utolsó foglalas": "2017-01-24"
                                },
                                {
                                    "usernev": "bernadett2",
                                    "nev": "Kovács Bernadett",
                                    "SZUL_DAT": "1996-08-20",
                                    "Első foglalas": "2016-05-01",
                                    "Utolsó foglalas": "2017-01-24"
                                },
                                {
                                    "usernev": "bernadett2",
                                    "nev": "Kovács Bernadett",
                                    "SZUL_DAT": "1996-08-20",
                                    "Első foglalas": "2016-05-01",
                                    "Utolsó foglalas": "2017-01-24"
                                },
                                {
                                    "usernev": "bernadett2",
                                    "nev": "Kovács Bernadett",
                                    "SZUL_DAT": "1996-08-20",
                                    "Első foglalas": "2016-05-01",
                                    "Utolsó foglalas": "2017-01-24"
                                },
                                {
                                    "usernev": "bernadett2",
                                    "nev": "Kovács Bernadett",
                                    "SZUL_DAT": "1996-08-20",
                                    "Első foglalas": "2016-05-01",
                                    "Utolsó foglalas": "2017-01-24"
                                },
                                {
                                    "usernev": "bernadett2",
                                    "nev": "Kovács Bernadett",
                                    "SZUL_DAT": "1996-08-20",
                                    "Első foglalas": "2016-05-01",
                                    "Utolsó foglalas": "2017-01-24"
                                },
                                {
                                    "usernev": "bernadett2",
                                    "nev": "Kovács Bernadett",
                                    "SZUL_DAT": "1996-08-20",
                                    "Első foglalas": "2016-05-01",
                                    "Utolsó foglalas": "2017-01-24"
                                },
                                {
                                    "usernev": "bernadett2",
                                    "nev": "Kovács Bernadett",
                                    "SZUL_DAT": "1996-08-20",
                                    "Első foglalas": "2016-05-01",
                                    "Utolsó foglalas": "2017-01-24"
                                },
                                {
                                    "usernev": "BERNADETTO",
                                    "nev": "Orbán Bernadett",
                                    "SZUL_DAT": "1987-12-07",
                                    "Első foglalas": "2016-04-10",
                                    "Utolsó foglalas": "2017-01-28"
                                },
                                {
                                    "usernev": "BERNADETTO",
                                    "nev": "Orbán Bernadett",
                                    "SZUL_DAT": "1987-12-07",
                                    "Első foglalas": "2016-04-10",
                                    "Utolsó foglalas": "2017-01-28"
                                },
                                {
                                    "usernev": "BERNADETTO",
                                    "nev": "Orbán Bernadett",
                                    "SZUL_DAT": "1987-12-07",
                                    "Első foglalas": "2016-04-10",
                                    "Utolsó foglalas": "2017-01-28"
                                },
                                {
                                    "usernev": "BERNADETTO",
                                    "nev": "Orbán Bernadett",
                                    "SZUL_DAT": "1987-12-07",
                                    "Első foglalas": "2016-04-10",
                                    "Utolsó foglalas": "2017-01-28"
                                },
                                {
                                    "usernev": "BERNADETTO",
                                    "nev": "Orbán Bernadett",
                                    "SZUL_DAT": "1987-12-07",
                                    "Első foglalas": "2016-04-10",
                                    "Utolsó foglalas": "2017-01-28"
                                },
                                {
                                    "usernev": "BERNADETTO",
                                    "nev": "Orbán Bernadett",
                                    "SZUL_DAT": "1987-12-07",
                                    "Első foglalas": "2016-04-10",
                                    "Utolsó foglalas": "2017-01-28"
                                },
                                {
                                    "usernev": "BERNADETTO",
                                    "nev": "Orbán Bernadett",
                                    "SZUL_DAT": "1987-12-07",
                                    "Első foglalas": "2016-04-10",
                                    "Utolsó foglalas": "2017-01-28"
                                },
                                {
                                    "usernev": "bertalan",
                                    "nev": "Csiger Bertalan",
                                    "SZUL_DAT": "1977-10-15",
                                    "Első foglalas": "2016-05-18",
                                    "Utolsó foglalas": "2017-02-20"
                                },
                                {
                                    "usernev": "bertalan",
                                    "nev": "Csiger Bertalan",
                                    "SZUL_DAT": "1977-10-15",
                                    "Első foglalas": "2016-05-18",
                                    "Utolsó foglalas": "2017-02-20"
                                },
                                {
                                    "usernev": "bertalan",
                                    "nev": "Csiger Bertalan",
                                    "SZUL_DAT": "1977-10-15",
                                    "Első foglalas": "2016-05-18",
                                    "Utolsó foglalas": "2017-02-20"
                                },
                                {
                                    "usernev": "bertalan",
                                    "nev": "Csiger Bertalan",
                                    "SZUL_DAT": "1977-10-15",
                                    "Első foglalas": "2016-05-18",
                                    "Utolsó foglalas": "2017-02-20"
                                },
                                {
                                    "usernev": "bertalan",
                                    "nev": "Csiger Bertalan",
                                    "SZUL_DAT": "1977-10-15",
                                    "Első foglalas": "2016-05-18",
                                    "Utolsó foglalas": "2017-02-20"
                                },
                                {
                                    "usernev": "bertalan",
                                    "nev": "Csiger Bertalan",
                                    "SZUL_DAT": "1977-10-15",
                                    "Első foglalas": "2016-05-18",
                                    "Utolsó foglalas": "2017-02-20"
                                },
                                {
                                    "usernev": "brigitta",
                                    "nev": "Székely Brigitta",
                                    "SZUL_DAT": "1978-09-13",
                                    "Első foglalas": "2016-05-30",
                                    "Utolsó foglalas": "2017-01-23"
                                },
                                {
                                    "usernev": "brigitta",
                                    "nev": "Székely Brigitta",
                                    "SZUL_DAT": "1978-09-13",
                                    "Első foglalas": "2016-05-30",
                                    "Utolsó foglalas": "2017-01-23"
                                },
                                {
                                    "usernev": "brigitta",
                                    "nev": "Székely Brigitta",
                                    "SZUL_DAT": "1978-09-13",
                                    "Első foglalas": "2016-05-30",
                                    "Utolsó foglalas": "2017-01-23"
                                },
                                {
                                    "usernev": "brigitta",
                                    "nev": "Székely Brigitta",
                                    "SZUL_DAT": "1978-09-13",
                                    "Első foglalas": "2016-05-30",
                                    "Utolsó foglalas": "2017-01-23"
                                },
                                {
                                    "usernev": "brigitta",
                                    "nev": "Székely Brigitta",
                                    "SZUL_DAT": "1978-09-13",
                                    "Első foglalas": "2016-05-30",
                                    "Utolsó foglalas": "2017-01-23"
                                },
                                {
                                    "usernev": "brigitta3",
                                    "nev": "Pataki Brigitta",
                                    "SZUL_DAT": "1991-05-23",
                                    "Első foglalas": "2016-06-01",
                                    "Utolsó foglalas": "2017-02-09"
                                },
                                {
                                    "usernev": "brigitta3",
                                    "nev": "Pataki Brigitta",
                                    "SZUL_DAT": "1991-05-23",
                                    "Első foglalas": "2016-06-01",
                                    "Utolsó foglalas": "2017-02-09"
                                },
                                {
                                    "usernev": "brigitta3",
                                    "nev": "Pataki Brigitta",
                                    "SZUL_DAT": "1991-05-23",
                                    "Első foglalas": "2016-06-01",
                                    "Utolsó foglalas": "2017-02-09"
                                },
                                {
                                    "usernev": "brigitta3",
                                    "nev": "Pataki Brigitta",
                                    "SZUL_DAT": "1991-05-23",
                                    "Első foglalas": "2016-06-01",
                                    "Utolsó foglalas": "2017-02-09"
                                },
                                {
                                    "usernev": "brigitta3",
                                    "nev": "Pataki Brigitta",
                                    "SZUL_DAT": "1991-05-23",
                                    "Első foglalas": "2016-06-01",
                                    "Utolsó foglalas": "2017-02-09"
                                },
                                {
                                    "usernev": "csongor3",
                                    "nev": "Nagymihály Csongor",
                                    "SZUL_DAT": "1984-03-05",
                                    "Első foglalas": "2016-05-01",
                                    "Utolsó foglalas": "2017-02-13"
                                },
                                {
                                    "usernev": "csongor3",
                                    "nev": "Nagymihály Csongor",
                                    "SZUL_DAT": "1984-03-05",
                                    "Első foglalas": "2016-05-01",
                                    "Utolsó foglalas": "2017-02-13"
                                },
                                {
                                    "usernev": "csongor3",
                                    "nev": "Nagymihály Csongor",
                                    "SZUL_DAT": "1984-03-05",
                                    "Első foglalas": "2016-05-01",
                                    "Utolsó foglalas": "2017-02-13"
                                },
                                {
                                    "usernev": "csongor3",
                                    "nev": "Nagymihály Csongor",
                                    "SZUL_DAT": "1984-03-05",
                                    "Első foglalas": "2016-05-01",
                                    "Utolsó foglalas": "2017-02-13"
                                },
                                {
                                    "usernev": "csongor3",
                                    "nev": "Nagymihály Csongor",
                                    "SZUL_DAT": "1984-03-05",
                                    "Első foglalas": "2016-05-01",
                                    "Utolsó foglalas": "2017-02-13"
                                },
                                {
                                    "usernev": "csongor3",
                                    "nev": "Nagymihály Csongor",
                                    "SZUL_DAT": "1984-03-05",
                                    "Első foglalas": "2016-05-01",
                                    "Utolsó foglalas": "2017-02-13"
                                },
                                {
                                    "usernev": "csongor3",
                                    "nev": "Nagymihály Csongor",
                                    "SZUL_DAT": "1984-03-05",
                                    "Első foglalas": "2016-05-01",
                                    "Utolsó foglalas": "2017-02-13"
                                },
                                {
                                    "usernev": "csongor3",
                                    "nev": "Nagymihály Csongor",
                                    "SZUL_DAT": "1984-03-05",
                                    "Első foglalas": "2016-05-01",
                                    "Utolsó foglalas": "2017-02-13"
                                },
                                {
                                    "usernev": "dani",
                                    "nev": "Vörös Dániel",
                                    "SZUL_DAT": "1986-10-14",
                                    "Első foglalas": "2016-06-06",
                                    "Utolsó foglalas": "2017-02-25"
                                },
                                {
                                    "usernev": "dani",
                                    "nev": "Vörös Dániel",
                                    "SZUL_DAT": "1986-10-14",
                                    "Első foglalas": "2016-06-06",
                                    "Utolsó foglalas": "2017-02-25"
                                },
                                {
                                    "usernev": "dani",
                                    "nev": "Vörös Dániel",
                                    "SZUL_DAT": "1986-10-14",
                                    "Első foglalas": "2016-06-06",
                                    "Utolsó foglalas": "2017-02-25"
                                },
                                {
                                    "usernev": "dani",
                                    "nev": "Vörös Dániel",
                                    "SZUL_DAT": "1986-10-14",
                                    "Első foglalas": "2016-06-06",
                                    "Utolsó foglalas": "2017-02-25"
                                },
                                {
                                    "usernev": "dani",
                                    "nev": "Vörös Dániel",
                                    "SZUL_DAT": "1986-10-14",
                                    "Első foglalas": "2016-06-06",
                                    "Utolsó foglalas": "2017-02-25"
                                },
                                {
                                    "usernev": "dani",
                                    "nev": "Vörös Dániel",
                                    "SZUL_DAT": "1986-10-14",
                                    "Első foglalas": "2016-06-06",
                                    "Utolsó foglalas": "2017-02-25"
                                },
                                {
                                    "usernev": "dani",
                                    "nev": "Vörös Dániel",
                                    "SZUL_DAT": "1986-10-14",
                                    "Első foglalas": "2016-06-06",
                                    "Utolsó foglalas": "2017-02-25"
                                },
                                {
                                    "usernev": "dani",
                                    "nev": "Vörös Dániel",
                                    "SZUL_DAT": "1986-10-14",
                                    "Első foglalas": "2016-06-06",
                                    "Utolsó foglalas": "2017-02-25"
                                },
                                {
                                    "usernev": "dani",
                                    "nev": "Vörös Dániel",
                                    "SZUL_DAT": "1986-10-14",
                                    "Első foglalas": "2016-06-06",
                                    "Utolsó foglalas": "2017-02-25"
                                },
                                {
                                    "usernev": "daniel",
                                    "nev": "Rácz Dániel",
                                    "SZUL_DAT": "1978-11-28",
                                    "Első foglalas": "2016-04-10",
                                    "Utolsó foglalas": "2017-02-20"
                                },
                                {
                                    "usernev": "daniel",
                                    "nev": "Rácz Dániel",
                                    "SZUL_DAT": "1978-11-28",
                                    "Első foglalas": "2016-04-10",
                                    "Utolsó foglalas": "2017-02-20"
                                },
                                {
                                    "usernev": "daniel",
                                    "nev": "Rácz Dániel",
                                    "SZUL_DAT": "1978-11-28",
                                    "Első foglalas": "2016-04-10",
                                    "Utolsó foglalas": "2017-02-20"
                                },
                                {
                                    "usernev": "daniel",
                                    "nev": "Rácz Dániel",
                                    "SZUL_DAT": "1978-11-28",
                                    "Első foglalas": "2016-04-10",
                                    "Utolsó foglalas": "2017-02-20"
                                },
                                {
                                    "usernev": "daniel",
                                    "nev": "Rácz Dániel",
                                    "SZUL_DAT": "1978-11-28",
                                    "Első foglalas": "2016-04-10",
                                    "Utolsó foglalas": "2017-02-20"
                                },
                                {
                                    "usernev": "daniel",
                                    "nev": "Rácz Dániel",
                                    "SZUL_DAT": "1978-11-28",
                                    "Első foglalas": "2016-04-10",
                                    "Utolsó foglalas": "2017-02-20"
                                },
                                {
                                    "usernev": "daniel",
                                    "nev": "Rácz Dániel",
                                    "SZUL_DAT": "1978-11-28",
                                    "Első foglalas": "2016-04-10",
                                    "Utolsó foglalas": "2017-02-20"
                                },
                                {
                                    "usernev": "daniel",
                                    "nev": "Rácz Dániel",
                                    "SZUL_DAT": "1978-11-28",
                                    "Első foglalas": "2016-04-10",
                                    "Utolsó foglalas": "2017-02-20"
                                },
                                {
                                    "usernev": "daniel",
                                    "nev": "Rácz Dániel",
                                    "SZUL_DAT": "1978-11-28",
                                    "Első foglalas": "2016-04-10",
                                    "Utolsó foglalas": "2017-02-20"
                                },
                                {
                                    "usernev": "daniel1",
                                    "nev": "Keszler Dániel",
                                    "SZUL_DAT": "1969-07-16",
                                    "Első foglalas": "2016-04-10",
                                    "Utolsó foglalas": "2017-03-01"
                                },
                                {
                                    "usernev": "daniel1",
                                    "nev": "Keszler Dániel",
                                    "SZUL_DAT": "1969-07-16",
                                    "Első foglalas": "2016-04-10",
                                    "Utolsó foglalas": "2017-03-01"
                                },
                                {
                                    "usernev": "daniel1",
                                    "nev": "Keszler Dániel",
                                    "SZUL_DAT": "1969-07-16",
                                    "Első foglalas": "2016-04-10",
                                    "Utolsó foglalas": "2017-03-01"
                                },
                                {
                                    "usernev": "daniel1",
                                    "nev": "Keszler Dániel",
                                    "SZUL_DAT": "1969-07-16",
                                    "Első foglalas": "2016-04-10",
                                    "Utolsó foglalas": "2017-03-01"
                                },
                                {
                                    "usernev": "daniel1",
                                    "nev": "Keszler Dániel",
                                    "SZUL_DAT": "1969-07-16",
                                    "Első foglalas": "2016-04-10",
                                    "Utolsó foglalas": "2017-03-01"
                                },
                                {
                                    "usernev": "daniel1",
                                    "nev": "Keszler Dániel",
                                    "SZUL_DAT": "1969-07-16",
                                    "Első foglalas": "2016-04-10",
                                    "Utolsó foglalas": "2017-03-01"
                                },
                                {
                                    "usernev": "daniel1",
                                    "nev": "Keszler Dániel",
                                    "SZUL_DAT": "1969-07-16",
                                    "Első foglalas": "2016-04-10",
                                    "Utolsó foglalas": "2017-03-01"
                                },
                                {
                                    "usernev": "david",
                                    "nev": "Ambrus Dávid",
                                    "SZUL_DAT": "1974-02-11",
                                    "Első foglalas": "2016-05-18",
                                    "Utolsó foglalas": "2017-01-18"
                                },
                                {
                                    "usernev": "david",
                                    "nev": "Ambrus Dávid",
                                    "SZUL_DAT": "1974-02-11",
                                    "Első foglalas": "2016-05-18",
                                    "Utolsó foglalas": "2017-01-18"
                                },
                                {
                                    "usernev": "david",
                                    "nev": "Ambrus Dávid",
                                    "SZUL_DAT": "1974-02-11",
                                    "Első foglalas": "2016-05-18",
                                    "Utolsó foglalas": "2017-01-18"
                                },
                                {
                                    "usernev": "david",
                                    "nev": "Ambrus Dávid",
                                    "SZUL_DAT": "1974-02-11",
                                    "Első foglalas": "2016-05-18",
                                    "Utolsó foglalas": "2017-01-18"
                                },
                                {
                                    "usernev": "david",
                                    "nev": "Ambrus Dávid",
                                    "SZUL_DAT": "1974-02-11",
                                    "Első foglalas": "2016-05-18",
                                    "Utolsó foglalas": "2017-01-18"
                                },
                                {
                                    "usernev": "david",
                                    "nev": "Ambrus Dávid",
                                    "SZUL_DAT": "1974-02-11",
                                    "Első foglalas": "2016-05-18",
                                    "Utolsó foglalas": "2017-01-18"
                                },
                                {
                                    "usernev": "david",
                                    "nev": "Ambrus Dávid",
                                    "SZUL_DAT": "1974-02-11",
                                    "Első foglalas": "2016-05-18",
                                    "Utolsó foglalas": "2017-01-18"
                                },
                                {
                                    "usernev": "david",
                                    "nev": "Ambrus Dávid",
                                    "SZUL_DAT": "1974-02-11",
                                    "Első foglalas": "2016-05-18",
                                    "Utolsó foglalas": "2017-01-18"
                                },
                                {
                                    "usernev": "david",
                                    "nev": "Ambrus Dávid",
                                    "SZUL_DAT": "1974-02-11",
                                    "Első foglalas": "2016-05-18",
                                    "Utolsó foglalas": "2017-01-18"
                                },
                                {
                                    "usernev": "david1",
                                    "nev": "Sobják Dávid",
                                    "SZUL_DAT": "1970-08-16",
                                    "Első foglalas": "2016-09-20",
                                    "Utolsó foglalas": "2017-02-25"
                                },
                                {
                                    "usernev": "david1",
                                    "nev": "Sobják Dávid",
                                    "SZUL_DAT": "1970-08-16",
                                    "Első foglalas": "2016-09-20",
                                    "Utolsó foglalas": "2017-02-25"
                                },
                                {
                                    "usernev": "david1",
                                    "nev": "Sobják Dávid",
                                    "SZUL_DAT": "1970-08-16",
                                    "Első foglalas": "2016-09-20",
                                    "Utolsó foglalas": "2017-02-25"
                                },
                                {
                                    "usernev": "david1",
                                    "nev": "Sobják Dávid",
                                    "SZUL_DAT": "1970-08-16",
                                    "Első foglalas": "2016-09-20",
                                    "Utolsó foglalas": "2017-02-25"
                                },
                                {
                                    "usernev": "david1",
                                    "nev": "Sobják Dávid",
                                    "SZUL_DAT": "1970-08-16",
                                    "Első foglalas": "2016-09-20",
                                    "Utolsó foglalas": "2017-02-25"
                                },
                                {
                                    "usernev": "david1",
                                    "nev": "Sobják Dávid",
                                    "SZUL_DAT": "1970-08-16",
                                    "Első foglalas": "2016-09-20",
                                    "Utolsó foglalas": "2017-02-25"
                                },
                                {
                                    "usernev": "david4",
                                    "nev": "Berta Dávid",
                                    "SZUL_DAT": "1990-10-08",
                                    "Első foglalas": "2017-02-16",
                                    "Utolsó foglalas": "2017-02-16"
                                },
                                {
                                    "usernev": "debora",
                                    "nev": "Barna Debóra",
                                    "SZUL_DAT": "1976-10-14",
                                    "Első foglalas": "2016-06-22",
                                    "Utolsó foglalas": "2017-02-04"
                                },
                                {
                                    "usernev": "debora",
                                    "nev": "Barna Debóra",
                                    "SZUL_DAT": "1976-10-14",
                                    "Első foglalas": "2016-06-22",
                                    "Utolsó foglalas": "2017-02-04"
                                },
                                {
                                    "usernev": "debora",
                                    "nev": "Barna Debóra",
                                    "SZUL_DAT": "1976-10-14",
                                    "Első foglalas": "2016-06-22",
                                    "Utolsó foglalas": "2017-02-04"
                                },
                                {
                                    "usernev": "debora",
                                    "nev": "Barna Debóra",
                                    "SZUL_DAT": "1976-10-14",
                                    "Első foglalas": "2016-06-22",
                                    "Utolsó foglalas": "2017-02-04"
                                },
                                {
                                    "usernev": "denes",
                                    "nev": "Tömböly Dénes",
                                    "SZUL_DAT": "1975-03-14",
                                    "Első foglalas": "2016-05-27",
                                    "Utolsó foglalas": "2016-11-06"
                                },
                                {
                                    "usernev": "denes",
                                    "nev": "Tömböly Dénes",
                                    "SZUL_DAT": "1975-03-14",
                                    "Első foglalas": "2016-05-27",
                                    "Utolsó foglalas": "2016-11-06"
                                },
                                {
                                    "usernev": "denes",
                                    "nev": "Tömböly Dénes",
                                    "SZUL_DAT": "1975-03-14",
                                    "Első foglalas": "2016-05-27",
                                    "Utolsó foglalas": "2016-11-06"
                                },
                                {
                                    "usernev": "denes",
                                    "nev": "Tömböly Dénes",
                                    "SZUL_DAT": "1975-03-14",
                                    "Első foglalas": "2016-05-27",
                                    "Utolsó foglalas": "2016-11-06"
                                },
                                {
                                    "usernev": "denes",
                                    "nev": "Tömböly Dénes",
                                    "SZUL_DAT": "1975-03-14",
                                    "Első foglalas": "2016-05-27",
                                    "Utolsó foglalas": "2016-11-06"
                                },
                                {
                                    "usernev": "denes",
                                    "nev": "Tömböly Dénes",
                                    "SZUL_DAT": "1975-03-14",
                                    "Első foglalas": "2016-05-27",
                                    "Utolsó foglalas": "2016-11-06"
                                },
                                {
                                    "usernev": "dora3",
                                    "nev": "Sarodi Dóra",
                                    "SZUL_DAT": "1995-05-18",
                                    "Első foglalas": "2016-08-16",
                                    "Utolsó foglalas": "2016-11-22"
                                },
                                {
                                    "usernev": "dora3",
                                    "nev": "Sarodi Dóra",
                                    "SZUL_DAT": "1995-05-18",
                                    "Első foglalas": "2016-08-16",
                                    "Utolsó foglalas": "2016-11-22"
                                },
                                {
                                    "usernev": "dora3",
                                    "nev": "Sarodi Dóra",
                                    "SZUL_DAT": "1995-05-18",
                                    "Első foglalas": "2016-08-16",
                                    "Utolsó foglalas": "2016-11-22"
                                },
                                {
                                    "usernev": "dora3",
                                    "nev": "Sarodi Dóra",
                                    "SZUL_DAT": "1995-05-18",
                                    "Első foglalas": "2016-08-16",
                                    "Utolsó foglalas": "2016-11-22"
                                },
                                {
                                    "usernev": "dora3",
                                    "nev": "Sarodi Dóra",
                                    "SZUL_DAT": "1995-05-18",
                                    "Első foglalas": "2016-08-16",
                                    "Utolsó foglalas": "2016-11-22"
                                },
                                {
                                    "usernev": "edit",
                                    "nev": "Bittmann Edit",
                                    "SZUL_DAT": "1984-04-20",
                                    "Első foglalas": "2016-07-14",
                                    "Utolsó foglalas": "2017-02-08"
                                },
                                {
                                    "usernev": "edit",
                                    "nev": "Bittmann Edit",
                                    "SZUL_DAT": "1984-04-20",
                                    "Első foglalas": "2016-07-14",
                                    "Utolsó foglalas": "2017-02-08"
                                },
                                {
                                    "usernev": "edit",
                                    "nev": "Bittmann Edit",
                                    "SZUL_DAT": "1984-04-20",
                                    "Első foglalas": "2016-07-14",
                                    "Utolsó foglalas": "2017-02-08"
                                },
                                {
                                    "usernev": "edit",
                                    "nev": "Bittmann Edit",
                                    "SZUL_DAT": "1984-04-20",
                                    "Első foglalas": "2016-07-14",
                                    "Utolsó foglalas": "2017-02-08"
                                },
                                {
                                    "usernev": "edit",
                                    "nev": "Bittmann Edit",
                                    "SZUL_DAT": "1984-04-20",
                                    "Első foglalas": "2016-07-14",
                                    "Utolsó foglalas": "2017-02-08"
                                },
                                {
                                    "usernev": "edit",
                                    "nev": "Bittmann Edit",
                                    "SZUL_DAT": "1984-04-20",
                                    "Első foglalas": "2016-07-14",
                                    "Utolsó foglalas": "2017-02-08"
                                },
                                {
                                    "usernev": "edit",
                                    "nev": "Bittmann Edit",
                                    "SZUL_DAT": "1984-04-20",
                                    "Első foglalas": "2016-07-14",
                                    "Utolsó foglalas": "2017-02-08"
                                },
                                {
                                    "usernev": "emese",
                                    "nev": "Kuruc Emese",
                                    "SZUL_DAT": "1989-08-10",
                                    "Első foglalas": "2016-07-22",
                                    "Utolsó foglalas": "2017-01-30"
                                },
                                {
                                    "usernev": "emese",
                                    "nev": "Kuruc Emese",
                                    "SZUL_DAT": "1989-08-10",
                                    "Első foglalas": "2016-07-22",
                                    "Utolsó foglalas": "2017-01-30"
                                },
                                {
                                    "usernev": "emese",
                                    "nev": "Kuruc Emese",
                                    "SZUL_DAT": "1989-08-10",
                                    "Első foglalas": "2016-07-22",
                                    "Utolsó foglalas": "2017-01-30"
                                },
                                {
                                    "usernev": "emese",
                                    "nev": "Kuruc Emese",
                                    "SZUL_DAT": "1989-08-10",
                                    "Első foglalas": "2016-07-22",
                                    "Utolsó foglalas": "2017-01-30"
                                },
                                {
                                    "usernev": "emese",
                                    "nev": "Kuruc Emese",
                                    "SZUL_DAT": "1989-08-10",
                                    "Első foglalas": "2016-07-22",
                                    "Utolsó foglalas": "2017-01-30"
                                },
                                {
                                    "usernev": "emese",
                                    "nev": "Kuruc Emese",
                                    "SZUL_DAT": "1989-08-10",
                                    "Első foglalas": "2016-07-22",
                                    "Utolsó foglalas": "2017-01-30"
                                },
                                {
                                    "usernev": "emese",
                                    "nev": "Kuruc Emese",
                                    "SZUL_DAT": "1989-08-10",
                                    "Első foglalas": "2016-07-22",
                                    "Utolsó foglalas": "2017-01-30"
                                },
                                {
                                    "usernev": "eszter",
                                    "nev": "Molnár Eszter",
                                    "SZUL_DAT": "1987-05-10",
                                    "Első foglalas": "2016-08-12",
                                    "Utolsó foglalas": "2016-12-23"
                                },
                                {
                                    "usernev": "eszter",
                                    "nev": "Molnár Eszter",
                                    "SZUL_DAT": "1987-05-10",
                                    "Első foglalas": "2016-08-12",
                                    "Utolsó foglalas": "2016-12-23"
                                },
                                {
                                    "usernev": "eszter",
                                    "nev": "Molnár Eszter",
                                    "SZUL_DAT": "1987-05-10",
                                    "Első foglalas": "2016-08-12",
                                    "Utolsó foglalas": "2016-12-23"
                                },
                                {
                                    "usernev": "eszter",
                                    "nev": "Molnár Eszter",
                                    "SZUL_DAT": "1987-05-10",
                                    "Első foglalas": "2016-08-12",
                                    "Utolsó foglalas": "2016-12-23"
                                },
                                {
                                    "usernev": "eszter2",
                                    "nev": "Balogh Eszter",
                                    "SZUL_DAT": "1998-01-31",
                                    "Első foglalas": "2016-06-30",
                                    "Utolsó foglalas": "2016-12-29"
                                },
                                {
                                    "usernev": "eszter2",
                                    "nev": "Balogh Eszter",
                                    "SZUL_DAT": "1998-01-31",
                                    "Első foglalas": "2016-06-30",
                                    "Utolsó foglalas": "2016-12-29"
                                },
                                {
                                    "usernev": "eszter2",
                                    "nev": "Balogh Eszter",
                                    "SZUL_DAT": "1998-01-31",
                                    "Első foglalas": "2016-06-30",
                                    "Utolsó foglalas": "2016-12-29"
                                },
                                {
                                    "usernev": "eszter2",
                                    "nev": "Balogh Eszter",
                                    "SZUL_DAT": "1998-01-31",
                                    "Első foglalas": "2016-06-30",
                                    "Utolsó foglalas": "2016-12-29"
                                },
                                {
                                    "usernev": "eszter2",
                                    "nev": "Balogh Eszter",
                                    "SZUL_DAT": "1998-01-31",
                                    "Első foglalas": "2016-06-30",
                                    "Utolsó foglalas": "2016-12-29"
                                },
                                {
                                    "usernev": "eszter2",
                                    "nev": "Balogh Eszter",
                                    "SZUL_DAT": "1998-01-31",
                                    "Első foglalas": "2016-06-30",
                                    "Utolsó foglalas": "2016-12-29"
                                },
                                {
                                    "usernev": "eszter2",
                                    "nev": "Balogh Eszter",
                                    "SZUL_DAT": "1998-01-31",
                                    "Első foglalas": "2016-06-30",
                                    "Utolsó foglalas": "2016-12-29"
                                },
                                {
                                    "usernev": "eszter2",
                                    "nev": "Balogh Eszter",
                                    "SZUL_DAT": "1998-01-31",
                                    "Első foglalas": "2016-06-30",
                                    "Utolsó foglalas": "2016-12-29"
                                },
                                {
                                    "usernev": "eszter2",
                                    "nev": "Balogh Eszter",
                                    "SZUL_DAT": "1998-01-31",
                                    "Első foglalas": "2016-06-30",
                                    "Utolsó foglalas": "2016-12-29"
                                },
                                {
                                    "usernev": "eszter2",
                                    "nev": "Balogh Eszter",
                                    "SZUL_DAT": "1998-01-31",
                                    "Első foglalas": "2016-06-30",
                                    "Utolsó foglalas": "2016-12-29"
                                },
                                {
                                    "usernev": "eszter4",
                                    "nev": "Fülöp Eszter",
                                    "SZUL_DAT": "1993-06-28",
                                    "Első foglalas": "2017-01-05",
                                    "Utolsó foglalas": "2017-02-26"
                                },
                                {
                                    "usernev": "eszter4",
                                    "nev": "Fülöp Eszter",
                                    "SZUL_DAT": "1993-06-28",
                                    "Első foglalas": "2017-01-05",
                                    "Utolsó foglalas": "2017-02-26"
                                },
                                {
                                    "usernev": "eszter4",
                                    "nev": "Fülöp Eszter",
                                    "SZUL_DAT": "1993-06-28",
                                    "Első foglalas": "2017-01-05",
                                    "Utolsó foglalas": "2017-02-26"
                                },
                                {
                                    "usernev": "ESZTERE",
                                    "nev": "Érsek Eszter",
                                    "SZUL_DAT": "1978-08-28",
                                    "Első foglalas": "2016-05-30",
                                    "Utolsó foglalas": "2017-02-10"
                                },
                                {
                                    "usernev": "ESZTERE",
                                    "nev": "Érsek Eszter",
                                    "SZUL_DAT": "1978-08-28",
                                    "Első foglalas": "2016-05-30",
                                    "Utolsó foglalas": "2017-02-10"
                                },
                                {
                                    "usernev": "ESZTERE",
                                    "nev": "Érsek Eszter",
                                    "SZUL_DAT": "1978-08-28",
                                    "Első foglalas": "2016-05-30",
                                    "Utolsó foglalas": "2017-02-10"
                                },
                                {
                                    "usernev": "ESZTERE",
                                    "nev": "Érsek Eszter",
                                    "SZUL_DAT": "1978-08-28",
                                    "Első foglalas": "2016-05-30",
                                    "Utolsó foglalas": "2017-02-10"
                                },
                                {
                                    "usernev": "eva",
                                    "nev": "Enyedi Éva",
                                    "SZUL_DAT": "1967-06-30",
                                    "Első foglalas": "2016-10-06",
                                    "Utolsó foglalas": "2017-01-14"
                                },
                                {
                                    "usernev": "eva",
                                    "nev": "Enyedi Éva",
                                    "SZUL_DAT": "1967-06-30",
                                    "Első foglalas": "2016-10-06",
                                    "Utolsó foglalas": "2017-01-14"
                                },
                                {
                                    "usernev": "eva2",
                                    "nev": "Perlinger Éva",
                                    "SZUL_DAT": "1971-08-19",
                                    "Első foglalas": "2016-09-02",
                                    "Utolsó foglalas": "2017-01-06"
                                },
                                {
                                    "usernev": "eva2",
                                    "nev": "Perlinger Éva",
                                    "SZUL_DAT": "1971-08-19",
                                    "Első foglalas": "2016-09-02",
                                    "Utolsó foglalas": "2017-01-06"
                                },
                                {
                                    "usernev": "eva2",
                                    "nev": "Perlinger Éva",
                                    "SZUL_DAT": "1971-08-19",
                                    "Első foglalas": "2016-09-02",
                                    "Utolsó foglalas": "2017-01-06"
                                },
                                {
                                    "usernev": "eva2",
                                    "nev": "Perlinger Éva",
                                    "SZUL_DAT": "1971-08-19",
                                    "Első foglalas": "2016-09-02",
                                    "Utolsó foglalas": "2017-01-06"
                                },
                                {
                                    "usernev": "EVAV",
                                    "nev": "Viktor Éva",
                                    "SZUL_DAT": "1980-12-26",
                                    "Első foglalas": "2016-05-01",
                                    "Utolsó foglalas": "2017-02-04"
                                },
                                {
                                    "usernev": "EVAV",
                                    "nev": "Viktor Éva",
                                    "SZUL_DAT": "1980-12-26",
                                    "Első foglalas": "2016-05-01",
                                    "Utolsó foglalas": "2017-02-04"
                                },
                                {
                                    "usernev": "EVAV",
                                    "nev": "Viktor Éva",
                                    "SZUL_DAT": "1980-12-26",
                                    "Első foglalas": "2016-05-01",
                                    "Utolsó foglalas": "2017-02-04"
                                },
                                {
                                    "usernev": "EVAV",
                                    "nev": "Viktor Éva",
                                    "SZUL_DAT": "1980-12-26",
                                    "Első foglalas": "2016-05-01",
                                    "Utolsó foglalas": "2017-02-04"
                                },
                                {
                                    "usernev": "EVAV",
                                    "nev": "Viktor Éva",
                                    "SZUL_DAT": "1980-12-26",
                                    "Első foglalas": "2016-05-01",
                                    "Utolsó foglalas": "2017-02-04"
                                },
                                {
                                    "usernev": "ferenc1",
                                    "nev": "Orosz Ferenc",
                                    "SZUL_DAT": "1983-10-08",
                                    "Első foglalas": "2016-05-08",
                                    "Utolsó foglalas": "2016-11-07"
                                },
                                {
                                    "usernev": "ferenc1",
                                    "nev": "Orosz Ferenc",
                                    "SZUL_DAT": "1983-10-08",
                                    "Első foglalas": "2016-05-08",
                                    "Utolsó foglalas": "2016-11-07"
                                },
                                {
                                    "usernev": "ferenc1",
                                    "nev": "Orosz Ferenc",
                                    "SZUL_DAT": "1983-10-08",
                                    "Első foglalas": "2016-05-08",
                                    "Utolsó foglalas": "2016-11-07"
                                },
                                {
                                    "usernev": "ferenc1",
                                    "nev": "Orosz Ferenc",
                                    "SZUL_DAT": "1983-10-08",
                                    "Első foglalas": "2016-05-08",
                                    "Utolsó foglalas": "2016-11-07"
                                },
                                {
                                    "usernev": "fruzsina4",
                                    "nev": "Frank Fruzsina",
                                    "SZUL_DAT": "1996-08-16",
                                    "Első foglalas": "2016-06-02",
                                    "Utolsó foglalas": "2017-01-22"
                                },
                                {
                                    "usernev": "fruzsina4",
                                    "nev": "Frank Fruzsina",
                                    "SZUL_DAT": "1996-08-16",
                                    "Első foglalas": "2016-06-02",
                                    "Utolsó foglalas": "2017-01-22"
                                },
                                {
                                    "usernev": "fruzsina4",
                                    "nev": "Frank Fruzsina",
                                    "SZUL_DAT": "1996-08-16",
                                    "Első foglalas": "2016-06-02",
                                    "Utolsó foglalas": "2017-01-22"
                                },
                                {
                                    "usernev": "fruzsina4",
                                    "nev": "Frank Fruzsina",
                                    "SZUL_DAT": "1996-08-16",
                                    "Első foglalas": "2016-06-02",
                                    "Utolsó foglalas": "2017-01-22"
                                },
                                {
                                    "usernev": "fruzsina4",
                                    "nev": "Frank Fruzsina",
                                    "SZUL_DAT": "1996-08-16",
                                    "Első foglalas": "2016-06-02",
                                    "Utolsó foglalas": "2017-01-22"
                                },
                                {
                                    "usernev": "fruzsina4",
                                    "nev": "Frank Fruzsina",
                                    "SZUL_DAT": "1996-08-16",
                                    "Első foglalas": "2016-06-02",
                                    "Utolsó foglalas": "2017-01-22"
                                },
                                {
                                    "usernev": "fruzsina4",
                                    "nev": "Frank Fruzsina",
                                    "SZUL_DAT": "1996-08-16",
                                    "Első foglalas": "2016-06-02",
                                    "Utolsó foglalas": "2017-01-22"
                                },
                                {
                                    "usernev": "fruzsina4",
                                    "nev": "Frank Fruzsina",
                                    "SZUL_DAT": "1996-08-16",
                                    "Első foglalas": "2016-06-02",
                                    "Utolsó foglalas": "2017-01-22"
                                },
                                {
                                    "usernev": "gabor1",
                                    "nev": "Köves Gábor",
                                    "SZUL_DAT": "1973-07-15",
                                    "Első foglalas": "2016-06-20",
                                    "Utolsó foglalas": "2016-11-19"
                                },
                                {
                                    "usernev": "gabor1",
                                    "nev": "Köves Gábor",
                                    "SZUL_DAT": "1973-07-15",
                                    "Első foglalas": "2016-06-20",
                                    "Utolsó foglalas": "2016-11-19"
                                },
                                {
                                    "usernev": "gabor1",
                                    "nev": "Köves Gábor",
                                    "SZUL_DAT": "1973-07-15",
                                    "Első foglalas": "2016-06-20",
                                    "Utolsó foglalas": "2016-11-19"
                                },
                                {
                                    "usernev": "gabor1",
                                    "nev": "Köves Gábor",
                                    "SZUL_DAT": "1973-07-15",
                                    "Első foglalas": "2016-06-20",
                                    "Utolsó foglalas": "2016-11-19"
                                },
                                {
                                    "usernev": "gabor1",
                                    "nev": "Köves Gábor",
                                    "SZUL_DAT": "1973-07-15",
                                    "Első foglalas": "2016-06-20",
                                    "Utolsó foglalas": "2016-11-19"
                                },
                                {
                                    "usernev": "gabor1",
                                    "nev": "Köves Gábor",
                                    "SZUL_DAT": "1973-07-15",
                                    "Első foglalas": "2016-06-20",
                                    "Utolsó foglalas": "2016-11-19"
                                },
                                {
                                    "usernev": "gabor4",
                                    "nev": "Telek Gábor",
                                    "SZUL_DAT": "1987-03-15",
                                    "Első foglalas": "2016-04-26",
                                    "Utolsó foglalas": "2016-11-07"
                                },
                                {
                                    "usernev": "gabor4",
                                    "nev": "Telek Gábor",
                                    "SZUL_DAT": "1987-03-15",
                                    "Első foglalas": "2016-04-26",
                                    "Utolsó foglalas": "2016-11-07"
                                },
                                {
                                    "usernev": "gabor4",
                                    "nev": "Telek Gábor",
                                    "SZUL_DAT": "1987-03-15",
                                    "Első foglalas": "2016-04-26",
                                    "Utolsó foglalas": "2016-11-07"
                                },
                                {
                                    "usernev": "gabor4",
                                    "nev": "Telek Gábor",
                                    "SZUL_DAT": "1987-03-15",
                                    "Első foglalas": "2016-04-26",
                                    "Utolsó foglalas": "2016-11-07"
                                },
                                {
                                    "usernev": "gabriella1",
                                    "nev": "Nagy Gabriella",
                                    "SZUL_DAT": "1982-11-01",
                                    "Első foglalas": "2016-04-21",
                                    "Utolsó foglalas": "2017-02-21"
                                },
                                {
                                    "usernev": "gabriella1",
                                    "nev": "Nagy Gabriella",
                                    "SZUL_DAT": "1982-11-01",
                                    "Első foglalas": "2016-04-21",
                                    "Utolsó foglalas": "2017-02-21"
                                },
                                {
                                    "usernev": "gabriella1",
                                    "nev": "Nagy Gabriella",
                                    "SZUL_DAT": "1982-11-01",
                                    "Első foglalas": "2016-04-21",
                                    "Utolsó foglalas": "2017-02-21"
                                },
                                {
                                    "usernev": "gabriella1",
                                    "nev": "Nagy Gabriella",
                                    "SZUL_DAT": "1982-11-01",
                                    "Első foglalas": "2016-04-21",
                                    "Utolsó foglalas": "2017-02-21"
                                },
                                {
                                    "usernev": "gabriella1",
                                    "nev": "Nagy Gabriella",
                                    "SZUL_DAT": "1982-11-01",
                                    "Első foglalas": "2016-04-21",
                                    "Utolsó foglalas": "2017-02-21"
                                },
                                {
                                    "usernev": "gabriella1",
                                    "nev": "Nagy Gabriella",
                                    "SZUL_DAT": "1982-11-01",
                                    "Első foglalas": "2016-04-21",
                                    "Utolsó foglalas": "2017-02-21"
                                },
                                {
                                    "usernev": "gabriella10",
                                    "nev": "Vida Gabriella",
                                    "SZUL_DAT": "1969-06-18",
                                    "Első foglalas": "2016-10-01",
                                    "Utolsó foglalas": "2016-10-01"
                                },
                                {
                                    "usernev": "georgij",
                                    "nev": "Nyíri Georgij",
                                    "SZUL_DAT": "1983-02-23",
                                    "Első foglalas": "2016-06-16",
                                    "Utolsó foglalas": "2016-09-18"
                                },
                                {
                                    "usernev": "georgij",
                                    "nev": "Nyíri Georgij",
                                    "SZUL_DAT": "1983-02-23",
                                    "Első foglalas": "2016-06-16",
                                    "Utolsó foglalas": "2016-09-18"
                                },
                                {
                                    "usernev": "georgij",
                                    "nev": "Nyíri Georgij",
                                    "SZUL_DAT": "1983-02-23",
                                    "Első foglalas": "2016-06-16",
                                    "Utolsó foglalas": "2016-09-18"
                                },
                                {
                                    "usernev": "georgij",
                                    "nev": "Nyíri Georgij",
                                    "SZUL_DAT": "1983-02-23",
                                    "Első foglalas": "2016-06-16",
                                    "Utolsó foglalas": "2016-09-18"
                                },
                                {
                                    "usernev": "gusztav",
                                    "nev": "Bárci Gusztáv",
                                    "SZUL_DAT": "1967-02-25",
                                    "Első foglalas": "2016-05-06",
                                    "Utolsó foglalas": "2017-02-23"
                                },
                                {
                                    "usernev": "gusztav",
                                    "nev": "Bárci Gusztáv",
                                    "SZUL_DAT": "1967-02-25",
                                    "Első foglalas": "2016-05-06",
                                    "Utolsó foglalas": "2017-02-23"
                                },
                                {
                                    "usernev": "gusztav",
                                    "nev": "Bárci Gusztáv",
                                    "SZUL_DAT": "1967-02-25",
                                    "Első foglalas": "2016-05-06",
                                    "Utolsó foglalas": "2017-02-23"
                                },
                                {
                                    "usernev": "gusztav",
                                    "nev": "Bárci Gusztáv",
                                    "SZUL_DAT": "1967-02-25",
                                    "Első foglalas": "2016-05-06",
                                    "Utolsó foglalas": "2017-02-23"
                                },
                                {
                                    "usernev": "gusztav",
                                    "nev": "Bárci Gusztáv",
                                    "SZUL_DAT": "1967-02-25",
                                    "Első foglalas": "2016-05-06",
                                    "Utolsó foglalas": "2017-02-23"
                                },
                                {
                                    "usernev": "GYONGYIK",
                                    "nev": "Kornseé Gyöngyi",
                                    "SZUL_DAT": "1974-06-07",
                                    "Első foglalas": "2016-06-02",
                                    "Utolsó foglalas": "2017-01-22"
                                },
                                {
                                    "usernev": "GYONGYIK",
                                    "nev": "Kornseé Gyöngyi",
                                    "SZUL_DAT": "1974-06-07",
                                    "Első foglalas": "2016-06-02",
                                    "Utolsó foglalas": "2017-01-22"
                                },
                                {
                                    "usernev": "GYONGYIK",
                                    "nev": "Kornseé Gyöngyi",
                                    "SZUL_DAT": "1974-06-07",
                                    "Első foglalas": "2016-06-02",
                                    "Utolsó foglalas": "2017-01-22"
                                },
                                {
                                    "usernev": "GYONGYIK",
                                    "nev": "Kornseé Gyöngyi",
                                    "SZUL_DAT": "1974-06-07",
                                    "Első foglalas": "2016-06-02",
                                    "Utolsó foglalas": "2017-01-22"
                                },
                                {
                                    "usernev": "GYONGYIK",
                                    "nev": "Kornseé Gyöngyi",
                                    "SZUL_DAT": "1974-06-07",
                                    "Első foglalas": "2016-06-02",
                                    "Utolsó foglalas": "2017-01-22"
                                },
                                {
                                    "usernev": "GYONGYIK",
                                    "nev": "Kornseé Gyöngyi",
                                    "SZUL_DAT": "1974-06-07",
                                    "Első foglalas": "2016-06-02",
                                    "Utolsó foglalas": "2017-01-22"
                                },
                                {
                                    "usernev": "GYONGYIK",
                                    "nev": "Kornseé Gyöngyi",
                                    "SZUL_DAT": "1974-06-07",
                                    "Első foglalas": "2016-06-02",
                                    "Utolsó foglalas": "2017-01-22"
                                },
                                {
                                    "usernev": "GYORGYO",
                                    "nev": "Oroszi György",
                                    "SZUL_DAT": "1980-03-23",
                                    "Első foglalas": "2016-05-27",
                                    "Utolsó foglalas": "2017-02-24"
                                },
                                {
                                    "usernev": "GYORGYO",
                                    "nev": "Oroszi György",
                                    "SZUL_DAT": "1980-03-23",
                                    "Első foglalas": "2016-05-27",
                                    "Utolsó foglalas": "2017-02-24"
                                },
                                {
                                    "usernev": "GYORGYO",
                                    "nev": "Oroszi György",
                                    "SZUL_DAT": "1980-03-23",
                                    "Első foglalas": "2016-05-27",
                                    "Utolsó foglalas": "2017-02-24"
                                },
                                {
                                    "usernev": "GYORGYO",
                                    "nev": "Oroszi György",
                                    "SZUL_DAT": "1980-03-23",
                                    "Első foglalas": "2016-05-27",
                                    "Utolsó foglalas": "2017-02-24"
                                },
                                {
                                    "usernev": "GYORGYO",
                                    "nev": "Oroszi György",
                                    "SZUL_DAT": "1980-03-23",
                                    "Első foglalas": "2016-05-27",
                                    "Utolsó foglalas": "2017-02-24"
                                },
                                {
                                    "usernev": "GYORGYO",
                                    "nev": "Oroszi György",
                                    "SZUL_DAT": "1980-03-23",
                                    "Első foglalas": "2016-05-27",
                                    "Utolsó foglalas": "2017-02-24"
                                },
                                {
                                    "usernev": "GYORGYO",
                                    "nev": "Oroszi György",
                                    "SZUL_DAT": "1980-03-23",
                                    "Első foglalas": "2016-05-27",
                                    "Utolsó foglalas": "2017-02-24"
                                },
                                {
                                    "usernev": "GYORGYO",
                                    "nev": "Oroszi György",
                                    "SZUL_DAT": "1980-03-23",
                                    "Első foglalas": "2016-05-27",
                                    "Utolsó foglalas": "2017-02-24"
                                },
                                {
                                    "usernev": "henrik3",
                                    "nev": "Nádudvari Henrik",
                                    "SZUL_DAT": "1986-12-05",
                                    "Első foglalas": "2016-08-24",
                                    "Utolsó foglalas": "2017-01-27"
                                },
                                {
                                    "usernev": "henrik3",
                                    "nev": "Nádudvari Henrik",
                                    "SZUL_DAT": "1986-12-05",
                                    "Első foglalas": "2016-08-24",
                                    "Utolsó foglalas": "2017-01-27"
                                },
                                {
                                    "usernev": "henrik3",
                                    "nev": "Nádudvari Henrik",
                                    "SZUL_DAT": "1986-12-05",
                                    "Első foglalas": "2016-08-24",
                                    "Utolsó foglalas": "2017-01-27"
                                },
                                {
                                    "usernev": "IBOLYAA",
                                    "nev": "Andor Ibolya",
                                    "SZUL_DAT": "1983-11-27",
                                    "Első foglalas": "2016-08-29",
                                    "Utolsó foglalas": "2017-01-17"
                                },
                                {
                                    "usernev": "IBOLYAA",
                                    "nev": "Andor Ibolya",
                                    "SZUL_DAT": "1983-11-27",
                                    "Első foglalas": "2016-08-29",
                                    "Utolsó foglalas": "2017-01-17"
                                },
                                {
                                    "usernev": "IBOLYAA",
                                    "nev": "Andor Ibolya",
                                    "SZUL_DAT": "1983-11-27",
                                    "Első foglalas": "2016-08-29",
                                    "Utolsó foglalas": "2017-01-17"
                                },
                                {
                                    "usernev": "ilona3",
                                    "nev": "Bosnyák Ilona",
                                    "SZUL_DAT": "1990-08-06",
                                    "Első foglalas": "2016-07-31",
                                    "Utolsó foglalas": "2016-12-25"
                                },
                                {
                                    "usernev": "ilona3",
                                    "nev": "Bosnyák Ilona",
                                    "SZUL_DAT": "1990-08-06",
                                    "Első foglalas": "2016-07-31",
                                    "Utolsó foglalas": "2016-12-25"
                                },
                                {
                                    "usernev": "ilona3",
                                    "nev": "Bosnyák Ilona",
                                    "SZUL_DAT": "1990-08-06",
                                    "Első foglalas": "2016-07-31",
                                    "Utolsó foglalas": "2016-12-25"
                                },
                                {
                                    "usernev": "ilona3",
                                    "nev": "Bosnyák Ilona",
                                    "SZUL_DAT": "1990-08-06",
                                    "Első foglalas": "2016-07-31",
                                    "Utolsó foglalas": "2016-12-25"
                                },
                                {
                                    "usernev": "imre",
                                    "nev": "Búza Imre",
                                    "SZUL_DAT": "1988-09-30",
                                    "Első foglalas": "2016-09-17",
                                    "Utolsó foglalas": "2016-10-28"
                                },
                                {
                                    "usernev": "imre",
                                    "nev": "Búza Imre",
                                    "SZUL_DAT": "1988-09-30",
                                    "Első foglalas": "2016-09-17",
                                    "Utolsó foglalas": "2016-10-28"
                                },
                                {
                                    "usernev": "imre1",
                                    "nev": "Papp Imre",
                                    "SZUL_DAT": "1976-06-25",
                                    "Első foglalas": "2016-06-23",
                                    "Utolsó foglalas": "2017-02-05"
                                },
                                {
                                    "usernev": "imre1",
                                    "nev": "Papp Imre",
                                    "SZUL_DAT": "1976-06-25",
                                    "Első foglalas": "2016-06-23",
                                    "Utolsó foglalas": "2017-02-05"
                                },
                                {
                                    "usernev": "imre1",
                                    "nev": "Papp Imre",
                                    "SZUL_DAT": "1976-06-25",
                                    "Első foglalas": "2016-06-23",
                                    "Utolsó foglalas": "2017-02-05"
                                },
                                {
                                    "usernev": "imre1",
                                    "nev": "Papp Imre",
                                    "SZUL_DAT": "1976-06-25",
                                    "Első foglalas": "2016-06-23",
                                    "Utolsó foglalas": "2017-02-05"
                                },
                                {
                                    "usernev": "imre1",
                                    "nev": "Papp Imre",
                                    "SZUL_DAT": "1976-06-25",
                                    "Első foglalas": "2016-06-23",
                                    "Utolsó foglalas": "2017-02-05"
                                },
                                {
                                    "usernev": "imre1",
                                    "nev": "Papp Imre",
                                    "SZUL_DAT": "1976-06-25",
                                    "Első foglalas": "2016-06-23",
                                    "Utolsó foglalas": "2017-02-05"
                                },
                                {
                                    "usernev": "imre1",
                                    "nev": "Papp Imre",
                                    "SZUL_DAT": "1976-06-25",
                                    "Első foglalas": "2016-06-23",
                                    "Utolsó foglalas": "2017-02-05"
                                },
                                {
                                    "usernev": "istvan",
                                    "nev": "Soós István",
                                    "SZUL_DAT": "1986-06-28",
                                    "Első foglalas": "2016-10-07",
                                    "Utolsó foglalas": "2017-01-02"
                                },
                                {
                                    "usernev": "istvan",
                                    "nev": "Soós István",
                                    "SZUL_DAT": "1986-06-28",
                                    "Első foglalas": "2016-10-07",
                                    "Utolsó foglalas": "2017-01-02"
                                },
                                {
                                    "usernev": "istvan",
                                    "nev": "Soós István",
                                    "SZUL_DAT": "1986-06-28",
                                    "Első foglalas": "2016-10-07",
                                    "Utolsó foglalas": "2017-01-02"
                                },
                                {
                                    "usernev": "istvan1",
                                    "nev": "Vizi István",
                                    "SZUL_DAT": "1997-12-01",
                                    "Első foglalas": "2016-04-16",
                                    "Utolsó foglalas": "2017-02-07"
                                },
                                {
                                    "usernev": "istvan1",
                                    "nev": "Vizi István",
                                    "SZUL_DAT": "1997-12-01",
                                    "Első foglalas": "2016-04-16",
                                    "Utolsó foglalas": "2017-02-07"
                                },
                                {
                                    "usernev": "istvan1",
                                    "nev": "Vizi István",
                                    "SZUL_DAT": "1997-12-01",
                                    "Első foglalas": "2016-04-16",
                                    "Utolsó foglalas": "2017-02-07"
                                },
                                {
                                    "usernev": "istvan1",
                                    "nev": "Vizi István",
                                    "SZUL_DAT": "1997-12-01",
                                    "Első foglalas": "2016-04-16",
                                    "Utolsó foglalas": "2017-02-07"
                                },
                                {
                                    "usernev": "ISTVANV",
                                    "nev": "Varga István",
                                    "SZUL_DAT": "1989-04-09",
                                    "Első foglalas": "2016-07-01",
                                    "Utolsó foglalas": "2016-09-29"
                                },
                                {
                                    "usernev": "ISTVANV",
                                    "nev": "Varga István",
                                    "SZUL_DAT": "1989-04-09",
                                    "Első foglalas": "2016-07-01",
                                    "Utolsó foglalas": "2016-09-29"
                                },
                                {
                                    "usernev": "janos3",
                                    "nev": "Harangozó János",
                                    "SZUL_DAT": "1967-11-02",
                                    "Első foglalas": "2016-06-04",
                                    "Utolsó foglalas": "2017-02-12"
                                },
                                {
                                    "usernev": "janos3",
                                    "nev": "Harangozó János",
                                    "SZUL_DAT": "1967-11-02",
                                    "Első foglalas": "2016-06-04",
                                    "Utolsó foglalas": "2017-02-12"
                                },
                                {
                                    "usernev": "janos3",
                                    "nev": "Harangozó János",
                                    "SZUL_DAT": "1967-11-02",
                                    "Első foglalas": "2016-06-04",
                                    "Utolsó foglalas": "2017-02-12"
                                },
                                {
                                    "usernev": "janos3",
                                    "nev": "Harangozó János",
                                    "SZUL_DAT": "1967-11-02",
                                    "Első foglalas": "2016-06-04",
                                    "Utolsó foglalas": "2017-02-12"
                                },
                                {
                                    "usernev": "janos3",
                                    "nev": "Harangozó János",
                                    "SZUL_DAT": "1967-11-02",
                                    "Első foglalas": "2016-06-04",
                                    "Utolsó foglalas": "2017-02-12"
                                },
                                {
                                    "usernev": "JANOSG",
                                    "nev": "Giliga János",
                                    "SZUL_DAT": "1975-01-03",
                                    "Első foglalas": "2016-05-09",
                                    "Utolsó foglalas": "2017-01-31"
                                },
                                {
                                    "usernev": "JANOSG",
                                    "nev": "Giliga János",
                                    "SZUL_DAT": "1975-01-03",
                                    "Első foglalas": "2016-05-09",
                                    "Utolsó foglalas": "2017-01-31"
                                },
                                {
                                    "usernev": "JANOSG",
                                    "nev": "Giliga János",
                                    "SZUL_DAT": "1975-01-03",
                                    "Első foglalas": "2016-05-09",
                                    "Utolsó foglalas": "2017-01-31"
                                },
                                {
                                    "usernev": "JANOSG",
                                    "nev": "Giliga János",
                                    "SZUL_DAT": "1975-01-03",
                                    "Első foglalas": "2016-05-09",
                                    "Utolsó foglalas": "2017-01-31"
                                },
                                {
                                    "usernev": "JANOSG",
                                    "nev": "Giliga János",
                                    "SZUL_DAT": "1975-01-03",
                                    "Első foglalas": "2016-05-09",
                                    "Utolsó foglalas": "2017-01-31"
                                },
                                {
                                    "usernev": "JANOSG",
                                    "nev": "Giliga János",
                                    "SZUL_DAT": "1975-01-03",
                                    "Első foglalas": "2016-05-09",
                                    "Utolsó foglalas": "2017-01-31"
                                },
                                {
                                    "usernev": "JANOSG",
                                    "nev": "Giliga János",
                                    "SZUL_DAT": "1975-01-03",
                                    "Első foglalas": "2016-05-09",
                                    "Utolsó foglalas": "2017-01-31"
                                },
                                {
                                    "usernev": "JANOSP",
                                    "nev": "Pálinkás János",
                                    "SZUL_DAT": "1984-10-12",
                                    "Első foglalas": "2016-07-04",
                                    "Utolsó foglalas": "2016-12-18"
                                },
                                {
                                    "usernev": "JANOSP",
                                    "nev": "Pálinkás János",
                                    "SZUL_DAT": "1984-10-12",
                                    "Első foglalas": "2016-07-04",
                                    "Utolsó foglalas": "2016-12-18"
                                },
                                {
                                    "usernev": "JANOSP",
                                    "nev": "Pálinkás János",
                                    "SZUL_DAT": "1984-10-12",
                                    "Első foglalas": "2016-07-04",
                                    "Utolsó foglalas": "2016-12-18"
                                },
                                {
                                    "usernev": "JANOSP",
                                    "nev": "Pálinkás János",
                                    "SZUL_DAT": "1984-10-12",
                                    "Első foglalas": "2016-07-04",
                                    "Utolsó foglalas": "2016-12-18"
                                },
                                {
                                    "usernev": "jozsef",
                                    "nev": "Gergely József",
                                    "SZUL_DAT": "1985-11-01",
                                    "Első foglalas": "2016-09-13",
                                    "Utolsó foglalas": "2016-12-06"
                                },
                                {
                                    "usernev": "jozsef",
                                    "nev": "Gergely József",
                                    "SZUL_DAT": "1985-11-01",
                                    "Első foglalas": "2016-09-13",
                                    "Utolsó foglalas": "2016-12-06"
                                },
                                {
                                    "usernev": "jozsef",
                                    "nev": "Gergely József",
                                    "SZUL_DAT": "1985-11-01",
                                    "Első foglalas": "2016-09-13",
                                    "Utolsó foglalas": "2016-12-06"
                                },
                                {
                                    "usernev": "jozsef2",
                                    "nev": "Vajda József",
                                    "SZUL_DAT": "1978-09-04",
                                    "Első foglalas": "2016-07-06",
                                    "Utolsó foglalas": "2016-11-25"
                                },
                                {
                                    "usernev": "jozsef2",
                                    "nev": "Vajda József",
                                    "SZUL_DAT": "1978-09-04",
                                    "Első foglalas": "2016-07-06",
                                    "Utolsó foglalas": "2016-11-25"
                                },
                                {
                                    "usernev": "jozsef2",
                                    "nev": "Vajda József",
                                    "SZUL_DAT": "1978-09-04",
                                    "Első foglalas": "2016-07-06",
                                    "Utolsó foglalas": "2016-11-25"
                                },
                                {
                                    "usernev": "jozsef2",
                                    "nev": "Vajda József",
                                    "SZUL_DAT": "1978-09-04",
                                    "Első foglalas": "2016-07-06",
                                    "Utolsó foglalas": "2016-11-25"
                                },
                                {
                                    "usernev": "jozsef2",
                                    "nev": "Vajda József",
                                    "SZUL_DAT": "1978-09-04",
                                    "Első foglalas": "2016-07-06",
                                    "Utolsó foglalas": "2016-11-25"
                                },
                                {
                                    "usernev": "JOZSEFG",
                                    "nev": "Gyuris József",
                                    "SZUL_DAT": "1975-05-26",
                                    "Első foglalas": "2016-05-02",
                                    "Utolsó foglalas": "2017-02-24"
                                },
                                {
                                    "usernev": "JOZSEFG",
                                    "nev": "Gyuris József",
                                    "SZUL_DAT": "1975-05-26",
                                    "Első foglalas": "2016-05-02",
                                    "Utolsó foglalas": "2017-02-24"
                                },
                                {
                                    "usernev": "JOZSEFG",
                                    "nev": "Gyuris József",
                                    "SZUL_DAT": "1975-05-26",
                                    "Első foglalas": "2016-05-02",
                                    "Utolsó foglalas": "2017-02-24"
                                },
                                {
                                    "usernev": "JOZSEFG",
                                    "nev": "Gyuris József",
                                    "SZUL_DAT": "1975-05-26",
                                    "Első foglalas": "2016-05-02",
                                    "Utolsó foglalas": "2017-02-24"
                                },
                                {
                                    "usernev": "JOZSEFG",
                                    "nev": "Gyuris József",
                                    "SZUL_DAT": "1975-05-26",
                                    "Első foglalas": "2016-05-02",
                                    "Utolsó foglalas": "2017-02-24"
                                },
                                {
                                    "usernev": "JOZSEFG",
                                    "nev": "Gyuris József",
                                    "SZUL_DAT": "1975-05-26",
                                    "Első foglalas": "2016-05-02",
                                    "Utolsó foglalas": "2017-02-24"
                                },
                                {
                                    "usernev": "JOZSEFG",
                                    "nev": "Gyuris József",
                                    "SZUL_DAT": "1975-05-26",
                                    "Első foglalas": "2016-05-02",
                                    "Utolsó foglalas": "2017-02-24"
                                },
                                {
                                    "usernev": "JUDITH",
                                    "nev": "Hídasi Judit",
                                    "SZUL_DAT": "1997-07-12",
                                    "Első foglalas": "2016-06-06",
                                    "Utolsó foglalas": "2016-12-19"
                                },
                                {
                                    "usernev": "JUDITH",
                                    "nev": "Hídasi Judit",
                                    "SZUL_DAT": "1997-07-12",
                                    "Első foglalas": "2016-06-06",
                                    "Utolsó foglalas": "2016-12-19"
                                },
                                {
                                    "usernev": "JUDITH",
                                    "nev": "Hídasi Judit",
                                    "SZUL_DAT": "1997-07-12",
                                    "Első foglalas": "2016-06-06",
                                    "Utolsó foglalas": "2016-12-19"
                                },
                                {
                                    "usernev": "julia",
                                    "nev": "Tóth Júlia",
                                    "SZUL_DAT": "1993-03-02",
                                    "Első foglalas": "2016-04-21",
                                    "Utolsó foglalas": "2017-02-27"
                                },
                                {
                                    "usernev": "julia",
                                    "nev": "Tóth Júlia",
                                    "SZUL_DAT": "1993-03-02",
                                    "Első foglalas": "2016-04-21",
                                    "Utolsó foglalas": "2017-02-27"
                                },
                                {
                                    "usernev": "julia",
                                    "nev": "Tóth Júlia",
                                    "SZUL_DAT": "1993-03-02",
                                    "Első foglalas": "2016-04-21",
                                    "Utolsó foglalas": "2017-02-27"
                                },
                                {
                                    "usernev": "julia",
                                    "nev": "Tóth Júlia",
                                    "SZUL_DAT": "1993-03-02",
                                    "Első foglalas": "2016-04-21",
                                    "Utolsó foglalas": "2017-02-27"
                                },
                                {
                                    "usernev": "julia",
                                    "nev": "Tóth Júlia",
                                    "SZUL_DAT": "1993-03-02",
                                    "Első foglalas": "2016-04-21",
                                    "Utolsó foglalas": "2017-02-27"
                                },
                                {
                                    "usernev": "julia4",
                                    "nev": "Nagy Júlia",
                                    "SZUL_DAT": "1985-08-11",
                                    "Első foglalas": "2016-11-07",
                                    "Utolsó foglalas": "2017-02-04"
                                },
                                {
                                    "usernev": "julia4",
                                    "nev": "Nagy Júlia",
                                    "SZUL_DAT": "1985-08-11",
                                    "Első foglalas": "2016-11-07",
                                    "Utolsó foglalas": "2017-02-04"
                                },
                                {
                                    "usernev": "julianna4",
                                    "nev": "Szabó Julianna",
                                    "SZUL_DAT": "1990-09-29",
                                    "Első foglalas": "2016-07-20",
                                    "Utolsó foglalas": "2016-11-27"
                                },
                                {
                                    "usernev": "julianna4",
                                    "nev": "Szabó Julianna",
                                    "SZUL_DAT": "1990-09-29",
                                    "Első foglalas": "2016-07-20",
                                    "Utolsó foglalas": "2016-11-27"
                                },
                                {
                                    "usernev": "julianna4",
                                    "nev": "Szabó Julianna",
                                    "SZUL_DAT": "1990-09-29",
                                    "Első foglalas": "2016-07-20",
                                    "Utolsó foglalas": "2016-11-27"
                                },
                                {
                                    "usernev": "julianna4",
                                    "nev": "Szabó Julianna",
                                    "SZUL_DAT": "1990-09-29",
                                    "Első foglalas": "2016-07-20",
                                    "Utolsó foglalas": "2016-11-27"
                                },
                                {
                                    "usernev": "kata",
                                    "nev": "Gondos Katalin",
                                    "SZUL_DAT": "1968-06-22",
                                    "Első foglalas": "2016-04-10",
                                    "Utolsó foglalas": "2017-01-15"
                                },
                                {
                                    "usernev": "kata",
                                    "nev": "Gondos Katalin",
                                    "SZUL_DAT": "1968-06-22",
                                    "Első foglalas": "2016-04-10",
                                    "Utolsó foglalas": "2017-01-15"
                                },
                                {
                                    "usernev": "kata",
                                    "nev": "Gondos Katalin",
                                    "SZUL_DAT": "1968-06-22",
                                    "Első foglalas": "2016-04-10",
                                    "Utolsó foglalas": "2017-01-15"
                                },
                                {
                                    "usernev": "kata",
                                    "nev": "Gondos Katalin",
                                    "SZUL_DAT": "1968-06-22",
                                    "Első foglalas": "2016-04-10",
                                    "Utolsó foglalas": "2017-01-15"
                                },
                                {
                                    "usernev": "kata",
                                    "nev": "Gondos Katalin",
                                    "SZUL_DAT": "1968-06-22",
                                    "Első foglalas": "2016-04-10",
                                    "Utolsó foglalas": "2017-01-15"
                                },
                                {
                                    "usernev": "kata",
                                    "nev": "Gondos Katalin",
                                    "SZUL_DAT": "1968-06-22",
                                    "Első foglalas": "2016-04-10",
                                    "Utolsó foglalas": "2017-01-15"
                                },
                                {
                                    "usernev": "kata",
                                    "nev": "Gondos Katalin",
                                    "SZUL_DAT": "1968-06-22",
                                    "Első foglalas": "2016-04-10",
                                    "Utolsó foglalas": "2017-01-15"
                                },
                                {
                                    "usernev": "kata",
                                    "nev": "Gondos Katalin",
                                    "SZUL_DAT": "1968-06-22",
                                    "Első foglalas": "2016-04-10",
                                    "Utolsó foglalas": "2017-01-15"
                                },
                                {
                                    "usernev": "kata",
                                    "nev": "Gondos Katalin",
                                    "SZUL_DAT": "1968-06-22",
                                    "Első foglalas": "2016-04-10",
                                    "Utolsó foglalas": "2017-01-15"
                                },
                                {
                                    "usernev": "kata",
                                    "nev": "Gondos Katalin",
                                    "SZUL_DAT": "1968-06-22",
                                    "Első foglalas": "2016-04-10",
                                    "Utolsó foglalas": "2017-01-15"
                                },
                                {
                                    "usernev": "katalin",
                                    "nev": "Horváth Katalin",
                                    "SZUL_DAT": "1968-01-01",
                                    "Első foglalas": "2016-04-10",
                                    "Utolsó foglalas": "2017-02-24"
                                },
                                {
                                    "usernev": "katalin",
                                    "nev": "Horváth Katalin",
                                    "SZUL_DAT": "1968-01-01",
                                    "Első foglalas": "2016-04-10",
                                    "Utolsó foglalas": "2017-02-24"
                                },
                                {
                                    "usernev": "katalin",
                                    "nev": "Horváth Katalin",
                                    "SZUL_DAT": "1968-01-01",
                                    "Első foglalas": "2016-04-10",
                                    "Utolsó foglalas": "2017-02-24"
                                },
                                {
                                    "usernev": "katalin",
                                    "nev": "Horváth Katalin",
                                    "SZUL_DAT": "1968-01-01",
                                    "Első foglalas": "2016-04-10",
                                    "Utolsó foglalas": "2017-02-24"
                                },
                                {
                                    "usernev": "katalin",
                                    "nev": "Horváth Katalin",
                                    "SZUL_DAT": "1968-01-01",
                                    "Első foglalas": "2016-04-10",
                                    "Utolsó foglalas": "2017-02-24"
                                },
                                {
                                    "usernev": "katalin",
                                    "nev": "Horváth Katalin",
                                    "SZUL_DAT": "1968-01-01",
                                    "Első foglalas": "2016-04-10",
                                    "Utolsó foglalas": "2017-02-24"
                                },
                                {
                                    "usernev": "katalin",
                                    "nev": "Horváth Katalin",
                                    "SZUL_DAT": "1968-01-01",
                                    "Első foglalas": "2016-04-10",
                                    "Utolsó foglalas": "2017-02-24"
                                },
                                {
                                    "usernev": "katalin",
                                    "nev": "Horváth Katalin",
                                    "SZUL_DAT": "1968-01-01",
                                    "Első foglalas": "2016-04-10",
                                    "Utolsó foglalas": "2017-02-24"
                                },
                                {
                                    "usernev": "katalin",
                                    "nev": "Horváth Katalin",
                                    "SZUL_DAT": "1968-01-01",
                                    "Első foglalas": "2016-04-10",
                                    "Utolsó foglalas": "2017-02-24"
                                },
                                {
                                    "usernev": "katalin4",
                                    "nev": "Kertész Katalin",
                                    "SZUL_DAT": "1986-04-13",
                                    "Első foglalas": "2016-07-01",
                                    "Utolsó foglalas": "2017-01-24"
                                },
                                {
                                    "usernev": "katalin4",
                                    "nev": "Kertész Katalin",
                                    "SZUL_DAT": "1986-04-13",
                                    "Első foglalas": "2016-07-01",
                                    "Utolsó foglalas": "2017-01-24"
                                },
                                {
                                    "usernev": "katalin4",
                                    "nev": "Kertész Katalin",
                                    "SZUL_DAT": "1986-04-13",
                                    "Első foglalas": "2016-07-01",
                                    "Utolsó foglalas": "2017-01-24"
                                },
                                {
                                    "usernev": "katalin4",
                                    "nev": "Kertész Katalin",
                                    "SZUL_DAT": "1986-04-13",
                                    "Első foglalas": "2016-07-01",
                                    "Utolsó foglalas": "2017-01-24"
                                },
                                {
                                    "usernev": "katalin4",
                                    "nev": "Kertész Katalin",
                                    "SZUL_DAT": "1986-04-13",
                                    "Első foglalas": "2016-07-01",
                                    "Utolsó foglalas": "2017-01-24"
                                },
                                {
                                    "usernev": "katalin4",
                                    "nev": "Kertész Katalin",
                                    "SZUL_DAT": "1986-04-13",
                                    "Első foglalas": "2016-07-01",
                                    "Utolsó foglalas": "2017-01-24"
                                },
                                {
                                    "usernev": "kati",
                                    "nev": "Zatykó Katalin",
                                    "SZUL_DAT": "1995-05-01",
                                    "Első foglalas": "2016-06-06",
                                    "Utolsó foglalas": "2016-10-30"
                                },
                                {
                                    "usernev": "kati",
                                    "nev": "Zatykó Katalin",
                                    "SZUL_DAT": "1995-05-01",
                                    "Első foglalas": "2016-06-06",
                                    "Utolsó foglalas": "2016-10-30"
                                },
                                {
                                    "usernev": "kati",
                                    "nev": "Zatykó Katalin",
                                    "SZUL_DAT": "1995-05-01",
                                    "Első foglalas": "2016-06-06",
                                    "Utolsó foglalas": "2016-10-30"
                                },
                                {
                                    "usernev": "kati",
                                    "nev": "Zatykó Katalin",
                                    "SZUL_DAT": "1995-05-01",
                                    "Első foglalas": "2016-06-06",
                                    "Utolsó foglalas": "2016-10-30"
                                },
                                {
                                    "usernev": "kati",
                                    "nev": "Zatykó Katalin",
                                    "SZUL_DAT": "1995-05-01",
                                    "Első foglalas": "2016-06-06",
                                    "Utolsó foglalas": "2016-10-30"
                                },
                                {
                                    "usernev": "kati",
                                    "nev": "Zatykó Katalin",
                                    "SZUL_DAT": "1995-05-01",
                                    "Első foglalas": "2016-06-06",
                                    "Utolsó foglalas": "2016-10-30"
                                },
                                {
                                    "usernev": "kati",
                                    "nev": "Zatykó Katalin",
                                    "SZUL_DAT": "1995-05-01",
                                    "Első foglalas": "2016-06-06",
                                    "Utolsó foglalas": "2016-10-30"
                                },
                                {
                                    "usernev": "katka",
                                    "nev": "Kovács Katalin",
                                    "SZUL_DAT": "1975-03-31",
                                    "Első foglalas": "2016-04-10",
                                    "Utolsó foglalas": "2017-01-19"
                                },
                                {
                                    "usernev": "katka",
                                    "nev": "Kovács Katalin",
                                    "SZUL_DAT": "1975-03-31",
                                    "Első foglalas": "2016-04-10",
                                    "Utolsó foglalas": "2017-01-19"
                                },
                                {
                                    "usernev": "katka",
                                    "nev": "Kovács Katalin",
                                    "SZUL_DAT": "1975-03-31",
                                    "Első foglalas": "2016-04-10",
                                    "Utolsó foglalas": "2017-01-19"
                                },
                                {
                                    "usernev": "katka",
                                    "nev": "Kovács Katalin",
                                    "SZUL_DAT": "1975-03-31",
                                    "Első foglalas": "2016-04-10",
                                    "Utolsó foglalas": "2017-01-19"
                                },
                                {
                                    "usernev": "katka",
                                    "nev": "Kovács Katalin",
                                    "SZUL_DAT": "1975-03-31",
                                    "Első foglalas": "2016-04-10",
                                    "Utolsó foglalas": "2017-01-19"
                                },
                                {
                                    "usernev": "katka",
                                    "nev": "Kovács Katalin",
                                    "SZUL_DAT": "1975-03-31",
                                    "Első foglalas": "2016-04-10",
                                    "Utolsó foglalas": "2017-01-19"
                                },
                                {
                                    "usernev": "katka",
                                    "nev": "Kovács Katalin",
                                    "SZUL_DAT": "1975-03-31",
                                    "Első foglalas": "2016-04-10",
                                    "Utolsó foglalas": "2017-01-19"
                                },
                                {
                                    "usernev": "katka",
                                    "nev": "Kovács Katalin",
                                    "SZUL_DAT": "1975-03-31",
                                    "Első foglalas": "2016-04-10",
                                    "Utolsó foglalas": "2017-01-19"
                                },
                                {
                                    "usernev": "katka",
                                    "nev": "Kovács Katalin",
                                    "SZUL_DAT": "1975-03-31",
                                    "Első foglalas": "2016-04-10",
                                    "Utolsó foglalas": "2017-01-19"
                                },
                                {
                                    "usernev": "klaudia2",
                                    "nev": "Bakó Klaudia",
                                    "SZUL_DAT": "1982-04-16",
                                    "Első foglalas": "2016-06-06",
                                    "Utolsó foglalas": "2016-10-02"
                                },
                                {
                                    "usernev": "klaudia2",
                                    "nev": "Bakó Klaudia",
                                    "SZUL_DAT": "1982-04-16",
                                    "Első foglalas": "2016-06-06",
                                    "Utolsó foglalas": "2016-10-02"
                                },
                                {
                                    "usernev": "klaudia2",
                                    "nev": "Bakó Klaudia",
                                    "SZUL_DAT": "1982-04-16",
                                    "Első foglalas": "2016-06-06",
                                    "Utolsó foglalas": "2016-10-02"
                                },
                                {
                                    "usernev": "kornel4",
                                    "nev": "Lukács Kornél",
                                    "SZUL_DAT": "1975-09-30",
                                    "Első foglalas": "2016-05-08",
                                    "Utolsó foglalas": "2016-09-23"
                                },
                                {
                                    "usernev": "kornel4",
                                    "nev": "Lukács Kornél",
                                    "SZUL_DAT": "1975-09-30",
                                    "Első foglalas": "2016-05-08",
                                    "Utolsó foglalas": "2016-09-23"
                                },
                                {
                                    "usernev": "kornel4",
                                    "nev": "Lukács Kornél",
                                    "SZUL_DAT": "1975-09-30",
                                    "Első foglalas": "2016-05-08",
                                    "Utolsó foglalas": "2016-09-23"
                                },
                                {
                                    "usernev": "kristof4",
                                    "nev": "Poprádi Kristóf",
                                    "SZUL_DAT": "1984-01-15",
                                    "Első foglalas": "2016-04-08",
                                    "Utolsó foglalas": "2016-09-30"
                                },
                                {
                                    "usernev": "kristof4",
                                    "nev": "Poprádi Kristóf",
                                    "SZUL_DAT": "1984-01-15",
                                    "Első foglalas": "2016-04-08",
                                    "Utolsó foglalas": "2016-09-30"
                                },
                                {
                                    "usernev": "kriszti",
                                    "nev": "Horváth Krisztina",
                                    "SZUL_DAT": "1978-06-12",
                                    "Első foglalas": "2016-05-19",
                                    "Utolsó foglalas": "2017-03-03"
                                },
                                {
                                    "usernev": "kriszti",
                                    "nev": "Horváth Krisztina",
                                    "SZUL_DAT": "1978-06-12",
                                    "Első foglalas": "2016-05-19",
                                    "Utolsó foglalas": "2017-03-03"
                                },
                                {
                                    "usernev": "kriszti",
                                    "nev": "Horváth Krisztina",
                                    "SZUL_DAT": "1978-06-12",
                                    "Első foglalas": "2016-05-19",
                                    "Utolsó foglalas": "2017-03-03"
                                },
                                {
                                    "usernev": "kriszti",
                                    "nev": "Horváth Krisztina",
                                    "SZUL_DAT": "1978-06-12",
                                    "Első foglalas": "2016-05-19",
                                    "Utolsó foglalas": "2017-03-03"
                                },
                                {
                                    "usernev": "kriszti",
                                    "nev": "Horváth Krisztina",
                                    "SZUL_DAT": "1978-06-12",
                                    "Első foglalas": "2016-05-19",
                                    "Utolsó foglalas": "2017-03-03"
                                },
                                {
                                    "usernev": "kriszti",
                                    "nev": "Horváth Krisztina",
                                    "SZUL_DAT": "1978-06-12",
                                    "Első foglalas": "2016-05-19",
                                    "Utolsó foglalas": "2017-03-03"
                                },
                                {
                                    "usernev": "krisztian4",
                                    "nev": "Czérna Krisztián",
                                    "SZUL_DAT": "1970-08-01",
                                    "Első foglalas": "2016-06-03",
                                    "Utolsó foglalas": "2017-02-23"
                                },
                                {
                                    "usernev": "krisztian4",
                                    "nev": "Czérna Krisztián",
                                    "SZUL_DAT": "1970-08-01",
                                    "Első foglalas": "2016-06-03",
                                    "Utolsó foglalas": "2017-02-23"
                                },
                                {
                                    "usernev": "krisztian4",
                                    "nev": "Czérna Krisztián",
                                    "SZUL_DAT": "1970-08-01",
                                    "Első foglalas": "2016-06-03",
                                    "Utolsó foglalas": "2017-02-23"
                                },
                                {
                                    "usernev": "krisztian4",
                                    "nev": "Czérna Krisztián",
                                    "SZUL_DAT": "1970-08-01",
                                    "Első foglalas": "2016-06-03",
                                    "Utolsó foglalas": "2017-02-23"
                                },
                                {
                                    "usernev": "krisztian4",
                                    "nev": "Czérna Krisztián",
                                    "SZUL_DAT": "1970-08-01",
                                    "Első foglalas": "2016-06-03",
                                    "Utolsó foglalas": "2017-02-23"
                                },
                                {
                                    "usernev": "krisztian4",
                                    "nev": "Czérna Krisztián",
                                    "SZUL_DAT": "1970-08-01",
                                    "Első foglalas": "2016-06-03",
                                    "Utolsó foglalas": "2017-02-23"
                                },
                                {
                                    "usernev": "krisztian4",
                                    "nev": "Czérna Krisztián",
                                    "SZUL_DAT": "1970-08-01",
                                    "Első foglalas": "2016-06-03",
                                    "Utolsó foglalas": "2017-02-23"
                                },
                                {
                                    "usernev": "krisztian4",
                                    "nev": "Czérna Krisztián",
                                    "SZUL_DAT": "1970-08-01",
                                    "Első foglalas": "2016-06-03",
                                    "Utolsó foglalas": "2017-02-23"
                                },
                                {
                                    "usernev": "krisztian4",
                                    "nev": "Czérna Krisztián",
                                    "SZUL_DAT": "1970-08-01",
                                    "Első foglalas": "2016-06-03",
                                    "Utolsó foglalas": "2017-02-23"
                                },
                                {
                                    "usernev": "krisztian4",
                                    "nev": "Czérna Krisztián",
                                    "SZUL_DAT": "1970-08-01",
                                    "Első foglalas": "2016-06-03",
                                    "Utolsó foglalas": "2017-02-23"
                                },
                                {
                                    "usernev": "krisztian4",
                                    "nev": "Czérna Krisztián",
                                    "SZUL_DAT": "1970-08-01",
                                    "Első foglalas": "2016-06-03",
                                    "Utolsó foglalas": "2017-02-23"
                                },
                                {
                                    "usernev": "krisztian4",
                                    "nev": "Czérna Krisztián",
                                    "SZUL_DAT": "1970-08-01",
                                    "Első foglalas": "2016-06-03",
                                    "Utolsó foglalas": "2017-02-23"
                                },
                                {
                                    "usernev": "KRISZTIANM",
                                    "nev": "Mogyródi Krisztián",
                                    "SZUL_DAT": "1968-05-27",
                                    "Első foglalas": "2016-04-09",
                                    "Utolsó foglalas": "2017-01-16"
                                },
                                {
                                    "usernev": "KRISZTIANM",
                                    "nev": "Mogyródi Krisztián",
                                    "SZUL_DAT": "1968-05-27",
                                    "Első foglalas": "2016-04-09",
                                    "Utolsó foglalas": "2017-01-16"
                                },
                                {
                                    "usernev": "KRISZTIANM",
                                    "nev": "Mogyródi Krisztián",
                                    "SZUL_DAT": "1968-05-27",
                                    "Első foglalas": "2016-04-09",
                                    "Utolsó foglalas": "2017-01-16"
                                },
                                {
                                    "usernev": "KRISZTIANM",
                                    "nev": "Mogyródi Krisztián",
                                    "SZUL_DAT": "1968-05-27",
                                    "Első foglalas": "2016-04-09",
                                    "Utolsó foglalas": "2017-01-16"
                                },
                                {
                                    "usernev": "KRISZTIANM",
                                    "nev": "Mogyródi Krisztián",
                                    "SZUL_DAT": "1968-05-27",
                                    "Első foglalas": "2016-04-09",
                                    "Utolsó foglalas": "2017-01-16"
                                },
                                {
                                    "usernev": "KRISZTIANM",
                                    "nev": "Mogyródi Krisztián",
                                    "SZUL_DAT": "1968-05-27",
                                    "Első foglalas": "2016-04-09",
                                    "Utolsó foglalas": "2017-01-16"
                                },
                                {
                                    "usernev": "krisztina",
                                    "nev": "Szedlár Krisztina",
                                    "SZUL_DAT": "1979-05-10",
                                    "Első foglalas": "2016-05-21",
                                    "Utolsó foglalas": "2017-02-16"
                                },
                                {
                                    "usernev": "krisztina",
                                    "nev": "Szedlár Krisztina",
                                    "SZUL_DAT": "1979-05-10",
                                    "Első foglalas": "2016-05-21",
                                    "Utolsó foglalas": "2017-02-16"
                                },
                                {
                                    "usernev": "krisztina",
                                    "nev": "Szedlár Krisztina",
                                    "SZUL_DAT": "1979-05-10",
                                    "Első foglalas": "2016-05-21",
                                    "Utolsó foglalas": "2017-02-16"
                                },
                                {
                                    "usernev": "krisztina",
                                    "nev": "Szedlár Krisztina",
                                    "SZUL_DAT": "1979-05-10",
                                    "Első foglalas": "2016-05-21",
                                    "Utolsó foglalas": "2017-02-16"
                                },
                                {
                                    "usernev": "krisztina",
                                    "nev": "Szedlár Krisztina",
                                    "SZUL_DAT": "1979-05-10",
                                    "Első foglalas": "2016-05-21",
                                    "Utolsó foglalas": "2017-02-16"
                                },
                                {
                                    "usernev": "krisztina",
                                    "nev": "Szedlár Krisztina",
                                    "SZUL_DAT": "1979-05-10",
                                    "Első foglalas": "2016-05-21",
                                    "Utolsó foglalas": "2017-02-16"
                                },
                                {
                                    "usernev": "krisztina",
                                    "nev": "Szedlár Krisztina",
                                    "SZUL_DAT": "1979-05-10",
                                    "Első foglalas": "2016-05-21",
                                    "Utolsó foglalas": "2017-02-16"
                                },
                                {
                                    "usernev": "krisztina",
                                    "nev": "Szedlár Krisztina",
                                    "SZUL_DAT": "1979-05-10",
                                    "Első foglalas": "2016-05-21",
                                    "Utolsó foglalas": "2017-02-16"
                                },
                                {
                                    "usernev": "krisztina1",
                                    "nev": "Bori Krisztina",
                                    "SZUL_DAT": "1969-10-13",
                                    "Első foglalas": "2016-04-28",
                                    "Utolsó foglalas": "2017-01-21"
                                },
                                {
                                    "usernev": "krisztina1",
                                    "nev": "Bori Krisztina",
                                    "SZUL_DAT": "1969-10-13",
                                    "Első foglalas": "2016-04-28",
                                    "Utolsó foglalas": "2017-01-21"
                                },
                                {
                                    "usernev": "krisztina1",
                                    "nev": "Bori Krisztina",
                                    "SZUL_DAT": "1969-10-13",
                                    "Első foglalas": "2016-04-28",
                                    "Utolsó foglalas": "2017-01-21"
                                },
                                {
                                    "usernev": "krisztina1",
                                    "nev": "Bori Krisztina",
                                    "SZUL_DAT": "1969-10-13",
                                    "Első foglalas": "2016-04-28",
                                    "Utolsó foglalas": "2017-01-21"
                                },
                                {
                                    "usernev": "krisztina1",
                                    "nev": "Bori Krisztina",
                                    "SZUL_DAT": "1969-10-13",
                                    "Első foglalas": "2016-04-28",
                                    "Utolsó foglalas": "2017-01-21"
                                },
                                {
                                    "usernev": "krisztina1",
                                    "nev": "Bori Krisztina",
                                    "SZUL_DAT": "1969-10-13",
                                    "Első foglalas": "2016-04-28",
                                    "Utolsó foglalas": "2017-01-21"
                                },
                                {
                                    "usernev": "KRISZTINAG",
                                    "nev": "Gyárfás Krisztina",
                                    "SZUL_DAT": "1987-09-19",
                                    "Első foglalas": "2016-04-23",
                                    "Utolsó foglalas": "2017-01-25"
                                },
                                {
                                    "usernev": "KRISZTINAG",
                                    "nev": "Gyárfás Krisztina",
                                    "SZUL_DAT": "1987-09-19",
                                    "Első foglalas": "2016-04-23",
                                    "Utolsó foglalas": "2017-01-25"
                                },
                                {
                                    "usernev": "KRISZTINAG",
                                    "nev": "Gyárfás Krisztina",
                                    "SZUL_DAT": "1987-09-19",
                                    "Első foglalas": "2016-04-23",
                                    "Utolsó foglalas": "2017-01-25"
                                },
                                {
                                    "usernev": "KRISZTINAG",
                                    "nev": "Gyárfás Krisztina",
                                    "SZUL_DAT": "1987-09-19",
                                    "Első foglalas": "2016-04-23",
                                    "Utolsó foglalas": "2017-01-25"
                                },
                                {
                                    "usernev": "KRISZTINAG",
                                    "nev": "Gyárfás Krisztina",
                                    "SZUL_DAT": "1987-09-19",
                                    "Első foglalas": "2016-04-23",
                                    "Utolsó foglalas": "2017-01-25"
                                },
                                {
                                    "usernev": "lajos",
                                    "nev": "Kiss Lajos",
                                    "SZUL_DAT": "1978-10-31",
                                    "Első foglalas": "2016-07-18",
                                    "Utolsó foglalas": "2017-02-12"
                                },
                                {
                                    "usernev": "lajos",
                                    "nev": "Kiss Lajos",
                                    "SZUL_DAT": "1978-10-31",
                                    "Első foglalas": "2016-07-18",
                                    "Utolsó foglalas": "2017-02-12"
                                },
                                {
                                    "usernev": "lajos",
                                    "nev": "Kiss Lajos",
                                    "SZUL_DAT": "1978-10-31",
                                    "Első foglalas": "2016-07-18",
                                    "Utolsó foglalas": "2017-02-12"
                                },
                                {
                                    "usernev": "lala",
                                    "nev": "Nagymihály Lajos",
                                    "SZUL_DAT": "1997-02-24",
                                    "Első foglalas": "2016-06-16",
                                    "Utolsó foglalas": "2017-01-17"
                                },
                                {
                                    "usernev": "lala",
                                    "nev": "Nagymihály Lajos",
                                    "SZUL_DAT": "1997-02-24",
                                    "Első foglalas": "2016-06-16",
                                    "Utolsó foglalas": "2017-01-17"
                                },
                                {
                                    "usernev": "lala",
                                    "nev": "Nagymihály Lajos",
                                    "SZUL_DAT": "1997-02-24",
                                    "Első foglalas": "2016-06-16",
                                    "Utolsó foglalas": "2017-01-17"
                                },
                                {
                                    "usernev": "lala",
                                    "nev": "Nagymihály Lajos",
                                    "SZUL_DAT": "1997-02-24",
                                    "Első foglalas": "2016-06-16",
                                    "Utolsó foglalas": "2017-01-17"
                                },
                                {
                                    "usernev": "lala",
                                    "nev": "Nagymihály Lajos",
                                    "SZUL_DAT": "1997-02-24",
                                    "Első foglalas": "2016-06-16",
                                    "Utolsó foglalas": "2017-01-17"
                                },
                                {
                                    "usernev": "lala",
                                    "nev": "Nagymihály Lajos",
                                    "SZUL_DAT": "1997-02-24",
                                    "Első foglalas": "2016-06-16",
                                    "Utolsó foglalas": "2017-01-17"
                                },
                                {
                                    "usernev": "laszlo1",
                                    "nev": "Farkas László",
                                    "SZUL_DAT": "1967-10-30",
                                    "Első foglalas": "2016-09-23",
                                    "Utolsó foglalas": "2016-09-23"
                                },
                                {
                                    "usernev": "laszlo2",
                                    "nev": "Móra László",
                                    "SZUL_DAT": "1975-02-19",
                                    "Első foglalas": "2016-04-06",
                                    "Utolsó foglalas": "2016-11-25"
                                },
                                {
                                    "usernev": "laszlo2",
                                    "nev": "Móra László",
                                    "SZUL_DAT": "1975-02-19",
                                    "Első foglalas": "2016-04-06",
                                    "Utolsó foglalas": "2016-11-25"
                                },
                                {
                                    "usernev": "laszlo2",
                                    "nev": "Móra László",
                                    "SZUL_DAT": "1975-02-19",
                                    "Első foglalas": "2016-04-06",
                                    "Utolsó foglalas": "2016-11-25"
                                },
                                {
                                    "usernev": "laszlo2",
                                    "nev": "Móra László",
                                    "SZUL_DAT": "1975-02-19",
                                    "Első foglalas": "2016-04-06",
                                    "Utolsó foglalas": "2016-11-25"
                                },
                                {
                                    "usernev": "laszlo2",
                                    "nev": "Móra László",
                                    "SZUL_DAT": "1975-02-19",
                                    "Első foglalas": "2016-04-06",
                                    "Utolsó foglalas": "2016-11-25"
                                },
                                {
                                    "usernev": "LASZLOA",
                                    "nev": "Antal László",
                                    "SZUL_DAT": "1969-06-29",
                                    "Első foglalas": "2016-06-03",
                                    "Utolsó foglalas": "2017-02-08"
                                },
                                {
                                    "usernev": "LASZLOA",
                                    "nev": "Antal László",
                                    "SZUL_DAT": "1969-06-29",
                                    "Első foglalas": "2016-06-03",
                                    "Utolsó foglalas": "2017-02-08"
                                },
                                {
                                    "usernev": "LASZLOA",
                                    "nev": "Antal László",
                                    "SZUL_DAT": "1969-06-29",
                                    "Első foglalas": "2016-06-03",
                                    "Utolsó foglalas": "2017-02-08"
                                },
                                {
                                    "usernev": "LASZLOA",
                                    "nev": "Antal László",
                                    "SZUL_DAT": "1969-06-29",
                                    "Első foglalas": "2016-06-03",
                                    "Utolsó foglalas": "2017-02-08"
                                },
                                {
                                    "usernev": "LASZLON",
                                    "nev": "Nagy László",
                                    "SZUL_DAT": "1969-04-12",
                                    "Első foglalas": "2016-06-03",
                                    "Utolsó foglalas": "2017-02-18"
                                },
                                {
                                    "usernev": "LASZLON",
                                    "nev": "Nagy László",
                                    "SZUL_DAT": "1969-04-12",
                                    "Első foglalas": "2016-06-03",
                                    "Utolsó foglalas": "2017-02-18"
                                },
                                {
                                    "usernev": "LASZLON",
                                    "nev": "Nagy László",
                                    "SZUL_DAT": "1969-04-12",
                                    "Első foglalas": "2016-06-03",
                                    "Utolsó foglalas": "2017-02-18"
                                },
                                {
                                    "usernev": "LASZLON",
                                    "nev": "Nagy László",
                                    "SZUL_DAT": "1969-04-12",
                                    "Első foglalas": "2016-06-03",
                                    "Utolsó foglalas": "2017-02-18"
                                },
                                {
                                    "usernev": "LASZLON",
                                    "nev": "Nagy László",
                                    "SZUL_DAT": "1969-04-12",
                                    "Első foglalas": "2016-06-03",
                                    "Utolsó foglalas": "2017-02-18"
                                },
                                {
                                    "usernev": "LASZLON",
                                    "nev": "Nagy László",
                                    "SZUL_DAT": "1969-04-12",
                                    "Első foglalas": "2016-06-03",
                                    "Utolsó foglalas": "2017-02-18"
                                },
                                {
                                    "usernev": "maria1",
                                    "nev": "Baráth Mária",
                                    "SZUL_DAT": "1995-11-19",
                                    "Első foglalas": "2016-05-13",
                                    "Utolsó foglalas": "2017-02-24"
                                },
                                {
                                    "usernev": "maria1",
                                    "nev": "Baráth Mária",
                                    "SZUL_DAT": "1995-11-19",
                                    "Első foglalas": "2016-05-13",
                                    "Utolsó foglalas": "2017-02-24"
                                },
                                {
                                    "usernev": "maria1",
                                    "nev": "Baráth Mária",
                                    "SZUL_DAT": "1995-11-19",
                                    "Első foglalas": "2016-05-13",
                                    "Utolsó foglalas": "2017-02-24"
                                },
                                {
                                    "usernev": "maria1",
                                    "nev": "Baráth Mária",
                                    "SZUL_DAT": "1995-11-19",
                                    "Első foglalas": "2016-05-13",
                                    "Utolsó foglalas": "2017-02-24"
                                },
                                {
                                    "usernev": "maria1",
                                    "nev": "Baráth Mária",
                                    "SZUL_DAT": "1995-11-19",
                                    "Első foglalas": "2016-05-13",
                                    "Utolsó foglalas": "2017-02-24"
                                },
                                {
                                    "usernev": "maria1",
                                    "nev": "Baráth Mária",
                                    "SZUL_DAT": "1995-11-19",
                                    "Első foglalas": "2016-05-13",
                                    "Utolsó foglalas": "2017-02-24"
                                },
                                {
                                    "usernev": "maria1",
                                    "nev": "Baráth Mária",
                                    "SZUL_DAT": "1995-11-19",
                                    "Első foglalas": "2016-05-13",
                                    "Utolsó foglalas": "2017-02-24"
                                },
                                {
                                    "usernev": "maria1",
                                    "nev": "Baráth Mária",
                                    "SZUL_DAT": "1995-11-19",
                                    "Első foglalas": "2016-05-13",
                                    "Utolsó foglalas": "2017-02-24"
                                },
                                {
                                    "usernev": "mark",
                                    "nev": "Kispál Márk",
                                    "SZUL_DAT": "1996-01-23",
                                    "Első foglalas": "2016-04-19",
                                    "Utolsó foglalas": "2016-11-19"
                                },
                                {
                                    "usernev": "mark",
                                    "nev": "Kispál Márk",
                                    "SZUL_DAT": "1996-01-23",
                                    "Első foglalas": "2016-04-19",
                                    "Utolsó foglalas": "2016-11-19"
                                },
                                {
                                    "usernev": "mark",
                                    "nev": "Kispál Márk",
                                    "SZUL_DAT": "1996-01-23",
                                    "Első foglalas": "2016-04-19",
                                    "Utolsó foglalas": "2016-11-19"
                                },
                                {
                                    "usernev": "mark",
                                    "nev": "Kispál Márk",
                                    "SZUL_DAT": "1996-01-23",
                                    "Első foglalas": "2016-04-19",
                                    "Utolsó foglalas": "2016-11-19"
                                },
                                {
                                    "usernev": "mark",
                                    "nev": "Kispál Márk",
                                    "SZUL_DAT": "1996-01-23",
                                    "Első foglalas": "2016-04-19",
                                    "Utolsó foglalas": "2016-11-19"
                                },
                                {
                                    "usernev": "MARKH",
                                    "nev": "Horváth Márk",
                                    "SZUL_DAT": "1997-09-23",
                                    "Első foglalas": "2016-09-14",
                                    "Utolsó foglalas": "2017-01-22"
                                },
                                {
                                    "usernev": "MARKH",
                                    "nev": "Horváth Márk",
                                    "SZUL_DAT": "1997-09-23",
                                    "Első foglalas": "2016-09-14",
                                    "Utolsó foglalas": "2017-01-22"
                                },
                                {
                                    "usernev": "MARKH",
                                    "nev": "Horváth Márk",
                                    "SZUL_DAT": "1997-09-23",
                                    "Első foglalas": "2016-09-14",
                                    "Utolsó foglalas": "2017-01-22"
                                },
                                {
                                    "usernev": "MARKH",
                                    "nev": "Horváth Márk",
                                    "SZUL_DAT": "1997-09-23",
                                    "Első foglalas": "2016-09-14",
                                    "Utolsó foglalas": "2017-01-22"
                                },
                                {
                                    "usernev": "marton",
                                    "nev": "Kalacsi Márton",
                                    "SZUL_DAT": "1989-06-24",
                                    "Első foglalas": "2016-04-27",
                                    "Utolsó foglalas": "2017-03-02"
                                },
                                {
                                    "usernev": "marton",
                                    "nev": "Kalacsi Márton",
                                    "SZUL_DAT": "1989-06-24",
                                    "Első foglalas": "2016-04-27",
                                    "Utolsó foglalas": "2017-03-02"
                                },
                                {
                                    "usernev": "marton",
                                    "nev": "Kalacsi Márton",
                                    "SZUL_DAT": "1989-06-24",
                                    "Első foglalas": "2016-04-27",
                                    "Utolsó foglalas": "2017-03-02"
                                },
                                {
                                    "usernev": "marton",
                                    "nev": "Kalacsi Márton",
                                    "SZUL_DAT": "1989-06-24",
                                    "Első foglalas": "2016-04-27",
                                    "Utolsó foglalas": "2017-03-02"
                                },
                                {
                                    "usernev": "marton",
                                    "nev": "Kalacsi Márton",
                                    "SZUL_DAT": "1989-06-24",
                                    "Első foglalas": "2016-04-27",
                                    "Utolsó foglalas": "2017-03-02"
                                },
                                {
                                    "usernev": "marton",
                                    "nev": "Kalacsi Márton",
                                    "SZUL_DAT": "1989-06-24",
                                    "Első foglalas": "2016-04-27",
                                    "Utolsó foglalas": "2017-03-02"
                                },
                                {
                                    "usernev": "marton",
                                    "nev": "Kalacsi Márton",
                                    "SZUL_DAT": "1989-06-24",
                                    "Első foglalas": "2016-04-27",
                                    "Utolsó foglalas": "2017-03-02"
                                },
                                {
                                    "usernev": "MATEK",
                                    "nev": "Koza Máté",
                                    "SZUL_DAT": "1997-02-28",
                                    "Első foglalas": "2016-08-17",
                                    "Utolsó foglalas": "2017-01-16"
                                },
                                {
                                    "usernev": "MATEK",
                                    "nev": "Koza Máté",
                                    "SZUL_DAT": "1997-02-28",
                                    "Első foglalas": "2016-08-17",
                                    "Utolsó foglalas": "2017-01-16"
                                },
                                {
                                    "usernev": "MATEK",
                                    "nev": "Koza Máté",
                                    "SZUL_DAT": "1997-02-28",
                                    "Első foglalas": "2016-08-17",
                                    "Utolsó foglalas": "2017-01-16"
                                },
                                {
                                    "usernev": "matyas2",
                                    "nev": "Botka Mátyás",
                                    "SZUL_DAT": "1972-07-07",
                                    "Első foglalas": "2016-07-13",
                                    "Utolsó foglalas": "2016-12-09"
                                },
                                {
                                    "usernev": "matyas2",
                                    "nev": "Botka Mátyás",
                                    "SZUL_DAT": "1972-07-07",
                                    "Első foglalas": "2016-07-13",
                                    "Utolsó foglalas": "2016-12-09"
                                },
                                {
                                    "usernev": "MATYASS",
                                    "nev": "Szilágyi Mátyás",
                                    "SZUL_DAT": "1975-03-22",
                                    "Első foglalas": "2016-05-10",
                                    "Utolsó foglalas": "2017-01-09"
                                },
                                {
                                    "usernev": "MATYASS",
                                    "nev": "Szilágyi Mátyás",
                                    "SZUL_DAT": "1975-03-22",
                                    "Első foglalas": "2016-05-10",
                                    "Utolsó foglalas": "2017-01-09"
                                },
                                {
                                    "usernev": "MATYASS",
                                    "nev": "Szilágyi Mátyás",
                                    "SZUL_DAT": "1975-03-22",
                                    "Első foglalas": "2016-05-10",
                                    "Utolsó foglalas": "2017-01-09"
                                },
                                {
                                    "usernev": "MATYASS",
                                    "nev": "Szilágyi Mátyás",
                                    "SZUL_DAT": "1975-03-22",
                                    "Első foglalas": "2016-05-10",
                                    "Utolsó foglalas": "2017-01-09"
                                },
                                {
                                    "usernev": "MATYASS",
                                    "nev": "Szilágyi Mátyás",
                                    "SZUL_DAT": "1975-03-22",
                                    "Első foglalas": "2016-05-10",
                                    "Utolsó foglalas": "2017-01-09"
                                },
                                {
                                    "usernev": "MATYASS",
                                    "nev": "Szilágyi Mátyás",
                                    "SZUL_DAT": "1975-03-22",
                                    "Első foglalas": "2016-05-10",
                                    "Utolsó foglalas": "2017-01-09"
                                },
                                {
                                    "usernev": "MATYASS",
                                    "nev": "Szilágyi Mátyás",
                                    "SZUL_DAT": "1975-03-22",
                                    "Első foglalas": "2016-05-10",
                                    "Utolsó foglalas": "2017-01-09"
                                },
                                {
                                    "usernev": "MATYASS",
                                    "nev": "Szilágyi Mátyás",
                                    "SZUL_DAT": "1975-03-22",
                                    "Első foglalas": "2016-05-10",
                                    "Utolsó foglalas": "2017-01-09"
                                },
                                {
                                    "usernev": "MIHALYJ",
                                    "nev": "Juhász Mihály",
                                    "SZUL_DAT": "1979-10-12",
                                    "Első foglalas": "2016-05-30",
                                    "Utolsó foglalas": "2017-02-06"
                                },
                                {
                                    "usernev": "MIHALYJ",
                                    "nev": "Juhász Mihály",
                                    "SZUL_DAT": "1979-10-12",
                                    "Első foglalas": "2016-05-30",
                                    "Utolsó foglalas": "2017-02-06"
                                },
                                {
                                    "usernev": "MIHALYJ",
                                    "nev": "Juhász Mihály",
                                    "SZUL_DAT": "1979-10-12",
                                    "Első foglalas": "2016-05-30",
                                    "Utolsó foglalas": "2017-02-06"
                                },
                                {
                                    "usernev": "MIHALYJ",
                                    "nev": "Juhász Mihály",
                                    "SZUL_DAT": "1979-10-12",
                                    "Első foglalas": "2016-05-30",
                                    "Utolsó foglalas": "2017-02-06"
                                },
                                {
                                    "usernev": "MIHALYJ",
                                    "nev": "Juhász Mihály",
                                    "SZUL_DAT": "1979-10-12",
                                    "Első foglalas": "2016-05-30",
                                    "Utolsó foglalas": "2017-02-06"
                                },
                                {
                                    "usernev": "miklos2",
                                    "nev": "Gondos Miklós",
                                    "SZUL_DAT": "1995-10-07",
                                    "Első foglalas": "2016-04-19",
                                    "Utolsó foglalas": "2016-11-16"
                                },
                                {
                                    "usernev": "miklos2",
                                    "nev": "Gondos Miklós",
                                    "SZUL_DAT": "1995-10-07",
                                    "Első foglalas": "2016-04-19",
                                    "Utolsó foglalas": "2016-11-16"
                                },
                                {
                                    "usernev": "miklos2",
                                    "nev": "Gondos Miklós",
                                    "SZUL_DAT": "1995-10-07",
                                    "Első foglalas": "2016-04-19",
                                    "Utolsó foglalas": "2016-11-16"
                                },
                                {
                                    "usernev": "MIKLOSB",
                                    "nev": "Balla Miklós",
                                    "SZUL_DAT": "1979-02-16",
                                    "Első foglalas": "2016-06-26",
                                    "Utolsó foglalas": "2016-12-05"
                                },
                                {
                                    "usernev": "MIKLOSB",
                                    "nev": "Balla Miklós",
                                    "SZUL_DAT": "1979-02-16",
                                    "Első foglalas": "2016-06-26",
                                    "Utolsó foglalas": "2016-12-05"
                                },
                                {
                                    "usernev": "MIKLOSB",
                                    "nev": "Balla Miklós",
                                    "SZUL_DAT": "1979-02-16",
                                    "Első foglalas": "2016-06-26",
                                    "Utolsó foglalas": "2016-12-05"
                                },
                                {
                                    "usernev": "MONIKAM",
                                    "nev": "Mohos Mónika",
                                    "SZUL_DAT": "1974-10-01",
                                    "Első foglalas": "2016-04-29",
                                    "Utolsó foglalas": "2017-02-23"
                                },
                                {
                                    "usernev": "MONIKAM",
                                    "nev": "Mohos Mónika",
                                    "SZUL_DAT": "1974-10-01",
                                    "Első foglalas": "2016-04-29",
                                    "Utolsó foglalas": "2017-02-23"
                                },
                                {
                                    "usernev": "MONIKAM",
                                    "nev": "Mohos Mónika",
                                    "SZUL_DAT": "1974-10-01",
                                    "Első foglalas": "2016-04-29",
                                    "Utolsó foglalas": "2017-02-23"
                                },
                                {
                                    "usernev": "MONIKAM",
                                    "nev": "Mohos Mónika",
                                    "SZUL_DAT": "1974-10-01",
                                    "Első foglalas": "2016-04-29",
                                    "Utolsó foglalas": "2017-02-23"
                                },
                                {
                                    "usernev": "MONIKAM",
                                    "nev": "Mohos Mónika",
                                    "SZUL_DAT": "1974-10-01",
                                    "Első foglalas": "2016-04-29",
                                    "Utolsó foglalas": "2017-02-23"
                                },
                                {
                                    "usernev": "MONIKAM",
                                    "nev": "Mohos Mónika",
                                    "SZUL_DAT": "1974-10-01",
                                    "Első foglalas": "2016-04-29",
                                    "Utolsó foglalas": "2017-02-23"
                                },
                                {
                                    "usernev": "NANDORF",
                                    "nev": "Fő Nándor",
                                    "SZUL_DAT": "1968-11-12",
                                    "Első foglalas": "2016-04-06",
                                    "Utolsó foglalas": "2017-02-05"
                                },
                                {
                                    "usernev": "NANDORF",
                                    "nev": "Fő Nándor",
                                    "SZUL_DAT": "1968-11-12",
                                    "Első foglalas": "2016-04-06",
                                    "Utolsó foglalas": "2017-02-05"
                                },
                                {
                                    "usernev": "NANDORF",
                                    "nev": "Fő Nándor",
                                    "SZUL_DAT": "1968-11-12",
                                    "Első foglalas": "2016-04-06",
                                    "Utolsó foglalas": "2017-02-05"
                                },
                                {
                                    "usernev": "nikolett3",
                                    "nev": "Horváth Nikolett",
                                    "SZUL_DAT": "1981-09-29",
                                    "Első foglalas": "2016-05-24",
                                    "Utolsó foglalas": "2016-10-22"
                                },
                                {
                                    "usernev": "nikolett3",
                                    "nev": "Horváth Nikolett",
                                    "SZUL_DAT": "1981-09-29",
                                    "Első foglalas": "2016-05-24",
                                    "Utolsó foglalas": "2016-10-22"
                                },
                                {
                                    "usernev": "nikolett3",
                                    "nev": "Horváth Nikolett",
                                    "SZUL_DAT": "1981-09-29",
                                    "Első foglalas": "2016-05-24",
                                    "Utolsó foglalas": "2016-10-22"
                                },
                                {
                                    "usernev": "nikolett3",
                                    "nev": "Horváth Nikolett",
                                    "SZUL_DAT": "1981-09-29",
                                    "Első foglalas": "2016-05-24",
                                    "Utolsó foglalas": "2016-10-22"
                                },
                                {
                                    "usernev": "nikoletta4",
                                    "nev": "Kő Nikoletta",
                                    "SZUL_DAT": "1972-01-10",
                                    "Első foglalas": "2016-04-08",
                                    "Utolsó foglalas": "2017-02-01"
                                },
                                {
                                    "usernev": "nikoletta4",
                                    "nev": "Kő Nikoletta",
                                    "SZUL_DAT": "1972-01-10",
                                    "Első foglalas": "2016-04-08",
                                    "Utolsó foglalas": "2017-02-01"
                                },
                                {
                                    "usernev": "nikoletta4",
                                    "nev": "Kő Nikoletta",
                                    "SZUL_DAT": "1972-01-10",
                                    "Első foglalas": "2016-04-08",
                                    "Utolsó foglalas": "2017-02-01"
                                },
                                {
                                    "usernev": "nikoletta4",
                                    "nev": "Kő Nikoletta",
                                    "SZUL_DAT": "1972-01-10",
                                    "Első foglalas": "2016-04-08",
                                    "Utolsó foglalas": "2017-02-01"
                                },
                                {
                                    "usernev": "nikoletta4",
                                    "nev": "Kő Nikoletta",
                                    "SZUL_DAT": "1972-01-10",
                                    "Első foglalas": "2016-04-08",
                                    "Utolsó foglalas": "2017-02-01"
                                },
                                {
                                    "usernev": "nikoletta4",
                                    "nev": "Kő Nikoletta",
                                    "SZUL_DAT": "1972-01-10",
                                    "Első foglalas": "2016-04-08",
                                    "Utolsó foglalas": "2017-02-01"
                                },
                                {
                                    "usernev": "nikoletta4",
                                    "nev": "Kő Nikoletta",
                                    "SZUL_DAT": "1972-01-10",
                                    "Első foglalas": "2016-04-08",
                                    "Utolsó foglalas": "2017-02-01"
                                },
                                {
                                    "usernev": "NIKOLETTAT",
                                    "nev": "Tatár Nikoletta",
                                    "SZUL_DAT": "1997-10-19",
                                    "Első foglalas": "2016-05-22",
                                    "Utolsó foglalas": "2016-09-21"
                                },
                                {
                                    "usernev": "NIKOLETTAT",
                                    "nev": "Tatár Nikoletta",
                                    "SZUL_DAT": "1997-10-19",
                                    "Első foglalas": "2016-05-22",
                                    "Utolsó foglalas": "2016-09-21"
                                },
                                {
                                    "usernev": "NIKOLETTAT",
                                    "nev": "Tatár Nikoletta",
                                    "SZUL_DAT": "1997-10-19",
                                    "Első foglalas": "2016-05-22",
                                    "Utolsó foglalas": "2016-09-21"
                                },
                                {
                                    "usernev": "NIKOLETTAT",
                                    "nev": "Tatár Nikoletta",
                                    "SZUL_DAT": "1997-10-19",
                                    "Első foglalas": "2016-05-22",
                                    "Utolsó foglalas": "2016-09-21"
                                },
                                {
                                    "usernev": "norbert",
                                    "nev": "Szűcs Norbert",
                                    "SZUL_DAT": "1969-07-17",
                                    "Első foglalas": "2016-07-08",
                                    "Utolsó foglalas": "2017-02-26"
                                },
                                {
                                    "usernev": "norbert",
                                    "nev": "Szűcs Norbert",
                                    "SZUL_DAT": "1969-07-17",
                                    "Első foglalas": "2016-07-08",
                                    "Utolsó foglalas": "2017-02-26"
                                },
                                {
                                    "usernev": "norbert",
                                    "nev": "Szűcs Norbert",
                                    "SZUL_DAT": "1969-07-17",
                                    "Első foglalas": "2016-07-08",
                                    "Utolsó foglalas": "2017-02-26"
                                },
                                {
                                    "usernev": "norbert",
                                    "nev": "Szűcs Norbert",
                                    "SZUL_DAT": "1969-07-17",
                                    "Első foglalas": "2016-07-08",
                                    "Utolsó foglalas": "2017-02-26"
                                },
                                {
                                    "usernev": "norbert",
                                    "nev": "Szűcs Norbert",
                                    "SZUL_DAT": "1969-07-17",
                                    "Első foglalas": "2016-07-08",
                                    "Utolsó foglalas": "2017-02-26"
                                },
                                {
                                    "usernev": "norbert2",
                                    "nev": "Hegedűs Norbert",
                                    "SZUL_DAT": "1991-07-17",
                                    "Első foglalas": "2016-04-19",
                                    "Utolsó foglalas": "2017-01-29"
                                },
                                {
                                    "usernev": "norbert2",
                                    "nev": "Hegedűs Norbert",
                                    "SZUL_DAT": "1991-07-17",
                                    "Első foglalas": "2016-04-19",
                                    "Utolsó foglalas": "2017-01-29"
                                },
                                {
                                    "usernev": "norbert2",
                                    "nev": "Hegedűs Norbert",
                                    "SZUL_DAT": "1991-07-17",
                                    "Első foglalas": "2016-04-19",
                                    "Utolsó foglalas": "2017-01-29"
                                },
                                {
                                    "usernev": "norbert2",
                                    "nev": "Hegedűs Norbert",
                                    "SZUL_DAT": "1991-07-17",
                                    "Első foglalas": "2016-04-19",
                                    "Utolsó foglalas": "2017-01-29"
                                },
                                {
                                    "usernev": "norbert2",
                                    "nev": "Hegedűs Norbert",
                                    "SZUL_DAT": "1991-07-17",
                                    "Első foglalas": "2016-04-19",
                                    "Utolsó foglalas": "2017-01-29"
                                },
                                {
                                    "usernev": "norbert2",
                                    "nev": "Hegedűs Norbert",
                                    "SZUL_DAT": "1991-07-17",
                                    "Első foglalas": "2016-04-19",
                                    "Utolsó foglalas": "2017-01-29"
                                },
                                {
                                    "usernev": "norbert2",
                                    "nev": "Hegedűs Norbert",
                                    "SZUL_DAT": "1991-07-17",
                                    "Első foglalas": "2016-04-19",
                                    "Utolsó foglalas": "2017-01-29"
                                },
                                {
                                    "usernev": "norbert4",
                                    "nev": "Mile Norbert",
                                    "SZUL_DAT": "1983-06-15",
                                    "Első foglalas": "2016-04-10",
                                    "Utolsó foglalas": "2017-03-03"
                                },
                                {
                                    "usernev": "norbert4",
                                    "nev": "Mile Norbert",
                                    "SZUL_DAT": "1983-06-15",
                                    "Első foglalas": "2016-04-10",
                                    "Utolsó foglalas": "2017-03-03"
                                },
                                {
                                    "usernev": "norbert4",
                                    "nev": "Mile Norbert",
                                    "SZUL_DAT": "1983-06-15",
                                    "Első foglalas": "2016-04-10",
                                    "Utolsó foglalas": "2017-03-03"
                                },
                                {
                                    "usernev": "norbert4",
                                    "nev": "Mile Norbert",
                                    "SZUL_DAT": "1983-06-15",
                                    "Első foglalas": "2016-04-10",
                                    "Utolsó foglalas": "2017-03-03"
                                },
                                {
                                    "usernev": "norbert4",
                                    "nev": "Mile Norbert",
                                    "SZUL_DAT": "1983-06-15",
                                    "Első foglalas": "2016-04-10",
                                    "Utolsó foglalas": "2017-03-03"
                                },
                                {
                                    "usernev": "norbert4",
                                    "nev": "Mile Norbert",
                                    "SZUL_DAT": "1983-06-15",
                                    "Első foglalas": "2016-04-10",
                                    "Utolsó foglalas": "2017-03-03"
                                },
                                {
                                    "usernev": "norbert4",
                                    "nev": "Mile Norbert",
                                    "SZUL_DAT": "1983-06-15",
                                    "Első foglalas": "2016-04-10",
                                    "Utolsó foglalas": "2017-03-03"
                                },
                                {
                                    "usernev": "norbert4",
                                    "nev": "Mile Norbert",
                                    "SZUL_DAT": "1983-06-15",
                                    "Első foglalas": "2016-04-10",
                                    "Utolsó foglalas": "2017-03-03"
                                },
                                {
                                    "usernev": "norbert4",
                                    "nev": "Mile Norbert",
                                    "SZUL_DAT": "1983-06-15",
                                    "Első foglalas": "2016-04-10",
                                    "Utolsó foglalas": "2017-03-03"
                                },
                                {
                                    "usernev": "norbert5",
                                    "nev": "Béres Norbert",
                                    "SZUL_DAT": "1975-07-27",
                                    "Első foglalas": "2016-06-24",
                                    "Utolsó foglalas": "2016-11-05"
                                },
                                {
                                    "usernev": "norbert5",
                                    "nev": "Béres Norbert",
                                    "SZUL_DAT": "1975-07-27",
                                    "Első foglalas": "2016-06-24",
                                    "Utolsó foglalas": "2016-11-05"
                                },
                                {
                                    "usernev": "norbert5",
                                    "nev": "Béres Norbert",
                                    "SZUL_DAT": "1975-07-27",
                                    "Első foglalas": "2016-06-24",
                                    "Utolsó foglalas": "2016-11-05"
                                },
                                {
                                    "usernev": "pal",
                                    "nev": "Barabás Pál",
                                    "SZUL_DAT": "1968-02-06",
                                    "Első foglalas": "2016-08-14",
                                    "Utolsó foglalas": "2017-02-20"
                                },
                                {
                                    "usernev": "pal",
                                    "nev": "Barabás Pál",
                                    "SZUL_DAT": "1968-02-06",
                                    "Első foglalas": "2016-08-14",
                                    "Utolsó foglalas": "2017-02-20"
                                },
                                {
                                    "usernev": "pal",
                                    "nev": "Barabás Pál",
                                    "SZUL_DAT": "1968-02-06",
                                    "Első foglalas": "2016-08-14",
                                    "Utolsó foglalas": "2017-02-20"
                                },
                                {
                                    "usernev": "pal",
                                    "nev": "Barabás Pál",
                                    "SZUL_DAT": "1968-02-06",
                                    "Első foglalas": "2016-08-14",
                                    "Utolsó foglalas": "2017-02-20"
                                },
                                {
                                    "usernev": "pal",
                                    "nev": "Barabás Pál",
                                    "SZUL_DAT": "1968-02-06",
                                    "Első foglalas": "2016-08-14",
                                    "Utolsó foglalas": "2017-02-20"
                                },
                                {
                                    "usernev": "peter1",
                                    "nev": "Kozma Péter",
                                    "SZUL_DAT": "1976-03-18",
                                    "Első foglalas": "2016-07-14",
                                    "Utolsó foglalas": "2017-02-28"
                                },
                                {
                                    "usernev": "peter1",
                                    "nev": "Kozma Péter",
                                    "SZUL_DAT": "1976-03-18",
                                    "Első foglalas": "2016-07-14",
                                    "Utolsó foglalas": "2017-02-28"
                                },
                                {
                                    "usernev": "peter1",
                                    "nev": "Kozma Péter",
                                    "SZUL_DAT": "1976-03-18",
                                    "Első foglalas": "2016-07-14",
                                    "Utolsó foglalas": "2017-02-28"
                                },
                                {
                                    "usernev": "peter1",
                                    "nev": "Kozma Péter",
                                    "SZUL_DAT": "1976-03-18",
                                    "Első foglalas": "2016-07-14",
                                    "Utolsó foglalas": "2017-02-28"
                                },
                                {
                                    "usernev": "peter2",
                                    "nev": "Bozsó Péter",
                                    "SZUL_DAT": "1976-01-26",
                                    "Első foglalas": "2016-07-03",
                                    "Utolsó foglalas": "2016-11-15"
                                },
                                {
                                    "usernev": "peter2",
                                    "nev": "Bozsó Péter",
                                    "SZUL_DAT": "1976-01-26",
                                    "Első foglalas": "2016-07-03",
                                    "Utolsó foglalas": "2016-11-15"
                                },
                                {
                                    "usernev": "peter2",
                                    "nev": "Bozsó Péter",
                                    "SZUL_DAT": "1976-01-26",
                                    "Első foglalas": "2016-07-03",
                                    "Utolsó foglalas": "2016-11-15"
                                },
                                {
                                    "usernev": "peter2",
                                    "nev": "Bozsó Péter",
                                    "SZUL_DAT": "1976-01-26",
                                    "Első foglalas": "2016-07-03",
                                    "Utolsó foglalas": "2016-11-15"
                                },
                                {
                                    "usernev": "peter3",
                                    "nev": "Szalai Péter",
                                    "SZUL_DAT": "1983-07-18",
                                    "Első foglalas": "2016-06-30",
                                    "Utolsó foglalas": "2017-02-21"
                                },
                                {
                                    "usernev": "peter3",
                                    "nev": "Szalai Péter",
                                    "SZUL_DAT": "1983-07-18",
                                    "Első foglalas": "2016-06-30",
                                    "Utolsó foglalas": "2017-02-21"
                                },
                                {
                                    "usernev": "peter3",
                                    "nev": "Szalai Péter",
                                    "SZUL_DAT": "1983-07-18",
                                    "Első foglalas": "2016-06-30",
                                    "Utolsó foglalas": "2017-02-21"
                                },
                                {
                                    "usernev": "peter3",
                                    "nev": "Szalai Péter",
                                    "SZUL_DAT": "1983-07-18",
                                    "Első foglalas": "2016-06-30",
                                    "Utolsó foglalas": "2017-02-21"
                                },
                                {
                                    "usernev": "peter3",
                                    "nev": "Szalai Péter",
                                    "SZUL_DAT": "1983-07-18",
                                    "Első foglalas": "2016-06-30",
                                    "Utolsó foglalas": "2017-02-21"
                                },
                                {
                                    "usernev": "peter3",
                                    "nev": "Szalai Péter",
                                    "SZUL_DAT": "1983-07-18",
                                    "Első foglalas": "2016-06-30",
                                    "Utolsó foglalas": "2017-02-21"
                                },
                                {
                                    "usernev": "peter4",
                                    "nev": "Bíró Péter",
                                    "SZUL_DAT": "1985-09-01",
                                    "Első foglalas": "2016-04-12",
                                    "Utolsó foglalas": "2017-02-05"
                                },
                                {
                                    "usernev": "peter4",
                                    "nev": "Bíró Péter",
                                    "SZUL_DAT": "1985-09-01",
                                    "Első foglalas": "2016-04-12",
                                    "Utolsó foglalas": "2017-02-05"
                                },
                                {
                                    "usernev": "peter4",
                                    "nev": "Bíró Péter",
                                    "SZUL_DAT": "1985-09-01",
                                    "Első foglalas": "2016-04-12",
                                    "Utolsó foglalas": "2017-02-05"
                                },
                                {
                                    "usernev": "peter4",
                                    "nev": "Bíró Péter",
                                    "SZUL_DAT": "1985-09-01",
                                    "Első foglalas": "2016-04-12",
                                    "Utolsó foglalas": "2017-02-05"
                                },
                                {
                                    "usernev": "peter4",
                                    "nev": "Bíró Péter",
                                    "SZUL_DAT": "1985-09-01",
                                    "Első foglalas": "2016-04-12",
                                    "Utolsó foglalas": "2017-02-05"
                                },
                                {
                                    "usernev": "peter4",
                                    "nev": "Bíró Péter",
                                    "SZUL_DAT": "1985-09-01",
                                    "Első foglalas": "2016-04-12",
                                    "Utolsó foglalas": "2017-02-05"
                                },
                                {
                                    "usernev": "peter4",
                                    "nev": "Bíró Péter",
                                    "SZUL_DAT": "1985-09-01",
                                    "Első foglalas": "2016-04-12",
                                    "Utolsó foglalas": "2017-02-05"
                                },
                                {
                                    "usernev": "peter4",
                                    "nev": "Bíró Péter",
                                    "SZUL_DAT": "1985-09-01",
                                    "Első foglalas": "2016-04-12",
                                    "Utolsó foglalas": "2017-02-05"
                                },
                                {
                                    "usernev": "peter4",
                                    "nev": "Bíró Péter",
                                    "SZUL_DAT": "1985-09-01",
                                    "Első foglalas": "2016-04-12",
                                    "Utolsó foglalas": "2017-02-05"
                                },
                                {
                                    "usernev": "peter4",
                                    "nev": "Bíró Péter",
                                    "SZUL_DAT": "1985-09-01",
                                    "Első foglalas": "2016-04-12",
                                    "Utolsó foglalas": "2017-02-05"
                                },
                                {
                                    "usernev": "peter4",
                                    "nev": "Bíró Péter",
                                    "SZUL_DAT": "1985-09-01",
                                    "Első foglalas": "2016-04-12",
                                    "Utolsó foglalas": "2017-02-05"
                                },
                                {
                                    "usernev": "peter4",
                                    "nev": "Bíró Péter",
                                    "SZUL_DAT": "1985-09-01",
                                    "Első foglalas": "2016-04-12",
                                    "Utolsó foglalas": "2017-02-05"
                                },
                                {
                                    "usernev": "PETERB",
                                    "nev": "Berendi Péter",
                                    "SZUL_DAT": "1969-01-01",
                                    "Első foglalas": "2016-04-06",
                                    "Utolsó foglalas": "2016-11-17"
                                },
                                {
                                    "usernev": "PETERB",
                                    "nev": "Berendi Péter",
                                    "SZUL_DAT": "1969-01-01",
                                    "Első foglalas": "2016-04-06",
                                    "Utolsó foglalas": "2016-11-17"
                                },
                                {
                                    "usernev": "PETERB",
                                    "nev": "Berendi Péter",
                                    "SZUL_DAT": "1969-01-01",
                                    "Első foglalas": "2016-04-06",
                                    "Utolsó foglalas": "2016-11-17"
                                },
                                {
                                    "usernev": "PETERB",
                                    "nev": "Berendi Péter",
                                    "SZUL_DAT": "1969-01-01",
                                    "Első foglalas": "2016-04-06",
                                    "Utolsó foglalas": "2016-11-17"
                                },
                                {
                                    "usernev": "PETERB",
                                    "nev": "Berendi Péter",
                                    "SZUL_DAT": "1969-01-01",
                                    "Első foglalas": "2016-04-06",
                                    "Utolsó foglalas": "2016-11-17"
                                },
                                {
                                    "usernev": "polla",
                                    "nev": "Palágyi Polla",
                                    "SZUL_DAT": "1994-02-04",
                                    "Első foglalas": "2016-04-17",
                                    "Utolsó foglalas": "2017-02-11"
                                },
                                {
                                    "usernev": "polla",
                                    "nev": "Palágyi Polla",
                                    "SZUL_DAT": "1994-02-04",
                                    "Első foglalas": "2016-04-17",
                                    "Utolsó foglalas": "2017-02-11"
                                },
                                {
                                    "usernev": "polla",
                                    "nev": "Palágyi Polla",
                                    "SZUL_DAT": "1994-02-04",
                                    "Első foglalas": "2016-04-17",
                                    "Utolsó foglalas": "2017-02-11"
                                },
                                {
                                    "usernev": "polla",
                                    "nev": "Palágyi Polla",
                                    "SZUL_DAT": "1994-02-04",
                                    "Első foglalas": "2016-04-17",
                                    "Utolsó foglalas": "2017-02-11"
                                },
                                {
                                    "usernev": "polla",
                                    "nev": "Palágyi Polla",
                                    "SZUL_DAT": "1994-02-04",
                                    "Első foglalas": "2016-04-17",
                                    "Utolsó foglalas": "2017-02-11"
                                },
                                {
                                    "usernev": "polla",
                                    "nev": "Palágyi Polla",
                                    "SZUL_DAT": "1994-02-04",
                                    "Első foglalas": "2016-04-17",
                                    "Utolsó foglalas": "2017-02-11"
                                },
                                {
                                    "usernev": "rajmond4",
                                    "nev": "Rácz Rajmond",
                                    "SZUL_DAT": "1993-09-25",
                                    "Első foglalas": "2016-09-05",
                                    "Utolsó foglalas": "2016-11-16"
                                },
                                {
                                    "usernev": "rajmond4",
                                    "nev": "Rácz Rajmond",
                                    "SZUL_DAT": "1993-09-25",
                                    "Első foglalas": "2016-09-05",
                                    "Utolsó foglalas": "2016-11-16"
                                },
                                {
                                    "usernev": "rajmond4",
                                    "nev": "Rácz Rajmond",
                                    "SZUL_DAT": "1993-09-25",
                                    "Első foglalas": "2016-09-05",
                                    "Utolsó foglalas": "2016-11-16"
                                },
                                {
                                    "usernev": "rajmond4",
                                    "nev": "Rácz Rajmond",
                                    "SZUL_DAT": "1993-09-25",
                                    "Első foglalas": "2016-09-05",
                                    "Utolsó foglalas": "2016-11-16"
                                },
                                {
                                    "usernev": "reka4",
                                    "nev": "Szikszai Réka",
                                    "SZUL_DAT": "1969-11-27",
                                    "Első foglalas": "2016-07-27",
                                    "Utolsó foglalas": "2017-02-26"
                                },
                                {
                                    "usernev": "reka4",
                                    "nev": "Szikszai Réka",
                                    "SZUL_DAT": "1969-11-27",
                                    "Első foglalas": "2016-07-27",
                                    "Utolsó foglalas": "2017-02-26"
                                },
                                {
                                    "usernev": "reka4",
                                    "nev": "Szikszai Réka",
                                    "SZUL_DAT": "1969-11-27",
                                    "Első foglalas": "2016-07-27",
                                    "Utolsó foglalas": "2017-02-26"
                                },
                                {
                                    "usernev": "reka4",
                                    "nev": "Szikszai Réka",
                                    "SZUL_DAT": "1969-11-27",
                                    "Első foglalas": "2016-07-27",
                                    "Utolsó foglalas": "2017-02-26"
                                },
                                {
                                    "usernev": "reka4",
                                    "nev": "Szikszai Réka",
                                    "SZUL_DAT": "1969-11-27",
                                    "Első foglalas": "2016-07-27",
                                    "Utolsó foglalas": "2017-02-26"
                                },
                                {
                                    "usernev": "RENATAK",
                                    "nev": "Kardos Renáta",
                                    "SZUL_DAT": "1988-05-17",
                                    "Első foglalas": "2016-10-27",
                                    "Utolsó foglalas": "2017-03-01"
                                },
                                {
                                    "usernev": "RENATAK",
                                    "nev": "Kardos Renáta",
                                    "SZUL_DAT": "1988-05-17",
                                    "Első foglalas": "2016-10-27",
                                    "Utolsó foglalas": "2017-03-01"
                                },
                                {
                                    "usernev": "RENATAK",
                                    "nev": "Kardos Renáta",
                                    "SZUL_DAT": "1988-05-17",
                                    "Első foglalas": "2016-10-27",
                                    "Utolsó foglalas": "2017-03-01"
                                },
                                {
                                    "usernev": "RENATAK",
                                    "nev": "Kardos Renáta",
                                    "SZUL_DAT": "1988-05-17",
                                    "Első foglalas": "2016-10-27",
                                    "Utolsó foglalas": "2017-03-01"
                                },
                                {
                                    "usernev": "RENATAK",
                                    "nev": "Kardos Renáta",
                                    "SZUL_DAT": "1988-05-17",
                                    "Első foglalas": "2016-10-27",
                                    "Utolsó foglalas": "2017-03-01"
                                },
                                {
                                    "usernev": "RENATAK",
                                    "nev": "Kardos Renáta",
                                    "SZUL_DAT": "1988-05-17",
                                    "Első foglalas": "2016-10-27",
                                    "Utolsó foglalas": "2017-03-01"
                                },
                                {
                                    "usernev": "RENATAS",
                                    "nev": "Szirmai Renáta",
                                    "SZUL_DAT": "1991-03-26",
                                    "Első foglalas": "2016-05-04",
                                    "Utolsó foglalas": "2017-02-14"
                                },
                                {
                                    "usernev": "RENATAS",
                                    "nev": "Szirmai Renáta",
                                    "SZUL_DAT": "1991-03-26",
                                    "Első foglalas": "2016-05-04",
                                    "Utolsó foglalas": "2017-02-14"
                                },
                                {
                                    "usernev": "RENATAS",
                                    "nev": "Szirmai Renáta",
                                    "SZUL_DAT": "1991-03-26",
                                    "Első foglalas": "2016-05-04",
                                    "Utolsó foglalas": "2017-02-14"
                                },
                                {
                                    "usernev": "RENATAS",
                                    "nev": "Szirmai Renáta",
                                    "SZUL_DAT": "1991-03-26",
                                    "Első foglalas": "2016-05-04",
                                    "Utolsó foglalas": "2017-02-14"
                                },
                                {
                                    "usernev": "RENATAS",
                                    "nev": "Szirmai Renáta",
                                    "SZUL_DAT": "1991-03-26",
                                    "Első foglalas": "2016-05-04",
                                    "Utolsó foglalas": "2017-02-14"
                                },
                                {
                                    "usernev": "robert2",
                                    "nev": "Patay Róbert",
                                    "SZUL_DAT": "1977-01-08",
                                    "Első foglalas": "2016-05-15",
                                    "Utolsó foglalas": "2016-12-17"
                                },
                                {
                                    "usernev": "robert2",
                                    "nev": "Patay Róbert",
                                    "SZUL_DAT": "1977-01-08",
                                    "Első foglalas": "2016-05-15",
                                    "Utolsó foglalas": "2016-12-17"
                                },
                                {
                                    "usernev": "robert2",
                                    "nev": "Patay Róbert",
                                    "SZUL_DAT": "1977-01-08",
                                    "Első foglalas": "2016-05-15",
                                    "Utolsó foglalas": "2016-12-17"
                                },
                                {
                                    "usernev": "robert2",
                                    "nev": "Patay Róbert",
                                    "SZUL_DAT": "1977-01-08",
                                    "Első foglalas": "2016-05-15",
                                    "Utolsó foglalas": "2016-12-17"
                                },
                                {
                                    "usernev": "ROBERTI",
                                    "nev": "Iván Róbert",
                                    "SZUL_DAT": "1967-07-02",
                                    "Első foglalas": "2016-07-12",
                                    "Utolsó foglalas": "2017-02-17"
                                },
                                {
                                    "usernev": "ROBERTI",
                                    "nev": "Iván Róbert",
                                    "SZUL_DAT": "1967-07-02",
                                    "Első foglalas": "2016-07-12",
                                    "Utolsó foglalas": "2017-02-17"
                                },
                                {
                                    "usernev": "ROBERTI",
                                    "nev": "Iván Róbert",
                                    "SZUL_DAT": "1967-07-02",
                                    "Első foglalas": "2016-07-12",
                                    "Utolsó foglalas": "2017-02-17"
                                },
                                {
                                    "usernev": "ROBERTI",
                                    "nev": "Iván Róbert",
                                    "SZUL_DAT": "1967-07-02",
                                    "Első foglalas": "2016-07-12",
                                    "Utolsó foglalas": "2017-02-17"
                                },
                                {
                                    "usernev": "ROBERTI",
                                    "nev": "Iván Róbert",
                                    "SZUL_DAT": "1967-07-02",
                                    "Első foglalas": "2016-07-12",
                                    "Utolsó foglalas": "2017-02-17"
                                },
                                {
                                    "usernev": "ROBERTI",
                                    "nev": "Iván Róbert",
                                    "SZUL_DAT": "1967-07-02",
                                    "Első foglalas": "2016-07-12",
                                    "Utolsó foglalas": "2017-02-17"
                                },
                                {
                                    "usernev": "ROBERTI",
                                    "nev": "Iván Róbert",
                                    "SZUL_DAT": "1967-07-02",
                                    "Első foglalas": "2016-07-12",
                                    "Utolsó foglalas": "2017-02-17"
                                },
                                {
                                    "usernev": "ROBERTI",
                                    "nev": "Iván Róbert",
                                    "SZUL_DAT": "1967-07-02",
                                    "Első foglalas": "2016-07-12",
                                    "Utolsó foglalas": "2017-02-17"
                                },
                                {
                                    "usernev": "ROBERTP",
                                    "nev": "Pásztor Róbert",
                                    "SZUL_DAT": "1972-05-16",
                                    "Első foglalas": "2016-07-30",
                                    "Utolsó foglalas": "2016-09-08"
                                },
                                {
                                    "usernev": "ROBERTP",
                                    "nev": "Pásztor Róbert",
                                    "SZUL_DAT": "1972-05-16",
                                    "Első foglalas": "2016-07-30",
                                    "Utolsó foglalas": "2016-09-08"
                                },
                                {
                                    "usernev": "roland",
                                    "nev": "Tóth Roland",
                                    "SZUL_DAT": "1968-03-21",
                                    "Első foglalas": "2016-06-09",
                                    "Utolsó foglalas": "2016-11-19"
                                },
                                {
                                    "usernev": "roland",
                                    "nev": "Tóth Roland",
                                    "SZUL_DAT": "1968-03-21",
                                    "Első foglalas": "2016-06-09",
                                    "Utolsó foglalas": "2016-11-19"
                                },
                                {
                                    "usernev": "roland",
                                    "nev": "Tóth Roland",
                                    "SZUL_DAT": "1968-03-21",
                                    "Első foglalas": "2016-06-09",
                                    "Utolsó foglalas": "2016-11-19"
                                },
                                {
                                    "usernev": "roland",
                                    "nev": "Tóth Roland",
                                    "SZUL_DAT": "1968-03-21",
                                    "Első foglalas": "2016-06-09",
                                    "Utolsó foglalas": "2016-11-19"
                                },
                                {
                                    "usernev": "roland1",
                                    "nev": "Ferencz Roland",
                                    "SZUL_DAT": "1985-12-31",
                                    "Első foglalas": "2016-11-05",
                                    "Utolsó foglalas": "2017-01-16"
                                },
                                {
                                    "usernev": "roland1",
                                    "nev": "Ferencz Roland",
                                    "SZUL_DAT": "1985-12-31",
                                    "Első foglalas": "2016-11-05",
                                    "Utolsó foglalas": "2017-01-16"
                                },
                                {
                                    "usernev": "roland1",
                                    "nev": "Ferencz Roland",
                                    "SZUL_DAT": "1985-12-31",
                                    "Első foglalas": "2016-11-05",
                                    "Utolsó foglalas": "2017-01-16"
                                },
                                {
                                    "usernev": "roland1",
                                    "nev": "Ferencz Roland",
                                    "SZUL_DAT": "1985-12-31",
                                    "Első foglalas": "2016-11-05",
                                    "Utolsó foglalas": "2017-01-16"
                                },
                                {
                                    "usernev": "roza2",
                                    "nev": "Bucskó Róza",
                                    "SZUL_DAT": "1988-12-26",
                                    "Első foglalas": "2016-09-10",
                                    "Utolsó foglalas": "2017-02-18"
                                },
                                {
                                    "usernev": "roza2",
                                    "nev": "Bucskó Róza",
                                    "SZUL_DAT": "1988-12-26",
                                    "Első foglalas": "2016-09-10",
                                    "Utolsó foglalas": "2017-02-18"
                                },
                                {
                                    "usernev": "roza2",
                                    "nev": "Bucskó Róza",
                                    "SZUL_DAT": "1988-12-26",
                                    "Első foglalas": "2016-09-10",
                                    "Utolsó foglalas": "2017-02-18"
                                },
                                {
                                    "usernev": "sandor",
                                    "nev": "Karasz Sándor",
                                    "SZUL_DAT": "1970-01-27",
                                    "Első foglalas": "2016-07-04",
                                    "Utolsó foglalas": "2016-09-19"
                                },
                                {
                                    "usernev": "sandor",
                                    "nev": "Karasz Sándor",
                                    "SZUL_DAT": "1970-01-27",
                                    "Első foglalas": "2016-07-04",
                                    "Utolsó foglalas": "2016-09-19"
                                },
                                {
                                    "usernev": "sandor",
                                    "nev": "Karasz Sándor",
                                    "SZUL_DAT": "1970-01-27",
                                    "Első foglalas": "2016-07-04",
                                    "Utolsó foglalas": "2016-09-19"
                                },
                                {
                                    "usernev": "sandor",
                                    "nev": "Karasz Sándor",
                                    "SZUL_DAT": "1970-01-27",
                                    "Első foglalas": "2016-07-04",
                                    "Utolsó foglalas": "2016-09-19"
                                },
                                {
                                    "usernev": "sandor3",
                                    "nev": "Farkas Sándor",
                                    "SZUL_DAT": "1989-01-27",
                                    "Első foglalas": "2016-05-12",
                                    "Utolsó foglalas": "2016-11-10"
                                },
                                {
                                    "usernev": "sandor3",
                                    "nev": "Farkas Sándor",
                                    "SZUL_DAT": "1989-01-27",
                                    "Első foglalas": "2016-05-12",
                                    "Utolsó foglalas": "2016-11-10"
                                },
                                {
                                    "usernev": "sandor3",
                                    "nev": "Farkas Sándor",
                                    "SZUL_DAT": "1989-01-27",
                                    "Első foglalas": "2016-05-12",
                                    "Utolsó foglalas": "2016-11-10"
                                },
                                {
                                    "usernev": "sandor3",
                                    "nev": "Farkas Sándor",
                                    "SZUL_DAT": "1989-01-27",
                                    "Első foglalas": "2016-05-12",
                                    "Utolsó foglalas": "2016-11-10"
                                },
                                {
                                    "usernev": "sandor3",
                                    "nev": "Farkas Sándor",
                                    "SZUL_DAT": "1989-01-27",
                                    "Első foglalas": "2016-05-12",
                                    "Utolsó foglalas": "2016-11-10"
                                },
                                {
                                    "usernev": "sandor4",
                                    "nev": "Nagy Sándor",
                                    "SZUL_DAT": "1997-06-11",
                                    "Első foglalas": "2016-10-15",
                                    "Utolsó foglalas": "2017-01-22"
                                },
                                {
                                    "usernev": "sandor4",
                                    "nev": "Nagy Sándor",
                                    "SZUL_DAT": "1997-06-11",
                                    "Első foglalas": "2016-10-15",
                                    "Utolsó foglalas": "2017-01-22"
                                },
                                {
                                    "usernev": "sandor4",
                                    "nev": "Nagy Sándor",
                                    "SZUL_DAT": "1997-06-11",
                                    "Első foglalas": "2016-10-15",
                                    "Utolsó foglalas": "2017-01-22"
                                },
                                {
                                    "usernev": "sandor4",
                                    "nev": "Nagy Sándor",
                                    "SZUL_DAT": "1997-06-11",
                                    "Első foglalas": "2016-10-15",
                                    "Utolsó foglalas": "2017-01-22"
                                },
                                {
                                    "usernev": "sara",
                                    "nev": "Farkas Sára",
                                    "SZUL_DAT": "1973-04-05",
                                    "Első foglalas": "2016-05-28",
                                    "Utolsó foglalas": "2016-12-25"
                                },
                                {
                                    "usernev": "sara",
                                    "nev": "Farkas Sára",
                                    "SZUL_DAT": "1973-04-05",
                                    "Első foglalas": "2016-05-28",
                                    "Utolsó foglalas": "2016-12-25"
                                },
                                {
                                    "usernev": "sara",
                                    "nev": "Farkas Sára",
                                    "SZUL_DAT": "1973-04-05",
                                    "Első foglalas": "2016-05-28",
                                    "Utolsó foglalas": "2016-12-25"
                                },
                                {
                                    "usernev": "sara",
                                    "nev": "Farkas Sára",
                                    "SZUL_DAT": "1973-04-05",
                                    "Első foglalas": "2016-05-28",
                                    "Utolsó foglalas": "2016-12-25"
                                },
                                {
                                    "usernev": "sara",
                                    "nev": "Farkas Sára",
                                    "SZUL_DAT": "1973-04-05",
                                    "Első foglalas": "2016-05-28",
                                    "Utolsó foglalas": "2016-12-25"
                                },
                                {
                                    "usernev": "sara",
                                    "nev": "Farkas Sára",
                                    "SZUL_DAT": "1973-04-05",
                                    "Első foglalas": "2016-05-28",
                                    "Utolsó foglalas": "2016-12-25"
                                },
                                {
                                    "usernev": "sara",
                                    "nev": "Farkas Sára",
                                    "SZUL_DAT": "1973-04-05",
                                    "Első foglalas": "2016-05-28",
                                    "Utolsó foglalas": "2016-12-25"
                                },
                                {
                                    "usernev": "sara",
                                    "nev": "Farkas Sára",
                                    "SZUL_DAT": "1973-04-05",
                                    "Első foglalas": "2016-05-28",
                                    "Utolsó foglalas": "2016-12-25"
                                },
                                {
                                    "usernev": "sara",
                                    "nev": "Farkas Sára",
                                    "SZUL_DAT": "1973-04-05",
                                    "Első foglalas": "2016-05-28",
                                    "Utolsó foglalas": "2016-12-25"
                                },
                                {
                                    "usernev": "sara",
                                    "nev": "Farkas Sára",
                                    "SZUL_DAT": "1973-04-05",
                                    "Első foglalas": "2016-05-28",
                                    "Utolsó foglalas": "2016-12-25"
                                },
                                {
                                    "usernev": "sara",
                                    "nev": "Farkas Sára",
                                    "SZUL_DAT": "1973-04-05",
                                    "Első foglalas": "2016-05-28",
                                    "Utolsó foglalas": "2016-12-25"
                                },
                                {
                                    "usernev": "sara",
                                    "nev": "Farkas Sára",
                                    "SZUL_DAT": "1973-04-05",
                                    "Első foglalas": "2016-05-28",
                                    "Utolsó foglalas": "2016-12-25"
                                },
                                {
                                    "usernev": "SEBASTIANF",
                                    "nev": "Foltényi Sebastián",
                                    "SZUL_DAT": "1992-09-09",
                                    "Első foglalas": "2016-04-06",
                                    "Utolsó foglalas": "2016-09-17"
                                },
                                {
                                    "usernev": "SEBASTIANF",
                                    "nev": "Foltényi Sebastián",
                                    "SZUL_DAT": "1992-09-09",
                                    "Első foglalas": "2016-04-06",
                                    "Utolsó foglalas": "2016-09-17"
                                },
                                {
                                    "usernev": "SEBASTIANF",
                                    "nev": "Foltényi Sebastián",
                                    "SZUL_DAT": "1992-09-09",
                                    "Első foglalas": "2016-04-06",
                                    "Utolsó foglalas": "2016-09-17"
                                },
                                {
                                    "usernev": "SEBASTIANF",
                                    "nev": "Foltényi Sebastián",
                                    "SZUL_DAT": "1992-09-09",
                                    "Első foglalas": "2016-04-06",
                                    "Utolsó foglalas": "2016-09-17"
                                },
                                {
                                    "usernev": "SEBASTIANF",
                                    "nev": "Foltényi Sebastián",
                                    "SZUL_DAT": "1992-09-09",
                                    "Első foglalas": "2016-04-06",
                                    "Utolsó foglalas": "2016-09-17"
                                },
                                {
                                    "usernev": "sebestyen",
                                    "nev": "Rab Sebestyén",
                                    "SZUL_DAT": "1992-03-03",
                                    "Első foglalas": "2016-04-07",
                                    "Utolsó foglalas": "2016-10-26"
                                },
                                {
                                    "usernev": "sebestyen",
                                    "nev": "Rab Sebestyén",
                                    "SZUL_DAT": "1992-03-03",
                                    "Első foglalas": "2016-04-07",
                                    "Utolsó foglalas": "2016-10-26"
                                },
                                {
                                    "usernev": "sebestyen",
                                    "nev": "Rab Sebestyén",
                                    "SZUL_DAT": "1992-03-03",
                                    "Első foglalas": "2016-04-07",
                                    "Utolsó foglalas": "2016-10-26"
                                },
                                {
                                    "usernev": "sebestyen",
                                    "nev": "Rab Sebestyén",
                                    "SZUL_DAT": "1992-03-03",
                                    "Első foglalas": "2016-04-07",
                                    "Utolsó foglalas": "2016-10-26"
                                },
                                {
                                    "usernev": "szabolcs",
                                    "nev": "Bodor Szabolcs",
                                    "SZUL_DAT": "1990-07-16",
                                    "Első foglalas": "2016-12-05",
                                    "Utolsó foglalas": "2016-12-05"
                                },
                                {
                                    "usernev": "SZABOLCSM",
                                    "nev": "Miklós Szabolcs",
                                    "SZUL_DAT": "1980-08-11",
                                    "Első foglalas": "2016-06-18",
                                    "Utolsó foglalas": "2017-02-04"
                                },
                                {
                                    "usernev": "SZABOLCSM",
                                    "nev": "Miklós Szabolcs",
                                    "SZUL_DAT": "1980-08-11",
                                    "Első foglalas": "2016-06-18",
                                    "Utolsó foglalas": "2017-02-04"
                                },
                                {
                                    "usernev": "SZABOLCSM",
                                    "nev": "Miklós Szabolcs",
                                    "SZUL_DAT": "1980-08-11",
                                    "Első foglalas": "2016-06-18",
                                    "Utolsó foglalas": "2017-02-04"
                                },
                                {
                                    "usernev": "SZABOLCSM",
                                    "nev": "Miklós Szabolcs",
                                    "SZUL_DAT": "1980-08-11",
                                    "Első foglalas": "2016-06-18",
                                    "Utolsó foglalas": "2017-02-04"
                                },
                                {
                                    "usernev": "SZABOLCSM",
                                    "nev": "Miklós Szabolcs",
                                    "SZUL_DAT": "1980-08-11",
                                    "Első foglalas": "2016-06-18",
                                    "Utolsó foglalas": "2017-02-04"
                                },
                                {
                                    "usernev": "SZABOLCSM",
                                    "nev": "Miklós Szabolcs",
                                    "SZUL_DAT": "1980-08-11",
                                    "Első foglalas": "2016-06-18",
                                    "Utolsó foglalas": "2017-02-04"
                                },
                                {
                                    "usernev": "SZABOLCSM",
                                    "nev": "Miklós Szabolcs",
                                    "SZUL_DAT": "1980-08-11",
                                    "Első foglalas": "2016-06-18",
                                    "Utolsó foglalas": "2017-02-04"
                                },
                                {
                                    "usernev": "SZILARDS",
                                    "nev": "Szalai Szilárd",
                                    "SZUL_DAT": "1967-09-28",
                                    "Első foglalas": "2016-04-23",
                                    "Utolsó foglalas": "2017-02-08"
                                },
                                {
                                    "usernev": "SZILARDS",
                                    "nev": "Szalai Szilárd",
                                    "SZUL_DAT": "1967-09-28",
                                    "Első foglalas": "2016-04-23",
                                    "Utolsó foglalas": "2017-02-08"
                                },
                                {
                                    "usernev": "SZILARDS",
                                    "nev": "Szalai Szilárd",
                                    "SZUL_DAT": "1967-09-28",
                                    "Első foglalas": "2016-04-23",
                                    "Utolsó foglalas": "2017-02-08"
                                },
                                {
                                    "usernev": "SZILARDS",
                                    "nev": "Szalai Szilárd",
                                    "SZUL_DAT": "1967-09-28",
                                    "Első foglalas": "2016-04-23",
                                    "Utolsó foglalas": "2017-02-08"
                                },
                                {
                                    "usernev": "SZILARDS",
                                    "nev": "Szalai Szilárd",
                                    "SZUL_DAT": "1967-09-28",
                                    "Első foglalas": "2016-04-23",
                                    "Utolsó foglalas": "2017-02-08"
                                },
                                {
                                    "usernev": "SZILARDS",
                                    "nev": "Szalai Szilárd",
                                    "SZUL_DAT": "1967-09-28",
                                    "Első foglalas": "2016-04-23",
                                    "Utolsó foglalas": "2017-02-08"
                                },
                                {
                                    "usernev": "SZILARDS",
                                    "nev": "Szalai Szilárd",
                                    "SZUL_DAT": "1967-09-28",
                                    "Első foglalas": "2016-04-23",
                                    "Utolsó foglalas": "2017-02-08"
                                },
                                {
                                    "usernev": "szilvia1",
                                    "nev": "Tari Szilvia",
                                    "SZUL_DAT": "1971-03-09",
                                    "Első foglalas": "2016-05-14",
                                    "Utolsó foglalas": "2017-01-28"
                                },
                                {
                                    "usernev": "szilvia1",
                                    "nev": "Tari Szilvia",
                                    "SZUL_DAT": "1971-03-09",
                                    "Első foglalas": "2016-05-14",
                                    "Utolsó foglalas": "2017-01-28"
                                },
                                {
                                    "usernev": "szilvia1",
                                    "nev": "Tari Szilvia",
                                    "SZUL_DAT": "1971-03-09",
                                    "Első foglalas": "2016-05-14",
                                    "Utolsó foglalas": "2017-01-28"
                                },
                                {
                                    "usernev": "szilvia1",
                                    "nev": "Tari Szilvia",
                                    "SZUL_DAT": "1971-03-09",
                                    "Első foglalas": "2016-05-14",
                                    "Utolsó foglalas": "2017-01-28"
                                },
                                {
                                    "usernev": "szilvia1",
                                    "nev": "Tari Szilvia",
                                    "SZUL_DAT": "1971-03-09",
                                    "Első foglalas": "2016-05-14",
                                    "Utolsó foglalas": "2017-01-28"
                                },
                                {
                                    "usernev": "szilvia1",
                                    "nev": "Tari Szilvia",
                                    "SZUL_DAT": "1971-03-09",
                                    "Első foglalas": "2016-05-14",
                                    "Utolsó foglalas": "2017-01-28"
                                },
                                {
                                    "usernev": "szilvia1",
                                    "nev": "Tari Szilvia",
                                    "SZUL_DAT": "1971-03-09",
                                    "Első foglalas": "2016-05-14",
                                    "Utolsó foglalas": "2017-01-28"
                                },
                                {
                                    "usernev": "szilvia1",
                                    "nev": "Tari Szilvia",
                                    "SZUL_DAT": "1971-03-09",
                                    "Első foglalas": "2016-05-14",
                                    "Utolsó foglalas": "2017-01-28"
                                },
                                {
                                    "usernev": "szilvia1",
                                    "nev": "Tari Szilvia",
                                    "SZUL_DAT": "1971-03-09",
                                    "Első foglalas": "2016-05-14",
                                    "Utolsó foglalas": "2017-01-28"
                                },
                                {
                                    "usernev": "tamara2",
                                    "nev": "Miklós Tamara",
                                    "SZUL_DAT": "1980-08-11",
                                    "Első foglalas": "2016-08-12",
                                    "Utolsó foglalas": "2016-11-15"
                                },
                                {
                                    "usernev": "tamara2",
                                    "nev": "Miklós Tamara",
                                    "SZUL_DAT": "1980-08-11",
                                    "Első foglalas": "2016-08-12",
                                    "Utolsó foglalas": "2016-11-15"
                                },
                                {
                                    "usernev": "tamas",
                                    "nev": "Antal Tamás",
                                    "SZUL_DAT": "1984-09-05",
                                    "Első foglalas": "2016-05-17",
                                    "Utolsó foglalas": "2017-02-14"
                                },
                                {
                                    "usernev": "tamas",
                                    "nev": "Antal Tamás",
                                    "SZUL_DAT": "1984-09-05",
                                    "Első foglalas": "2016-05-17",
                                    "Utolsó foglalas": "2017-02-14"
                                },
                                {
                                    "usernev": "tamas",
                                    "nev": "Antal Tamás",
                                    "SZUL_DAT": "1984-09-05",
                                    "Első foglalas": "2016-05-17",
                                    "Utolsó foglalas": "2017-02-14"
                                },
                                {
                                    "usernev": "tamas",
                                    "nev": "Antal Tamás",
                                    "SZUL_DAT": "1984-09-05",
                                    "Első foglalas": "2016-05-17",
                                    "Utolsó foglalas": "2017-02-14"
                                },
                                {
                                    "usernev": "TAMASF",
                                    "nev": "Fényes Tamás",
                                    "SZUL_DAT": "1997-11-06",
                                    "Első foglalas": "2016-05-03",
                                    "Utolsó foglalas": "2017-02-16"
                                },
                                {
                                    "usernev": "TAMASF",
                                    "nev": "Fényes Tamás",
                                    "SZUL_DAT": "1997-11-06",
                                    "Első foglalas": "2016-05-03",
                                    "Utolsó foglalas": "2017-02-16"
                                },
                                {
                                    "usernev": "TAMASF",
                                    "nev": "Fényes Tamás",
                                    "SZUL_DAT": "1997-11-06",
                                    "Első foglalas": "2016-05-03",
                                    "Utolsó foglalas": "2017-02-16"
                                },
                                {
                                    "usernev": "TAMASF",
                                    "nev": "Fényes Tamás",
                                    "SZUL_DAT": "1997-11-06",
                                    "Első foglalas": "2016-05-03",
                                    "Utolsó foglalas": "2017-02-16"
                                },
                                {
                                    "usernev": "TAMASF",
                                    "nev": "Fényes Tamás",
                                    "SZUL_DAT": "1997-11-06",
                                    "Első foglalas": "2016-05-03",
                                    "Utolsó foglalas": "2017-02-16"
                                },
                                {
                                    "usernev": "TAMASF",
                                    "nev": "Fényes Tamás",
                                    "SZUL_DAT": "1997-11-06",
                                    "Első foglalas": "2016-05-03",
                                    "Utolsó foglalas": "2017-02-16"
                                },
                                {
                                    "usernev": "TAMASF",
                                    "nev": "Fényes Tamás",
                                    "SZUL_DAT": "1997-11-06",
                                    "Első foglalas": "2016-05-03",
                                    "Utolsó foglalas": "2017-02-16"
                                },
                                {
                                    "usernev": "TAMASF",
                                    "nev": "Fényes Tamás",
                                    "SZUL_DAT": "1997-11-06",
                                    "Első foglalas": "2016-05-03",
                                    "Utolsó foglalas": "2017-02-16"
                                },
                                {
                                    "usernev": "TAMASF",
                                    "nev": "Fényes Tamás",
                                    "SZUL_DAT": "1997-11-06",
                                    "Első foglalas": "2016-05-03",
                                    "Utolsó foglalas": "2017-02-16"
                                },
                                {
                                    "usernev": "tibor",
                                    "nev": "Gombos Tibor",
                                    "SZUL_DAT": "1993-11-28",
                                    "Első foglalas": "2016-10-09",
                                    "Utolsó foglalas": "2016-11-05"
                                },
                                {
                                    "usernev": "tibor",
                                    "nev": "Gombos Tibor",
                                    "SZUL_DAT": "1993-11-28",
                                    "Első foglalas": "2016-10-09",
                                    "Utolsó foglalas": "2016-11-05"
                                },
                                {
                                    "usernev": "tibor2",
                                    "nev": "Dániel Tibor",
                                    "SZUL_DAT": "1985-02-02",
                                    "Első foglalas": "2016-10-20",
                                    "Utolsó foglalas": "2016-10-20"
                                },
                                {
                                    "usernev": "tihamer",
                                    "nev": "Kazy Tihamér",
                                    "SZUL_DAT": "1991-07-05",
                                    "Első foglalas": "2016-05-30",
                                    "Utolsó foglalas": "2016-12-25"
                                },
                                {
                                    "usernev": "tihamer",
                                    "nev": "Kazy Tihamér",
                                    "SZUL_DAT": "1991-07-05",
                                    "Első foglalas": "2016-05-30",
                                    "Utolsó foglalas": "2016-12-25"
                                },
                                {
                                    "usernev": "tihamer",
                                    "nev": "Kazy Tihamér",
                                    "SZUL_DAT": "1991-07-05",
                                    "Első foglalas": "2016-05-30",
                                    "Utolsó foglalas": "2016-12-25"
                                },
                                {
                                    "usernev": "tihamer",
                                    "nev": "Kazy Tihamér",
                                    "SZUL_DAT": "1991-07-05",
                                    "Első foglalas": "2016-05-30",
                                    "Utolsó foglalas": "2016-12-25"
                                },
                                {
                                    "usernev": "tihamer",
                                    "nev": "Kazy Tihamér",
                                    "SZUL_DAT": "1991-07-05",
                                    "Első foglalas": "2016-05-30",
                                    "Utolsó foglalas": "2016-12-25"
                                },
                                {
                                    "usernev": "tihamer",
                                    "nev": "Kazy Tihamér",
                                    "SZUL_DAT": "1991-07-05",
                                    "Első foglalas": "2016-05-30",
                                    "Utolsó foglalas": "2016-12-25"
                                },
                                {
                                    "usernev": "timea",
                                    "nev": "Papós Tímea",
                                    "SZUL_DAT": "1996-01-08",
                                    "Első foglalas": "2016-12-26",
                                    "Utolsó foglalas": "2016-12-26"
                                },
                                {
                                    "usernev": "timea2",
                                    "nev": "Dusha Tímea",
                                    "SZUL_DAT": "1975-08-22",
                                    "Első foglalas": "2016-06-06",
                                    "Utolsó foglalas": "2016-12-14"
                                },
                                {
                                    "usernev": "timea2",
                                    "nev": "Dusha Tímea",
                                    "SZUL_DAT": "1975-08-22",
                                    "Első foglalas": "2016-06-06",
                                    "Utolsó foglalas": "2016-12-14"
                                },
                                {
                                    "usernev": "timea2",
                                    "nev": "Dusha Tímea",
                                    "SZUL_DAT": "1975-08-22",
                                    "Első foglalas": "2016-06-06",
                                    "Utolsó foglalas": "2016-12-14"
                                },
                                {
                                    "usernev": "timea2",
                                    "nev": "Dusha Tímea",
                                    "SZUL_DAT": "1975-08-22",
                                    "Első foglalas": "2016-06-06",
                                    "Utolsó foglalas": "2016-12-14"
                                },
                                {
                                    "usernev": "timea2",
                                    "nev": "Dusha Tímea",
                                    "SZUL_DAT": "1975-08-22",
                                    "Első foglalas": "2016-06-06",
                                    "Utolsó foglalas": "2016-12-14"
                                },
                                {
                                    "usernev": "tunde",
                                    "nev": "Turcsik Tünde",
                                    "SZUL_DAT": "1974-02-12",
                                    "Első foglalas": "2016-06-03",
                                    "Utolsó foglalas": "2017-01-03"
                                },
                                {
                                    "usernev": "tunde",
                                    "nev": "Turcsik Tünde",
                                    "SZUL_DAT": "1974-02-12",
                                    "Első foglalas": "2016-06-03",
                                    "Utolsó foglalas": "2017-01-03"
                                },
                                {
                                    "usernev": "tunde",
                                    "nev": "Turcsik Tünde",
                                    "SZUL_DAT": "1974-02-12",
                                    "Első foglalas": "2016-06-03",
                                    "Utolsó foglalas": "2017-01-03"
                                },
                                {
                                    "usernev": "tunde",
                                    "nev": "Turcsik Tünde",
                                    "SZUL_DAT": "1974-02-12",
                                    "Első foglalas": "2016-06-03",
                                    "Utolsó foglalas": "2017-01-03"
                                },
                                {
                                    "usernev": "tunde",
                                    "nev": "Turcsik Tünde",
                                    "SZUL_DAT": "1974-02-12",
                                    "Első foglalas": "2016-06-03",
                                    "Utolsó foglalas": "2017-01-03"
                                },
                                {
                                    "usernev": "tunde",
                                    "nev": "Turcsik Tünde",
                                    "SZUL_DAT": "1974-02-12",
                                    "Első foglalas": "2016-06-03",
                                    "Utolsó foglalas": "2017-01-03"
                                },
                                {
                                    "usernev": "tunde",
                                    "nev": "Turcsik Tünde",
                                    "SZUL_DAT": "1974-02-12",
                                    "Első foglalas": "2016-06-03",
                                    "Utolsó foglalas": "2017-01-03"
                                },
                                {
                                    "usernev": "tunde",
                                    "nev": "Turcsik Tünde",
                                    "SZUL_DAT": "1974-02-12",
                                    "Első foglalas": "2016-06-03",
                                    "Utolsó foglalas": "2017-01-03"
                                },
                                {
                                    "usernev": "valentin",
                                    "nev": "Feró Valentin",
                                    "SZUL_DAT": "1986-01-09",
                                    "Első foglalas": "2016-05-24",
                                    "Utolsó foglalas": "2016-12-01"
                                },
                                {
                                    "usernev": "valentin",
                                    "nev": "Feró Valentin",
                                    "SZUL_DAT": "1986-01-09",
                                    "Első foglalas": "2016-05-24",
                                    "Utolsó foglalas": "2016-12-01"
                                },
                                {
                                    "usernev": "valentin",
                                    "nev": "Feró Valentin",
                                    "SZUL_DAT": "1986-01-09",
                                    "Első foglalas": "2016-05-24",
                                    "Utolsó foglalas": "2016-12-01"
                                },
                                {
                                    "usernev": "valentin",
                                    "nev": "Feró Valentin",
                                    "SZUL_DAT": "1986-01-09",
                                    "Első foglalas": "2016-05-24",
                                    "Utolsó foglalas": "2016-12-01"
                                },
                                {
                                    "usernev": "valentin",
                                    "nev": "Feró Valentin",
                                    "SZUL_DAT": "1986-01-09",
                                    "Első foglalas": "2016-05-24",
                                    "Utolsó foglalas": "2016-12-01"
                                },
                                {
                                    "usernev": "veronika4",
                                    "nev": "Tankó Veronika",
                                    "SZUL_DAT": "1983-08-28",
                                    "Első foglalas": "2016-05-30",
                                    "Utolsó foglalas": "2017-02-03"
                                },
                                {
                                    "usernev": "veronika4",
                                    "nev": "Tankó Veronika",
                                    "SZUL_DAT": "1983-08-28",
                                    "Első foglalas": "2016-05-30",
                                    "Utolsó foglalas": "2017-02-03"
                                },
                                {
                                    "usernev": "veronika4",
                                    "nev": "Tankó Veronika",
                                    "SZUL_DAT": "1983-08-28",
                                    "Első foglalas": "2016-05-30",
                                    "Utolsó foglalas": "2017-02-03"
                                },
                                {
                                    "usernev": "veronika4",
                                    "nev": "Tankó Veronika",
                                    "SZUL_DAT": "1983-08-28",
                                    "Első foglalas": "2016-05-30",
                                    "Utolsó foglalas": "2017-02-03"
                                },
                                {
                                    "usernev": "veronika4",
                                    "nev": "Tankó Veronika",
                                    "SZUL_DAT": "1983-08-28",
                                    "Első foglalas": "2016-05-30",
                                    "Utolsó foglalas": "2017-02-03"
                                },
                                {
                                    "usernev": "veronika4",
                                    "nev": "Tankó Veronika",
                                    "SZUL_DAT": "1983-08-28",
                                    "Első foglalas": "2016-05-30",
                                    "Utolsó foglalas": "2017-02-03"
                                },
                                {
                                    "usernev": "VIKTORIAU",
                                    "nev": "Urbán Viktoria",
                                    "SZUL_DAT": "1996-05-03",
                                    "Első foglalas": "2016-04-30",
                                    "Utolsó foglalas": "2016-10-26"
                                },
                                {
                                    "usernev": "VIKTORIAU",
                                    "nev": "Urbán Viktoria",
                                    "SZUL_DAT": "1996-05-03",
                                    "Első foglalas": "2016-04-30",
                                    "Utolsó foglalas": "2016-10-26"
                                },
                                {
                                    "usernev": "VIKTORIAU",
                                    "nev": "Urbán Viktoria",
                                    "SZUL_DAT": "1996-05-03",
                                    "Első foglalas": "2016-04-30",
                                    "Utolsó foglalas": "2016-10-26"
                                },
                                {
                                    "usernev": "VIKTORIAU",
                                    "nev": "Urbán Viktoria",
                                    "SZUL_DAT": "1996-05-03",
                                    "Első foglalas": "2016-04-30",
                                    "Utolsó foglalas": "2016-10-26"
                                },
                                {
                                    "usernev": "VIKTORK",
                                    "nev": "Keresztúri Viktor",
                                    "SZUL_DAT": "1989-05-05",
                                    "Első foglalas": "2016-05-30",
                                    "Utolsó foglalas": "2016-06-06"
                                },
                                {
                                    "usernev": "VIKTORK",
                                    "nev": "Keresztúri Viktor",
                                    "SZUL_DAT": "1989-05-05",
                                    "Első foglalas": "2016-05-30",
                                    "Utolsó foglalas": "2016-06-06"
                                },
                                {
                                    "usernev": "vivien3",
                                    "nev": "Boros Vivien",
                                    "SZUL_DAT": "1991-07-01",
                                    "Első foglalas": "2016-05-02",
                                    "Utolsó foglalas": "2016-12-24"
                                },
                                {
                                    "usernev": "vivien3",
                                    "nev": "Boros Vivien",
                                    "SZUL_DAT": "1991-07-01",
                                    "Első foglalas": "2016-05-02",
                                    "Utolsó foglalas": "2016-12-24"
                                },
                                {
                                    "usernev": "vivien3",
                                    "nev": "Boros Vivien",
                                    "SZUL_DAT": "1991-07-01",
                                    "Első foglalas": "2016-05-02",
                                    "Utolsó foglalas": "2016-12-24"
                                },
                                {
                                    "usernev": "vivien3",
                                    "nev": "Boros Vivien",
                                    "SZUL_DAT": "1991-07-01",
                                    "Első foglalas": "2016-05-02",
                                    "Utolsó foglalas": "2016-12-24"
                                },
                                {
                                    "usernev": "vivien3",
                                    "nev": "Boros Vivien",
                                    "SZUL_DAT": "1991-07-01",
                                    "Első foglalas": "2016-05-02",
                                    "Utolsó foglalas": "2016-12-24"
                                },
                                {
                                    "usernev": "vivien3",
                                    "nev": "Boros Vivien",
                                    "SZUL_DAT": "1991-07-01",
                                    "Első foglalas": "2016-05-02",
                                    "Utolsó foglalas": "2016-12-24"
                                },
                                {
                                    "usernev": "vivien3",
                                    "nev": "Boros Vivien",
                                    "SZUL_DAT": "1991-07-01",
                                    "Első foglalas": "2016-05-02",
                                    "Utolsó foglalas": "2016-12-24"
                                },
                                {
                                    "usernev": "zoltan",
                                    "nev": "Fodor Zoltán",
                                    "SZUL_DAT": "1979-11-25",
                                    "Első foglalas": "2016-08-24",
                                    "Utolsó foglalas": "2016-09-05"
                                },
                                {
                                    "usernev": "zoltan",
                                    "nev": "Fodor Zoltán",
                                    "SZUL_DAT": "1979-11-25",
                                    "Első foglalas": "2016-08-24",
                                    "Utolsó foglalas": "2016-09-05"
                                },
                                {
                                    "usernev": "zoltan4",
                                    "nev": "Barna Zoltán",
                                    "SZUL_DAT": "1986-05-20",
                                    "Első foglalas": "2016-05-12",
                                    "Utolsó foglalas": "2017-01-01"
                                },
                                {
                                    "usernev": "zoltan4",
                                    "nev": "Barna Zoltán",
                                    "SZUL_DAT": "1986-05-20",
                                    "Első foglalas": "2016-05-12",
                                    "Utolsó foglalas": "2017-01-01"
                                },
                                {
                                    "usernev": "zoltan4",
                                    "nev": "Barna Zoltán",
                                    "SZUL_DAT": "1986-05-20",
                                    "Első foglalas": "2016-05-12",
                                    "Utolsó foglalas": "2017-01-01"
                                },
                                {
                                    "usernev": "zoltan4",
                                    "nev": "Barna Zoltán",
                                    "SZUL_DAT": "1986-05-20",
                                    "Első foglalas": "2016-05-12",
                                    "Utolsó foglalas": "2017-01-01"
                                },
                                {
                                    "usernev": "zoltan4",
                                    "nev": "Barna Zoltán",
                                    "SZUL_DAT": "1986-05-20",
                                    "Első foglalas": "2016-05-12",
                                    "Utolsó foglalas": "2017-01-01"
                                },
                                {
                                    "usernev": "zoltan4",
                                    "nev": "Barna Zoltán",
                                    "SZUL_DAT": "1986-05-20",
                                    "Első foglalas": "2016-05-12",
                                    "Utolsó foglalas": "2017-01-01"
                                },
                                {
                                    "usernev": "zoltan4",
                                    "nev": "Barna Zoltán",
                                    "SZUL_DAT": "1986-05-20",
                                    "Első foglalas": "2016-05-12",
                                    "Utolsó foglalas": "2017-01-01"
                                },
                                {
                                    "usernev": "zoltan4",
                                    "nev": "Barna Zoltán",
                                    "SZUL_DAT": "1986-05-20",
                                    "Első foglalas": "2016-05-12",
                                    "Utolsó foglalas": "2017-01-01"
                                },
                                {
                                    "usernev": "zoltan4",
                                    "nev": "Barna Zoltán",
                                    "SZUL_DAT": "1986-05-20",
                                    "Első foglalas": "2016-05-12",
                                    "Utolsó foglalas": "2017-01-01"
                                },
                                {
                                    "usernev": "zoltan4",
                                    "nev": "Barna Zoltán",
                                    "SZUL_DAT": "1986-05-20",
                                    "Első foglalas": "2016-05-12",
                                    "Utolsó foglalas": "2017-01-01"
                                },
                                {
                                    "usernev": "zoltan4",
                                    "nev": "Barna Zoltán",
                                    "SZUL_DAT": "1986-05-20",
                                    "Első foglalas": "2016-05-12",
                                    "Utolsó foglalas": "2017-01-01"
                                },
                                {
                                    "usernev": "zoltan4",
                                    "nev": "Barna Zoltán",
                                    "SZUL_DAT": "1986-05-20",
                                    "Első foglalas": "2016-05-12",
                                    "Utolsó foglalas": "2017-01-01"
                                },
                                {
                                    "usernev": "ZOLTANP",
                                    "nev": "Pintér Zoltán",
                                    "SZUL_DAT": "1977-06-07",
                                    "Első foglalas": "2016-06-05",
                                    "Utolsó foglalas": "2016-12-25"
                                },
                                {
                                    "usernev": "ZOLTANP",
                                    "nev": "Pintér Zoltán",
                                    "SZUL_DAT": "1977-06-07",
                                    "Első foglalas": "2016-06-05",
                                    "Utolsó foglalas": "2016-12-25"
                                },
                                {
                                    "usernev": "ZOLTANP",
                                    "nev": "Pintér Zoltán",
                                    "SZUL_DAT": "1977-06-07",
                                    "Első foglalas": "2016-06-05",
                                    "Utolsó foglalas": "2016-12-25"
                                },
                                {
                                    "usernev": "ZOLTANP",
                                    "nev": "Pintér Zoltán",
                                    "SZUL_DAT": "1977-06-07",
                                    "Első foglalas": "2016-06-05",
                                    "Utolsó foglalas": "2016-12-25"
                                },
                                {
                                    "usernev": "ZOLTANP",
                                    "nev": "Pintér Zoltán",
                                    "SZUL_DAT": "1977-06-07",
                                    "Első foglalas": "2016-06-05",
                                    "Utolsó foglalas": "2016-12-25"
                                },
                                {
                                    "usernev": "ZOLTANP",
                                    "nev": "Pintér Zoltán",
                                    "SZUL_DAT": "1977-06-07",
                                    "Első foglalas": "2016-06-05",
                                    "Utolsó foglalas": "2016-12-25"
                                },
                                {
                                    "usernev": "ZOLTANT",
                                    "nev": "Tóth Zoltán",
                                    "SZUL_DAT": "1985-12-14",
                                    "Első foglalas": "2016-05-01",
                                    "Utolsó foglalas": "2017-01-16"
                                },
                                {
                                    "usernev": "ZOLTANT",
                                    "nev": "Tóth Zoltán",
                                    "SZUL_DAT": "1985-12-14",
                                    "Első foglalas": "2016-05-01",
                                    "Utolsó foglalas": "2017-01-16"
                                },
                                {
                                    "usernev": "ZOLTANT",
                                    "nev": "Tóth Zoltán",
                                    "SZUL_DAT": "1985-12-14",
                                    "Első foglalas": "2016-05-01",
                                    "Utolsó foglalas": "2017-01-16"
                                },
                                {
                                    "usernev": "zsofi1",
                                    "nev": "Molnár Zsófi",
                                    "SZUL_DAT": "1983-11-17",
                                    "Első foglalas": "2016-06-16",
                                    "Utolsó foglalas": "2017-02-18"
                                },
                                {
                                    "usernev": "zsofi1",
                                    "nev": "Molnár Zsófi",
                                    "SZUL_DAT": "1983-11-17",
                                    "Első foglalas": "2016-06-16",
                                    "Utolsó foglalas": "2017-02-18"
                                },
                                {
                                    "usernev": "zsolt1",
                                    "nev": "Pulai Zsolt",
                                    "SZUL_DAT": "1988-05-27",
                                    "Első foglalas": "2016-04-14",
                                    "Utolsó foglalas": "2016-07-31"
                                },
                                {
                                    "usernev": "zsolt1",
                                    "nev": "Pulai Zsolt",
                                    "SZUL_DAT": "1988-05-27",
                                    "Első foglalas": "2016-04-14",
                                    "Utolsó foglalas": "2016-07-31"
                                },
                                {
                                    "usernev": "zsolt1",
                                    "nev": "Pulai Zsolt",
                                    "SZUL_DAT": "1988-05-27",
                                    "Első foglalas": "2016-04-14",
                                    "Utolsó foglalas": "2016-07-31"
                                },
                                {
                                    "usernev": "zsolt1",
                                    "nev": "Pulai Zsolt",
                                    "SZUL_DAT": "1988-05-27",
                                    "Első foglalas": "2016-04-14",
                                    "Utolsó foglalas": "2016-07-31"
                                },
                                {
                                    "usernev": "ZSOLTJ",
                                    "nev": "Józsa Zsolt",
                                    "SZUL_DAT": "1983-09-29",
                                    "Első foglalas": "2016-04-24",
                                    "Utolsó foglalas": "2016-10-01"
                                },
                                {
                                    "usernev": "ZSOLTJ",
                                    "nev": "Józsa Zsolt",
                                    "SZUL_DAT": "1983-09-29",
                                    "Első foglalas": "2016-04-24",
                                    "Utolsó foglalas": "2016-10-01"
                                },
                                {
                                    "usernev": "ZSOLTJ",
                                    "nev": "Józsa Zsolt",
                                    "SZUL_DAT": "1983-09-29",
                                    "Első foglalas": "2016-04-24",
                                    "Utolsó foglalas": "2016-10-01"
                                },
                                {
                                    "usernev": "ZSOLTJ",
                                    "nev": "Józsa Zsolt",
                                    "SZUL_DAT": "1983-09-29",
                                    "Első foglalas": "2016-04-24",
                                    "Utolsó foglalas": "2016-10-01"
                                },
                                {
                                    "usernev": "ZSOLTJ",
                                    "nev": "Józsa Zsolt",
                                    "SZUL_DAT": "1983-09-29",
                                    "Első foglalas": "2016-04-24",
                                    "Utolsó foglalas": "2016-10-01"
                                },
                                {
                                    "usernev": "ZSOLTJ",
                                    "nev": "Józsa Zsolt",
                                    "SZUL_DAT": "1983-09-29",
                                    "Első foglalas": "2016-04-24",
                                    "Utolsó foglalas": "2016-10-01"
                                },
                                {
                                    "usernev": "zsuzsa",
                                    "nev": "Pusztai Zsuzsanna",
                                    "SZUL_DAT": "1980-09-17",
                                    "Első foglalas": "2016-07-24",
                                    "Utolsó foglalas": "2016-11-28"
                                },
                                {
                                    "usernev": "zsuzsa",
                                    "nev": "Pusztai Zsuzsanna",
                                    "SZUL_DAT": "1980-09-17",
                                    "Első foglalas": "2016-07-24",
                                    "Utolsó foglalas": "2016-11-28"
                                },
                                {
                                    "usernev": "zsuzsa",
                                    "nev": "Pusztai Zsuzsanna",
                                    "SZUL_DAT": "1980-09-17",
                                    "Első foglalas": "2016-07-24",
                                    "Utolsó foglalas": "2016-11-28"
                                },
                                {
                                    "usernev": "zsuzsa3",
                                    "nev": "Varsányi Zsuzsa",
                                    "SZUL_DAT": "1979-03-06",
                                    "Első foglalas": "2016-07-30",
                                    "Utolsó foglalas": "2016-10-27"
                                },
                                {
                                    "usernev": "zsuzsa3",
                                    "nev": "Varsányi Zsuzsa",
                                    "SZUL_DAT": "1979-03-06",
                                    "Első foglalas": "2016-07-30",
                                    "Utolsó foglalas": "2016-10-27"
                                },
                                {
                                    "usernev": "zsuzsa3",
                                    "nev": "Varsányi Zsuzsa",
                                    "SZUL_DAT": "1979-03-06",
                                    "Első foglalas": "2016-07-30",
                                    "Utolsó foglalas": "2016-10-27"
                                },
                                {
                                    "usernev": "zsuzsa3",
                                    "nev": "Varsányi Zsuzsa",
                                    "SZUL_DAT": "1979-03-06",
                                    "Első foglalas": "2016-07-30",
                                    "Utolsó foglalas": "2016-10-27"
                                },
                                {
                                    "usernev": "zsuzsanna",
                                    "nev": "Barta Zsuzsanna",
                                    "SZUL_DAT": "1994-10-07",
                                    "Első foglalas": "2016-05-17",
                                    "Utolsó foglalas": "2017-01-16"
                                },
                                {
                                    "usernev": "zsuzsanna",
                                    "nev": "Barta Zsuzsanna",
                                    "SZUL_DAT": "1994-10-07",
                                    "Első foglalas": "2016-05-17",
                                    "Utolsó foglalas": "2017-01-16"
                                },
                                {
                                    "usernev": "zsuzsanna",
                                    "nev": "Barta Zsuzsanna",
                                    "SZUL_DAT": "1994-10-07",
                                    "Első foglalas": "2016-05-17",
                                    "Utolsó foglalas": "2017-01-16"
                                },
                                {
                                    "usernev": "zsuzsanna",
                                    "nev": "Barta Zsuzsanna",
                                    "SZUL_DAT": "1994-10-07",
                                    "Első foglalas": "2016-05-17",
                                    "Utolsó foglalas": "2017-01-16"
                                },
                                {
                                    "usernev": "ZSUZSAV",
                                    "nev": "Vajda Zsuzsa",
                                    "SZUL_DAT": "1976-12-11",
                                    "Első foglalas": "2016-04-14",
                                    "Utolsó foglalas": "2016-11-21"
                                },
                                {
                                    "usernev": "ZSUZSAV",
                                    "nev": "Vajda Zsuzsa",
                                    "SZUL_DAT": "1976-12-11",
                                    "Első foglalas": "2016-04-14",
                                    "Utolsó foglalas": "2016-11-21"
                                },
                                {
                                    "usernev": "ZSUZSAV",
                                    "nev": "Vajda Zsuzsa",
                                    "SZUL_DAT": "1976-12-11",
                                    "Első foglalas": "2016-04-14",
                                    "Utolsó foglalas": "2016-11-21"
                                },
                                {
                                    "usernev": "ZSUZSAV",
                                    "nev": "Vajda Zsuzsa",
                                    "SZUL_DAT": "1976-12-11",
                                    "Első foglalas": "2016-04-14",
                                    "Utolsó foglalas": "2016-11-21"
                                },
                                {
                                    "usernev": "ZSUZSAV",
                                    "nev": "Vajda Zsuzsa",
                                    "SZUL_DAT": "1976-12-11",
                                    "Első foglalas": "2016-04-14",
                                    "Utolsó foglalas": "2016-11-21"
                                },
                                {
                                    "usernev": "ZSUZSAV",
                                    "nev": "Vajda Zsuzsa",
                                    "SZUL_DAT": "1976-12-11",
                                    "Első foglalas": "2016-04-14",
                                    "Utolsó foglalas": "2016-11-21"
                                }
                            ]
                        },
                        "text/html": "<table><tr><th>usernev</th><th>nev</th><th>SZUL_DAT</th><th>Első foglalas</th><th>Utolsó foglalas</th></tr><tr><td>adam1</td><td>Kiss Ádám</td><td>1991-12-28</td><td>2016-05-28</td><td>2016-10-19</td></tr><tr><td>adam1</td><td>Kiss Ádám</td><td>1991-12-28</td><td>2016-05-28</td><td>2016-10-19</td></tr><tr><td>adam1</td><td>Kiss Ádám</td><td>1991-12-28</td><td>2016-05-28</td><td>2016-10-19</td></tr><tr><td>adam3</td><td>Barkóci Ádám</td><td>1970-06-07</td><td>2016-09-12</td><td>2017-02-06</td></tr><tr><td>adam3</td><td>Barkóci Ádám</td><td>1970-06-07</td><td>2016-09-12</td><td>2017-02-06</td></tr><tr><td>adam4</td><td>Bieniek Ádám</td><td>1976-08-01</td><td>2016-08-28</td><td>2017-02-23</td></tr><tr><td>adam4</td><td>Bieniek Ádám</td><td>1976-08-01</td><td>2016-08-28</td><td>2017-02-23</td></tr><tr><td>adam4</td><td>Bieniek Ádám</td><td>1976-08-01</td><td>2016-08-28</td><td>2017-02-23</td></tr><tr><td>adam4</td><td>Bieniek Ádám</td><td>1976-08-01</td><td>2016-08-28</td><td>2017-02-23</td></tr><tr><td>adam4</td><td>Bieniek Ádám</td><td>1976-08-01</td><td>2016-08-28</td><td>2017-02-23</td></tr><tr><td>adam4</td><td>Bieniek Ádám</td><td>1976-08-01</td><td>2016-08-28</td><td>2017-02-23</td></tr><tr><td>agnes</td><td>Lengyel Ágnes</td><td>1979-12-10</td><td>2016-05-09</td><td>2016-11-07</td></tr><tr><td>agnes</td><td>Lengyel Ágnes</td><td>1979-12-10</td><td>2016-05-09</td><td>2016-11-07</td></tr><tr><td>agnes</td><td>Lengyel Ágnes</td><td>1979-12-10</td><td>2016-05-09</td><td>2016-11-07</td></tr><tr><td>agnes</td><td>Lengyel Ágnes</td><td>1979-12-10</td><td>2016-05-09</td><td>2016-11-07</td></tr><tr><td>agnes</td><td>Lengyel Ágnes</td><td>1979-12-10</td><td>2016-05-09</td><td>2016-11-07</td></tr><tr><td>agnes3</td><td>Hartyánszky Ágnes</td><td>1967-04-11</td><td>2016-08-04</td><td>2017-02-16</td></tr><tr><td>agnes3</td><td>Hartyánszky Ágnes</td><td>1967-04-11</td><td>2016-08-04</td><td>2017-02-16</td></tr><tr><td>agnes3</td><td>Hartyánszky Ágnes</td><td>1967-04-11</td><td>2016-08-04</td><td>2017-02-16</td></tr><tr><td>AGNESH</td><td>Horváth Ágnes</td><td>1981-12-24</td><td>2016-04-10</td><td>2017-01-16</td></tr><tr><td>AGNESH</td><td>Horváth Ágnes</td><td>1981-12-24</td><td>2016-04-10</td><td>2017-01-16</td></tr><tr><td>AGNESH</td><td>Horváth Ágnes</td><td>1981-12-24</td><td>2016-04-10</td><td>2017-01-16</td></tr><tr><td>AGNESH</td><td>Horváth Ágnes</td><td>1981-12-24</td><td>2016-04-10</td><td>2017-01-16</td></tr><tr><td>AGNESH</td><td>Horváth Ágnes</td><td>1981-12-24</td><td>2016-04-10</td><td>2017-01-16</td></tr><tr><td>AGNESH</td><td>Horváth Ágnes</td><td>1981-12-24</td><td>2016-04-10</td><td>2017-01-16</td></tr><tr><td>AGNESK</td><td>Kovács Ágnes</td><td>1988-10-02</td><td>2016-07-29</td><td>2016-12-17</td></tr><tr><td>AGNESK</td><td>Kovács Ágnes</td><td>1988-10-02</td><td>2016-07-29</td><td>2016-12-17</td></tr><tr><td>AGNESK</td><td>Kovács Ágnes</td><td>1988-10-02</td><td>2016-07-29</td><td>2016-12-17</td></tr><tr><td>akos</td><td>Bíró Ákos</td><td>1982-04-24</td><td>2016-05-18</td><td>2016-12-29</td></tr><tr><td>akos</td><td>Bíró Ákos</td><td>1982-04-24</td><td>2016-05-18</td><td>2016-12-29</td></tr><tr><td>akos</td><td>Bíró Ákos</td><td>1982-04-24</td><td>2016-05-18</td><td>2016-12-29</td></tr><tr><td>akos</td><td>Bíró Ákos</td><td>1982-04-24</td><td>2016-05-18</td><td>2016-12-29</td></tr><tr><td>akos</td><td>Bíró Ákos</td><td>1982-04-24</td><td>2016-05-18</td><td>2016-12-29</td></tr><tr><td>akos</td><td>Bíró Ákos</td><td>1982-04-24</td><td>2016-05-18</td><td>2016-12-29</td></tr><tr><td>akos</td><td>Bíró Ákos</td><td>1982-04-24</td><td>2016-05-18</td><td>2016-12-29</td></tr><tr><td>akos</td><td>Bíró Ákos</td><td>1982-04-24</td><td>2016-05-18</td><td>2016-12-29</td></tr><tr><td>akos</td><td>Bíró Ákos</td><td>1982-04-24</td><td>2016-05-18</td><td>2016-12-29</td></tr><tr><td>akos</td><td>Bíró Ákos</td><td>1982-04-24</td><td>2016-05-18</td><td>2016-12-29</td></tr><tr><td>aladar</td><td>Dunai Aladár</td><td>1980-11-01</td><td>2016-05-17</td><td>2016-11-22</td></tr><tr><td>aladar</td><td>Dunai Aladár</td><td>1980-11-01</td><td>2016-05-17</td><td>2016-11-22</td></tr><tr><td>aladar</td><td>Dunai Aladár</td><td>1980-11-01</td><td>2016-05-17</td><td>2016-11-22</td></tr><tr><td>alexandra</td><td>Bagóczki Alexandra</td><td>1992-03-25</td><td>2016-05-21</td><td>2017-01-19</td></tr><tr><td>alexandra</td><td>Bagóczki Alexandra</td><td>1992-03-25</td><td>2016-05-21</td><td>2017-01-19</td></tr><tr><td>alexandra</td><td>Bagóczki Alexandra</td><td>1992-03-25</td><td>2016-05-21</td><td>2017-01-19</td></tr><tr><td>alexandra</td><td>Bagóczki Alexandra</td><td>1992-03-25</td><td>2016-05-21</td><td>2017-01-19</td></tr><tr><td>alexandra</td><td>Bagóczki Alexandra</td><td>1992-03-25</td><td>2016-05-21</td><td>2017-01-19</td></tr><tr><td>alexandra</td><td>Bagóczki Alexandra</td><td>1992-03-25</td><td>2016-05-21</td><td>2017-01-19</td></tr><tr><td>alexandra</td><td>Bagóczki Alexandra</td><td>1992-03-25</td><td>2016-05-21</td><td>2017-01-19</td></tr><tr><td>andi</td><td>Maródi Andrea</td><td>1968-05-07</td><td>2016-05-08</td><td>2017-01-13</td></tr><tr><td>andi</td><td>Maródi Andrea</td><td>1968-05-07</td><td>2016-05-08</td><td>2017-01-13</td></tr><tr><td>andi</td><td>Maródi Andrea</td><td>1968-05-07</td><td>2016-05-08</td><td>2017-01-13</td></tr><tr><td>andi</td><td>Maródi Andrea</td><td>1968-05-07</td><td>2016-05-08</td><td>2017-01-13</td></tr><tr><td>andi</td><td>Maródi Andrea</td><td>1968-05-07</td><td>2016-05-08</td><td>2017-01-13</td></tr><tr><td>andras2</td><td>Tóth András</td><td>1997-10-31</td><td>2016-05-30</td><td>2017-02-08</td></tr><tr><td>andras2</td><td>Tóth András</td><td>1997-10-31</td><td>2016-05-30</td><td>2017-02-08</td></tr><tr><td>andras2</td><td>Tóth András</td><td>1997-10-31</td><td>2016-05-30</td><td>2017-02-08</td></tr><tr><td>andras2</td><td>Tóth András</td><td>1997-10-31</td><td>2016-05-30</td><td>2017-02-08</td></tr><tr><td>andras2</td><td>Tóth András</td><td>1997-10-31</td><td>2016-05-30</td><td>2017-02-08</td></tr><tr><td>andras21</td><td>Molnár András</td><td>1977-11-16</td><td>2016-06-21</td><td>2017-01-28</td></tr><tr><td>andras21</td><td>Molnár András</td><td>1977-11-16</td><td>2016-06-21</td><td>2017-01-28</td></tr><tr><td>andras21</td><td>Molnár András</td><td>1977-11-16</td><td>2016-06-21</td><td>2017-01-28</td></tr><tr><td>andras21</td><td>Molnár András</td><td>1977-11-16</td><td>2016-06-21</td><td>2017-01-28</td></tr><tr><td>andras21</td><td>Molnár András</td><td>1977-11-16</td><td>2016-06-21</td><td>2017-01-28</td></tr><tr><td>andras21</td><td>Molnár András</td><td>1977-11-16</td><td>2016-06-21</td><td>2017-01-28</td></tr><tr><td>andras21</td><td>Molnár András</td><td>1977-11-16</td><td>2016-06-21</td><td>2017-01-28</td></tr><tr><td>andras3</td><td>Vígh András</td><td>1971-04-02</td><td>2016-05-01</td><td>2017-02-02</td></tr><tr><td>andras3</td><td>Vígh András</td><td>1971-04-02</td><td>2016-05-01</td><td>2017-02-02</td></tr><tr><td>andras3</td><td>Vígh András</td><td>1971-04-02</td><td>2016-05-01</td><td>2017-02-02</td></tr><tr><td>andras3</td><td>Vígh András</td><td>1971-04-02</td><td>2016-05-01</td><td>2017-02-02</td></tr><tr><td>andras3</td><td>Vígh András</td><td>1971-04-02</td><td>2016-05-01</td><td>2017-02-02</td></tr><tr><td>andras3</td><td>Vígh András</td><td>1971-04-02</td><td>2016-05-01</td><td>2017-02-02</td></tr><tr><td>andras3</td><td>Vígh András</td><td>1971-04-02</td><td>2016-05-01</td><td>2017-02-02</td></tr><tr><td>andras3</td><td>Vígh András</td><td>1971-04-02</td><td>2016-05-01</td><td>2017-02-02</td></tr><tr><td>andras4</td><td>Back András</td><td>1984-04-07</td><td>2016-09-17</td><td>2017-01-09</td></tr><tr><td>andras4</td><td>Back András</td><td>1984-04-07</td><td>2016-09-17</td><td>2017-01-09</td></tr><tr><td>andras4</td><td>Back András</td><td>1984-04-07</td><td>2016-09-17</td><td>2017-01-09</td></tr><tr><td>andras41</td><td>Komjáti András</td><td>1997-10-25</td><td>2016-05-14</td><td>2016-11-23</td></tr><tr><td>andras41</td><td>Komjáti András</td><td>1997-10-25</td><td>2016-05-14</td><td>2016-11-23</td></tr><tr><td>andras41</td><td>Komjáti András</td><td>1997-10-25</td><td>2016-05-14</td><td>2016-11-23</td></tr><tr><td>andras41</td><td>Komjáti András</td><td>1997-10-25</td><td>2016-05-14</td><td>2016-11-23</td></tr><tr><td>andras41</td><td>Komjáti András</td><td>1997-10-25</td><td>2016-05-14</td><td>2016-11-23</td></tr><tr><td>andras41</td><td>Komjáti András</td><td>1997-10-25</td><td>2016-05-14</td><td>2016-11-23</td></tr><tr><td>andras41</td><td>Komjáti András</td><td>1997-10-25</td><td>2016-05-14</td><td>2016-11-23</td></tr><tr><td>andras41</td><td>Komjáti András</td><td>1997-10-25</td><td>2016-05-14</td><td>2016-11-23</td></tr><tr><td>andras41</td><td>Komjáti András</td><td>1997-10-25</td><td>2016-05-14</td><td>2016-11-23</td></tr><tr><td>andras41</td><td>Komjáti András</td><td>1997-10-25</td><td>2016-05-14</td><td>2016-11-23</td></tr><tr><td>andras41</td><td>Komjáti András</td><td>1997-10-25</td><td>2016-05-14</td><td>2016-11-23</td></tr><tr><td>andras41</td><td>Komjáti András</td><td>1997-10-25</td><td>2016-05-14</td><td>2016-11-23</td></tr><tr><td>andras41</td><td>Komjáti András</td><td>1997-10-25</td><td>2016-05-14</td><td>2016-11-23</td></tr><tr><td>ANDRASE</td><td>Erdei András</td><td>1997-05-29</td><td>2016-04-24</td><td>2016-11-29</td></tr><tr><td>ANDRASE</td><td>Erdei András</td><td>1997-05-29</td><td>2016-04-24</td><td>2016-11-29</td></tr><tr><td>ANDRASE</td><td>Erdei András</td><td>1997-05-29</td><td>2016-04-24</td><td>2016-11-29</td></tr><tr><td>ANDRASE</td><td>Erdei András</td><td>1997-05-29</td><td>2016-04-24</td><td>2016-11-29</td></tr><tr><td>ANDRASE</td><td>Erdei András</td><td>1997-05-29</td><td>2016-04-24</td><td>2016-11-29</td></tr><tr><td>ANDRASN</td><td>Nagy András</td><td>1980-09-05</td><td>2016-11-25</td><td>2016-11-25</td></tr><tr><td>andrea</td><td>Kiss Andrea</td><td>1993-03-25</td><td>2016-07-27</td><td>2017-02-09</td></tr><tr><td>andrea</td><td>Kiss Andrea</td><td>1993-03-25</td><td>2016-07-27</td><td>2017-02-09</td></tr><tr><td>andrea</td><td>Kiss Andrea</td><td>1993-03-25</td><td>2016-07-27</td><td>2017-02-09</td></tr><tr><td>andrea</td><td>Kiss Andrea</td><td>1993-03-25</td><td>2016-07-27</td><td>2017-02-09</td></tr><tr><td>andrea</td><td>Kiss Andrea</td><td>1993-03-25</td><td>2016-07-27</td><td>2017-02-09</td></tr><tr><td>andrea</td><td>Kiss Andrea</td><td>1993-03-25</td><td>2016-07-27</td><td>2017-02-09</td></tr><tr><td>andrea3</td><td>Szomor Andrea</td><td>1996-05-10</td><td>2016-11-19</td><td>2016-11-19</td></tr><tr><td>andrea4</td><td>Neizer Andrea</td><td>1981-05-17</td><td>2016-05-27</td><td>2017-01-22</td></tr><tr><td>andrea4</td><td>Neizer Andrea</td><td>1981-05-17</td><td>2016-05-27</td><td>2017-01-22</td></tr><tr><td>andrea4</td><td>Neizer Andrea</td><td>1981-05-17</td><td>2016-05-27</td><td>2017-01-22</td></tr><tr><td>andrea4</td><td>Neizer Andrea</td><td>1981-05-17</td><td>2016-05-27</td><td>2017-01-22</td></tr><tr><td>ANDREAT</td><td>Tornyos Andrea</td><td>1986-11-14</td><td>2016-07-27</td><td>2016-10-08</td></tr><tr><td>ANDREAT</td><td>Tornyos Andrea</td><td>1986-11-14</td><td>2016-07-27</td><td>2016-10-08</td></tr><tr><td>ANDREAT</td><td>Tornyos Andrea</td><td>1986-11-14</td><td>2016-07-27</td><td>2016-10-08</td></tr><tr><td>anett3</td><td>Pivarcsi Anett</td><td>1967-01-03</td><td>2016-04-10</td><td>2016-10-16</td></tr><tr><td>anett3</td><td>Pivarcsi Anett</td><td>1967-01-03</td><td>2016-04-10</td><td>2016-10-16</td></tr><tr><td>anett3</td><td>Pivarcsi Anett</td><td>1967-01-03</td><td>2016-04-10</td><td>2016-10-16</td></tr><tr><td>anett3</td><td>Pivarcsi Anett</td><td>1967-01-03</td><td>2016-04-10</td><td>2016-10-16</td></tr><tr><td>anett3</td><td>Pivarcsi Anett</td><td>1967-01-03</td><td>2016-04-10</td><td>2016-10-16</td></tr><tr><td>anett3</td><td>Pivarcsi Anett</td><td>1967-01-03</td><td>2016-04-10</td><td>2016-10-16</td></tr><tr><td>anett3</td><td>Pivarcsi Anett</td><td>1967-01-03</td><td>2016-04-10</td><td>2016-10-16</td></tr><tr><td>anett3</td><td>Pivarcsi Anett</td><td>1967-01-03</td><td>2016-04-10</td><td>2016-10-16</td></tr><tr><td>aniko</td><td>Tóth Anikó</td><td>1973-06-03</td><td>2016-06-25</td><td>2017-02-23</td></tr><tr><td>aniko</td><td>Tóth Anikó</td><td>1973-06-03</td><td>2016-06-25</td><td>2017-02-23</td></tr><tr><td>aniko</td><td>Tóth Anikó</td><td>1973-06-03</td><td>2016-06-25</td><td>2017-02-23</td></tr><tr><td>aniko4</td><td>Böröcz Anikó</td><td>1978-03-26</td><td>2016-07-02</td><td>2016-10-16</td></tr><tr><td>aniko4</td><td>Böröcz Anikó</td><td>1978-03-26</td><td>2016-07-02</td><td>2016-10-16</td></tr><tr><td>aniko4</td><td>Böröcz Anikó</td><td>1978-03-26</td><td>2016-07-02</td><td>2016-10-16</td></tr><tr><td>aniko4</td><td>Böröcz Anikó</td><td>1978-03-26</td><td>2016-07-02</td><td>2016-10-16</td></tr><tr><td>ANIKOS</td><td>Simon Anikó</td><td>1988-12-14</td><td>2016-04-19</td><td>2016-11-10</td></tr><tr><td>ANIKOS</td><td>Simon Anikó</td><td>1988-12-14</td><td>2016-04-19</td><td>2016-11-10</td></tr><tr><td>ANIKOS</td><td>Simon Anikó</td><td>1988-12-14</td><td>2016-04-19</td><td>2016-11-10</td></tr><tr><td>ANIKOS</td><td>Simon Anikó</td><td>1988-12-14</td><td>2016-04-19</td><td>2016-11-10</td></tr><tr><td>ANIKOS</td><td>Simon Anikó</td><td>1988-12-14</td><td>2016-04-19</td><td>2016-11-10</td></tr><tr><td>ANIKOS</td><td>Simon Anikó</td><td>1988-12-14</td><td>2016-04-19</td><td>2016-11-10</td></tr><tr><td>ANIKOS</td><td>Simon Anikó</td><td>1988-12-14</td><td>2016-04-19</td><td>2016-11-10</td></tr><tr><td>ANIKOS</td><td>Simon Anikó</td><td>1988-12-14</td><td>2016-04-19</td><td>2016-11-10</td></tr><tr><td>ANIKOS</td><td>Simon Anikó</td><td>1988-12-14</td><td>2016-04-19</td><td>2016-11-10</td></tr><tr><td>anita</td><td>Hamvay-Kovács Anita</td><td>1971-03-20</td><td>2016-09-28</td><td>2017-02-20</td></tr><tr><td>anita</td><td>Hamvay-Kovács Anita</td><td>1971-03-20</td><td>2016-09-28</td><td>2017-02-20</td></tr><tr><td>anita</td><td>Hamvay-Kovács Anita</td><td>1971-03-20</td><td>2016-09-28</td><td>2017-02-20</td></tr><tr><td>anita</td><td>Hamvay-Kovács Anita</td><td>1971-03-20</td><td>2016-09-28</td><td>2017-02-20</td></tr><tr><td>annamaria1</td><td>Szűcs Annamária</td><td>1990-04-27</td><td>2016-06-06</td><td>2017-01-30</td></tr><tr><td>annamaria1</td><td>Szűcs Annamária</td><td>1990-04-27</td><td>2016-06-06</td><td>2017-01-30</td></tr><tr><td>ANNAMARIAR</td><td>Regős Annamária</td><td>1977-09-26</td><td>2016-06-08</td><td>2017-02-16</td></tr><tr><td>ANNAMARIAR</td><td>Regős Annamária</td><td>1977-09-26</td><td>2016-06-08</td><td>2017-02-16</td></tr><tr><td>ANNAMARIAR</td><td>Regős Annamária</td><td>1977-09-26</td><td>2016-06-08</td><td>2017-02-16</td></tr><tr><td>ANNAMARIAR</td><td>Regős Annamária</td><td>1977-09-26</td><td>2016-06-08</td><td>2017-02-16</td></tr><tr><td>ANNAMARIAR</td><td>Regős Annamária</td><td>1977-09-26</td><td>2016-06-08</td><td>2017-02-16</td></tr><tr><td>ANNAMARIAR</td><td>Regős Annamária</td><td>1977-09-26</td><td>2016-06-08</td><td>2017-02-16</td></tr><tr><td>aron2</td><td>Jakab Áron</td><td>1971-04-26</td><td>2016-04-11</td><td>2017-02-26</td></tr><tr><td>aron2</td><td>Jakab Áron</td><td>1971-04-26</td><td>2016-04-11</td><td>2017-02-26</td></tr><tr><td>aron2</td><td>Jakab Áron</td><td>1971-04-26</td><td>2016-04-11</td><td>2017-02-26</td></tr><tr><td>aron2</td><td>Jakab Áron</td><td>1971-04-26</td><td>2016-04-11</td><td>2017-02-26</td></tr><tr><td>aron2</td><td>Jakab Áron</td><td>1971-04-26</td><td>2016-04-11</td><td>2017-02-26</td></tr><tr><td>aron2</td><td>Jakab Áron</td><td>1971-04-26</td><td>2016-04-11</td><td>2017-02-26</td></tr><tr><td>ARONK</td><td>Kelemen Áron</td><td>1989-08-10</td><td>2016-04-06</td><td>2017-02-21</td></tr><tr><td>ARONK</td><td>Kelemen Áron</td><td>1989-08-10</td><td>2016-04-06</td><td>2017-02-21</td></tr><tr><td>ARONK</td><td>Kelemen Áron</td><td>1989-08-10</td><td>2016-04-06</td><td>2017-02-21</td></tr><tr><td>ARONK</td><td>Kelemen Áron</td><td>1989-08-10</td><td>2016-04-06</td><td>2017-02-21</td></tr><tr><td>ARONK</td><td>Kelemen Áron</td><td>1989-08-10</td><td>2016-04-06</td><td>2017-02-21</td></tr><tr><td>ARONK</td><td>Kelemen Áron</td><td>1989-08-10</td><td>2016-04-06</td><td>2017-02-21</td></tr><tr><td>ARONK</td><td>Kelemen Áron</td><td>1989-08-10</td><td>2016-04-06</td><td>2017-02-21</td></tr><tr><td>ARONK</td><td>Kelemen Áron</td><td>1989-08-10</td><td>2016-04-06</td><td>2017-02-21</td></tr><tr><td>ARONK</td><td>Kelemen Áron</td><td>1989-08-10</td><td>2016-04-06</td><td>2017-02-21</td></tr><tr><td>ARONK</td><td>Kelemen Áron</td><td>1989-08-10</td><td>2016-04-06</td><td>2017-02-21</td></tr><tr><td>ARONK</td><td>Kelemen Áron</td><td>1989-08-10</td><td>2016-04-06</td><td>2017-02-21</td></tr><tr><td>ARONK</td><td>Kelemen Áron</td><td>1989-08-10</td><td>2016-04-06</td><td>2017-02-21</td></tr><tr><td>ARONK</td><td>Kelemen Áron</td><td>1989-08-10</td><td>2016-04-06</td><td>2017-02-21</td></tr><tr><td>arpad2</td><td>Ötvös Árpád</td><td>1990-06-08</td><td>2016-06-05</td><td>2017-02-18</td></tr><tr><td>arpad2</td><td>Ötvös Árpád</td><td>1990-06-08</td><td>2016-06-05</td><td>2017-02-18</td></tr><tr><td>arpad2</td><td>Ötvös Árpád</td><td>1990-06-08</td><td>2016-06-05</td><td>2017-02-18</td></tr><tr><td>arpad2</td><td>Ötvös Árpád</td><td>1990-06-08</td><td>2016-06-05</td><td>2017-02-18</td></tr><tr><td>arpad2</td><td>Ötvös Árpád</td><td>1990-06-08</td><td>2016-06-05</td><td>2017-02-18</td></tr><tr><td>arpad2</td><td>Ötvös Árpád</td><td>1990-06-08</td><td>2016-06-05</td><td>2017-02-18</td></tr><tr><td>arpad2</td><td>Ötvös Árpád</td><td>1990-06-08</td><td>2016-06-05</td><td>2017-02-18</td></tr><tr><td>ARPADH</td><td>Horváth Árpád</td><td>1990-05-18</td><td>2016-06-06</td><td>2017-02-16</td></tr><tr><td>ARPADH</td><td>Horváth Árpád</td><td>1990-05-18</td><td>2016-06-06</td><td>2017-02-16</td></tr><tr><td>ARPADH</td><td>Horváth Árpád</td><td>1990-05-18</td><td>2016-06-06</td><td>2017-02-16</td></tr><tr><td>ARPADH</td><td>Horváth Árpád</td><td>1990-05-18</td><td>2016-06-06</td><td>2017-02-16</td></tr><tr><td>ARPADH</td><td>Horváth Árpád</td><td>1990-05-18</td><td>2016-06-06</td><td>2017-02-16</td></tr><tr><td>ARPADH</td><td>Horváth Árpád</td><td>1990-05-18</td><td>2016-06-06</td><td>2017-02-16</td></tr><tr><td>ARPADH</td><td>Horváth Árpád</td><td>1990-05-18</td><td>2016-06-06</td><td>2017-02-16</td></tr><tr><td>ARPADM</td><td>Móricz Árpád</td><td>1986-04-20</td><td>2016-05-29</td><td>2017-02-12</td></tr><tr><td>ARPADM</td><td>Móricz Árpád</td><td>1986-04-20</td><td>2016-05-29</td><td>2017-02-12</td></tr><tr><td>ARPADM</td><td>Móricz Árpád</td><td>1986-04-20</td><td>2016-05-29</td><td>2017-02-12</td></tr><tr><td>ARPADM</td><td>Móricz Árpád</td><td>1986-04-20</td><td>2016-05-29</td><td>2017-02-12</td></tr><tr><td>ARPADM</td><td>Móricz Árpád</td><td>1986-04-20</td><td>2016-05-29</td><td>2017-02-12</td></tr><tr><td>ARPADM</td><td>Móricz Árpád</td><td>1986-04-20</td><td>2016-05-29</td><td>2017-02-12</td></tr><tr><td>attila</td><td>Csóti Attila</td><td>1979-12-25</td><td>2016-09-30</td><td>2016-12-22</td></tr><tr><td>attila</td><td>Csóti Attila</td><td>1979-12-25</td><td>2016-09-30</td><td>2016-12-22</td></tr><tr><td>attila</td><td>Csóti Attila</td><td>1979-12-25</td><td>2016-09-30</td><td>2016-12-22</td></tr><tr><td>attila1</td><td>Gulyás Attila</td><td>1982-08-16</td><td>2016-05-20</td><td>2017-01-23</td></tr><tr><td>attila1</td><td>Gulyás Attila</td><td>1982-08-16</td><td>2016-05-20</td><td>2017-01-23</td></tr><tr><td>attila1</td><td>Gulyás Attila</td><td>1982-08-16</td><td>2016-05-20</td><td>2017-01-23</td></tr><tr><td>attila1</td><td>Gulyás Attila</td><td>1982-08-16</td><td>2016-05-20</td><td>2017-01-23</td></tr><tr><td>attila1</td><td>Gulyás Attila</td><td>1982-08-16</td><td>2016-05-20</td><td>2017-01-23</td></tr><tr><td>attila1</td><td>Gulyás Attila</td><td>1982-08-16</td><td>2016-05-20</td><td>2017-01-23</td></tr><tr><td>attila4</td><td>Baróti Attila</td><td>1975-11-06</td><td>2016-08-18</td><td>2017-02-15</td></tr><tr><td>attila4</td><td>Baróti Attila</td><td>1975-11-06</td><td>2016-08-18</td><td>2017-02-15</td></tr><tr><td>attila4</td><td>Baróti Attila</td><td>1975-11-06</td><td>2016-08-18</td><td>2017-02-15</td></tr><tr><td>ATTILAO</td><td>Opra Attila</td><td>1995-05-08</td><td>2016-05-21</td><td>2017-02-22</td></tr><tr><td>ATTILAO</td><td>Opra Attila</td><td>1995-05-08</td><td>2016-05-21</td><td>2017-02-22</td></tr><tr><td>ATTILAO</td><td>Opra Attila</td><td>1995-05-08</td><td>2016-05-21</td><td>2017-02-22</td></tr><tr><td>ATTILAO</td><td>Opra Attila</td><td>1995-05-08</td><td>2016-05-21</td><td>2017-02-22</td></tr><tr><td>balazs1</td><td>Bozsik Balázs</td><td>1992-11-03</td><td>2016-05-07</td><td>2017-02-12</td></tr><tr><td>balazs1</td><td>Bozsik Balázs</td><td>1992-11-03</td><td>2016-05-07</td><td>2017-02-12</td></tr><tr><td>balazs1</td><td>Bozsik Balázs</td><td>1992-11-03</td><td>2016-05-07</td><td>2017-02-12</td></tr><tr><td>balazs1</td><td>Bozsik Balázs</td><td>1992-11-03</td><td>2016-05-07</td><td>2017-02-12</td></tr><tr><td>balazs1</td><td>Bozsik Balázs</td><td>1992-11-03</td><td>2016-05-07</td><td>2017-02-12</td></tr><tr><td>balazs1</td><td>Bozsik Balázs</td><td>1992-11-03</td><td>2016-05-07</td><td>2017-02-12</td></tr><tr><td>balazs2</td><td>Szűcs Balázs</td><td>1984-10-31</td><td>2016-04-16</td><td>2017-02-27</td></tr><tr><td>balazs2</td><td>Szűcs Balázs</td><td>1984-10-31</td><td>2016-04-16</td><td>2017-02-27</td></tr><tr><td>balazs2</td><td>Szűcs Balázs</td><td>1984-10-31</td><td>2016-04-16</td><td>2017-02-27</td></tr><tr><td>balazs2</td><td>Szűcs Balázs</td><td>1984-10-31</td><td>2016-04-16</td><td>2017-02-27</td></tr><tr><td>balazs2</td><td>Szűcs Balázs</td><td>1984-10-31</td><td>2016-04-16</td><td>2017-02-27</td></tr><tr><td>balazs2</td><td>Szűcs Balázs</td><td>1984-10-31</td><td>2016-04-16</td><td>2017-02-27</td></tr><tr><td>balazs2</td><td>Szűcs Balázs</td><td>1984-10-31</td><td>2016-04-16</td><td>2017-02-27</td></tr><tr><td>balazs2</td><td>Szűcs Balázs</td><td>1984-10-31</td><td>2016-04-16</td><td>2017-02-27</td></tr><tr><td>balazs2</td><td>Szűcs Balázs</td><td>1984-10-31</td><td>2016-04-16</td><td>2017-02-27</td></tr><tr><td>balazs2</td><td>Szűcs Balázs</td><td>1984-10-31</td><td>2016-04-16</td><td>2017-02-27</td></tr><tr><td>balazs3</td><td>Bakódy Balázs</td><td>1986-09-09</td><td>2016-07-17</td><td>2017-01-20</td></tr><tr><td>balazs3</td><td>Bakódy Balázs</td><td>1986-09-09</td><td>2016-07-17</td><td>2017-01-20</td></tr><tr><td>balazs3</td><td>Bakódy Balázs</td><td>1986-09-09</td><td>2016-07-17</td><td>2017-01-20</td></tr><tr><td>balazs3</td><td>Bakódy Balázs</td><td>1986-09-09</td><td>2016-07-17</td><td>2017-01-20</td></tr><tr><td>balazs3</td><td>Bakódy Balázs</td><td>1986-09-09</td><td>2016-07-17</td><td>2017-01-20</td></tr><tr><td>balazs3</td><td>Bakódy Balázs</td><td>1986-09-09</td><td>2016-07-17</td><td>2017-01-20</td></tr><tr><td>balint</td><td>Horváth Bálint</td><td>1996-03-17</td><td>2016-04-22</td><td>2016-11-24</td></tr><tr><td>balint</td><td>Horváth Bálint</td><td>1996-03-17</td><td>2016-04-22</td><td>2016-11-24</td></tr><tr><td>balint</td><td>Horváth Bálint</td><td>1996-03-17</td><td>2016-04-22</td><td>2016-11-24</td></tr><tr><td>balint1</td><td>Molnár Bálint</td><td>1989-08-24</td><td>2016-06-07</td><td>2017-01-03</td></tr><tr><td>balint1</td><td>Molnár Bálint</td><td>1989-08-24</td><td>2016-06-07</td><td>2017-01-03</td></tr><tr><td>balint1</td><td>Molnár Bálint</td><td>1989-08-24</td><td>2016-06-07</td><td>2017-01-03</td></tr><tr><td>balint1</td><td>Molnár Bálint</td><td>1989-08-24</td><td>2016-06-07</td><td>2017-01-03</td></tr><tr><td>balint1</td><td>Molnár Bálint</td><td>1989-08-24</td><td>2016-06-07</td><td>2017-01-03</td></tr><tr><td>balint1</td><td>Molnár Bálint</td><td>1989-08-24</td><td>2016-06-07</td><td>2017-01-03</td></tr><tr><td>balint1</td><td>Molnár Bálint</td><td>1989-08-24</td><td>2016-06-07</td><td>2017-01-03</td></tr><tr><td>balint1</td><td>Molnár Bálint</td><td>1989-08-24</td><td>2016-06-07</td><td>2017-01-03</td></tr><tr><td>balint1</td><td>Molnár Bálint</td><td>1989-08-24</td><td>2016-06-07</td><td>2017-01-03</td></tr><tr><td>balint1</td><td>Molnár Bálint</td><td>1989-08-24</td><td>2016-06-07</td><td>2017-01-03</td></tr><tr><td>balint2</td><td>Vukasinovity Bálint</td><td>1997-09-03</td><td>2016-07-21</td><td>2016-12-04</td></tr><tr><td>balint2</td><td>Vukasinovity Bálint</td><td>1997-09-03</td><td>2016-07-21</td><td>2016-12-04</td></tr><tr><td>balu</td><td>Endresz Bálint</td><td>1976-08-01</td><td>2016-08-06</td><td>2016-12-22</td></tr><tr><td>balu</td><td>Endresz Bálint</td><td>1976-08-01</td><td>2016-08-06</td><td>2016-12-22</td></tr><tr><td>beata4</td><td>Bagi Beáta</td><td>1994-03-19</td><td>2016-04-20</td><td>2016-10-03</td></tr><tr><td>beata4</td><td>Bagi Beáta</td><td>1994-03-19</td><td>2016-04-20</td><td>2016-10-03</td></tr><tr><td>beata4</td><td>Bagi Beáta</td><td>1994-03-19</td><td>2016-04-20</td><td>2016-10-03</td></tr><tr><td>beata4</td><td>Bagi Beáta</td><td>1994-03-19</td><td>2016-04-20</td><td>2016-10-03</td></tr><tr><td>beata4</td><td>Bagi Beáta</td><td>1994-03-19</td><td>2016-04-20</td><td>2016-10-03</td></tr><tr><td>beata4</td><td>Bagi Beáta</td><td>1994-03-19</td><td>2016-04-20</td><td>2016-10-03</td></tr><tr><td>BEATRIXK</td><td>Kerényi Beatrix</td><td>1972-04-06</td><td>2016-06-10</td><td>2017-02-08</td></tr><tr><td>BEATRIXK</td><td>Kerényi Beatrix</td><td>1972-04-06</td><td>2016-06-10</td><td>2017-02-08</td></tr><tr><td>BEATRIXK</td><td>Kerényi Beatrix</td><td>1972-04-06</td><td>2016-06-10</td><td>2017-02-08</td></tr><tr><td>BEATRIXK</td><td>Kerényi Beatrix</td><td>1972-04-06</td><td>2016-06-10</td><td>2017-02-08</td></tr><tr><td>BEATRIXK</td><td>Kerényi Beatrix</td><td>1972-04-06</td><td>2016-06-10</td><td>2017-02-08</td></tr><tr><td>BEATRIXK</td><td>Kerényi Beatrix</td><td>1972-04-06</td><td>2016-06-10</td><td>2017-02-08</td></tr><tr><td>BEATRIXK</td><td>Kerényi Beatrix</td><td>1972-04-06</td><td>2016-06-10</td><td>2017-02-08</td></tr><tr><td>BEATRIXK</td><td>Kerényi Beatrix</td><td>1972-04-06</td><td>2016-06-10</td><td>2017-02-08</td></tr><tr><td>BEATRIXK</td><td>Kerényi Beatrix</td><td>1972-04-06</td><td>2016-06-10</td><td>2017-02-08</td></tr><tr><td>BEATRIXS</td><td>Szekendi Beatrix</td><td>1981-04-06</td><td>2016-04-18</td><td>2017-02-03</td></tr><tr><td>BEATRIXS</td><td>Szekendi Beatrix</td><td>1981-04-06</td><td>2016-04-18</td><td>2017-02-03</td></tr><tr><td>BEATRIXS</td><td>Szekendi Beatrix</td><td>1981-04-06</td><td>2016-04-18</td><td>2017-02-03</td></tr><tr><td>BEATRIXS</td><td>Szekendi Beatrix</td><td>1981-04-06</td><td>2016-04-18</td><td>2017-02-03</td></tr><tr><td>BEATRIXS</td><td>Szekendi Beatrix</td><td>1981-04-06</td><td>2016-04-18</td><td>2017-02-03</td></tr><tr><td>BEATRIXS</td><td>Szekendi Beatrix</td><td>1981-04-06</td><td>2016-04-18</td><td>2017-02-03</td></tr><tr><td>BELAF</td><td>Farkas Béla</td><td>1995-02-24</td><td>2016-07-27</td><td>2016-12-06</td></tr><tr><td>BELAF</td><td>Farkas Béla</td><td>1995-02-24</td><td>2016-07-27</td><td>2016-12-06</td></tr><tr><td>BELAF</td><td>Farkas Béla</td><td>1995-02-24</td><td>2016-07-27</td><td>2016-12-06</td></tr><tr><td>BELAF</td><td>Farkas Béla</td><td>1995-02-24</td><td>2016-07-27</td><td>2016-12-06</td></tr><tr><td>BELAF</td><td>Farkas Béla</td><td>1995-02-24</td><td>2016-07-27</td><td>2016-12-06</td></tr><tr><td>BELAF</td><td>Farkas Béla</td><td>1995-02-24</td><td>2016-07-27</td><td>2016-12-06</td></tr><tr><td>bence</td><td>Győrffy Bence</td><td>1987-07-09</td><td>2016-05-08</td><td>2017-02-05</td></tr><tr><td>bence</td><td>Győrffy Bence</td><td>1987-07-09</td><td>2016-05-08</td><td>2017-02-05</td></tr><tr><td>bence</td><td>Győrffy Bence</td><td>1987-07-09</td><td>2016-05-08</td><td>2017-02-05</td></tr><tr><td>bence</td><td>Győrffy Bence</td><td>1987-07-09</td><td>2016-05-08</td><td>2017-02-05</td></tr><tr><td>bence</td><td>Győrffy Bence</td><td>1987-07-09</td><td>2016-05-08</td><td>2017-02-05</td></tr><tr><td>bence</td><td>Győrffy Bence</td><td>1987-07-09</td><td>2016-05-08</td><td>2017-02-05</td></tr><tr><td>bence</td><td>Győrffy Bence</td><td>1987-07-09</td><td>2016-05-08</td><td>2017-02-05</td></tr><tr><td>bence</td><td>Győrffy Bence</td><td>1987-07-09</td><td>2016-05-08</td><td>2017-02-05</td></tr><tr><td>bence</td><td>Győrffy Bence</td><td>1987-07-09</td><td>2016-05-08</td><td>2017-02-05</td></tr><tr><td>BENCEB</td><td>Bajusz Bence</td><td>1973-06-21</td><td>2016-05-14</td><td>2017-02-12</td></tr><tr><td>BENCEB</td><td>Bajusz Bence</td><td>1973-06-21</td><td>2016-05-14</td><td>2017-02-12</td></tr><tr><td>BENCEB</td><td>Bajusz Bence</td><td>1973-06-21</td><td>2016-05-14</td><td>2017-02-12</td></tr><tr><td>BENCEB</td><td>Bajusz Bence</td><td>1973-06-21</td><td>2016-05-14</td><td>2017-02-12</td></tr><tr><td>BENCEB</td><td>Bajusz Bence</td><td>1973-06-21</td><td>2016-05-14</td><td>2017-02-12</td></tr><tr><td>BENCEB</td><td>Bajusz Bence</td><td>1973-06-21</td><td>2016-05-14</td><td>2017-02-12</td></tr><tr><td>bernadett1</td><td>Simon Bernadett</td><td>1984-10-13</td><td>2016-06-12</td><td>2017-02-24</td></tr><tr><td>bernadett1</td><td>Simon Bernadett</td><td>1984-10-13</td><td>2016-06-12</td><td>2017-02-24</td></tr><tr><td>bernadett1</td><td>Simon Bernadett</td><td>1984-10-13</td><td>2016-06-12</td><td>2017-02-24</td></tr><tr><td>bernadett1</td><td>Simon Bernadett</td><td>1984-10-13</td><td>2016-06-12</td><td>2017-02-24</td></tr><tr><td>bernadett1</td><td>Simon Bernadett</td><td>1984-10-13</td><td>2016-06-12</td><td>2017-02-24</td></tr><tr><td>bernadett1</td><td>Simon Bernadett</td><td>1984-10-13</td><td>2016-06-12</td><td>2017-02-24</td></tr><tr><td>bernadett1</td><td>Simon Bernadett</td><td>1984-10-13</td><td>2016-06-12</td><td>2017-02-24</td></tr><tr><td>bernadett2</td><td>Kovács Bernadett</td><td>1996-08-20</td><td>2016-05-01</td><td>2017-01-24</td></tr><tr><td>bernadett2</td><td>Kovács Bernadett</td><td>1996-08-20</td><td>2016-05-01</td><td>2017-01-24</td></tr><tr><td>bernadett2</td><td>Kovács Bernadett</td><td>1996-08-20</td><td>2016-05-01</td><td>2017-01-24</td></tr><tr><td>bernadett2</td><td>Kovács Bernadett</td><td>1996-08-20</td><td>2016-05-01</td><td>2017-01-24</td></tr><tr><td>bernadett2</td><td>Kovács Bernadett</td><td>1996-08-20</td><td>2016-05-01</td><td>2017-01-24</td></tr><tr><td>bernadett2</td><td>Kovács Bernadett</td><td>1996-08-20</td><td>2016-05-01</td><td>2017-01-24</td></tr><tr><td>bernadett2</td><td>Kovács Bernadett</td><td>1996-08-20</td><td>2016-05-01</td><td>2017-01-24</td></tr><tr><td>bernadett2</td><td>Kovács Bernadett</td><td>1996-08-20</td><td>2016-05-01</td><td>2017-01-24</td></tr><tr><td>BERNADETTO</td><td>Orbán Bernadett</td><td>1987-12-07</td><td>2016-04-10</td><td>2017-01-28</td></tr><tr><td>BERNADETTO</td><td>Orbán Bernadett</td><td>1987-12-07</td><td>2016-04-10</td><td>2017-01-28</td></tr><tr><td>BERNADETTO</td><td>Orbán Bernadett</td><td>1987-12-07</td><td>2016-04-10</td><td>2017-01-28</td></tr><tr><td>BERNADETTO</td><td>Orbán Bernadett</td><td>1987-12-07</td><td>2016-04-10</td><td>2017-01-28</td></tr><tr><td>BERNADETTO</td><td>Orbán Bernadett</td><td>1987-12-07</td><td>2016-04-10</td><td>2017-01-28</td></tr><tr><td>BERNADETTO</td><td>Orbán Bernadett</td><td>1987-12-07</td><td>2016-04-10</td><td>2017-01-28</td></tr><tr><td>BERNADETTO</td><td>Orbán Bernadett</td><td>1987-12-07</td><td>2016-04-10</td><td>2017-01-28</td></tr><tr><td>bertalan</td><td>Csiger Bertalan</td><td>1977-10-15</td><td>2016-05-18</td><td>2017-02-20</td></tr><tr><td>bertalan</td><td>Csiger Bertalan</td><td>1977-10-15</td><td>2016-05-18</td><td>2017-02-20</td></tr><tr><td>bertalan</td><td>Csiger Bertalan</td><td>1977-10-15</td><td>2016-05-18</td><td>2017-02-20</td></tr><tr><td>bertalan</td><td>Csiger Bertalan</td><td>1977-10-15</td><td>2016-05-18</td><td>2017-02-20</td></tr><tr><td>bertalan</td><td>Csiger Bertalan</td><td>1977-10-15</td><td>2016-05-18</td><td>2017-02-20</td></tr><tr><td>bertalan</td><td>Csiger Bertalan</td><td>1977-10-15</td><td>2016-05-18</td><td>2017-02-20</td></tr><tr><td>brigitta</td><td>Székely Brigitta</td><td>1978-09-13</td><td>2016-05-30</td><td>2017-01-23</td></tr><tr><td>brigitta</td><td>Székely Brigitta</td><td>1978-09-13</td><td>2016-05-30</td><td>2017-01-23</td></tr><tr><td>brigitta</td><td>Székely Brigitta</td><td>1978-09-13</td><td>2016-05-30</td><td>2017-01-23</td></tr><tr><td>brigitta</td><td>Székely Brigitta</td><td>1978-09-13</td><td>2016-05-30</td><td>2017-01-23</td></tr><tr><td>brigitta</td><td>Székely Brigitta</td><td>1978-09-13</td><td>2016-05-30</td><td>2017-01-23</td></tr><tr><td>brigitta3</td><td>Pataki Brigitta</td><td>1991-05-23</td><td>2016-06-01</td><td>2017-02-09</td></tr><tr><td>brigitta3</td><td>Pataki Brigitta</td><td>1991-05-23</td><td>2016-06-01</td><td>2017-02-09</td></tr><tr><td>brigitta3</td><td>Pataki Brigitta</td><td>1991-05-23</td><td>2016-06-01</td><td>2017-02-09</td></tr><tr><td>brigitta3</td><td>Pataki Brigitta</td><td>1991-05-23</td><td>2016-06-01</td><td>2017-02-09</td></tr><tr><td>brigitta3</td><td>Pataki Brigitta</td><td>1991-05-23</td><td>2016-06-01</td><td>2017-02-09</td></tr><tr><td>csongor3</td><td>Nagymihály Csongor</td><td>1984-03-05</td><td>2016-05-01</td><td>2017-02-13</td></tr><tr><td>csongor3</td><td>Nagymihály Csongor</td><td>1984-03-05</td><td>2016-05-01</td><td>2017-02-13</td></tr><tr><td>csongor3</td><td>Nagymihály Csongor</td><td>1984-03-05</td><td>2016-05-01</td><td>2017-02-13</td></tr><tr><td>csongor3</td><td>Nagymihály Csongor</td><td>1984-03-05</td><td>2016-05-01</td><td>2017-02-13</td></tr><tr><td>csongor3</td><td>Nagymihály Csongor</td><td>1984-03-05</td><td>2016-05-01</td><td>2017-02-13</td></tr><tr><td>csongor3</td><td>Nagymihály Csongor</td><td>1984-03-05</td><td>2016-05-01</td><td>2017-02-13</td></tr><tr><td>csongor3</td><td>Nagymihály Csongor</td><td>1984-03-05</td><td>2016-05-01</td><td>2017-02-13</td></tr><tr><td>csongor3</td><td>Nagymihály Csongor</td><td>1984-03-05</td><td>2016-05-01</td><td>2017-02-13</td></tr><tr><td>dani</td><td>Vörös Dániel</td><td>1986-10-14</td><td>2016-06-06</td><td>2017-02-25</td></tr><tr><td>dani</td><td>Vörös Dániel</td><td>1986-10-14</td><td>2016-06-06</td><td>2017-02-25</td></tr><tr><td>dani</td><td>Vörös Dániel</td><td>1986-10-14</td><td>2016-06-06</td><td>2017-02-25</td></tr><tr><td>dani</td><td>Vörös Dániel</td><td>1986-10-14</td><td>2016-06-06</td><td>2017-02-25</td></tr><tr><td>dani</td><td>Vörös Dániel</td><td>1986-10-14</td><td>2016-06-06</td><td>2017-02-25</td></tr><tr><td>dani</td><td>Vörös Dániel</td><td>1986-10-14</td><td>2016-06-06</td><td>2017-02-25</td></tr><tr><td>dani</td><td>Vörös Dániel</td><td>1986-10-14</td><td>2016-06-06</td><td>2017-02-25</td></tr><tr><td>dani</td><td>Vörös Dániel</td><td>1986-10-14</td><td>2016-06-06</td><td>2017-02-25</td></tr><tr><td>dani</td><td>Vörös Dániel</td><td>1986-10-14</td><td>2016-06-06</td><td>2017-02-25</td></tr><tr><td>daniel</td><td>Rácz Dániel</td><td>1978-11-28</td><td>2016-04-10</td><td>2017-02-20</td></tr><tr><td>daniel</td><td>Rácz Dániel</td><td>1978-11-28</td><td>2016-04-10</td><td>2017-02-20</td></tr><tr><td>daniel</td><td>Rácz Dániel</td><td>1978-11-28</td><td>2016-04-10</td><td>2017-02-20</td></tr><tr><td>daniel</td><td>Rácz Dániel</td><td>1978-11-28</td><td>2016-04-10</td><td>2017-02-20</td></tr><tr><td>daniel</td><td>Rácz Dániel</td><td>1978-11-28</td><td>2016-04-10</td><td>2017-02-20</td></tr><tr><td>daniel</td><td>Rácz Dániel</td><td>1978-11-28</td><td>2016-04-10</td><td>2017-02-20</td></tr><tr><td>daniel</td><td>Rácz Dániel</td><td>1978-11-28</td><td>2016-04-10</td><td>2017-02-20</td></tr><tr><td>daniel</td><td>Rácz Dániel</td><td>1978-11-28</td><td>2016-04-10</td><td>2017-02-20</td></tr><tr><td>daniel</td><td>Rácz Dániel</td><td>1978-11-28</td><td>2016-04-10</td><td>2017-02-20</td></tr><tr><td>daniel1</td><td>Keszler Dániel</td><td>1969-07-16</td><td>2016-04-10</td><td>2017-03-01</td></tr><tr><td>daniel1</td><td>Keszler Dániel</td><td>1969-07-16</td><td>2016-04-10</td><td>2017-03-01</td></tr><tr><td>daniel1</td><td>Keszler Dániel</td><td>1969-07-16</td><td>2016-04-10</td><td>2017-03-01</td></tr><tr><td>daniel1</td><td>Keszler Dániel</td><td>1969-07-16</td><td>2016-04-10</td><td>2017-03-01</td></tr><tr><td>daniel1</td><td>Keszler Dániel</td><td>1969-07-16</td><td>2016-04-10</td><td>2017-03-01</td></tr><tr><td>daniel1</td><td>Keszler Dániel</td><td>1969-07-16</td><td>2016-04-10</td><td>2017-03-01</td></tr><tr><td>daniel1</td><td>Keszler Dániel</td><td>1969-07-16</td><td>2016-04-10</td><td>2017-03-01</td></tr><tr><td>david</td><td>Ambrus Dávid</td><td>1974-02-11</td><td>2016-05-18</td><td>2017-01-18</td></tr><tr><td>david</td><td>Ambrus Dávid</td><td>1974-02-11</td><td>2016-05-18</td><td>2017-01-18</td></tr><tr><td>david</td><td>Ambrus Dávid</td><td>1974-02-11</td><td>2016-05-18</td><td>2017-01-18</td></tr><tr><td>david</td><td>Ambrus Dávid</td><td>1974-02-11</td><td>2016-05-18</td><td>2017-01-18</td></tr><tr><td>david</td><td>Ambrus Dávid</td><td>1974-02-11</td><td>2016-05-18</td><td>2017-01-18</td></tr><tr><td>david</td><td>Ambrus Dávid</td><td>1974-02-11</td><td>2016-05-18</td><td>2017-01-18</td></tr><tr><td>david</td><td>Ambrus Dávid</td><td>1974-02-11</td><td>2016-05-18</td><td>2017-01-18</td></tr><tr><td>david</td><td>Ambrus Dávid</td><td>1974-02-11</td><td>2016-05-18</td><td>2017-01-18</td></tr><tr><td>david</td><td>Ambrus Dávid</td><td>1974-02-11</td><td>2016-05-18</td><td>2017-01-18</td></tr><tr><td>david1</td><td>Sobják Dávid</td><td>1970-08-16</td><td>2016-09-20</td><td>2017-02-25</td></tr><tr><td>david1</td><td>Sobják Dávid</td><td>1970-08-16</td><td>2016-09-20</td><td>2017-02-25</td></tr><tr><td>david1</td><td>Sobják Dávid</td><td>1970-08-16</td><td>2016-09-20</td><td>2017-02-25</td></tr><tr><td>david1</td><td>Sobják Dávid</td><td>1970-08-16</td><td>2016-09-20</td><td>2017-02-25</td></tr><tr><td>david1</td><td>Sobják Dávid</td><td>1970-08-16</td><td>2016-09-20</td><td>2017-02-25</td></tr><tr><td>david1</td><td>Sobják Dávid</td><td>1970-08-16</td><td>2016-09-20</td><td>2017-02-25</td></tr><tr><td>david4</td><td>Berta Dávid</td><td>1990-10-08</td><td>2017-02-16</td><td>2017-02-16</td></tr><tr><td>debora</td><td>Barna Debóra</td><td>1976-10-14</td><td>2016-06-22</td><td>2017-02-04</td></tr><tr><td>debora</td><td>Barna Debóra</td><td>1976-10-14</td><td>2016-06-22</td><td>2017-02-04</td></tr><tr><td>debora</td><td>Barna Debóra</td><td>1976-10-14</td><td>2016-06-22</td><td>2017-02-04</td></tr><tr><td>debora</td><td>Barna Debóra</td><td>1976-10-14</td><td>2016-06-22</td><td>2017-02-04</td></tr><tr><td>denes</td><td>Tömböly Dénes</td><td>1975-03-14</td><td>2016-05-27</td><td>2016-11-06</td></tr><tr><td>denes</td><td>Tömböly Dénes</td><td>1975-03-14</td><td>2016-05-27</td><td>2016-11-06</td></tr><tr><td>denes</td><td>Tömböly Dénes</td><td>1975-03-14</td><td>2016-05-27</td><td>2016-11-06</td></tr><tr><td>denes</td><td>Tömböly Dénes</td><td>1975-03-14</td><td>2016-05-27</td><td>2016-11-06</td></tr><tr><td>denes</td><td>Tömböly Dénes</td><td>1975-03-14</td><td>2016-05-27</td><td>2016-11-06</td></tr><tr><td>denes</td><td>Tömböly Dénes</td><td>1975-03-14</td><td>2016-05-27</td><td>2016-11-06</td></tr><tr><td>dora3</td><td>Sarodi Dóra</td><td>1995-05-18</td><td>2016-08-16</td><td>2016-11-22</td></tr><tr><td>dora3</td><td>Sarodi Dóra</td><td>1995-05-18</td><td>2016-08-16</td><td>2016-11-22</td></tr><tr><td>dora3</td><td>Sarodi Dóra</td><td>1995-05-18</td><td>2016-08-16</td><td>2016-11-22</td></tr><tr><td>dora3</td><td>Sarodi Dóra</td><td>1995-05-18</td><td>2016-08-16</td><td>2016-11-22</td></tr><tr><td>dora3</td><td>Sarodi Dóra</td><td>1995-05-18</td><td>2016-08-16</td><td>2016-11-22</td></tr><tr><td>edit</td><td>Bittmann Edit</td><td>1984-04-20</td><td>2016-07-14</td><td>2017-02-08</td></tr><tr><td>edit</td><td>Bittmann Edit</td><td>1984-04-20</td><td>2016-07-14</td><td>2017-02-08</td></tr><tr><td>edit</td><td>Bittmann Edit</td><td>1984-04-20</td><td>2016-07-14</td><td>2017-02-08</td></tr><tr><td>edit</td><td>Bittmann Edit</td><td>1984-04-20</td><td>2016-07-14</td><td>2017-02-08</td></tr><tr><td>edit</td><td>Bittmann Edit</td><td>1984-04-20</td><td>2016-07-14</td><td>2017-02-08</td></tr><tr><td>edit</td><td>Bittmann Edit</td><td>1984-04-20</td><td>2016-07-14</td><td>2017-02-08</td></tr><tr><td>edit</td><td>Bittmann Edit</td><td>1984-04-20</td><td>2016-07-14</td><td>2017-02-08</td></tr><tr><td>emese</td><td>Kuruc Emese</td><td>1989-08-10</td><td>2016-07-22</td><td>2017-01-30</td></tr><tr><td>emese</td><td>Kuruc Emese</td><td>1989-08-10</td><td>2016-07-22</td><td>2017-01-30</td></tr><tr><td>emese</td><td>Kuruc Emese</td><td>1989-08-10</td><td>2016-07-22</td><td>2017-01-30</td></tr><tr><td>emese</td><td>Kuruc Emese</td><td>1989-08-10</td><td>2016-07-22</td><td>2017-01-30</td></tr><tr><td>emese</td><td>Kuruc Emese</td><td>1989-08-10</td><td>2016-07-22</td><td>2017-01-30</td></tr><tr><td>emese</td><td>Kuruc Emese</td><td>1989-08-10</td><td>2016-07-22</td><td>2017-01-30</td></tr><tr><td>emese</td><td>Kuruc Emese</td><td>1989-08-10</td><td>2016-07-22</td><td>2017-01-30</td></tr><tr><td>eszter</td><td>Molnár Eszter</td><td>1987-05-10</td><td>2016-08-12</td><td>2016-12-23</td></tr><tr><td>eszter</td><td>Molnár Eszter</td><td>1987-05-10</td><td>2016-08-12</td><td>2016-12-23</td></tr><tr><td>eszter</td><td>Molnár Eszter</td><td>1987-05-10</td><td>2016-08-12</td><td>2016-12-23</td></tr><tr><td>eszter</td><td>Molnár Eszter</td><td>1987-05-10</td><td>2016-08-12</td><td>2016-12-23</td></tr><tr><td>eszter2</td><td>Balogh Eszter</td><td>1998-01-31</td><td>2016-06-30</td><td>2016-12-29</td></tr><tr><td>eszter2</td><td>Balogh Eszter</td><td>1998-01-31</td><td>2016-06-30</td><td>2016-12-29</td></tr><tr><td>eszter2</td><td>Balogh Eszter</td><td>1998-01-31</td><td>2016-06-30</td><td>2016-12-29</td></tr><tr><td>eszter2</td><td>Balogh Eszter</td><td>1998-01-31</td><td>2016-06-30</td><td>2016-12-29</td></tr><tr><td>eszter2</td><td>Balogh Eszter</td><td>1998-01-31</td><td>2016-06-30</td><td>2016-12-29</td></tr><tr><td>eszter2</td><td>Balogh Eszter</td><td>1998-01-31</td><td>2016-06-30</td><td>2016-12-29</td></tr><tr><td>eszter2</td><td>Balogh Eszter</td><td>1998-01-31</td><td>2016-06-30</td><td>2016-12-29</td></tr><tr><td>eszter2</td><td>Balogh Eszter</td><td>1998-01-31</td><td>2016-06-30</td><td>2016-12-29</td></tr><tr><td>eszter2</td><td>Balogh Eszter</td><td>1998-01-31</td><td>2016-06-30</td><td>2016-12-29</td></tr><tr><td>eszter2</td><td>Balogh Eszter</td><td>1998-01-31</td><td>2016-06-30</td><td>2016-12-29</td></tr><tr><td>eszter4</td><td>Fülöp Eszter</td><td>1993-06-28</td><td>2017-01-05</td><td>2017-02-26</td></tr><tr><td>eszter4</td><td>Fülöp Eszter</td><td>1993-06-28</td><td>2017-01-05</td><td>2017-02-26</td></tr><tr><td>eszter4</td><td>Fülöp Eszter</td><td>1993-06-28</td><td>2017-01-05</td><td>2017-02-26</td></tr><tr><td>ESZTERE</td><td>Érsek Eszter</td><td>1978-08-28</td><td>2016-05-30</td><td>2017-02-10</td></tr><tr><td>ESZTERE</td><td>Érsek Eszter</td><td>1978-08-28</td><td>2016-05-30</td><td>2017-02-10</td></tr><tr><td>ESZTERE</td><td>Érsek Eszter</td><td>1978-08-28</td><td>2016-05-30</td><td>2017-02-10</td></tr><tr><td>ESZTERE</td><td>Érsek Eszter</td><td>1978-08-28</td><td>2016-05-30</td><td>2017-02-10</td></tr><tr><td>eva</td><td>Enyedi Éva</td><td>1967-06-30</td><td>2016-10-06</td><td>2017-01-14</td></tr><tr><td>eva</td><td>Enyedi Éva</td><td>1967-06-30</td><td>2016-10-06</td><td>2017-01-14</td></tr><tr><td>eva2</td><td>Perlinger Éva</td><td>1971-08-19</td><td>2016-09-02</td><td>2017-01-06</td></tr><tr><td>eva2</td><td>Perlinger Éva</td><td>1971-08-19</td><td>2016-09-02</td><td>2017-01-06</td></tr><tr><td>eva2</td><td>Perlinger Éva</td><td>1971-08-19</td><td>2016-09-02</td><td>2017-01-06</td></tr><tr><td>eva2</td><td>Perlinger Éva</td><td>1971-08-19</td><td>2016-09-02</td><td>2017-01-06</td></tr><tr><td>EVAV</td><td>Viktor Éva</td><td>1980-12-26</td><td>2016-05-01</td><td>2017-02-04</td></tr><tr><td>EVAV</td><td>Viktor Éva</td><td>1980-12-26</td><td>2016-05-01</td><td>2017-02-04</td></tr><tr><td>EVAV</td><td>Viktor Éva</td><td>1980-12-26</td><td>2016-05-01</td><td>2017-02-04</td></tr><tr><td>EVAV</td><td>Viktor Éva</td><td>1980-12-26</td><td>2016-05-01</td><td>2017-02-04</td></tr><tr><td>EVAV</td><td>Viktor Éva</td><td>1980-12-26</td><td>2016-05-01</td><td>2017-02-04</td></tr><tr><td>ferenc1</td><td>Orosz Ferenc</td><td>1983-10-08</td><td>2016-05-08</td><td>2016-11-07</td></tr><tr><td>ferenc1</td><td>Orosz Ferenc</td><td>1983-10-08</td><td>2016-05-08</td><td>2016-11-07</td></tr><tr><td>ferenc1</td><td>Orosz Ferenc</td><td>1983-10-08</td><td>2016-05-08</td><td>2016-11-07</td></tr><tr><td>ferenc1</td><td>Orosz Ferenc</td><td>1983-10-08</td><td>2016-05-08</td><td>2016-11-07</td></tr><tr><td>fruzsina4</td><td>Frank Fruzsina</td><td>1996-08-16</td><td>2016-06-02</td><td>2017-01-22</td></tr><tr><td>fruzsina4</td><td>Frank Fruzsina</td><td>1996-08-16</td><td>2016-06-02</td><td>2017-01-22</td></tr><tr><td>fruzsina4</td><td>Frank Fruzsina</td><td>1996-08-16</td><td>2016-06-02</td><td>2017-01-22</td></tr><tr><td>fruzsina4</td><td>Frank Fruzsina</td><td>1996-08-16</td><td>2016-06-02</td><td>2017-01-22</td></tr><tr><td>fruzsina4</td><td>Frank Fruzsina</td><td>1996-08-16</td><td>2016-06-02</td><td>2017-01-22</td></tr><tr><td>fruzsina4</td><td>Frank Fruzsina</td><td>1996-08-16</td><td>2016-06-02</td><td>2017-01-22</td></tr><tr><td>fruzsina4</td><td>Frank Fruzsina</td><td>1996-08-16</td><td>2016-06-02</td><td>2017-01-22</td></tr><tr><td>fruzsina4</td><td>Frank Fruzsina</td><td>1996-08-16</td><td>2016-06-02</td><td>2017-01-22</td></tr><tr><td>gabor1</td><td>Köves Gábor</td><td>1973-07-15</td><td>2016-06-20</td><td>2016-11-19</td></tr><tr><td>gabor1</td><td>Köves Gábor</td><td>1973-07-15</td><td>2016-06-20</td><td>2016-11-19</td></tr><tr><td>gabor1</td><td>Köves Gábor</td><td>1973-07-15</td><td>2016-06-20</td><td>2016-11-19</td></tr><tr><td>gabor1</td><td>Köves Gábor</td><td>1973-07-15</td><td>2016-06-20</td><td>2016-11-19</td></tr><tr><td>gabor1</td><td>Köves Gábor</td><td>1973-07-15</td><td>2016-06-20</td><td>2016-11-19</td></tr><tr><td>gabor1</td><td>Köves Gábor</td><td>1973-07-15</td><td>2016-06-20</td><td>2016-11-19</td></tr><tr><td>gabor4</td><td>Telek Gábor</td><td>1987-03-15</td><td>2016-04-26</td><td>2016-11-07</td></tr><tr><td>gabor4</td><td>Telek Gábor</td><td>1987-03-15</td><td>2016-04-26</td><td>2016-11-07</td></tr><tr><td>gabor4</td><td>Telek Gábor</td><td>1987-03-15</td><td>2016-04-26</td><td>2016-11-07</td></tr><tr><td>gabor4</td><td>Telek Gábor</td><td>1987-03-15</td><td>2016-04-26</td><td>2016-11-07</td></tr><tr><td>gabriella1</td><td>Nagy Gabriella</td><td>1982-11-01</td><td>2016-04-21</td><td>2017-02-21</td></tr><tr><td>gabriella1</td><td>Nagy Gabriella</td><td>1982-11-01</td><td>2016-04-21</td><td>2017-02-21</td></tr><tr><td>gabriella1</td><td>Nagy Gabriella</td><td>1982-11-01</td><td>2016-04-21</td><td>2017-02-21</td></tr><tr><td>gabriella1</td><td>Nagy Gabriella</td><td>1982-11-01</td><td>2016-04-21</td><td>2017-02-21</td></tr><tr><td>gabriella1</td><td>Nagy Gabriella</td><td>1982-11-01</td><td>2016-04-21</td><td>2017-02-21</td></tr><tr><td>gabriella1</td><td>Nagy Gabriella</td><td>1982-11-01</td><td>2016-04-21</td><td>2017-02-21</td></tr><tr><td>gabriella10</td><td>Vida Gabriella</td><td>1969-06-18</td><td>2016-10-01</td><td>2016-10-01</td></tr><tr><td>georgij</td><td>Nyíri Georgij</td><td>1983-02-23</td><td>2016-06-16</td><td>2016-09-18</td></tr><tr><td>georgij</td><td>Nyíri Georgij</td><td>1983-02-23</td><td>2016-06-16</td><td>2016-09-18</td></tr><tr><td>georgij</td><td>Nyíri Georgij</td><td>1983-02-23</td><td>2016-06-16</td><td>2016-09-18</td></tr><tr><td>georgij</td><td>Nyíri Georgij</td><td>1983-02-23</td><td>2016-06-16</td><td>2016-09-18</td></tr><tr><td>gusztav</td><td>Bárci Gusztáv</td><td>1967-02-25</td><td>2016-05-06</td><td>2017-02-23</td></tr><tr><td>gusztav</td><td>Bárci Gusztáv</td><td>1967-02-25</td><td>2016-05-06</td><td>2017-02-23</td></tr><tr><td>gusztav</td><td>Bárci Gusztáv</td><td>1967-02-25</td><td>2016-05-06</td><td>2017-02-23</td></tr><tr><td>gusztav</td><td>Bárci Gusztáv</td><td>1967-02-25</td><td>2016-05-06</td><td>2017-02-23</td></tr><tr><td>gusztav</td><td>Bárci Gusztáv</td><td>1967-02-25</td><td>2016-05-06</td><td>2017-02-23</td></tr><tr><td>GYONGYIK</td><td>Kornseé Gyöngyi</td><td>1974-06-07</td><td>2016-06-02</td><td>2017-01-22</td></tr><tr><td>GYONGYIK</td><td>Kornseé Gyöngyi</td><td>1974-06-07</td><td>2016-06-02</td><td>2017-01-22</td></tr><tr><td>GYONGYIK</td><td>Kornseé Gyöngyi</td><td>1974-06-07</td><td>2016-06-02</td><td>2017-01-22</td></tr><tr><td>GYONGYIK</td><td>Kornseé Gyöngyi</td><td>1974-06-07</td><td>2016-06-02</td><td>2017-01-22</td></tr><tr><td>GYONGYIK</td><td>Kornseé Gyöngyi</td><td>1974-06-07</td><td>2016-06-02</td><td>2017-01-22</td></tr><tr><td>GYONGYIK</td><td>Kornseé Gyöngyi</td><td>1974-06-07</td><td>2016-06-02</td><td>2017-01-22</td></tr><tr><td>GYONGYIK</td><td>Kornseé Gyöngyi</td><td>1974-06-07</td><td>2016-06-02</td><td>2017-01-22</td></tr><tr><td>GYORGYO</td><td>Oroszi György</td><td>1980-03-23</td><td>2016-05-27</td><td>2017-02-24</td></tr><tr><td>GYORGYO</td><td>Oroszi György</td><td>1980-03-23</td><td>2016-05-27</td><td>2017-02-24</td></tr><tr><td>GYORGYO</td><td>Oroszi György</td><td>1980-03-23</td><td>2016-05-27</td><td>2017-02-24</td></tr><tr><td>GYORGYO</td><td>Oroszi György</td><td>1980-03-23</td><td>2016-05-27</td><td>2017-02-24</td></tr><tr><td>GYORGYO</td><td>Oroszi György</td><td>1980-03-23</td><td>2016-05-27</td><td>2017-02-24</td></tr><tr><td>GYORGYO</td><td>Oroszi György</td><td>1980-03-23</td><td>2016-05-27</td><td>2017-02-24</td></tr><tr><td>GYORGYO</td><td>Oroszi György</td><td>1980-03-23</td><td>2016-05-27</td><td>2017-02-24</td></tr><tr><td>GYORGYO</td><td>Oroszi György</td><td>1980-03-23</td><td>2016-05-27</td><td>2017-02-24</td></tr><tr><td>henrik3</td><td>Nádudvari Henrik</td><td>1986-12-05</td><td>2016-08-24</td><td>2017-01-27</td></tr><tr><td>henrik3</td><td>Nádudvari Henrik</td><td>1986-12-05</td><td>2016-08-24</td><td>2017-01-27</td></tr><tr><td>henrik3</td><td>Nádudvari Henrik</td><td>1986-12-05</td><td>2016-08-24</td><td>2017-01-27</td></tr><tr><td>IBOLYAA</td><td>Andor Ibolya</td><td>1983-11-27</td><td>2016-08-29</td><td>2017-01-17</td></tr><tr><td>IBOLYAA</td><td>Andor Ibolya</td><td>1983-11-27</td><td>2016-08-29</td><td>2017-01-17</td></tr><tr><td>IBOLYAA</td><td>Andor Ibolya</td><td>1983-11-27</td><td>2016-08-29</td><td>2017-01-17</td></tr><tr><td>ilona3</td><td>Bosnyák Ilona</td><td>1990-08-06</td><td>2016-07-31</td><td>2016-12-25</td></tr><tr><td>ilona3</td><td>Bosnyák Ilona</td><td>1990-08-06</td><td>2016-07-31</td><td>2016-12-25</td></tr><tr><td>ilona3</td><td>Bosnyák Ilona</td><td>1990-08-06</td><td>2016-07-31</td><td>2016-12-25</td></tr><tr><td>ilona3</td><td>Bosnyák Ilona</td><td>1990-08-06</td><td>2016-07-31</td><td>2016-12-25</td></tr><tr><td>imre</td><td>Búza Imre</td><td>1988-09-30</td><td>2016-09-17</td><td>2016-10-28</td></tr><tr><td>imre</td><td>Búza Imre</td><td>1988-09-30</td><td>2016-09-17</td><td>2016-10-28</td></tr><tr><td>imre1</td><td>Papp Imre</td><td>1976-06-25</td><td>2016-06-23</td><td>2017-02-05</td></tr><tr><td>imre1</td><td>Papp Imre</td><td>1976-06-25</td><td>2016-06-23</td><td>2017-02-05</td></tr><tr><td>imre1</td><td>Papp Imre</td><td>1976-06-25</td><td>2016-06-23</td><td>2017-02-05</td></tr><tr><td>imre1</td><td>Papp Imre</td><td>1976-06-25</td><td>2016-06-23</td><td>2017-02-05</td></tr><tr><td>imre1</td><td>Papp Imre</td><td>1976-06-25</td><td>2016-06-23</td><td>2017-02-05</td></tr><tr><td>imre1</td><td>Papp Imre</td><td>1976-06-25</td><td>2016-06-23</td><td>2017-02-05</td></tr><tr><td>imre1</td><td>Papp Imre</td><td>1976-06-25</td><td>2016-06-23</td><td>2017-02-05</td></tr><tr><td>istvan</td><td>Soós István</td><td>1986-06-28</td><td>2016-10-07</td><td>2017-01-02</td></tr><tr><td>istvan</td><td>Soós István</td><td>1986-06-28</td><td>2016-10-07</td><td>2017-01-02</td></tr><tr><td>istvan</td><td>Soós István</td><td>1986-06-28</td><td>2016-10-07</td><td>2017-01-02</td></tr><tr><td>istvan1</td><td>Vizi István</td><td>1997-12-01</td><td>2016-04-16</td><td>2017-02-07</td></tr><tr><td>istvan1</td><td>Vizi István</td><td>1997-12-01</td><td>2016-04-16</td><td>2017-02-07</td></tr><tr><td>istvan1</td><td>Vizi István</td><td>1997-12-01</td><td>2016-04-16</td><td>2017-02-07</td></tr><tr><td>istvan1</td><td>Vizi István</td><td>1997-12-01</td><td>2016-04-16</td><td>2017-02-07</td></tr><tr><td>ISTVANV</td><td>Varga István</td><td>1989-04-09</td><td>2016-07-01</td><td>2016-09-29</td></tr><tr><td>ISTVANV</td><td>Varga István</td><td>1989-04-09</td><td>2016-07-01</td><td>2016-09-29</td></tr><tr><td>janos3</td><td>Harangozó János</td><td>1967-11-02</td><td>2016-06-04</td><td>2017-02-12</td></tr><tr><td>janos3</td><td>Harangozó János</td><td>1967-11-02</td><td>2016-06-04</td><td>2017-02-12</td></tr><tr><td>janos3</td><td>Harangozó János</td><td>1967-11-02</td><td>2016-06-04</td><td>2017-02-12</td></tr><tr><td>janos3</td><td>Harangozó János</td><td>1967-11-02</td><td>2016-06-04</td><td>2017-02-12</td></tr><tr><td>janos3</td><td>Harangozó János</td><td>1967-11-02</td><td>2016-06-04</td><td>2017-02-12</td></tr><tr><td>JANOSG</td><td>Giliga János</td><td>1975-01-03</td><td>2016-05-09</td><td>2017-01-31</td></tr><tr><td>JANOSG</td><td>Giliga János</td><td>1975-01-03</td><td>2016-05-09</td><td>2017-01-31</td></tr><tr><td>JANOSG</td><td>Giliga János</td><td>1975-01-03</td><td>2016-05-09</td><td>2017-01-31</td></tr><tr><td>JANOSG</td><td>Giliga János</td><td>1975-01-03</td><td>2016-05-09</td><td>2017-01-31</td></tr><tr><td>JANOSG</td><td>Giliga János</td><td>1975-01-03</td><td>2016-05-09</td><td>2017-01-31</td></tr><tr><td>JANOSG</td><td>Giliga János</td><td>1975-01-03</td><td>2016-05-09</td><td>2017-01-31</td></tr><tr><td>JANOSG</td><td>Giliga János</td><td>1975-01-03</td><td>2016-05-09</td><td>2017-01-31</td></tr><tr><td>JANOSP</td><td>Pálinkás János</td><td>1984-10-12</td><td>2016-07-04</td><td>2016-12-18</td></tr><tr><td>JANOSP</td><td>Pálinkás János</td><td>1984-10-12</td><td>2016-07-04</td><td>2016-12-18</td></tr><tr><td>JANOSP</td><td>Pálinkás János</td><td>1984-10-12</td><td>2016-07-04</td><td>2016-12-18</td></tr><tr><td>JANOSP</td><td>Pálinkás János</td><td>1984-10-12</td><td>2016-07-04</td><td>2016-12-18</td></tr><tr><td>jozsef</td><td>Gergely József</td><td>1985-11-01</td><td>2016-09-13</td><td>2016-12-06</td></tr><tr><td>jozsef</td><td>Gergely József</td><td>1985-11-01</td><td>2016-09-13</td><td>2016-12-06</td></tr><tr><td>jozsef</td><td>Gergely József</td><td>1985-11-01</td><td>2016-09-13</td><td>2016-12-06</td></tr><tr><td>jozsef2</td><td>Vajda József</td><td>1978-09-04</td><td>2016-07-06</td><td>2016-11-25</td></tr><tr><td>jozsef2</td><td>Vajda József</td><td>1978-09-04</td><td>2016-07-06</td><td>2016-11-25</td></tr><tr><td>jozsef2</td><td>Vajda József</td><td>1978-09-04</td><td>2016-07-06</td><td>2016-11-25</td></tr><tr><td>jozsef2</td><td>Vajda József</td><td>1978-09-04</td><td>2016-07-06</td><td>2016-11-25</td></tr><tr><td>jozsef2</td><td>Vajda József</td><td>1978-09-04</td><td>2016-07-06</td><td>2016-11-25</td></tr><tr><td>JOZSEFG</td><td>Gyuris József</td><td>1975-05-26</td><td>2016-05-02</td><td>2017-02-24</td></tr><tr><td>JOZSEFG</td><td>Gyuris József</td><td>1975-05-26</td><td>2016-05-02</td><td>2017-02-24</td></tr><tr><td>JOZSEFG</td><td>Gyuris József</td><td>1975-05-26</td><td>2016-05-02</td><td>2017-02-24</td></tr><tr><td>JOZSEFG</td><td>Gyuris József</td><td>1975-05-26</td><td>2016-05-02</td><td>2017-02-24</td></tr><tr><td>JOZSEFG</td><td>Gyuris József</td><td>1975-05-26</td><td>2016-05-02</td><td>2017-02-24</td></tr><tr><td>JOZSEFG</td><td>Gyuris József</td><td>1975-05-26</td><td>2016-05-02</td><td>2017-02-24</td></tr><tr><td>JOZSEFG</td><td>Gyuris József</td><td>1975-05-26</td><td>2016-05-02</td><td>2017-02-24</td></tr><tr><td>JUDITH</td><td>Hídasi Judit</td><td>1997-07-12</td><td>2016-06-06</td><td>2016-12-19</td></tr><tr><td>JUDITH</td><td>Hídasi Judit</td><td>1997-07-12</td><td>2016-06-06</td><td>2016-12-19</td></tr><tr><td>JUDITH</td><td>Hídasi Judit</td><td>1997-07-12</td><td>2016-06-06</td><td>2016-12-19</td></tr><tr><td>julia</td><td>Tóth Júlia</td><td>1993-03-02</td><td>2016-04-21</td><td>2017-02-27</td></tr><tr><td>julia</td><td>Tóth Júlia</td><td>1993-03-02</td><td>2016-04-21</td><td>2017-02-27</td></tr><tr><td>julia</td><td>Tóth Júlia</td><td>1993-03-02</td><td>2016-04-21</td><td>2017-02-27</td></tr><tr><td>julia</td><td>Tóth Júlia</td><td>1993-03-02</td><td>2016-04-21</td><td>2017-02-27</td></tr><tr><td>julia</td><td>Tóth Júlia</td><td>1993-03-02</td><td>2016-04-21</td><td>2017-02-27</td></tr><tr><td>julia4</td><td>Nagy Júlia</td><td>1985-08-11</td><td>2016-11-07</td><td>2017-02-04</td></tr><tr><td>julia4</td><td>Nagy Júlia</td><td>1985-08-11</td><td>2016-11-07</td><td>2017-02-04</td></tr><tr><td>julianna4</td><td>Szabó Julianna</td><td>1990-09-29</td><td>2016-07-20</td><td>2016-11-27</td></tr><tr><td>julianna4</td><td>Szabó Julianna</td><td>1990-09-29</td><td>2016-07-20</td><td>2016-11-27</td></tr><tr><td>julianna4</td><td>Szabó Julianna</td><td>1990-09-29</td><td>2016-07-20</td><td>2016-11-27</td></tr><tr><td>julianna4</td><td>Szabó Julianna</td><td>1990-09-29</td><td>2016-07-20</td><td>2016-11-27</td></tr><tr><td>kata</td><td>Gondos Katalin</td><td>1968-06-22</td><td>2016-04-10</td><td>2017-01-15</td></tr><tr><td>kata</td><td>Gondos Katalin</td><td>1968-06-22</td><td>2016-04-10</td><td>2017-01-15</td></tr><tr><td>kata</td><td>Gondos Katalin</td><td>1968-06-22</td><td>2016-04-10</td><td>2017-01-15</td></tr><tr><td>kata</td><td>Gondos Katalin</td><td>1968-06-22</td><td>2016-04-10</td><td>2017-01-15</td></tr><tr><td>kata</td><td>Gondos Katalin</td><td>1968-06-22</td><td>2016-04-10</td><td>2017-01-15</td></tr><tr><td>kata</td><td>Gondos Katalin</td><td>1968-06-22</td><td>2016-04-10</td><td>2017-01-15</td></tr><tr><td>kata</td><td>Gondos Katalin</td><td>1968-06-22</td><td>2016-04-10</td><td>2017-01-15</td></tr><tr><td>kata</td><td>Gondos Katalin</td><td>1968-06-22</td><td>2016-04-10</td><td>2017-01-15</td></tr><tr><td>kata</td><td>Gondos Katalin</td><td>1968-06-22</td><td>2016-04-10</td><td>2017-01-15</td></tr><tr><td>kata</td><td>Gondos Katalin</td><td>1968-06-22</td><td>2016-04-10</td><td>2017-01-15</td></tr><tr><td>katalin</td><td>Horváth Katalin</td><td>1968-01-01</td><td>2016-04-10</td><td>2017-02-24</td></tr><tr><td>katalin</td><td>Horváth Katalin</td><td>1968-01-01</td><td>2016-04-10</td><td>2017-02-24</td></tr><tr><td>katalin</td><td>Horváth Katalin</td><td>1968-01-01</td><td>2016-04-10</td><td>2017-02-24</td></tr><tr><td>katalin</td><td>Horváth Katalin</td><td>1968-01-01</td><td>2016-04-10</td><td>2017-02-24</td></tr><tr><td>katalin</td><td>Horváth Katalin</td><td>1968-01-01</td><td>2016-04-10</td><td>2017-02-24</td></tr><tr><td>katalin</td><td>Horváth Katalin</td><td>1968-01-01</td><td>2016-04-10</td><td>2017-02-24</td></tr><tr><td>katalin</td><td>Horváth Katalin</td><td>1968-01-01</td><td>2016-04-10</td><td>2017-02-24</td></tr><tr><td>katalin</td><td>Horváth Katalin</td><td>1968-01-01</td><td>2016-04-10</td><td>2017-02-24</td></tr><tr><td>katalin</td><td>Horváth Katalin</td><td>1968-01-01</td><td>2016-04-10</td><td>2017-02-24</td></tr><tr><td>katalin4</td><td>Kertész Katalin</td><td>1986-04-13</td><td>2016-07-01</td><td>2017-01-24</td></tr><tr><td>katalin4</td><td>Kertész Katalin</td><td>1986-04-13</td><td>2016-07-01</td><td>2017-01-24</td></tr><tr><td>katalin4</td><td>Kertész Katalin</td><td>1986-04-13</td><td>2016-07-01</td><td>2017-01-24</td></tr><tr><td>katalin4</td><td>Kertész Katalin</td><td>1986-04-13</td><td>2016-07-01</td><td>2017-01-24</td></tr><tr><td>katalin4</td><td>Kertész Katalin</td><td>1986-04-13</td><td>2016-07-01</td><td>2017-01-24</td></tr><tr><td>katalin4</td><td>Kertész Katalin</td><td>1986-04-13</td><td>2016-07-01</td><td>2017-01-24</td></tr><tr><td>kati</td><td>Zatykó Katalin</td><td>1995-05-01</td><td>2016-06-06</td><td>2016-10-30</td></tr><tr><td>kati</td><td>Zatykó Katalin</td><td>1995-05-01</td><td>2016-06-06</td><td>2016-10-30</td></tr><tr><td>kati</td><td>Zatykó Katalin</td><td>1995-05-01</td><td>2016-06-06</td><td>2016-10-30</td></tr><tr><td>kati</td><td>Zatykó Katalin</td><td>1995-05-01</td><td>2016-06-06</td><td>2016-10-30</td></tr><tr><td>kati</td><td>Zatykó Katalin</td><td>1995-05-01</td><td>2016-06-06</td><td>2016-10-30</td></tr><tr><td>kati</td><td>Zatykó Katalin</td><td>1995-05-01</td><td>2016-06-06</td><td>2016-10-30</td></tr><tr><td>kati</td><td>Zatykó Katalin</td><td>1995-05-01</td><td>2016-06-06</td><td>2016-10-30</td></tr><tr><td>katka</td><td>Kovács Katalin</td><td>1975-03-31</td><td>2016-04-10</td><td>2017-01-19</td></tr><tr><td>katka</td><td>Kovács Katalin</td><td>1975-03-31</td><td>2016-04-10</td><td>2017-01-19</td></tr><tr><td>katka</td><td>Kovács Katalin</td><td>1975-03-31</td><td>2016-04-10</td><td>2017-01-19</td></tr><tr><td>katka</td><td>Kovács Katalin</td><td>1975-03-31</td><td>2016-04-10</td><td>2017-01-19</td></tr><tr><td>katka</td><td>Kovács Katalin</td><td>1975-03-31</td><td>2016-04-10</td><td>2017-01-19</td></tr><tr><td>katka</td><td>Kovács Katalin</td><td>1975-03-31</td><td>2016-04-10</td><td>2017-01-19</td></tr><tr><td>katka</td><td>Kovács Katalin</td><td>1975-03-31</td><td>2016-04-10</td><td>2017-01-19</td></tr><tr><td>katka</td><td>Kovács Katalin</td><td>1975-03-31</td><td>2016-04-10</td><td>2017-01-19</td></tr><tr><td>katka</td><td>Kovács Katalin</td><td>1975-03-31</td><td>2016-04-10</td><td>2017-01-19</td></tr><tr><td>klaudia2</td><td>Bakó Klaudia</td><td>1982-04-16</td><td>2016-06-06</td><td>2016-10-02</td></tr><tr><td>klaudia2</td><td>Bakó Klaudia</td><td>1982-04-16</td><td>2016-06-06</td><td>2016-10-02</td></tr><tr><td>klaudia2</td><td>Bakó Klaudia</td><td>1982-04-16</td><td>2016-06-06</td><td>2016-10-02</td></tr><tr><td>kornel4</td><td>Lukács Kornél</td><td>1975-09-30</td><td>2016-05-08</td><td>2016-09-23</td></tr><tr><td>kornel4</td><td>Lukács Kornél</td><td>1975-09-30</td><td>2016-05-08</td><td>2016-09-23</td></tr><tr><td>kornel4</td><td>Lukács Kornél</td><td>1975-09-30</td><td>2016-05-08</td><td>2016-09-23</td></tr><tr><td>kristof4</td><td>Poprádi Kristóf</td><td>1984-01-15</td><td>2016-04-08</td><td>2016-09-30</td></tr><tr><td>kristof4</td><td>Poprádi Kristóf</td><td>1984-01-15</td><td>2016-04-08</td><td>2016-09-30</td></tr><tr><td>kriszti</td><td>Horváth Krisztina</td><td>1978-06-12</td><td>2016-05-19</td><td>2017-03-03</td></tr><tr><td>kriszti</td><td>Horváth Krisztina</td><td>1978-06-12</td><td>2016-05-19</td><td>2017-03-03</td></tr><tr><td>kriszti</td><td>Horváth Krisztina</td><td>1978-06-12</td><td>2016-05-19</td><td>2017-03-03</td></tr><tr><td>kriszti</td><td>Horváth Krisztina</td><td>1978-06-12</td><td>2016-05-19</td><td>2017-03-03</td></tr><tr><td>kriszti</td><td>Horváth Krisztina</td><td>1978-06-12</td><td>2016-05-19</td><td>2017-03-03</td></tr><tr><td>kriszti</td><td>Horváth Krisztina</td><td>1978-06-12</td><td>2016-05-19</td><td>2017-03-03</td></tr><tr><td>krisztian4</td><td>Czérna Krisztián</td><td>1970-08-01</td><td>2016-06-03</td><td>2017-02-23</td></tr><tr><td>krisztian4</td><td>Czérna Krisztián</td><td>1970-08-01</td><td>2016-06-03</td><td>2017-02-23</td></tr><tr><td>krisztian4</td><td>Czérna Krisztián</td><td>1970-08-01</td><td>2016-06-03</td><td>2017-02-23</td></tr><tr><td>krisztian4</td><td>Czérna Krisztián</td><td>1970-08-01</td><td>2016-06-03</td><td>2017-02-23</td></tr><tr><td>krisztian4</td><td>Czérna Krisztián</td><td>1970-08-01</td><td>2016-06-03</td><td>2017-02-23</td></tr><tr><td>krisztian4</td><td>Czérna Krisztián</td><td>1970-08-01</td><td>2016-06-03</td><td>2017-02-23</td></tr><tr><td>krisztian4</td><td>Czérna Krisztián</td><td>1970-08-01</td><td>2016-06-03</td><td>2017-02-23</td></tr><tr><td>krisztian4</td><td>Czérna Krisztián</td><td>1970-08-01</td><td>2016-06-03</td><td>2017-02-23</td></tr><tr><td>krisztian4</td><td>Czérna Krisztián</td><td>1970-08-01</td><td>2016-06-03</td><td>2017-02-23</td></tr><tr><td>krisztian4</td><td>Czérna Krisztián</td><td>1970-08-01</td><td>2016-06-03</td><td>2017-02-23</td></tr><tr><td>krisztian4</td><td>Czérna Krisztián</td><td>1970-08-01</td><td>2016-06-03</td><td>2017-02-23</td></tr><tr><td>krisztian4</td><td>Czérna Krisztián</td><td>1970-08-01</td><td>2016-06-03</td><td>2017-02-23</td></tr><tr><td>KRISZTIANM</td><td>Mogyródi Krisztián</td><td>1968-05-27</td><td>2016-04-09</td><td>2017-01-16</td></tr><tr><td>KRISZTIANM</td><td>Mogyródi Krisztián</td><td>1968-05-27</td><td>2016-04-09</td><td>2017-01-16</td></tr><tr><td>KRISZTIANM</td><td>Mogyródi Krisztián</td><td>1968-05-27</td><td>2016-04-09</td><td>2017-01-16</td></tr><tr><td>KRISZTIANM</td><td>Mogyródi Krisztián</td><td>1968-05-27</td><td>2016-04-09</td><td>2017-01-16</td></tr><tr><td>KRISZTIANM</td><td>Mogyródi Krisztián</td><td>1968-05-27</td><td>2016-04-09</td><td>2017-01-16</td></tr><tr><td>KRISZTIANM</td><td>Mogyródi Krisztián</td><td>1968-05-27</td><td>2016-04-09</td><td>2017-01-16</td></tr><tr><td>krisztina</td><td>Szedlár Krisztina</td><td>1979-05-10</td><td>2016-05-21</td><td>2017-02-16</td></tr><tr><td>krisztina</td><td>Szedlár Krisztina</td><td>1979-05-10</td><td>2016-05-21</td><td>2017-02-16</td></tr><tr><td>krisztina</td><td>Szedlár Krisztina</td><td>1979-05-10</td><td>2016-05-21</td><td>2017-02-16</td></tr><tr><td>krisztina</td><td>Szedlár Krisztina</td><td>1979-05-10</td><td>2016-05-21</td><td>2017-02-16</td></tr><tr><td>krisztina</td><td>Szedlár Krisztina</td><td>1979-05-10</td><td>2016-05-21</td><td>2017-02-16</td></tr><tr><td>krisztina</td><td>Szedlár Krisztina</td><td>1979-05-10</td><td>2016-05-21</td><td>2017-02-16</td></tr><tr><td>krisztina</td><td>Szedlár Krisztina</td><td>1979-05-10</td><td>2016-05-21</td><td>2017-02-16</td></tr><tr><td>krisztina</td><td>Szedlár Krisztina</td><td>1979-05-10</td><td>2016-05-21</td><td>2017-02-16</td></tr><tr><td>krisztina1</td><td>Bori Krisztina</td><td>1969-10-13</td><td>2016-04-28</td><td>2017-01-21</td></tr><tr><td>krisztina1</td><td>Bori Krisztina</td><td>1969-10-13</td><td>2016-04-28</td><td>2017-01-21</td></tr><tr><td>krisztina1</td><td>Bori Krisztina</td><td>1969-10-13</td><td>2016-04-28</td><td>2017-01-21</td></tr><tr><td>krisztina1</td><td>Bori Krisztina</td><td>1969-10-13</td><td>2016-04-28</td><td>2017-01-21</td></tr><tr><td>krisztina1</td><td>Bori Krisztina</td><td>1969-10-13</td><td>2016-04-28</td><td>2017-01-21</td></tr><tr><td>krisztina1</td><td>Bori Krisztina</td><td>1969-10-13</td><td>2016-04-28</td><td>2017-01-21</td></tr><tr><td>KRISZTINAG</td><td>Gyárfás Krisztina</td><td>1987-09-19</td><td>2016-04-23</td><td>2017-01-25</td></tr><tr><td>KRISZTINAG</td><td>Gyárfás Krisztina</td><td>1987-09-19</td><td>2016-04-23</td><td>2017-01-25</td></tr><tr><td>KRISZTINAG</td><td>Gyárfás Krisztina</td><td>1987-09-19</td><td>2016-04-23</td><td>2017-01-25</td></tr><tr><td>KRISZTINAG</td><td>Gyárfás Krisztina</td><td>1987-09-19</td><td>2016-04-23</td><td>2017-01-25</td></tr><tr><td>KRISZTINAG</td><td>Gyárfás Krisztina</td><td>1987-09-19</td><td>2016-04-23</td><td>2017-01-25</td></tr><tr><td>lajos</td><td>Kiss Lajos</td><td>1978-10-31</td><td>2016-07-18</td><td>2017-02-12</td></tr><tr><td>lajos</td><td>Kiss Lajos</td><td>1978-10-31</td><td>2016-07-18</td><td>2017-02-12</td></tr><tr><td>lajos</td><td>Kiss Lajos</td><td>1978-10-31</td><td>2016-07-18</td><td>2017-02-12</td></tr><tr><td>lala</td><td>Nagymihály Lajos</td><td>1997-02-24</td><td>2016-06-16</td><td>2017-01-17</td></tr><tr><td>lala</td><td>Nagymihály Lajos</td><td>1997-02-24</td><td>2016-06-16</td><td>2017-01-17</td></tr><tr><td>lala</td><td>Nagymihály Lajos</td><td>1997-02-24</td><td>2016-06-16</td><td>2017-01-17</td></tr><tr><td>lala</td><td>Nagymihály Lajos</td><td>1997-02-24</td><td>2016-06-16</td><td>2017-01-17</td></tr><tr><td>lala</td><td>Nagymihály Lajos</td><td>1997-02-24</td><td>2016-06-16</td><td>2017-01-17</td></tr><tr><td>lala</td><td>Nagymihály Lajos</td><td>1997-02-24</td><td>2016-06-16</td><td>2017-01-17</td></tr><tr><td>laszlo1</td><td>Farkas László</td><td>1967-10-30</td><td>2016-09-23</td><td>2016-09-23</td></tr><tr><td>laszlo2</td><td>Móra László</td><td>1975-02-19</td><td>2016-04-06</td><td>2016-11-25</td></tr><tr><td>laszlo2</td><td>Móra László</td><td>1975-02-19</td><td>2016-04-06</td><td>2016-11-25</td></tr><tr><td>laszlo2</td><td>Móra László</td><td>1975-02-19</td><td>2016-04-06</td><td>2016-11-25</td></tr><tr><td>laszlo2</td><td>Móra László</td><td>1975-02-19</td><td>2016-04-06</td><td>2016-11-25</td></tr><tr><td>laszlo2</td><td>Móra László</td><td>1975-02-19</td><td>2016-04-06</td><td>2016-11-25</td></tr><tr><td>LASZLOA</td><td>Antal László</td><td>1969-06-29</td><td>2016-06-03</td><td>2017-02-08</td></tr><tr><td>LASZLOA</td><td>Antal László</td><td>1969-06-29</td><td>2016-06-03</td><td>2017-02-08</td></tr><tr><td>LASZLOA</td><td>Antal László</td><td>1969-06-29</td><td>2016-06-03</td><td>2017-02-08</td></tr><tr><td>LASZLOA</td><td>Antal László</td><td>1969-06-29</td><td>2016-06-03</td><td>2017-02-08</td></tr><tr><td>LASZLON</td><td>Nagy László</td><td>1969-04-12</td><td>2016-06-03</td><td>2017-02-18</td></tr><tr><td>LASZLON</td><td>Nagy László</td><td>1969-04-12</td><td>2016-06-03</td><td>2017-02-18</td></tr><tr><td>LASZLON</td><td>Nagy László</td><td>1969-04-12</td><td>2016-06-03</td><td>2017-02-18</td></tr><tr><td>LASZLON</td><td>Nagy László</td><td>1969-04-12</td><td>2016-06-03</td><td>2017-02-18</td></tr><tr><td>LASZLON</td><td>Nagy László</td><td>1969-04-12</td><td>2016-06-03</td><td>2017-02-18</td></tr><tr><td>LASZLON</td><td>Nagy László</td><td>1969-04-12</td><td>2016-06-03</td><td>2017-02-18</td></tr><tr><td>maria1</td><td>Baráth Mária</td><td>1995-11-19</td><td>2016-05-13</td><td>2017-02-24</td></tr><tr><td>maria1</td><td>Baráth Mária</td><td>1995-11-19</td><td>2016-05-13</td><td>2017-02-24</td></tr><tr><td>maria1</td><td>Baráth Mária</td><td>1995-11-19</td><td>2016-05-13</td><td>2017-02-24</td></tr><tr><td>maria1</td><td>Baráth Mária</td><td>1995-11-19</td><td>2016-05-13</td><td>2017-02-24</td></tr><tr><td>maria1</td><td>Baráth Mária</td><td>1995-11-19</td><td>2016-05-13</td><td>2017-02-24</td></tr><tr><td>maria1</td><td>Baráth Mária</td><td>1995-11-19</td><td>2016-05-13</td><td>2017-02-24</td></tr><tr><td>maria1</td><td>Baráth Mária</td><td>1995-11-19</td><td>2016-05-13</td><td>2017-02-24</td></tr><tr><td>maria1</td><td>Baráth Mária</td><td>1995-11-19</td><td>2016-05-13</td><td>2017-02-24</td></tr><tr><td>mark</td><td>Kispál Márk</td><td>1996-01-23</td><td>2016-04-19</td><td>2016-11-19</td></tr><tr><td>mark</td><td>Kispál Márk</td><td>1996-01-23</td><td>2016-04-19</td><td>2016-11-19</td></tr><tr><td>mark</td><td>Kispál Márk</td><td>1996-01-23</td><td>2016-04-19</td><td>2016-11-19</td></tr><tr><td>mark</td><td>Kispál Márk</td><td>1996-01-23</td><td>2016-04-19</td><td>2016-11-19</td></tr><tr><td>mark</td><td>Kispál Márk</td><td>1996-01-23</td><td>2016-04-19</td><td>2016-11-19</td></tr><tr><td>MARKH</td><td>Horváth Márk</td><td>1997-09-23</td><td>2016-09-14</td><td>2017-01-22</td></tr><tr><td>MARKH</td><td>Horváth Márk</td><td>1997-09-23</td><td>2016-09-14</td><td>2017-01-22</td></tr><tr><td>MARKH</td><td>Horváth Márk</td><td>1997-09-23</td><td>2016-09-14</td><td>2017-01-22</td></tr><tr><td>MARKH</td><td>Horváth Márk</td><td>1997-09-23</td><td>2016-09-14</td><td>2017-01-22</td></tr><tr><td>marton</td><td>Kalacsi Márton</td><td>1989-06-24</td><td>2016-04-27</td><td>2017-03-02</td></tr><tr><td>marton</td><td>Kalacsi Márton</td><td>1989-06-24</td><td>2016-04-27</td><td>2017-03-02</td></tr><tr><td>marton</td><td>Kalacsi Márton</td><td>1989-06-24</td><td>2016-04-27</td><td>2017-03-02</td></tr><tr><td>marton</td><td>Kalacsi Márton</td><td>1989-06-24</td><td>2016-04-27</td><td>2017-03-02</td></tr><tr><td>marton</td><td>Kalacsi Márton</td><td>1989-06-24</td><td>2016-04-27</td><td>2017-03-02</td></tr><tr><td>marton</td><td>Kalacsi Márton</td><td>1989-06-24</td><td>2016-04-27</td><td>2017-03-02</td></tr><tr><td>marton</td><td>Kalacsi Márton</td><td>1989-06-24</td><td>2016-04-27</td><td>2017-03-02</td></tr><tr><td>MATEK</td><td>Koza Máté</td><td>1997-02-28</td><td>2016-08-17</td><td>2017-01-16</td></tr><tr><td>MATEK</td><td>Koza Máté</td><td>1997-02-28</td><td>2016-08-17</td><td>2017-01-16</td></tr><tr><td>MATEK</td><td>Koza Máté</td><td>1997-02-28</td><td>2016-08-17</td><td>2017-01-16</td></tr><tr><td>matyas2</td><td>Botka Mátyás</td><td>1972-07-07</td><td>2016-07-13</td><td>2016-12-09</td></tr><tr><td>matyas2</td><td>Botka Mátyás</td><td>1972-07-07</td><td>2016-07-13</td><td>2016-12-09</td></tr><tr><td>MATYASS</td><td>Szilágyi Mátyás</td><td>1975-03-22</td><td>2016-05-10</td><td>2017-01-09</td></tr><tr><td>MATYASS</td><td>Szilágyi Mátyás</td><td>1975-03-22</td><td>2016-05-10</td><td>2017-01-09</td></tr><tr><td>MATYASS</td><td>Szilágyi Mátyás</td><td>1975-03-22</td><td>2016-05-10</td><td>2017-01-09</td></tr><tr><td>MATYASS</td><td>Szilágyi Mátyás</td><td>1975-03-22</td><td>2016-05-10</td><td>2017-01-09</td></tr><tr><td>MATYASS</td><td>Szilágyi Mátyás</td><td>1975-03-22</td><td>2016-05-10</td><td>2017-01-09</td></tr><tr><td>MATYASS</td><td>Szilágyi Mátyás</td><td>1975-03-22</td><td>2016-05-10</td><td>2017-01-09</td></tr><tr><td>MATYASS</td><td>Szilágyi Mátyás</td><td>1975-03-22</td><td>2016-05-10</td><td>2017-01-09</td></tr><tr><td>MATYASS</td><td>Szilágyi Mátyás</td><td>1975-03-22</td><td>2016-05-10</td><td>2017-01-09</td></tr><tr><td>MIHALYJ</td><td>Juhász Mihály</td><td>1979-10-12</td><td>2016-05-30</td><td>2017-02-06</td></tr><tr><td>MIHALYJ</td><td>Juhász Mihály</td><td>1979-10-12</td><td>2016-05-30</td><td>2017-02-06</td></tr><tr><td>MIHALYJ</td><td>Juhász Mihály</td><td>1979-10-12</td><td>2016-05-30</td><td>2017-02-06</td></tr><tr><td>MIHALYJ</td><td>Juhász Mihály</td><td>1979-10-12</td><td>2016-05-30</td><td>2017-02-06</td></tr><tr><td>MIHALYJ</td><td>Juhász Mihály</td><td>1979-10-12</td><td>2016-05-30</td><td>2017-02-06</td></tr><tr><td>miklos2</td><td>Gondos Miklós</td><td>1995-10-07</td><td>2016-04-19</td><td>2016-11-16</td></tr><tr><td>miklos2</td><td>Gondos Miklós</td><td>1995-10-07</td><td>2016-04-19</td><td>2016-11-16</td></tr><tr><td>miklos2</td><td>Gondos Miklós</td><td>1995-10-07</td><td>2016-04-19</td><td>2016-11-16</td></tr><tr><td>MIKLOSB</td><td>Balla Miklós</td><td>1979-02-16</td><td>2016-06-26</td><td>2016-12-05</td></tr><tr><td>MIKLOSB</td><td>Balla Miklós</td><td>1979-02-16</td><td>2016-06-26</td><td>2016-12-05</td></tr><tr><td>MIKLOSB</td><td>Balla Miklós</td><td>1979-02-16</td><td>2016-06-26</td><td>2016-12-05</td></tr><tr><td>MONIKAM</td><td>Mohos Mónika</td><td>1974-10-01</td><td>2016-04-29</td><td>2017-02-23</td></tr><tr><td>MONIKAM</td><td>Mohos Mónika</td><td>1974-10-01</td><td>2016-04-29</td><td>2017-02-23</td></tr><tr><td>MONIKAM</td><td>Mohos Mónika</td><td>1974-10-01</td><td>2016-04-29</td><td>2017-02-23</td></tr><tr><td>MONIKAM</td><td>Mohos Mónika</td><td>1974-10-01</td><td>2016-04-29</td><td>2017-02-23</td></tr><tr><td>MONIKAM</td><td>Mohos Mónika</td><td>1974-10-01</td><td>2016-04-29</td><td>2017-02-23</td></tr><tr><td>MONIKAM</td><td>Mohos Mónika</td><td>1974-10-01</td><td>2016-04-29</td><td>2017-02-23</td></tr><tr><td>NANDORF</td><td>Fő Nándor</td><td>1968-11-12</td><td>2016-04-06</td><td>2017-02-05</td></tr><tr><td>NANDORF</td><td>Fő Nándor</td><td>1968-11-12</td><td>2016-04-06</td><td>2017-02-05</td></tr><tr><td>NANDORF</td><td>Fő Nándor</td><td>1968-11-12</td><td>2016-04-06</td><td>2017-02-05</td></tr><tr><td>nikolett3</td><td>Horváth Nikolett</td><td>1981-09-29</td><td>2016-05-24</td><td>2016-10-22</td></tr><tr><td>nikolett3</td><td>Horváth Nikolett</td><td>1981-09-29</td><td>2016-05-24</td><td>2016-10-22</td></tr><tr><td>nikolett3</td><td>Horváth Nikolett</td><td>1981-09-29</td><td>2016-05-24</td><td>2016-10-22</td></tr><tr><td>nikolett3</td><td>Horváth Nikolett</td><td>1981-09-29</td><td>2016-05-24</td><td>2016-10-22</td></tr><tr><td>nikoletta4</td><td>Kő Nikoletta</td><td>1972-01-10</td><td>2016-04-08</td><td>2017-02-01</td></tr><tr><td>nikoletta4</td><td>Kő Nikoletta</td><td>1972-01-10</td><td>2016-04-08</td><td>2017-02-01</td></tr><tr><td>nikoletta4</td><td>Kő Nikoletta</td><td>1972-01-10</td><td>2016-04-08</td><td>2017-02-01</td></tr><tr><td>nikoletta4</td><td>Kő Nikoletta</td><td>1972-01-10</td><td>2016-04-08</td><td>2017-02-01</td></tr><tr><td>nikoletta4</td><td>Kő Nikoletta</td><td>1972-01-10</td><td>2016-04-08</td><td>2017-02-01</td></tr><tr><td>nikoletta4</td><td>Kő Nikoletta</td><td>1972-01-10</td><td>2016-04-08</td><td>2017-02-01</td></tr><tr><td>nikoletta4</td><td>Kő Nikoletta</td><td>1972-01-10</td><td>2016-04-08</td><td>2017-02-01</td></tr><tr><td>NIKOLETTAT</td><td>Tatár Nikoletta</td><td>1997-10-19</td><td>2016-05-22</td><td>2016-09-21</td></tr><tr><td>NIKOLETTAT</td><td>Tatár Nikoletta</td><td>1997-10-19</td><td>2016-05-22</td><td>2016-09-21</td></tr><tr><td>NIKOLETTAT</td><td>Tatár Nikoletta</td><td>1997-10-19</td><td>2016-05-22</td><td>2016-09-21</td></tr><tr><td>NIKOLETTAT</td><td>Tatár Nikoletta</td><td>1997-10-19</td><td>2016-05-22</td><td>2016-09-21</td></tr><tr><td>norbert</td><td>Szűcs Norbert</td><td>1969-07-17</td><td>2016-07-08</td><td>2017-02-26</td></tr><tr><td>norbert</td><td>Szűcs Norbert</td><td>1969-07-17</td><td>2016-07-08</td><td>2017-02-26</td></tr><tr><td>norbert</td><td>Szűcs Norbert</td><td>1969-07-17</td><td>2016-07-08</td><td>2017-02-26</td></tr><tr><td>norbert</td><td>Szűcs Norbert</td><td>1969-07-17</td><td>2016-07-08</td><td>2017-02-26</td></tr><tr><td>norbert</td><td>Szűcs Norbert</td><td>1969-07-17</td><td>2016-07-08</td><td>2017-02-26</td></tr><tr><td>norbert2</td><td>Hegedűs Norbert</td><td>1991-07-17</td><td>2016-04-19</td><td>2017-01-29</td></tr><tr><td>norbert2</td><td>Hegedűs Norbert</td><td>1991-07-17</td><td>2016-04-19</td><td>2017-01-29</td></tr><tr><td>norbert2</td><td>Hegedűs Norbert</td><td>1991-07-17</td><td>2016-04-19</td><td>2017-01-29</td></tr><tr><td>norbert2</td><td>Hegedűs Norbert</td><td>1991-07-17</td><td>2016-04-19</td><td>2017-01-29</td></tr><tr><td>norbert2</td><td>Hegedűs Norbert</td><td>1991-07-17</td><td>2016-04-19</td><td>2017-01-29</td></tr><tr><td>norbert2</td><td>Hegedűs Norbert</td><td>1991-07-17</td><td>2016-04-19</td><td>2017-01-29</td></tr><tr><td>norbert2</td><td>Hegedűs Norbert</td><td>1991-07-17</td><td>2016-04-19</td><td>2017-01-29</td></tr><tr><td>norbert4</td><td>Mile Norbert</td><td>1983-06-15</td><td>2016-04-10</td><td>2017-03-03</td></tr><tr><td>norbert4</td><td>Mile Norbert</td><td>1983-06-15</td><td>2016-04-10</td><td>2017-03-03</td></tr><tr><td>norbert4</td><td>Mile Norbert</td><td>1983-06-15</td><td>2016-04-10</td><td>2017-03-03</td></tr><tr><td>norbert4</td><td>Mile Norbert</td><td>1983-06-15</td><td>2016-04-10</td><td>2017-03-03</td></tr><tr><td>norbert4</td><td>Mile Norbert</td><td>1983-06-15</td><td>2016-04-10</td><td>2017-03-03</td></tr><tr><td>norbert4</td><td>Mile Norbert</td><td>1983-06-15</td><td>2016-04-10</td><td>2017-03-03</td></tr><tr><td>norbert4</td><td>Mile Norbert</td><td>1983-06-15</td><td>2016-04-10</td><td>2017-03-03</td></tr><tr><td>norbert4</td><td>Mile Norbert</td><td>1983-06-15</td><td>2016-04-10</td><td>2017-03-03</td></tr><tr><td>norbert4</td><td>Mile Norbert</td><td>1983-06-15</td><td>2016-04-10</td><td>2017-03-03</td></tr><tr><td>norbert5</td><td>Béres Norbert</td><td>1975-07-27</td><td>2016-06-24</td><td>2016-11-05</td></tr><tr><td>norbert5</td><td>Béres Norbert</td><td>1975-07-27</td><td>2016-06-24</td><td>2016-11-05</td></tr><tr><td>norbert5</td><td>Béres Norbert</td><td>1975-07-27</td><td>2016-06-24</td><td>2016-11-05</td></tr><tr><td>pal</td><td>Barabás Pál</td><td>1968-02-06</td><td>2016-08-14</td><td>2017-02-20</td></tr><tr><td>pal</td><td>Barabás Pál</td><td>1968-02-06</td><td>2016-08-14</td><td>2017-02-20</td></tr><tr><td>pal</td><td>Barabás Pál</td><td>1968-02-06</td><td>2016-08-14</td><td>2017-02-20</td></tr><tr><td>pal</td><td>Barabás Pál</td><td>1968-02-06</td><td>2016-08-14</td><td>2017-02-20</td></tr><tr><td>pal</td><td>Barabás Pál</td><td>1968-02-06</td><td>2016-08-14</td><td>2017-02-20</td></tr><tr><td>peter1</td><td>Kozma Péter</td><td>1976-03-18</td><td>2016-07-14</td><td>2017-02-28</td></tr><tr><td>peter1</td><td>Kozma Péter</td><td>1976-03-18</td><td>2016-07-14</td><td>2017-02-28</td></tr><tr><td>peter1</td><td>Kozma Péter</td><td>1976-03-18</td><td>2016-07-14</td><td>2017-02-28</td></tr><tr><td>peter1</td><td>Kozma Péter</td><td>1976-03-18</td><td>2016-07-14</td><td>2017-02-28</td></tr><tr><td>peter2</td><td>Bozsó Péter</td><td>1976-01-26</td><td>2016-07-03</td><td>2016-11-15</td></tr><tr><td>peter2</td><td>Bozsó Péter</td><td>1976-01-26</td><td>2016-07-03</td><td>2016-11-15</td></tr><tr><td>peter2</td><td>Bozsó Péter</td><td>1976-01-26</td><td>2016-07-03</td><td>2016-11-15</td></tr><tr><td>peter2</td><td>Bozsó Péter</td><td>1976-01-26</td><td>2016-07-03</td><td>2016-11-15</td></tr><tr><td>peter3</td><td>Szalai Péter</td><td>1983-07-18</td><td>2016-06-30</td><td>2017-02-21</td></tr><tr><td>peter3</td><td>Szalai Péter</td><td>1983-07-18</td><td>2016-06-30</td><td>2017-02-21</td></tr><tr><td>peter3</td><td>Szalai Péter</td><td>1983-07-18</td><td>2016-06-30</td><td>2017-02-21</td></tr><tr><td>peter3</td><td>Szalai Péter</td><td>1983-07-18</td><td>2016-06-30</td><td>2017-02-21</td></tr><tr><td>peter3</td><td>Szalai Péter</td><td>1983-07-18</td><td>2016-06-30</td><td>2017-02-21</td></tr><tr><td>peter3</td><td>Szalai Péter</td><td>1983-07-18</td><td>2016-06-30</td><td>2017-02-21</td></tr><tr><td>peter4</td><td>Bíró Péter</td><td>1985-09-01</td><td>2016-04-12</td><td>2017-02-05</td></tr><tr><td>peter4</td><td>Bíró Péter</td><td>1985-09-01</td><td>2016-04-12</td><td>2017-02-05</td></tr><tr><td>peter4</td><td>Bíró Péter</td><td>1985-09-01</td><td>2016-04-12</td><td>2017-02-05</td></tr><tr><td>peter4</td><td>Bíró Péter</td><td>1985-09-01</td><td>2016-04-12</td><td>2017-02-05</td></tr><tr><td>peter4</td><td>Bíró Péter</td><td>1985-09-01</td><td>2016-04-12</td><td>2017-02-05</td></tr><tr><td>peter4</td><td>Bíró Péter</td><td>1985-09-01</td><td>2016-04-12</td><td>2017-02-05</td></tr><tr><td>peter4</td><td>Bíró Péter</td><td>1985-09-01</td><td>2016-04-12</td><td>2017-02-05</td></tr><tr><td>peter4</td><td>Bíró Péter</td><td>1985-09-01</td><td>2016-04-12</td><td>2017-02-05</td></tr><tr><td>peter4</td><td>Bíró Péter</td><td>1985-09-01</td><td>2016-04-12</td><td>2017-02-05</td></tr><tr><td>peter4</td><td>Bíró Péter</td><td>1985-09-01</td><td>2016-04-12</td><td>2017-02-05</td></tr><tr><td>peter4</td><td>Bíró Péter</td><td>1985-09-01</td><td>2016-04-12</td><td>2017-02-05</td></tr><tr><td>peter4</td><td>Bíró Péter</td><td>1985-09-01</td><td>2016-04-12</td><td>2017-02-05</td></tr><tr><td>PETERB</td><td>Berendi Péter</td><td>1969-01-01</td><td>2016-04-06</td><td>2016-11-17</td></tr><tr><td>PETERB</td><td>Berendi Péter</td><td>1969-01-01</td><td>2016-04-06</td><td>2016-11-17</td></tr><tr><td>PETERB</td><td>Berendi Péter</td><td>1969-01-01</td><td>2016-04-06</td><td>2016-11-17</td></tr><tr><td>PETERB</td><td>Berendi Péter</td><td>1969-01-01</td><td>2016-04-06</td><td>2016-11-17</td></tr><tr><td>PETERB</td><td>Berendi Péter</td><td>1969-01-01</td><td>2016-04-06</td><td>2016-11-17</td></tr><tr><td>polla</td><td>Palágyi Polla</td><td>1994-02-04</td><td>2016-04-17</td><td>2017-02-11</td></tr><tr><td>polla</td><td>Palágyi Polla</td><td>1994-02-04</td><td>2016-04-17</td><td>2017-02-11</td></tr><tr><td>polla</td><td>Palágyi Polla</td><td>1994-02-04</td><td>2016-04-17</td><td>2017-02-11</td></tr><tr><td>polla</td><td>Palágyi Polla</td><td>1994-02-04</td><td>2016-04-17</td><td>2017-02-11</td></tr><tr><td>polla</td><td>Palágyi Polla</td><td>1994-02-04</td><td>2016-04-17</td><td>2017-02-11</td></tr><tr><td>polla</td><td>Palágyi Polla</td><td>1994-02-04</td><td>2016-04-17</td><td>2017-02-11</td></tr><tr><td>rajmond4</td><td>Rácz Rajmond</td><td>1993-09-25</td><td>2016-09-05</td><td>2016-11-16</td></tr><tr><td>rajmond4</td><td>Rácz Rajmond</td><td>1993-09-25</td><td>2016-09-05</td><td>2016-11-16</td></tr><tr><td>rajmond4</td><td>Rácz Rajmond</td><td>1993-09-25</td><td>2016-09-05</td><td>2016-11-16</td></tr><tr><td>rajmond4</td><td>Rácz Rajmond</td><td>1993-09-25</td><td>2016-09-05</td><td>2016-11-16</td></tr><tr><td>reka4</td><td>Szikszai Réka</td><td>1969-11-27</td><td>2016-07-27</td><td>2017-02-26</td></tr><tr><td>reka4</td><td>Szikszai Réka</td><td>1969-11-27</td><td>2016-07-27</td><td>2017-02-26</td></tr><tr><td>reka4</td><td>Szikszai Réka</td><td>1969-11-27</td><td>2016-07-27</td><td>2017-02-26</td></tr><tr><td>reka4</td><td>Szikszai Réka</td><td>1969-11-27</td><td>2016-07-27</td><td>2017-02-26</td></tr><tr><td>reka4</td><td>Szikszai Réka</td><td>1969-11-27</td><td>2016-07-27</td><td>2017-02-26</td></tr><tr><td>RENATAK</td><td>Kardos Renáta</td><td>1988-05-17</td><td>2016-10-27</td><td>2017-03-01</td></tr><tr><td>RENATAK</td><td>Kardos Renáta</td><td>1988-05-17</td><td>2016-10-27</td><td>2017-03-01</td></tr><tr><td>RENATAK</td><td>Kardos Renáta</td><td>1988-05-17</td><td>2016-10-27</td><td>2017-03-01</td></tr><tr><td>RENATAK</td><td>Kardos Renáta</td><td>1988-05-17</td><td>2016-10-27</td><td>2017-03-01</td></tr><tr><td>RENATAK</td><td>Kardos Renáta</td><td>1988-05-17</td><td>2016-10-27</td><td>2017-03-01</td></tr><tr><td>RENATAK</td><td>Kardos Renáta</td><td>1988-05-17</td><td>2016-10-27</td><td>2017-03-01</td></tr><tr><td>RENATAS</td><td>Szirmai Renáta</td><td>1991-03-26</td><td>2016-05-04</td><td>2017-02-14</td></tr><tr><td>RENATAS</td><td>Szirmai Renáta</td><td>1991-03-26</td><td>2016-05-04</td><td>2017-02-14</td></tr><tr><td>RENATAS</td><td>Szirmai Renáta</td><td>1991-03-26</td><td>2016-05-04</td><td>2017-02-14</td></tr><tr><td>RENATAS</td><td>Szirmai Renáta</td><td>1991-03-26</td><td>2016-05-04</td><td>2017-02-14</td></tr><tr><td>RENATAS</td><td>Szirmai Renáta</td><td>1991-03-26</td><td>2016-05-04</td><td>2017-02-14</td></tr><tr><td>robert2</td><td>Patay Róbert</td><td>1977-01-08</td><td>2016-05-15</td><td>2016-12-17</td></tr><tr><td>robert2</td><td>Patay Róbert</td><td>1977-01-08</td><td>2016-05-15</td><td>2016-12-17</td></tr><tr><td>robert2</td><td>Patay Róbert</td><td>1977-01-08</td><td>2016-05-15</td><td>2016-12-17</td></tr><tr><td>robert2</td><td>Patay Róbert</td><td>1977-01-08</td><td>2016-05-15</td><td>2016-12-17</td></tr><tr><td>ROBERTI</td><td>Iván Róbert</td><td>1967-07-02</td><td>2016-07-12</td><td>2017-02-17</td></tr><tr><td>ROBERTI</td><td>Iván Róbert</td><td>1967-07-02</td><td>2016-07-12</td><td>2017-02-17</td></tr><tr><td>ROBERTI</td><td>Iván Róbert</td><td>1967-07-02</td><td>2016-07-12</td><td>2017-02-17</td></tr><tr><td>ROBERTI</td><td>Iván Róbert</td><td>1967-07-02</td><td>2016-07-12</td><td>2017-02-17</td></tr><tr><td>ROBERTI</td><td>Iván Róbert</td><td>1967-07-02</td><td>2016-07-12</td><td>2017-02-17</td></tr><tr><td>ROBERTI</td><td>Iván Róbert</td><td>1967-07-02</td><td>2016-07-12</td><td>2017-02-17</td></tr><tr><td>ROBERTI</td><td>Iván Róbert</td><td>1967-07-02</td><td>2016-07-12</td><td>2017-02-17</td></tr><tr><td>ROBERTI</td><td>Iván Róbert</td><td>1967-07-02</td><td>2016-07-12</td><td>2017-02-17</td></tr><tr><td>ROBERTP</td><td>Pásztor Róbert</td><td>1972-05-16</td><td>2016-07-30</td><td>2016-09-08</td></tr><tr><td>ROBERTP</td><td>Pásztor Róbert</td><td>1972-05-16</td><td>2016-07-30</td><td>2016-09-08</td></tr><tr><td>roland</td><td>Tóth Roland</td><td>1968-03-21</td><td>2016-06-09</td><td>2016-11-19</td></tr><tr><td>roland</td><td>Tóth Roland</td><td>1968-03-21</td><td>2016-06-09</td><td>2016-11-19</td></tr><tr><td>roland</td><td>Tóth Roland</td><td>1968-03-21</td><td>2016-06-09</td><td>2016-11-19</td></tr><tr><td>roland</td><td>Tóth Roland</td><td>1968-03-21</td><td>2016-06-09</td><td>2016-11-19</td></tr><tr><td>roland1</td><td>Ferencz Roland</td><td>1985-12-31</td><td>2016-11-05</td><td>2017-01-16</td></tr><tr><td>roland1</td><td>Ferencz Roland</td><td>1985-12-31</td><td>2016-11-05</td><td>2017-01-16</td></tr><tr><td>roland1</td><td>Ferencz Roland</td><td>1985-12-31</td><td>2016-11-05</td><td>2017-01-16</td></tr><tr><td>roland1</td><td>Ferencz Roland</td><td>1985-12-31</td><td>2016-11-05</td><td>2017-01-16</td></tr><tr><td>roza2</td><td>Bucskó Róza</td><td>1988-12-26</td><td>2016-09-10</td><td>2017-02-18</td></tr><tr><td>roza2</td><td>Bucskó Róza</td><td>1988-12-26</td><td>2016-09-10</td><td>2017-02-18</td></tr><tr><td>roza2</td><td>Bucskó Róza</td><td>1988-12-26</td><td>2016-09-10</td><td>2017-02-18</td></tr><tr><td>sandor</td><td>Karasz Sándor</td><td>1970-01-27</td><td>2016-07-04</td><td>2016-09-19</td></tr><tr><td>sandor</td><td>Karasz Sándor</td><td>1970-01-27</td><td>2016-07-04</td><td>2016-09-19</td></tr><tr><td>sandor</td><td>Karasz Sándor</td><td>1970-01-27</td><td>2016-07-04</td><td>2016-09-19</td></tr><tr><td>sandor</td><td>Karasz Sándor</td><td>1970-01-27</td><td>2016-07-04</td><td>2016-09-19</td></tr><tr><td>sandor3</td><td>Farkas Sándor</td><td>1989-01-27</td><td>2016-05-12</td><td>2016-11-10</td></tr><tr><td>sandor3</td><td>Farkas Sándor</td><td>1989-01-27</td><td>2016-05-12</td><td>2016-11-10</td></tr><tr><td>sandor3</td><td>Farkas Sándor</td><td>1989-01-27</td><td>2016-05-12</td><td>2016-11-10</td></tr><tr><td>sandor3</td><td>Farkas Sándor</td><td>1989-01-27</td><td>2016-05-12</td><td>2016-11-10</td></tr><tr><td>sandor3</td><td>Farkas Sándor</td><td>1989-01-27</td><td>2016-05-12</td><td>2016-11-10</td></tr><tr><td>sandor4</td><td>Nagy Sándor</td><td>1997-06-11</td><td>2016-10-15</td><td>2017-01-22</td></tr><tr><td>sandor4</td><td>Nagy Sándor</td><td>1997-06-11</td><td>2016-10-15</td><td>2017-01-22</td></tr><tr><td>sandor4</td><td>Nagy Sándor</td><td>1997-06-11</td><td>2016-10-15</td><td>2017-01-22</td></tr><tr><td>sandor4</td><td>Nagy Sándor</td><td>1997-06-11</td><td>2016-10-15</td><td>2017-01-22</td></tr><tr><td>sara</td><td>Farkas Sára</td><td>1973-04-05</td><td>2016-05-28</td><td>2016-12-25</td></tr><tr><td>sara</td><td>Farkas Sára</td><td>1973-04-05</td><td>2016-05-28</td><td>2016-12-25</td></tr><tr><td>sara</td><td>Farkas Sára</td><td>1973-04-05</td><td>2016-05-28</td><td>2016-12-25</td></tr><tr><td>sara</td><td>Farkas Sára</td><td>1973-04-05</td><td>2016-05-28</td><td>2016-12-25</td></tr><tr><td>sara</td><td>Farkas Sára</td><td>1973-04-05</td><td>2016-05-28</td><td>2016-12-25</td></tr><tr><td>sara</td><td>Farkas Sára</td><td>1973-04-05</td><td>2016-05-28</td><td>2016-12-25</td></tr><tr><td>sara</td><td>Farkas Sára</td><td>1973-04-05</td><td>2016-05-28</td><td>2016-12-25</td></tr><tr><td>sara</td><td>Farkas Sára</td><td>1973-04-05</td><td>2016-05-28</td><td>2016-12-25</td></tr><tr><td>sara</td><td>Farkas Sára</td><td>1973-04-05</td><td>2016-05-28</td><td>2016-12-25</td></tr><tr><td>sara</td><td>Farkas Sára</td><td>1973-04-05</td><td>2016-05-28</td><td>2016-12-25</td></tr><tr><td>sara</td><td>Farkas Sára</td><td>1973-04-05</td><td>2016-05-28</td><td>2016-12-25</td></tr><tr><td>sara</td><td>Farkas Sára</td><td>1973-04-05</td><td>2016-05-28</td><td>2016-12-25</td></tr><tr><td>SEBASTIANF</td><td>Foltényi Sebastián</td><td>1992-09-09</td><td>2016-04-06</td><td>2016-09-17</td></tr><tr><td>SEBASTIANF</td><td>Foltényi Sebastián</td><td>1992-09-09</td><td>2016-04-06</td><td>2016-09-17</td></tr><tr><td>SEBASTIANF</td><td>Foltényi Sebastián</td><td>1992-09-09</td><td>2016-04-06</td><td>2016-09-17</td></tr><tr><td>SEBASTIANF</td><td>Foltényi Sebastián</td><td>1992-09-09</td><td>2016-04-06</td><td>2016-09-17</td></tr><tr><td>SEBASTIANF</td><td>Foltényi Sebastián</td><td>1992-09-09</td><td>2016-04-06</td><td>2016-09-17</td></tr><tr><td>sebestyen</td><td>Rab Sebestyén</td><td>1992-03-03</td><td>2016-04-07</td><td>2016-10-26</td></tr><tr><td>sebestyen</td><td>Rab Sebestyén</td><td>1992-03-03</td><td>2016-04-07</td><td>2016-10-26</td></tr><tr><td>sebestyen</td><td>Rab Sebestyén</td><td>1992-03-03</td><td>2016-04-07</td><td>2016-10-26</td></tr><tr><td>sebestyen</td><td>Rab Sebestyén</td><td>1992-03-03</td><td>2016-04-07</td><td>2016-10-26</td></tr><tr><td>szabolcs</td><td>Bodor Szabolcs</td><td>1990-07-16</td><td>2016-12-05</td><td>2016-12-05</td></tr><tr><td>SZABOLCSM</td><td>Miklós Szabolcs</td><td>1980-08-11</td><td>2016-06-18</td><td>2017-02-04</td></tr><tr><td>SZABOLCSM</td><td>Miklós Szabolcs</td><td>1980-08-11</td><td>2016-06-18</td><td>2017-02-04</td></tr><tr><td>SZABOLCSM</td><td>Miklós Szabolcs</td><td>1980-08-11</td><td>2016-06-18</td><td>2017-02-04</td></tr><tr><td>SZABOLCSM</td><td>Miklós Szabolcs</td><td>1980-08-11</td><td>2016-06-18</td><td>2017-02-04</td></tr><tr><td>SZABOLCSM</td><td>Miklós Szabolcs</td><td>1980-08-11</td><td>2016-06-18</td><td>2017-02-04</td></tr><tr><td>SZABOLCSM</td><td>Miklós Szabolcs</td><td>1980-08-11</td><td>2016-06-18</td><td>2017-02-04</td></tr><tr><td>SZABOLCSM</td><td>Miklós Szabolcs</td><td>1980-08-11</td><td>2016-06-18</td><td>2017-02-04</td></tr><tr><td>SZILARDS</td><td>Szalai Szilárd</td><td>1967-09-28</td><td>2016-04-23</td><td>2017-02-08</td></tr><tr><td>SZILARDS</td><td>Szalai Szilárd</td><td>1967-09-28</td><td>2016-04-23</td><td>2017-02-08</td></tr><tr><td>SZILARDS</td><td>Szalai Szilárd</td><td>1967-09-28</td><td>2016-04-23</td><td>2017-02-08</td></tr><tr><td>SZILARDS</td><td>Szalai Szilárd</td><td>1967-09-28</td><td>2016-04-23</td><td>2017-02-08</td></tr><tr><td>SZILARDS</td><td>Szalai Szilárd</td><td>1967-09-28</td><td>2016-04-23</td><td>2017-02-08</td></tr><tr><td>SZILARDS</td><td>Szalai Szilárd</td><td>1967-09-28</td><td>2016-04-23</td><td>2017-02-08</td></tr><tr><td>SZILARDS</td><td>Szalai Szilárd</td><td>1967-09-28</td><td>2016-04-23</td><td>2017-02-08</td></tr><tr><td>szilvia1</td><td>Tari Szilvia</td><td>1971-03-09</td><td>2016-05-14</td><td>2017-01-28</td></tr><tr><td>szilvia1</td><td>Tari Szilvia</td><td>1971-03-09</td><td>2016-05-14</td><td>2017-01-28</td></tr><tr><td>szilvia1</td><td>Tari Szilvia</td><td>1971-03-09</td><td>2016-05-14</td><td>2017-01-28</td></tr><tr><td>szilvia1</td><td>Tari Szilvia</td><td>1971-03-09</td><td>2016-05-14</td><td>2017-01-28</td></tr><tr><td>szilvia1</td><td>Tari Szilvia</td><td>1971-03-09</td><td>2016-05-14</td><td>2017-01-28</td></tr><tr><td>szilvia1</td><td>Tari Szilvia</td><td>1971-03-09</td><td>2016-05-14</td><td>2017-01-28</td></tr><tr><td>szilvia1</td><td>Tari Szilvia</td><td>1971-03-09</td><td>2016-05-14</td><td>2017-01-28</td></tr><tr><td>szilvia1</td><td>Tari Szilvia</td><td>1971-03-09</td><td>2016-05-14</td><td>2017-01-28</td></tr><tr><td>szilvia1</td><td>Tari Szilvia</td><td>1971-03-09</td><td>2016-05-14</td><td>2017-01-28</td></tr><tr><td>tamara2</td><td>Miklós Tamara</td><td>1980-08-11</td><td>2016-08-12</td><td>2016-11-15</td></tr><tr><td>tamara2</td><td>Miklós Tamara</td><td>1980-08-11</td><td>2016-08-12</td><td>2016-11-15</td></tr><tr><td>tamas</td><td>Antal Tamás</td><td>1984-09-05</td><td>2016-05-17</td><td>2017-02-14</td></tr><tr><td>tamas</td><td>Antal Tamás</td><td>1984-09-05</td><td>2016-05-17</td><td>2017-02-14</td></tr><tr><td>tamas</td><td>Antal Tamás</td><td>1984-09-05</td><td>2016-05-17</td><td>2017-02-14</td></tr><tr><td>tamas</td><td>Antal Tamás</td><td>1984-09-05</td><td>2016-05-17</td><td>2017-02-14</td></tr><tr><td>TAMASF</td><td>Fényes Tamás</td><td>1997-11-06</td><td>2016-05-03</td><td>2017-02-16</td></tr><tr><td>TAMASF</td><td>Fényes Tamás</td><td>1997-11-06</td><td>2016-05-03</td><td>2017-02-16</td></tr><tr><td>TAMASF</td><td>Fényes Tamás</td><td>1997-11-06</td><td>2016-05-03</td><td>2017-02-16</td></tr><tr><td>TAMASF</td><td>Fényes Tamás</td><td>1997-11-06</td><td>2016-05-03</td><td>2017-02-16</td></tr><tr><td>TAMASF</td><td>Fényes Tamás</td><td>1997-11-06</td><td>2016-05-03</td><td>2017-02-16</td></tr><tr><td>TAMASF</td><td>Fényes Tamás</td><td>1997-11-06</td><td>2016-05-03</td><td>2017-02-16</td></tr><tr><td>TAMASF</td><td>Fényes Tamás</td><td>1997-11-06</td><td>2016-05-03</td><td>2017-02-16</td></tr><tr><td>TAMASF</td><td>Fényes Tamás</td><td>1997-11-06</td><td>2016-05-03</td><td>2017-02-16</td></tr><tr><td>TAMASF</td><td>Fényes Tamás</td><td>1997-11-06</td><td>2016-05-03</td><td>2017-02-16</td></tr><tr><td>tibor</td><td>Gombos Tibor</td><td>1993-11-28</td><td>2016-10-09</td><td>2016-11-05</td></tr><tr><td>tibor</td><td>Gombos Tibor</td><td>1993-11-28</td><td>2016-10-09</td><td>2016-11-05</td></tr><tr><td>tibor2</td><td>Dániel Tibor</td><td>1985-02-02</td><td>2016-10-20</td><td>2016-10-20</td></tr><tr><td>tihamer</td><td>Kazy Tihamér</td><td>1991-07-05</td><td>2016-05-30</td><td>2016-12-25</td></tr><tr><td>tihamer</td><td>Kazy Tihamér</td><td>1991-07-05</td><td>2016-05-30</td><td>2016-12-25</td></tr><tr><td>tihamer</td><td>Kazy Tihamér</td><td>1991-07-05</td><td>2016-05-30</td><td>2016-12-25</td></tr><tr><td>tihamer</td><td>Kazy Tihamér</td><td>1991-07-05</td><td>2016-05-30</td><td>2016-12-25</td></tr><tr><td>tihamer</td><td>Kazy Tihamér</td><td>1991-07-05</td><td>2016-05-30</td><td>2016-12-25</td></tr><tr><td>tihamer</td><td>Kazy Tihamér</td><td>1991-07-05</td><td>2016-05-30</td><td>2016-12-25</td></tr><tr><td>timea</td><td>Papós Tímea</td><td>1996-01-08</td><td>2016-12-26</td><td>2016-12-26</td></tr><tr><td>timea2</td><td>Dusha Tímea</td><td>1975-08-22</td><td>2016-06-06</td><td>2016-12-14</td></tr><tr><td>timea2</td><td>Dusha Tímea</td><td>1975-08-22</td><td>2016-06-06</td><td>2016-12-14</td></tr><tr><td>timea2</td><td>Dusha Tímea</td><td>1975-08-22</td><td>2016-06-06</td><td>2016-12-14</td></tr><tr><td>timea2</td><td>Dusha Tímea</td><td>1975-08-22</td><td>2016-06-06</td><td>2016-12-14</td></tr><tr><td>timea2</td><td>Dusha Tímea</td><td>1975-08-22</td><td>2016-06-06</td><td>2016-12-14</td></tr><tr><td>tunde</td><td>Turcsik Tünde</td><td>1974-02-12</td><td>2016-06-03</td><td>2017-01-03</td></tr><tr><td>tunde</td><td>Turcsik Tünde</td><td>1974-02-12</td><td>2016-06-03</td><td>2017-01-03</td></tr><tr><td>tunde</td><td>Turcsik Tünde</td><td>1974-02-12</td><td>2016-06-03</td><td>2017-01-03</td></tr><tr><td>tunde</td><td>Turcsik Tünde</td><td>1974-02-12</td><td>2016-06-03</td><td>2017-01-03</td></tr><tr><td>tunde</td><td>Turcsik Tünde</td><td>1974-02-12</td><td>2016-06-03</td><td>2017-01-03</td></tr><tr><td>tunde</td><td>Turcsik Tünde</td><td>1974-02-12</td><td>2016-06-03</td><td>2017-01-03</td></tr><tr><td>tunde</td><td>Turcsik Tünde</td><td>1974-02-12</td><td>2016-06-03</td><td>2017-01-03</td></tr><tr><td>tunde</td><td>Turcsik Tünde</td><td>1974-02-12</td><td>2016-06-03</td><td>2017-01-03</td></tr><tr><td>valentin</td><td>Feró Valentin</td><td>1986-01-09</td><td>2016-05-24</td><td>2016-12-01</td></tr><tr><td>valentin</td><td>Feró Valentin</td><td>1986-01-09</td><td>2016-05-24</td><td>2016-12-01</td></tr><tr><td>valentin</td><td>Feró Valentin</td><td>1986-01-09</td><td>2016-05-24</td><td>2016-12-01</td></tr><tr><td>valentin</td><td>Feró Valentin</td><td>1986-01-09</td><td>2016-05-24</td><td>2016-12-01</td></tr><tr><td>valentin</td><td>Feró Valentin</td><td>1986-01-09</td><td>2016-05-24</td><td>2016-12-01</td></tr><tr><td>veronika4</td><td>Tankó Veronika</td><td>1983-08-28</td><td>2016-05-30</td><td>2017-02-03</td></tr><tr><td>veronika4</td><td>Tankó Veronika</td><td>1983-08-28</td><td>2016-05-30</td><td>2017-02-03</td></tr><tr><td>veronika4</td><td>Tankó Veronika</td><td>1983-08-28</td><td>2016-05-30</td><td>2017-02-03</td></tr><tr><td>veronika4</td><td>Tankó Veronika</td><td>1983-08-28</td><td>2016-05-30</td><td>2017-02-03</td></tr><tr><td>veronika4</td><td>Tankó Veronika</td><td>1983-08-28</td><td>2016-05-30</td><td>2017-02-03</td></tr><tr><td>veronika4</td><td>Tankó Veronika</td><td>1983-08-28</td><td>2016-05-30</td><td>2017-02-03</td></tr><tr><td>VIKTORIAU</td><td>Urbán Viktoria</td><td>1996-05-03</td><td>2016-04-30</td><td>2016-10-26</td></tr><tr><td>VIKTORIAU</td><td>Urbán Viktoria</td><td>1996-05-03</td><td>2016-04-30</td><td>2016-10-26</td></tr><tr><td>VIKTORIAU</td><td>Urbán Viktoria</td><td>1996-05-03</td><td>2016-04-30</td><td>2016-10-26</td></tr><tr><td>VIKTORIAU</td><td>Urbán Viktoria</td><td>1996-05-03</td><td>2016-04-30</td><td>2016-10-26</td></tr><tr><td>VIKTORK</td><td>Keresztúri Viktor</td><td>1989-05-05</td><td>2016-05-30</td><td>2016-06-06</td></tr><tr><td>VIKTORK</td><td>Keresztúri Viktor</td><td>1989-05-05</td><td>2016-05-30</td><td>2016-06-06</td></tr><tr><td>vivien3</td><td>Boros Vivien</td><td>1991-07-01</td><td>2016-05-02</td><td>2016-12-24</td></tr><tr><td>vivien3</td><td>Boros Vivien</td><td>1991-07-01</td><td>2016-05-02</td><td>2016-12-24</td></tr><tr><td>vivien3</td><td>Boros Vivien</td><td>1991-07-01</td><td>2016-05-02</td><td>2016-12-24</td></tr><tr><td>vivien3</td><td>Boros Vivien</td><td>1991-07-01</td><td>2016-05-02</td><td>2016-12-24</td></tr><tr><td>vivien3</td><td>Boros Vivien</td><td>1991-07-01</td><td>2016-05-02</td><td>2016-12-24</td></tr><tr><td>vivien3</td><td>Boros Vivien</td><td>1991-07-01</td><td>2016-05-02</td><td>2016-12-24</td></tr><tr><td>vivien3</td><td>Boros Vivien</td><td>1991-07-01</td><td>2016-05-02</td><td>2016-12-24</td></tr><tr><td>zoltan</td><td>Fodor Zoltán</td><td>1979-11-25</td><td>2016-08-24</td><td>2016-09-05</td></tr><tr><td>zoltan</td><td>Fodor Zoltán</td><td>1979-11-25</td><td>2016-08-24</td><td>2016-09-05</td></tr><tr><td>zoltan4</td><td>Barna Zoltán</td><td>1986-05-20</td><td>2016-05-12</td><td>2017-01-01</td></tr><tr><td>zoltan4</td><td>Barna Zoltán</td><td>1986-05-20</td><td>2016-05-12</td><td>2017-01-01</td></tr><tr><td>zoltan4</td><td>Barna Zoltán</td><td>1986-05-20</td><td>2016-05-12</td><td>2017-01-01</td></tr><tr><td>zoltan4</td><td>Barna Zoltán</td><td>1986-05-20</td><td>2016-05-12</td><td>2017-01-01</td></tr><tr><td>zoltan4</td><td>Barna Zoltán</td><td>1986-05-20</td><td>2016-05-12</td><td>2017-01-01</td></tr><tr><td>zoltan4</td><td>Barna Zoltán</td><td>1986-05-20</td><td>2016-05-12</td><td>2017-01-01</td></tr><tr><td>zoltan4</td><td>Barna Zoltán</td><td>1986-05-20</td><td>2016-05-12</td><td>2017-01-01</td></tr><tr><td>zoltan4</td><td>Barna Zoltán</td><td>1986-05-20</td><td>2016-05-12</td><td>2017-01-01</td></tr><tr><td>zoltan4</td><td>Barna Zoltán</td><td>1986-05-20</td><td>2016-05-12</td><td>2017-01-01</td></tr><tr><td>zoltan4</td><td>Barna Zoltán</td><td>1986-05-20</td><td>2016-05-12</td><td>2017-01-01</td></tr><tr><td>zoltan4</td><td>Barna Zoltán</td><td>1986-05-20</td><td>2016-05-12</td><td>2017-01-01</td></tr><tr><td>zoltan4</td><td>Barna Zoltán</td><td>1986-05-20</td><td>2016-05-12</td><td>2017-01-01</td></tr><tr><td>ZOLTANP</td><td>Pintér Zoltán</td><td>1977-06-07</td><td>2016-06-05</td><td>2016-12-25</td></tr><tr><td>ZOLTANP</td><td>Pintér Zoltán</td><td>1977-06-07</td><td>2016-06-05</td><td>2016-12-25</td></tr><tr><td>ZOLTANP</td><td>Pintér Zoltán</td><td>1977-06-07</td><td>2016-06-05</td><td>2016-12-25</td></tr><tr><td>ZOLTANP</td><td>Pintér Zoltán</td><td>1977-06-07</td><td>2016-06-05</td><td>2016-12-25</td></tr><tr><td>ZOLTANP</td><td>Pintér Zoltán</td><td>1977-06-07</td><td>2016-06-05</td><td>2016-12-25</td></tr><tr><td>ZOLTANP</td><td>Pintér Zoltán</td><td>1977-06-07</td><td>2016-06-05</td><td>2016-12-25</td></tr><tr><td>ZOLTANT</td><td>Tóth Zoltán</td><td>1985-12-14</td><td>2016-05-01</td><td>2017-01-16</td></tr><tr><td>ZOLTANT</td><td>Tóth Zoltán</td><td>1985-12-14</td><td>2016-05-01</td><td>2017-01-16</td></tr><tr><td>ZOLTANT</td><td>Tóth Zoltán</td><td>1985-12-14</td><td>2016-05-01</td><td>2017-01-16</td></tr><tr><td>zsofi1</td><td>Molnár Zsófi</td><td>1983-11-17</td><td>2016-06-16</td><td>2017-02-18</td></tr><tr><td>zsofi1</td><td>Molnár Zsófi</td><td>1983-11-17</td><td>2016-06-16</td><td>2017-02-18</td></tr><tr><td>zsolt1</td><td>Pulai Zsolt</td><td>1988-05-27</td><td>2016-04-14</td><td>2016-07-31</td></tr><tr><td>zsolt1</td><td>Pulai Zsolt</td><td>1988-05-27</td><td>2016-04-14</td><td>2016-07-31</td></tr><tr><td>zsolt1</td><td>Pulai Zsolt</td><td>1988-05-27</td><td>2016-04-14</td><td>2016-07-31</td></tr><tr><td>zsolt1</td><td>Pulai Zsolt</td><td>1988-05-27</td><td>2016-04-14</td><td>2016-07-31</td></tr><tr><td>ZSOLTJ</td><td>Józsa Zsolt</td><td>1983-09-29</td><td>2016-04-24</td><td>2016-10-01</td></tr><tr><td>ZSOLTJ</td><td>Józsa Zsolt</td><td>1983-09-29</td><td>2016-04-24</td><td>2016-10-01</td></tr><tr><td>ZSOLTJ</td><td>Józsa Zsolt</td><td>1983-09-29</td><td>2016-04-24</td><td>2016-10-01</td></tr><tr><td>ZSOLTJ</td><td>Józsa Zsolt</td><td>1983-09-29</td><td>2016-04-24</td><td>2016-10-01</td></tr><tr><td>ZSOLTJ</td><td>Józsa Zsolt</td><td>1983-09-29</td><td>2016-04-24</td><td>2016-10-01</td></tr><tr><td>ZSOLTJ</td><td>Józsa Zsolt</td><td>1983-09-29</td><td>2016-04-24</td><td>2016-10-01</td></tr><tr><td>zsuzsa</td><td>Pusztai Zsuzsanna</td><td>1980-09-17</td><td>2016-07-24</td><td>2016-11-28</td></tr><tr><td>zsuzsa</td><td>Pusztai Zsuzsanna</td><td>1980-09-17</td><td>2016-07-24</td><td>2016-11-28</td></tr><tr><td>zsuzsa</td><td>Pusztai Zsuzsanna</td><td>1980-09-17</td><td>2016-07-24</td><td>2016-11-28</td></tr><tr><td>zsuzsa3</td><td>Varsányi Zsuzsa</td><td>1979-03-06</td><td>2016-07-30</td><td>2016-10-27</td></tr><tr><td>zsuzsa3</td><td>Varsányi Zsuzsa</td><td>1979-03-06</td><td>2016-07-30</td><td>2016-10-27</td></tr><tr><td>zsuzsa3</td><td>Varsányi Zsuzsa</td><td>1979-03-06</td><td>2016-07-30</td><td>2016-10-27</td></tr><tr><td>zsuzsa3</td><td>Varsányi Zsuzsa</td><td>1979-03-06</td><td>2016-07-30</td><td>2016-10-27</td></tr><tr><td>zsuzsanna</td><td>Barta Zsuzsanna</td><td>1994-10-07</td><td>2016-05-17</td><td>2017-01-16</td></tr><tr><td>zsuzsanna</td><td>Barta Zsuzsanna</td><td>1994-10-07</td><td>2016-05-17</td><td>2017-01-16</td></tr><tr><td>zsuzsanna</td><td>Barta Zsuzsanna</td><td>1994-10-07</td><td>2016-05-17</td><td>2017-01-16</td></tr><tr><td>zsuzsanna</td><td>Barta Zsuzsanna</td><td>1994-10-07</td><td>2016-05-17</td><td>2017-01-16</td></tr><tr><td>ZSUZSAV</td><td>Vajda Zsuzsa</td><td>1976-12-11</td><td>2016-04-14</td><td>2016-11-21</td></tr><tr><td>ZSUZSAV</td><td>Vajda Zsuzsa</td><td>1976-12-11</td><td>2016-04-14</td><td>2016-11-21</td></tr><tr><td>ZSUZSAV</td><td>Vajda Zsuzsa</td><td>1976-12-11</td><td>2016-04-14</td><td>2016-11-21</td></tr><tr><td>ZSUZSAV</td><td>Vajda Zsuzsa</td><td>1976-12-11</td><td>2016-04-14</td><td>2016-11-21</td></tr><tr><td>ZSUZSAV</td><td>Vajda Zsuzsa</td><td>1976-12-11</td><td>2016-04-14</td><td>2016-11-21</td></tr><tr><td>ZSUZSAV</td><td>Vajda Zsuzsa</td><td>1976-12-11</td><td>2016-04-14</td><td>2016-11-21</td></tr></table>"
                    },
                    "metadata": {}
                }
            ],
            "execution_count": 13
        },
        {
            "cell_type": "markdown",
            "source": [
                "Készítsen lekérdezést, amely megjeleníti, hogy szálláshelyenként, azon belül a pótágyak száma szerint hány főre foglaltak összesen (felnőtt + gyermek)!\n",
                "\n",
                "- Jelenjenek meg a részösszegek és a végösszeg is!"
            ],
            "metadata": {
                "azdata_cell_guid": "9344b3e9-2e16-489e-af14-a1073c973148"
            },
            "attachments": {}
        },
        {
            "cell_type": "code",
            "source": [
                "select  iif(szh.SZALLAS_ID is null, 'Végösszeg', cast(szh.SZALLAS_ID as nvarchar(15))) as SZALLAS_ID,\r\n",
                "        case grouping_id(szh.SZALLAS_ID, sz.POTAGY)\r\n",
                "        when 1 then 'Részösszeg'\r\n",
                "        when 3 then 'Végösszeg'\r\n",
                "        else cast(sz.POTAGY as nvarchar(15))\r\n",
                "        end as Potagy, \r\n",
                "        sum(f.FELNOTT_SZAM + f.GYERMEK_SZAM) as 'Összesen'\r\n",
                "\r\n",
                "        \r\n",
                "         \r\n",
                "from szallashely szh join szoba sz on szh.SZALLAS_ID = sz.SZALLAS_FK\r\n",
                "                     JOIN Foglalas f on sz.SZOBA_ID = f.SZOBA_FK\r\n",
                "group by rollup(szh.SZALLAS_ID, sz.POTAGY)\r\n",
                "order by szh.SZALLAS_ID --talán nem feladat, de fontos, hogy átláthatóbb legyen"
            ],
            "metadata": {
                "azdata_cell_guid": "c4a7f83b-b22e-4b8f-a98e-fafc0aa49a2e",
                "language": "sql"
            },
            "outputs": [
                {
                    "output_type": "display_data",
                    "data": {
                        "text/html": "(44 rows affected)"
                    },
                    "metadata": {}
                },
                {
                    "output_type": "display_data",
                    "data": {
                        "text/html": "Total execution time: 00:00:00.024"
                    },
                    "metadata": {}
                },
                {
                    "output_type": "execute_result",
                    "execution_count": 24,
                    "data": {
                        "application/vnd.dataresource+json": {
                            "schema": {
                                "fields": [
                                    {
                                        "name": "SZALLAS_ID"
                                    },
                                    {
                                        "name": "Potagy"
                                    },
                                    {
                                        "name": "Összesen"
                                    }
                                ]
                            },
                            "data": [
                                {
                                    "SZALLAS_ID": "Végösszeg",
                                    "Potagy": "Végösszeg",
                                    "Összesen": "2490"
                                },
                                {
                                    "SZALLAS_ID": "1",
                                    "Potagy": "0",
                                    "Összesen": "67"
                                },
                                {
                                    "SZALLAS_ID": "1",
                                    "Potagy": "1",
                                    "Összesen": "99"
                                },
                                {
                                    "SZALLAS_ID": "1",
                                    "Potagy": "Részösszeg",
                                    "Összesen": "166"
                                },
                                {
                                    "SZALLAS_ID": "2",
                                    "Potagy": "0",
                                    "Összesen": "10"
                                },
                                {
                                    "SZALLAS_ID": "2",
                                    "Potagy": "1",
                                    "Összesen": "31"
                                },
                                {
                                    "SZALLAS_ID": "2",
                                    "Potagy": "2",
                                    "Összesen": "11"
                                },
                                {
                                    "SZALLAS_ID": "2",
                                    "Potagy": "Részösszeg",
                                    "Összesen": "52"
                                },
                                {
                                    "SZALLAS_ID": "3",
                                    "Potagy": "0",
                                    "Összesen": "18"
                                },
                                {
                                    "SZALLAS_ID": "3",
                                    "Potagy": "1",
                                    "Összesen": "52"
                                },
                                {
                                    "SZALLAS_ID": "3",
                                    "Potagy": "2",
                                    "Összesen": "36"
                                },
                                {
                                    "SZALLAS_ID": "3",
                                    "Potagy": "Részösszeg",
                                    "Összesen": "106"
                                },
                                {
                                    "SZALLAS_ID": "4",
                                    "Potagy": "0",
                                    "Összesen": "45"
                                },
                                {
                                    "SZALLAS_ID": "4",
                                    "Potagy": "1",
                                    "Összesen": "99"
                                },
                                {
                                    "SZALLAS_ID": "4",
                                    "Potagy": "2",
                                    "Összesen": "40"
                                },
                                {
                                    "SZALLAS_ID": "4",
                                    "Potagy": "Részösszeg",
                                    "Összesen": "184"
                                },
                                {
                                    "SZALLAS_ID": "5",
                                    "Potagy": "0",
                                    "Összesen": "113"
                                },
                                {
                                    "SZALLAS_ID": "5",
                                    "Potagy": "1",
                                    "Összesen": "14"
                                },
                                {
                                    "SZALLAS_ID": "5",
                                    "Potagy": "Részösszeg",
                                    "Összesen": "127"
                                },
                                {
                                    "SZALLAS_ID": "6",
                                    "Potagy": "0",
                                    "Összesen": "168"
                                },
                                {
                                    "SZALLAS_ID": "6",
                                    "Potagy": "1",
                                    "Összesen": "224"
                                },
                                {
                                    "SZALLAS_ID": "6",
                                    "Potagy": "2",
                                    "Összesen": "28"
                                },
                                {
                                    "SZALLAS_ID": "6",
                                    "Potagy": "Részösszeg",
                                    "Összesen": "420"
                                },
                                {
                                    "SZALLAS_ID": "7",
                                    "Potagy": "0",
                                    "Összesen": "64"
                                },
                                {
                                    "SZALLAS_ID": "7",
                                    "Potagy": "1",
                                    "Összesen": "19"
                                },
                                {
                                    "SZALLAS_ID": "7",
                                    "Potagy": "Részösszeg",
                                    "Összesen": "83"
                                },
                                {
                                    "SZALLAS_ID": "8",
                                    "Potagy": "0",
                                    "Összesen": "183"
                                },
                                {
                                    "SZALLAS_ID": "8",
                                    "Potagy": "1",
                                    "Összesen": "258"
                                },
                                {
                                    "SZALLAS_ID": "8",
                                    "Potagy": "2",
                                    "Összesen": "63"
                                },
                                {
                                    "SZALLAS_ID": "8",
                                    "Potagy": "Részösszeg",
                                    "Összesen": "504"
                                },
                                {
                                    "SZALLAS_ID": "9",
                                    "Potagy": "0",
                                    "Összesen": "66"
                                },
                                {
                                    "SZALLAS_ID": "9",
                                    "Potagy": "Részösszeg",
                                    "Összesen": "66"
                                },
                                {
                                    "SZALLAS_ID": "10",
                                    "Potagy": "0",
                                    "Összesen": "105"
                                },
                                {
                                    "SZALLAS_ID": "10",
                                    "Potagy": "1",
                                    "Összesen": "150"
                                },
                                {
                                    "SZALLAS_ID": "10",
                                    "Potagy": "2",
                                    "Összesen": "36"
                                },
                                {
                                    "SZALLAS_ID": "10",
                                    "Potagy": "Részösszeg",
                                    "Összesen": "291"
                                },
                                {
                                    "SZALLAS_ID": "11",
                                    "Potagy": "0",
                                    "Összesen": "31"
                                },
                                {
                                    "SZALLAS_ID": "11",
                                    "Potagy": "1",
                                    "Összesen": "17"
                                },
                                {
                                    "SZALLAS_ID": "11",
                                    "Potagy": "2",
                                    "Összesen": "15"
                                },
                                {
                                    "SZALLAS_ID": "11",
                                    "Potagy": "Részösszeg",
                                    "Összesen": "63"
                                },
                                {
                                    "SZALLAS_ID": "12",
                                    "Potagy": "0",
                                    "Összesen": "216"
                                },
                                {
                                    "SZALLAS_ID": "12",
                                    "Potagy": "1",
                                    "Összesen": "93"
                                },
                                {
                                    "SZALLAS_ID": "12",
                                    "Potagy": "2",
                                    "Összesen": "119"
                                },
                                {
                                    "SZALLAS_ID": "12",
                                    "Potagy": "Részösszeg",
                                    "Összesen": "428"
                                }
                            ]
                        },
                        "text/html": "<table><tr><th>SZALLAS_ID</th><th>Potagy</th><th>Összesen</th></tr><tr><td>Végösszeg</td><td>Végösszeg</td><td>2490</td></tr><tr><td>1</td><td>0</td><td>67</td></tr><tr><td>1</td><td>1</td><td>99</td></tr><tr><td>1</td><td>Részösszeg</td><td>166</td></tr><tr><td>2</td><td>0</td><td>10</td></tr><tr><td>2</td><td>1</td><td>31</td></tr><tr><td>2</td><td>2</td><td>11</td></tr><tr><td>2</td><td>Részösszeg</td><td>52</td></tr><tr><td>3</td><td>0</td><td>18</td></tr><tr><td>3</td><td>1</td><td>52</td></tr><tr><td>3</td><td>2</td><td>36</td></tr><tr><td>3</td><td>Részösszeg</td><td>106</td></tr><tr><td>4</td><td>0</td><td>45</td></tr><tr><td>4</td><td>1</td><td>99</td></tr><tr><td>4</td><td>2</td><td>40</td></tr><tr><td>4</td><td>Részösszeg</td><td>184</td></tr><tr><td>5</td><td>0</td><td>113</td></tr><tr><td>5</td><td>1</td><td>14</td></tr><tr><td>5</td><td>Részösszeg</td><td>127</td></tr><tr><td>6</td><td>0</td><td>168</td></tr><tr><td>6</td><td>1</td><td>224</td></tr><tr><td>6</td><td>2</td><td>28</td></tr><tr><td>6</td><td>Részösszeg</td><td>420</td></tr><tr><td>7</td><td>0</td><td>64</td></tr><tr><td>7</td><td>1</td><td>19</td></tr><tr><td>7</td><td>Részösszeg</td><td>83</td></tr><tr><td>8</td><td>0</td><td>183</td></tr><tr><td>8</td><td>1</td><td>258</td></tr><tr><td>8</td><td>2</td><td>63</td></tr><tr><td>8</td><td>Részösszeg</td><td>504</td></tr><tr><td>9</td><td>0</td><td>66</td></tr><tr><td>9</td><td>Részösszeg</td><td>66</td></tr><tr><td>10</td><td>0</td><td>105</td></tr><tr><td>10</td><td>1</td><td>150</td></tr><tr><td>10</td><td>2</td><td>36</td></tr><tr><td>10</td><td>Részösszeg</td><td>291</td></tr><tr><td>11</td><td>0</td><td>31</td></tr><tr><td>11</td><td>1</td><td>17</td></tr><tr><td>11</td><td>2</td><td>15</td></tr><tr><td>11</td><td>Részösszeg</td><td>63</td></tr><tr><td>12</td><td>0</td><td>216</td></tr><tr><td>12</td><td>1</td><td>93</td></tr><tr><td>12</td><td>2</td><td>119</td></tr><tr><td>12</td><td>Részösszeg</td><td>428</td></tr></table>"
                    },
                    "metadata": {}
                }
            ],
            "execution_count": 24
        },
        {
            "cell_type": "markdown",
            "source": [
                "A Szoba tábla Ferohely oszlopára végezzük el a következő számításokat:\n",
                "\n",
                "- Különböző értékek száma\n",
                "- Minimum, maximum, átlag\n",
                "- Null és Not null értékek százalékos aránya"
            ],
            "metadata": {
                "azdata_cell_guid": "bdb5c0fa-57ec-4b5e-8949-47273e16fe73"
            },
            "attachments": {}
        },
        {
            "cell_type": "code",
            "source": [
                "select count(distinct FEROHELY) as 'Különböző értékek száma'\r\n",
                "from Szoba\r\n",
                "\r\n",
                "select MIN(FEROHELY) as min_ferohely, MAX(FEROHELY) as max_ferohely, AVG(FEROHELY) as atlag_ferohely\r\n",
                "from Szoba\r\n",
                "\r\n",
                "select((select count(*) from szoba where ferohely is null) / (select count(*) from Szoba where ferohely is not NULL))*100 as arany\r\n",
                ""
            ],
            "metadata": {
                "azdata_cell_guid": "0e9babc9-99c8-4fda-a244-123bea2ba74d",
                "language": "sql"
            },
            "outputs": [
                {
                    "output_type": "display_data",
                    "data": {
                        "text/html": "(1 row affected)"
                    },
                    "metadata": {}
                },
                {
                    "output_type": "display_data",
                    "data": {
                        "text/html": "(1 row affected)"
                    },
                    "metadata": {}
                },
                {
                    "output_type": "display_data",
                    "data": {
                        "text/html": "(1 row affected)"
                    },
                    "metadata": {}
                },
                {
                    "output_type": "display_data",
                    "data": {
                        "text/html": "Total execution time: 00:00:00.021"
                    },
                    "metadata": {}
                },
                {
                    "output_type": "execute_result",
                    "execution_count": 35,
                    "data": {
                        "application/vnd.dataresource+json": {
                            "schema": {
                                "fields": [
                                    {
                                        "name": "Különböző értékek száma"
                                    }
                                ]
                            },
                            "data": [
                                {
                                    "Különböző értékek száma": "4"
                                }
                            ]
                        },
                        "text/html": "<table><tr><th>Különböző értékek száma</th></tr><tr><td>4</td></tr></table>"
                    },
                    "metadata": {}
                },
                {
                    "output_type": "execute_result",
                    "execution_count": 35,
                    "data": {
                        "application/vnd.dataresource+json": {
                            "schema": {
                                "fields": [
                                    {
                                        "name": "min_ferohely"
                                    },
                                    {
                                        "name": "max_ferohely"
                                    },
                                    {
                                        "name": "atlag_ferohely"
                                    }
                                ]
                            },
                            "data": [
                                {
                                    "min_ferohely": "1",
                                    "max_ferohely": "4",
                                    "atlag_ferohely": "2"
                                }
                            ]
                        },
                        "text/html": "<table><tr><th>min_ferohely</th><th>max_ferohely</th><th>atlag_ferohely</th></tr><tr><td>1</td><td>4</td><td>2</td></tr></table>"
                    },
                    "metadata": {}
                },
                {
                    "output_type": "execute_result",
                    "execution_count": 35,
                    "data": {
                        "application/vnd.dataresource+json": {
                            "schema": {
                                "fields": [
                                    {
                                        "name": "arany"
                                    }
                                ]
                            },
                            "data": [
                                {
                                    "arany": "0"
                                }
                            ]
                        },
                        "text/html": "<table><tr><th>arany</th></tr><tr><td>0</td></tr></table>"
                    },
                    "metadata": {}
                }
            ],
            "execution_count": 35
        },
        {
            "cell_type": "markdown",
            "source": [
                "Oldja meg REDIS-ben a következő feladatokat:\n",
                "\n",
                "- hozzon létre egy string kulcsot, amely egy könyvtár nevét tartalmazza\n",
                "- hozzon létre egy hash kulcsot, amely egy könyv legalább 3 adatát tartalmazza\n",
                "- hozzon létre egy set kulcsot, amely a könyvtárban lévő könyvek műfajait tartalmazza (legalább 3)\n",
                "- hozzon létre egy list kulcsot, amely a kikölcsönzött könyvek címeit tartalmazza (legalább 3)\n",
                "- hozzon létre egy sorted set kulcsot, amely az adott könyvek címeit és a könyv kölcsönzéseinek számát tartalmazza (legalább 3)"
            ],
            "metadata": {
                "azdata_cell_guid": "f19a8d9a-84ec-45dc-895a-69cab841e051"
            },
            "attachments": {}
        },
        {
            "cell_type": "code",
            "source": [
                "set konyvtar Konyvtar1\r\n",
                "hset konyv_tulajd cim 'Proba' oldalszam '200' szin 'kek'\r\n",
                "sadd mufajok drama vigjatek horror\r\n",
                "rpush kolcsonzott_cimei Cim1 Cim2 Cim3\r\n",
                "zadd konyvek 1 Cim1 2 Cim2 3 Cim3"
            ],
            "metadata": {
                "azdata_cell_guid": "b63751e5-bc8a-432a-8deb-30c7aa470fc0",
                "language": "sql"
            },
            "outputs": [],
            "execution_count": null
        },
        {
            "cell_type": "markdown",
            "source": [
                "A Neo4j Sandbox-ban vagy a Desktopban jelenítsük meg azon személyeket, akik egy filmben szerepeltek Tom Hanks-sel.\n",
                "\n",
                "- Egy szereplő neve csak egyszer jelenjen meg\n",
                "- Tom Hanks ne legyen benne a listában"
            ],
            "metadata": {
                "azdata_cell_guid": "471625ed-6105-4206-a336-15a49c99392c"
            },
            "attachments": {}
        },
        {
            "cell_type": "code",
            "source": [
                "match (:Person {name: 'Tom Hanks'})-[:ACTED_IN]->(m:Movie)<-[:ACTED_IN]- (p:Person)\r\n",
                "where p.name <> 'Tom Hanks'\r\n",
                "return distinct p.name as Szemely"
            ],
            "metadata": {
                "azdata_cell_guid": "373cd3ee-2295-4f39-b56d-25af058eccfa",
                "language": "sql"
            },
            "outputs": [],
            "execution_count": null
        }
    ]
}